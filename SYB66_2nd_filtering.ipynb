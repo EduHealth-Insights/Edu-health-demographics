{
 "cells": [
  {
   "cell_type": "code",
   "execution_count": null,
   "metadata": {},
   "outputs": [],
   "source": [
    "import pandas as pd\n",
    "import sqlalchemy\n",
    "import psycopg2\n",
    "import sql_functions as sf\n",
    "\n",
    "import warnings\n",
    "warnings.simplefilter(action='ignore', category=FutureWarning)\n",
    "warnings.filterwarnings(\"ignore\")"
   ]
  },
  {
   "cell_type": "code",
   "execution_count": null,
   "metadata": {},
   "outputs": [],
   "source": [
    "# define the schema in the database\n",
    "schema = 'capstone_health_education'"
   ]
  },
  {
   "cell_type": "code",
   "execution_count": null,
   "metadata": {},
   "outputs": [],
   "source": [
    "pd.set_option('display.max_colwidth', None)"
   ]
  },
  {
   "cell_type": "code",
   "execution_count": null,
   "metadata": {},
   "outputs": [],
   "source": [
    "# import the tables as dataframes\n",
    "SYB66_labor_unemployment = sf.get_dataframe(f'SELECT * FROM {schema}. \"SYB66_labor_unemployment\"')\n",
    "SYB66_education = sf.get_dataframe(f'SELECT * FROM {schema}. \"SYB66_education\"')\n",
    "SYB66_Population_Surface_Area_Density = sf.get_dataframe(f'SELECT * FROM {schema}. \"SYB66_Population_Surface_Area_Density\"')\n",
    "SYB66_Expenditure_on_health = sf.get_dataframe(f'SELECT * FROM {schema}. \"SYB66_Expenditure_on_health\"')\n",
    "SYB66_Public_expenditure_on_education = sf.get_dataframe(f'SELECT * FROM {schema}. \"SYB66_Public_expenditure_on_education\"')"
   ]
  },
  {
   "cell_type": "code",
   "execution_count": null,
   "metadata": {},
   "outputs": [],
   "source": [
    "SYB66_labor_unemployment.head(3)"
   ]
  },
  {
   "cell_type": "code",
   "execution_count": null,
   "metadata": {},
   "outputs": [],
   "source": [
    "#SYB66_Population_Surface_Area_Density.rename(columns=SYB66_Population_Surface_Area_Density.iloc[0]).drop(SYB66_Population_Surface_Area_Density.index[0])"
   ]
  },
  {
   "cell_type": "code",
   "execution_count": null,
   "metadata": {},
   "outputs": [],
   "source": [
    "dfs = [SYB66_education, SYB66_labor_unemployment, SYB66_Population_Surface_Area_Density, SYB66_Expenditure_on_health, SYB66_Public_expenditure_on_education]\n",
    "\n",
    "for df in dfs:\n",
    "    df.rename(columns=df.iloc[0], inplace=True)\n",
    "    df.drop(df.index[0], inplace=True)\n",
    "    df.reset_index(drop=True, inplace=True)\n"
   ]
  },
  {
   "cell_type": "code",
   "execution_count": null,
   "metadata": {},
   "outputs": [],
   "source": [
    "SYB66_education.head(3)"
   ]
  },
  {
   "cell_type": "code",
   "execution_count": null,
   "metadata": {},
   "outputs": [],
   "source": [
    "SYB66_Population_Surface_Area_Density.head(3)"
   ]
  },
  {
   "cell_type": "code",
   "execution_count": null,
   "metadata": {},
   "outputs": [],
   "source": [
    "SYB66_Expenditure_on_health.head(3)"
   ]
  },
  {
   "cell_type": "code",
   "execution_count": null,
   "metadata": {},
   "outputs": [],
   "source": [
    "SYB66_Public_expenditure_on_education.head(3)"
   ]
  },
  {
   "cell_type": "code",
   "execution_count": null,
   "metadata": {},
   "outputs": [],
   "source": [
    "dfs = [SYB66_education, SYB66_labor_unemployment, SYB66_Population_Surface_Area_Density, SYB66_Expenditure_on_health, SYB66_Public_expenditure_on_education]\n",
    "\n",
    "for df in dfs:\n",
    "    print(df.info())\n",
    "    print('-'*60)"
   ]
  },
  {
   "cell_type": "code",
   "execution_count": null,
   "metadata": {},
   "outputs": [],
   "source": [
    "dfs = [SYB66_education, SYB66_labor_unemployment, SYB66_Population_Surface_Area_Density, SYB66_Expenditure_on_health, SYB66_Public_expenditure_on_education]\n",
    "\n",
    "for df in dfs:\n",
    "    df = df.drop(['Footnotes', 'Source'], axis=1, inplace=True)"
   ]
  },
  {
   "cell_type": "code",
   "execution_count": null,
   "metadata": {},
   "outputs": [],
   "source": [
    "dfs = [SYB66_education, SYB66_labor_unemployment, SYB66_Population_Surface_Area_Density, SYB66_Expenditure_on_health, SYB66_Public_expenditure_on_education]\n",
    "\n",
    "for df in dfs:\n",
    "    print(df['Series'].unique())\n",
    "    print('-'*60)\n"
   ]
  },
  {
   "cell_type": "code",
   "execution_count": null,
   "metadata": {},
   "outputs": [],
   "source": [
    "SYB66_education.iloc[:,1].unique()"
   ]
  },
  {
   "cell_type": "code",
   "execution_count": null,
   "metadata": {},
   "outputs": [],
   "source": [
    "dfs = [SYB66_education, SYB66_labor_unemployment, SYB66_Population_Surface_Area_Density, SYB66_Expenditure_on_health, SYB66_Public_expenditure_on_education]\n",
    "\n",
    "for df in dfs:\n",
    "    df.columns = ['country_code', 'country', 'year','indicator', 'value']"
   ]
  },
  {
   "cell_type": "code",
   "execution_count": null,
   "metadata": {},
   "outputs": [],
   "source": [
    "dfs = [SYB66_education, SYB66_labor_unemployment, SYB66_Population_Surface_Area_Density, SYB66_Expenditure_on_health, SYB66_Public_expenditure_on_education]\n",
    "\n",
    "for df in dfs:\n",
    "    print(df['indicator'].unique())\n",
    "    print('-'*60)"
   ]
  },
  {
   "cell_type": "code",
   "execution_count": null,
   "metadata": {},
   "outputs": [],
   "source": [
    "dfs = [SYB66_education, SYB66_labor_unemployment, SYB66_Population_Surface_Area_Density, SYB66_Expenditure_on_health, SYB66_Public_expenditure_on_education]\n",
    "\n",
    "for df in dfs:\n",
    "    print(df.info())\n",
    "    print('-'*60)"
   ]
  },
  {
   "cell_type": "code",
   "execution_count": null,
   "metadata": {},
   "outputs": [],
   "source": [
    "# push to cloud\n",
    "dataframes = {'syb_education_filtered': SYB66_education,\n",
    "    'syb_labor_unemployment_filtered': SYB66_labor_unemployment,\n",
    "    'syb_population_surface_area_density_filtered': SYB66_Population_Surface_Area_Density,\n",
    "    'syb_expenditure_on_health_filtered': SYB66_Expenditure_on_health,\n",
    "    'syb_public_expenditure_on_education_filtered': SYB66_Public_expenditure_on_education}\n",
    "\n",
    "for table_name, df in dataframes.items():\n",
    "    sf.push_to_cloud(df, table_name)"
   ]
  }
 ],
 "metadata": {
  "kernelspec": {
   "display_name": "nf_sql",
   "language": "python",
   "name": "python3"
  },
  "language_info": {
   "codemirror_mode": {
    "name": "ipython",
    "version": 3
   },
   "file_extension": ".py",
   "mimetype": "text/x-python",
   "name": "python",
   "nbconvert_exporter": "python",
   "pygments_lexer": "ipython3",
   "version": "3.9.12"
  }
 },
 "nbformat": 4,
 "nbformat_minor": 2
}
