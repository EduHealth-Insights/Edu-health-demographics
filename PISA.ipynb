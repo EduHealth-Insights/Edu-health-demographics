{
 "cells": [
  {
   "cell_type": "code",
   "execution_count": null,
   "metadata": {},
   "outputs": [],
   "source": [
    "import pandas as pd\n",
    "import numpy as np\n",
    "import python_functions as pf\n",
    "import warnings\n",
    "warnings.filterwarnings(\"ignore\")"
   ]
  },
  {
   "cell_type": "code",
   "execution_count": null,
   "metadata": {},
   "outputs": [],
   "source": [
    "PISA_m = pd.read_excel('data/2000-2022_m_r.xls', sheet_name='mathematics', header=11)\n",
    "PISA_r = pd.read_excel('data/2000-2022_m_r.xls', sheet_name='reading', header=11)\n",
    "PISA_sc = pd.read_excel('data/2000-2022_sc.xls', sheet_name='science', header=11)"
   ]
  },
  {
   "cell_type": "code",
   "execution_count": null,
   "metadata": {},
   "outputs": [],
   "source": [
    "PISA_m = PISA_m.drop('Unnamed: 0', axis=1)\n",
    "PISA_r = PISA_r.drop('Unnamed: 0', axis=1)\n",
    "PISA_sc = PISA_sc.drop('Unnamed: 0', axis=1)"
   ]
  },
  {
   "cell_type": "markdown",
   "metadata": {},
   "source": [
    "---"
   ]
  },
  {
   "cell_type": "markdown",
   "metadata": {},
   "source": [
    "Put column names in lower case, snake case and rename:"
   ]
  },
  {
   "cell_type": "code",
   "execution_count": null,
   "metadata": {},
   "outputs": [],
   "source": [
    "dataframes = [PISA_m, PISA_r, PISA_sc]\n",
    "\n",
    "pf.columns_lower_snake_case(dataframes)"
   ]
  },
  {
   "cell_type": "code",
   "execution_count": null,
   "metadata": {},
   "outputs": [],
   "source": [
    "PISA_m.sample(5)"
   ]
  },
  {
   "cell_type": "code",
   "execution_count": null,
   "metadata": {},
   "outputs": [],
   "source": [
    "PISA_r.sample(5)"
   ]
  },
  {
   "cell_type": "code",
   "execution_count": null,
   "metadata": {},
   "outputs": [],
   "source": [
    "PISA_sc.sample(5)"
   ]
  },
  {
   "cell_type": "markdown",
   "metadata": {},
   "source": [
    "---"
   ]
  },
  {
   "cell_type": "markdown",
   "metadata": {},
   "source": [
    "Create new DataFrames, for each subject and year one DataFrame:"
   ]
  },
  {
   "cell_type": "code",
   "execution_count": null,
   "metadata": {},
   "outputs": [],
   "source": [
    "years = ['2000', '2003', '2006', '2009', '2012', '2015', '2018', '2022']\n",
    "\n",
    "# Create a new list to safe the new DataFrames\n",
    "new_dataframes = []\n",
    "\n",
    "# Iterate over every year\n",
    "for year in years:\n",
    "    # Filter the row for every DataFrame for each year\n",
    "    PISA_m_year = PISA_m[PISA_m['year'] == year].copy()\n",
    "    PISA_r_year = PISA_r[PISA_r['year'] == year].copy()\n",
    "    PISA_sc_year = PISA_sc[PISA_sc['year'] == year].copy()\n",
    "    \n",
    "    # Add the new DataFrames to the list\n",
    "    new_dataframes.extend([PISA_m_year, PISA_r_year, PISA_sc_year])\n",
    "\n",
    "# Save the newly created DataFrames in new Variables\n",
    "PISA_m_2000, PISA_r_2000, PISA_sc_2000 = new_dataframes[:3]\n",
    "PISA_m_2003, PISA_r_2003, PISA_sc_2003 = new_dataframes[3:6]\n",
    "PISA_m_2006, PISA_r_2006, PISA_sc_2006 = new_dataframes[6:9]\n",
    "PISA_m_2009, PISA_r_2009, PISA_sc_2009 = new_dataframes[9:12]\n",
    "PISA_m_2012, PISA_r_2012, PISA_sc_2012 = new_dataframes[12:15]\n",
    "PISA_m_2015, PISA_r_2015, PISA_sc_2015 = new_dataframes[15:18]\n",
    "PISA_m_2018, PISA_r_2018, PISA_sc_2018 = new_dataframes[18:21]\n",
    "PISA_m_2022, PISA_r_2022, PISA_sc_2022 = new_dataframes[21:]"
   ]
  },
  {
   "cell_type": "code",
   "execution_count": null,
   "metadata": {},
   "outputs": [],
   "source": [
    "dataframes = [PISA_m_2000, PISA_r_2000, PISA_sc_2000,\n",
    "              PISA_m_2003, PISA_r_2003, PISA_sc_2003,\n",
    "              PISA_m_2006, PISA_r_2006, PISA_sc_2006,\n",
    "              PISA_m_2009, PISA_r_2009, PISA_sc_2009,\n",
    "              PISA_m_2012, PISA_r_2012, PISA_sc_2012,\n",
    "              PISA_m_2015, PISA_r_2015, PISA_sc_2015,\n",
    "              PISA_m_2018, PISA_r_2018, PISA_sc_2018,\n",
    "              PISA_m_2022, PISA_r_2022, PISA_sc_2022]\n",
    "\n",
    "for df in dataframes:\n",
    "    df.reset_index(inplace=True, drop=True)"
   ]
  },
  {
   "cell_type": "markdown",
   "metadata": {},
   "source": [
    "Check that only one year is saved in each DataFrame:"
   ]
  },
  {
   "cell_type": "code",
   "execution_count": null,
   "metadata": {},
   "outputs": [],
   "source": [
    "print(PISA_m_2000['year'].unique(), \n",
    "      PISA_m_2003['year'].unique(), \n",
    "      PISA_m_2006['year'].unique(), \n",
    "      PISA_m_2009['year'].unique(), \n",
    "      PISA_m_2012['year'].unique(), \n",
    "      PISA_m_2015['year'].unique(), \n",
    "      PISA_m_2018['year'].unique(), \n",
    "      PISA_m_2022['year'].unique())"
   ]
  },
  {
   "cell_type": "code",
   "execution_count": null,
   "metadata": {},
   "outputs": [],
   "source": [
    "print(PISA_r_2000['year'].unique(),\n",
    "    PISA_r_2003['year'].unique(),\n",
    "    PISA_r_2006['year'].unique(),\n",
    "    PISA_r_2009['year'].unique(),\n",
    "    PISA_r_2012['year'].unique(),\n",
    "    PISA_r_2015['year'].unique(),\n",
    "    PISA_r_2018['year'].unique(),\n",
    "    PISA_r_2022['year'].unique())"
   ]
  },
  {
   "cell_type": "code",
   "execution_count": null,
   "metadata": {},
   "outputs": [],
   "source": [
    "print(PISA_sc_2000['year'].unique(),\n",
    "    PISA_sc_2003['year'].unique(),\n",
    "    PISA_sc_2006['year'].unique(),\n",
    "    PISA_sc_2009['year'].unique(),\n",
    "    PISA_sc_2012['year'].unique(),\n",
    "    PISA_sc_2015['year'].unique(),\n",
    "    PISA_sc_2018['year'].unique(),\n",
    "    PISA_sc_2022['year'].unique())"
   ]
  },
  {
   "cell_type": "markdown",
   "metadata": {},
   "source": [
    "---"
   ]
  },
  {
   "cell_type": "markdown",
   "metadata": {},
   "source": [
    "Change the types for two columns and round the numbers:"
   ]
  },
  {
   "cell_type": "code",
   "execution_count": null,
   "metadata": {},
   "outputs": [],
   "source": [
    "PISA_m_2006.head(10)"
   ]
  },
  {
   "cell_type": "code",
   "execution_count": null,
   "metadata": {},
   "outputs": [],
   "source": [
    "# dataframes = [PISA_m_2000, PISA_r_2000, PISA_sc_2000,\n",
    "#               PISA_m_2003, PISA_r_2003, PISA_sc_2003,\n",
    "#               PISA_m_2006, PISA_r_2006, PISA_sc_2006,\n",
    "#               PISA_m_2009, PISA_r_2009, PISA_sc_2009,\n",
    "#               PISA_m_2012, PISA_r_2012, PISA_sc_2012,\n",
    "#               PISA_m_2015, PISA_r_2015, PISA_sc_2015,\n",
    "#               PISA_m_2018, PISA_r_2018, PISA_sc_2018,\n",
    "#               PISA_m_2022, PISA_r_2022, PISA_sc_2022]\n",
    "\n",
    "# for df in dataframes:\n",
    "#     df['average'] = df['average'].astype(str).replace({'—': np.nan, '‡': np.nan, '†': np.nan})\n",
    "#     df['average'] = df['average'].astype(float)\n",
    "#     df['average'] = df['average'].round(2)\n",
    "\n",
    "#     df['standard_error'] = df['standard_error'].astype(str).replace({'—': np.nan, '‡': np.nan, '†': np.nan})\n",
    "#     df['standard_error'] = df['standard_error'].astype(float)\n",
    "#     df['standard_error'] = df['standard_error'].round(2)"
   ]
  },
  {
   "cell_type": "code",
   "execution_count": null,
   "metadata": {},
   "outputs": [],
   "source": [
    "dataframes = [PISA_m_2000, PISA_r_2000, PISA_sc_2000,\n",
    "              PISA_m_2003, PISA_r_2003, PISA_sc_2003,\n",
    "              PISA_m_2006, PISA_r_2006, PISA_sc_2006,\n",
    "              PISA_m_2009, PISA_r_2009, PISA_sc_2009,\n",
    "              PISA_m_2012, PISA_r_2012, PISA_sc_2012,\n",
    "              PISA_m_2015, PISA_r_2015, PISA_sc_2015,\n",
    "              PISA_m_2018, PISA_r_2018, PISA_sc_2018,\n",
    "              PISA_m_2022, PISA_r_2022, PISA_sc_2022]\n",
    "\n",
    "for df in dataframes:\n",
    "    df['average'] = df['average'].apply(pd.to_numeric, errors='coerce')\n",
    "    df['average'] = df['average'].round(2)\n",
    "\n",
    "    df['standard_error'] = df['standard_error'].apply(pd.to_numeric, errors='coerce')\n",
    "    df['standard_error'] = df['standard_error'].round(2)"
   ]
  },
  {
   "cell_type": "code",
   "execution_count": null,
   "metadata": {},
   "outputs": [],
   "source": [
    "df['average'] = df['average'].astype('str')\n",
    "df['average'] = df['average'].str.replace('-', '0')\n",
    "df['average'] = df['average'].astype"
   ]
  },
  {
   "cell_type": "code",
   "execution_count": null,
   "metadata": {},
   "outputs": [],
   "source": [
    "PISA_m_2006.sample(5)"
   ]
  },
  {
   "cell_type": "markdown",
   "metadata": {},
   "source": [
    "---"
   ]
  }
 ],
 "metadata": {
  "kernelspec": {
   "display_name": "nf_base",
   "language": "python",
   "name": "python3"
  },
  "language_info": {
   "codemirror_mode": {
    "name": "ipython",
    "version": 3
   },
   "file_extension": ".py",
   "mimetype": "text/x-python",
   "name": "python",
   "nbconvert_exporter": "python",
   "pygments_lexer": "ipython3",
   "version": "3.9.19"
  }
 },
 "nbformat": 4,
 "nbformat_minor": 2
}
