{
 "cells": [
  {
   "cell_type": "code",
   "execution_count": 1,
   "metadata": {},
   "outputs": [],
   "source": [
    "import pandas as pd\n",
    "import numpy as np\n",
    "import python_functions as pf"
   ]
  },
  {
   "cell_type": "code",
   "execution_count": 2,
   "metadata": {},
   "outputs": [],
   "source": [
    "PISA_m = pd.read_excel('data/2000-2022_m_r.xls', sheet_name='mathematics', header=11)\n",
    "PISA_r = pd.read_excel('data/2000-2022_m_r.xls', sheet_name='reading', header=11)\n",
    "PISA_sc = pd.read_excel('data/2000-2022_sc.xls', sheet_name='science', header=11)"
   ]
  },
  {
   "cell_type": "code",
   "execution_count": 3,
   "metadata": {},
   "outputs": [],
   "source": [
    "PISA_m = PISA_m.drop('Unnamed: 0', axis=1)\n",
    "PISA_r = PISA_r.drop('Unnamed: 0', axis=1)\n",
    "PISA_sc = PISA_sc.drop('Unnamed: 0', axis=1)"
   ]
  },
  {
   "cell_type": "markdown",
   "metadata": {},
   "source": [
    "---"
   ]
  },
  {
   "cell_type": "markdown",
   "metadata": {},
   "source": [
    "Put column names in lower case, snake case and rename:"
   ]
  },
  {
   "cell_type": "code",
   "execution_count": 4,
   "metadata": {},
   "outputs": [
    {
     "name": "stdout",
     "output_type": "stream",
     "text": [
      "Index(['year', 'jurisdiction', 'average', 'standard_error'], dtype='object')\n",
      "------------------------------\n",
      "Index(['year', 'jurisdiction', 'average', 'standard_error'], dtype='object')\n",
      "------------------------------\n",
      "Index(['year', 'jurisdiction', 'average', 'standard_error'], dtype='object')\n",
      "------------------------------\n"
     ]
    },
    {
     "data": {
      "text/plain": [
       "[                                                  year  \\\n",
       " 0                                                 2022   \n",
       " 1                                                 2022   \n",
       " 2                                                 2022   \n",
       " 3                                                 2022   \n",
       " 4                                                 2022   \n",
       " ..                                                 ...   \n",
       " 785                     ‡ Reporting standards not met.   \n",
       " 786                                   — Not available.   \n",
       " 787                                  † Not applicable.   \n",
       " 788  NOTE: B-S-J-G (China) refers to the four PISA ...   \n",
       " 789  SOURCE: Organization for Economic Cooperation ...   \n",
       " \n",
       "                              jurisdiction     average standard_error  \n",
       " 0    Selected countries and jurisdictions  437.628559       0.266429  \n",
       " 1            International Average (OECD)  472.358125       0.397751  \n",
       " 2                               Australia  487.084254       1.779614  \n",
       " 3                                 Austria  487.267499       2.337789  \n",
       " 4                                 Belgium  489.486817       2.202874  \n",
       " ..                                    ...         ...            ...  \n",
       " 785                                   NaN         NaN            NaN  \n",
       " 786                                   NaN         NaN            NaN  \n",
       " 787                                   NaN         NaN            NaN  \n",
       " 788                                   NaN         NaN            NaN  \n",
       " 789                                   NaN         NaN            NaN  \n",
       " \n",
       " [790 rows x 4 columns],\n",
       "                                                   year  \\\n",
       " 0                                                 2022   \n",
       " 1                                                 2022   \n",
       " 2                                                 2022   \n",
       " 3                                                 2022   \n",
       " 4                                                 2022   \n",
       " ..                                                 ...   \n",
       " 785                     ‡ Reporting standards not met.   \n",
       " 786                                   — Not available.   \n",
       " 787                                  † Not applicable.   \n",
       " 788  NOTE: B-S-J-G (China) refers to the four PISA ...   \n",
       " 789  SOURCE: Organization for Economic Cooperation ...   \n",
       " \n",
       "                              jurisdiction     average standard_error  \n",
       " 0    Selected countries and jurisdictions  435.037917       0.295268  \n",
       " 1            International Average (OECD)  475.588873       0.452402  \n",
       " 2                               Australia   498.05094       2.013591  \n",
       " 3                                 Austria  480.405847       2.668254  \n",
       " 4                                 Belgium  478.852668       2.523596  \n",
       " ..                                    ...         ...            ...  \n",
       " 785                                   NaN         NaN            NaN  \n",
       " 786                                   NaN         NaN            NaN  \n",
       " 787                                   NaN         NaN            NaN  \n",
       " 788                                   NaN         NaN            NaN  \n",
       " 789                                   NaN         NaN            NaN  \n",
       " \n",
       " [790 rows x 4 columns],\n",
       "                                                   year  \\\n",
       " 0                                                 2022   \n",
       " 1                                                 2022   \n",
       " 2                                                 2022   \n",
       " 3                                                 2022   \n",
       " 4                                                 2022   \n",
       " ..                                                 ...   \n",
       " 785                     ‡ Reporting standards not met.   \n",
       " 786                                   — Not available.   \n",
       " 787                                  † Not applicable.   \n",
       " 788  NOTE: B-S-J-G (China) refers to the four PISA ...   \n",
       " 789  SOURCE: Organization for Economic Cooperation ...   \n",
       " \n",
       "                              jurisdiction     average standard_error  \n",
       " 0    Selected countries and jurisdictions  446.893945       0.282993  \n",
       " 1            International Average (OECD)  484.646614       0.435314  \n",
       " 2                               Australia  507.000869       1.933076  \n",
       " 3                                 Austria  491.270959       2.650135  \n",
       " 4                                 Belgium  490.578346       2.481873  \n",
       " ..                                    ...         ...            ...  \n",
       " 785                                   NaN         NaN            NaN  \n",
       " 786                                   NaN         NaN            NaN  \n",
       " 787                                   NaN         NaN            NaN  \n",
       " 788                                   NaN         NaN            NaN  \n",
       " 789                                   NaN         NaN            NaN  \n",
       " \n",
       " [790 rows x 4 columns]]"
      ]
     },
     "execution_count": 4,
     "metadata": {},
     "output_type": "execute_result"
    }
   ],
   "source": [
    "dataframes = [PISA_m, PISA_r, PISA_sc]\n",
    "\n",
    "pf.columns_lower_snake_case(dataframes)"
   ]
  },
  {
   "cell_type": "code",
   "execution_count": 5,
   "metadata": {},
   "outputs": [
    {
     "data": {
      "text/html": [
       "<div>\n",
       "<style scoped>\n",
       "    .dataframe tbody tr th:only-of-type {\n",
       "        vertical-align: middle;\n",
       "    }\n",
       "\n",
       "    .dataframe tbody tr th {\n",
       "        vertical-align: top;\n",
       "    }\n",
       "\n",
       "    .dataframe thead th {\n",
       "        text-align: right;\n",
       "    }\n",
       "</style>\n",
       "<table border=\"1\" class=\"dataframe\">\n",
       "  <thead>\n",
       "    <tr style=\"text-align: right;\">\n",
       "      <th></th>\n",
       "      <th>year</th>\n",
       "      <th>jurisdiction</th>\n",
       "      <th>average</th>\n",
       "      <th>standard_error</th>\n",
       "    </tr>\n",
       "  </thead>\n",
       "  <tbody>\n",
       "    <tr>\n",
       "      <th>108</th>\n",
       "      <td>2018</td>\n",
       "      <td>Denmark</td>\n",
       "      <td>509.398375</td>\n",
       "      <td>1.735002</td>\n",
       "    </tr>\n",
       "    <tr>\n",
       "      <th>518</th>\n",
       "      <td>2006</td>\n",
       "      <td>New Zealand</td>\n",
       "      <td>521.988849</td>\n",
       "      <td>2.389559</td>\n",
       "    </tr>\n",
       "    <tr>\n",
       "      <th>466</th>\n",
       "      <td>2009</td>\n",
       "      <td>Mongolia</td>\n",
       "      <td>—</td>\n",
       "      <td>†</td>\n",
       "    </tr>\n",
       "    <tr>\n",
       "      <th>384</th>\n",
       "      <td>2012</td>\n",
       "      <td>Trinidad and Tobago</td>\n",
       "      <td>—</td>\n",
       "      <td>†</td>\n",
       "    </tr>\n",
       "    <tr>\n",
       "      <th>377</th>\n",
       "      <td>2012</td>\n",
       "      <td>Qatar</td>\n",
       "      <td>376.448398</td>\n",
       "      <td>0.755736</td>\n",
       "    </tr>\n",
       "  </tbody>\n",
       "</table>\n",
       "</div>"
      ],
      "text/plain": [
       "     year         jurisdiction     average standard_error\n",
       "108  2018              Denmark  509.398375       1.735002\n",
       "518  2006          New Zealand  521.988849       2.389559\n",
       "466  2009             Mongolia           —              †\n",
       "384  2012  Trinidad and Tobago           —              †\n",
       "377  2012                Qatar  376.448398       0.755736"
      ]
     },
     "execution_count": 5,
     "metadata": {},
     "output_type": "execute_result"
    }
   ],
   "source": [
    "PISA_m.sample(5)"
   ]
  },
  {
   "cell_type": "code",
   "execution_count": 6,
   "metadata": {},
   "outputs": [
    {
     "data": {
      "text/html": [
       "<div>\n",
       "<style scoped>\n",
       "    .dataframe tbody tr th:only-of-type {\n",
       "        vertical-align: middle;\n",
       "    }\n",
       "\n",
       "    .dataframe tbody tr th {\n",
       "        vertical-align: top;\n",
       "    }\n",
       "\n",
       "    .dataframe thead th {\n",
       "        text-align: right;\n",
       "    }\n",
       "</style>\n",
       "<table border=\"1\" class=\"dataframe\">\n",
       "  <thead>\n",
       "    <tr style=\"text-align: right;\">\n",
       "      <th></th>\n",
       "      <th>year</th>\n",
       "      <th>jurisdiction</th>\n",
       "      <th>average</th>\n",
       "      <th>standard_error</th>\n",
       "    </tr>\n",
       "  </thead>\n",
       "  <tbody>\n",
       "    <tr>\n",
       "      <th>312</th>\n",
       "      <td>2012</td>\n",
       "      <td>Ireland</td>\n",
       "      <td>523.17321</td>\n",
       "      <td>2.550366</td>\n",
       "    </tr>\n",
       "    <tr>\n",
       "      <th>88</th>\n",
       "      <td>2022</td>\n",
       "      <td>Singapore</td>\n",
       "      <td>542.553322</td>\n",
       "      <td>1.872188</td>\n",
       "    </tr>\n",
       "    <tr>\n",
       "      <th>521</th>\n",
       "      <td>2006</td>\n",
       "      <td>Portugal</td>\n",
       "      <td>472.304305</td>\n",
       "      <td>3.560561</td>\n",
       "    </tr>\n",
       "    <tr>\n",
       "      <th>395</th>\n",
       "      <td>2009</td>\n",
       "      <td>Austria</td>\n",
       "      <td>470.283632</td>\n",
       "      <td>2.948082</td>\n",
       "    </tr>\n",
       "    <tr>\n",
       "      <th>20</th>\n",
       "      <td>2022</td>\n",
       "      <td>Italy</td>\n",
       "      <td>481.598278</td>\n",
       "      <td>2.680228</td>\n",
       "    </tr>\n",
       "  </tbody>\n",
       "</table>\n",
       "</div>"
      ],
      "text/plain": [
       "     year jurisdiction     average standard_error\n",
       "312  2012      Ireland   523.17321       2.550366\n",
       "88   2022    Singapore  542.553322       1.872188\n",
       "521  2006     Portugal  472.304305       3.560561\n",
       "395  2009      Austria  470.283632       2.948082\n",
       "20   2022        Italy  481.598278       2.680228"
      ]
     },
     "execution_count": 6,
     "metadata": {},
     "output_type": "execute_result"
    }
   ],
   "source": [
    "PISA_r.sample(5)"
   ]
  },
  {
   "cell_type": "code",
   "execution_count": 7,
   "metadata": {},
   "outputs": [
    {
     "data": {
      "text/html": [
       "<div>\n",
       "<style scoped>\n",
       "    .dataframe tbody tr th:only-of-type {\n",
       "        vertical-align: middle;\n",
       "    }\n",
       "\n",
       "    .dataframe tbody tr th {\n",
       "        vertical-align: top;\n",
       "    }\n",
       "\n",
       "    .dataframe thead th {\n",
       "        text-align: right;\n",
       "    }\n",
       "</style>\n",
       "<table border=\"1\" class=\"dataframe\">\n",
       "  <thead>\n",
       "    <tr style=\"text-align: right;\">\n",
       "      <th></th>\n",
       "      <th>year</th>\n",
       "      <th>jurisdiction</th>\n",
       "      <th>average</th>\n",
       "      <th>standard_error</th>\n",
       "    </tr>\n",
       "  </thead>\n",
       "  <tbody>\n",
       "    <tr>\n",
       "      <th>749</th>\n",
       "      <td>2000</td>\n",
       "      <td>Jamaica</td>\n",
       "      <td>—</td>\n",
       "      <td>†</td>\n",
       "    </tr>\n",
       "    <tr>\n",
       "      <th>757</th>\n",
       "      <td>2000</td>\n",
       "      <td>Malaysia (2015)</td>\n",
       "      <td>—</td>\n",
       "      <td>†</td>\n",
       "    </tr>\n",
       "    <tr>\n",
       "      <th>200</th>\n",
       "      <td>2015</td>\n",
       "      <td>Belgium</td>\n",
       "      <td>501.999714</td>\n",
       "      <td>2.289589</td>\n",
       "    </tr>\n",
       "    <tr>\n",
       "      <th>276</th>\n",
       "      <td>2015</td>\n",
       "      <td>Paraguay</td>\n",
       "      <td>—</td>\n",
       "      <td>†</td>\n",
       "    </tr>\n",
       "    <tr>\n",
       "      <th>537</th>\n",
       "      <td>2006</td>\n",
       "      <td>Bosnia and Herzegovina</td>\n",
       "      <td>—</td>\n",
       "      <td>†</td>\n",
       "    </tr>\n",
       "  </tbody>\n",
       "</table>\n",
       "</div>"
      ],
      "text/plain": [
       "     year            jurisdiction     average standard_error\n",
       "749  2000                 Jamaica           —              †\n",
       "757  2000         Malaysia (2015)           —              †\n",
       "200  2015                 Belgium  501.999714       2.289589\n",
       "276  2015                Paraguay           —              †\n",
       "537  2006  Bosnia and Herzegovina           —              †"
      ]
     },
     "execution_count": 7,
     "metadata": {},
     "output_type": "execute_result"
    }
   ],
   "source": [
    "PISA_sc.sample(5)"
   ]
  },
  {
   "cell_type": "markdown",
   "metadata": {},
   "source": [
    "---"
   ]
  },
  {
   "cell_type": "markdown",
   "metadata": {},
   "source": [
    "Create new DataFrames, for each subject and year one DataFrame:"
   ]
  },
  {
   "cell_type": "code",
   "execution_count": 8,
   "metadata": {},
   "outputs": [],
   "source": [
    "years = ['2000', '2003', '2006', '2009', '2012', '2015', '2018', '2022']\n",
    "\n",
    "# Create a new list to safe the new DataFrames\n",
    "new_dataframes = []\n",
    "\n",
    "# Iterate over every year\n",
    "for year in years:\n",
    "    # Filter the row for every DataFrame for each year\n",
    "    PISA_m_year = PISA_m[PISA_m['year'] == year].copy()\n",
    "    PISA_r_year = PISA_r[PISA_r['year'] == year].copy()\n",
    "    PISA_sc_year = PISA_sc[PISA_sc['year'] == year].copy()\n",
    "    \n",
    "    # Add the new DataFrames to the list\n",
    "    new_dataframes.extend([PISA_m_year, PISA_r_year, PISA_sc_year])\n",
    "\n",
    "# Save the newly created DataFrames in new Variables\n",
    "PISA_m_2000, PISA_r_2000, PISA_sc_2000 = new_dataframes[:3]\n",
    "PISA_m_2003, PISA_r_2003, PISA_sc_2003 = new_dataframes[3:6]\n",
    "PISA_m_2006, PISA_r_2006, PISA_sc_2006 = new_dataframes[6:9]\n",
    "PISA_m_2009, PISA_r_2009, PISA_sc_2009 = new_dataframes[9:12]\n",
    "PISA_m_2012, PISA_r_2012, PISA_sc_2012 = new_dataframes[12:15]\n",
    "PISA_m_2015, PISA_r_2015, PISA_sc_2015 = new_dataframes[15:18]\n",
    "PISA_m_2018, PISA_r_2018, PISA_sc_2018 = new_dataframes[18:21]\n",
    "PISA_m_2022, PISA_r_2022, PISA_sc_2022 = new_dataframes[21:]"
   ]
  },
  {
   "cell_type": "code",
   "execution_count": 9,
   "metadata": {},
   "outputs": [],
   "source": [
    "dataframes = [PISA_m_2000, PISA_r_2000, PISA_sc_2000,\n",
    "              PISA_m_2003, PISA_r_2003, PISA_sc_2003,\n",
    "              PISA_m_2006, PISA_r_2006, PISA_sc_2006,\n",
    "              PISA_m_2009, PISA_r_2009, PISA_sc_2009,\n",
    "              PISA_m_2012, PISA_r_2012, PISA_sc_2012,\n",
    "              PISA_m_2015, PISA_r_2015, PISA_sc_2015,\n",
    "              PISA_m_2018, PISA_r_2018, PISA_sc_2018,\n",
    "              PISA_m_2022, PISA_r_2022, PISA_sc_2022]\n",
    "\n",
    "for df in dataframes:\n",
    "    df.reset_index(inplace=True, drop=True)"
   ]
  },
  {
   "cell_type": "markdown",
   "metadata": {},
   "source": [
    "Check that only one year is saved in each DataFrame:"
   ]
  },
  {
   "cell_type": "code",
   "execution_count": 11,
   "metadata": {},
   "outputs": [
    {
     "name": "stdout",
     "output_type": "stream",
     "text": [
      "['2000'] ['2003'] ['2006'] ['2009'] ['2012'] ['2015'] ['2018'] ['2022']\n"
     ]
    }
   ],
   "source": [
    "print(PISA_m_2000['year'].unique(), \n",
    "      PISA_m_2003['year'].unique(), \n",
    "      PISA_m_2006['year'].unique(), \n",
    "      PISA_m_2009['year'].unique(), \n",
    "      PISA_m_2012['year'].unique(), \n",
    "      PISA_m_2015['year'].unique(), \n",
    "      PISA_m_2018['year'].unique(), \n",
    "      PISA_m_2022['year'].unique())"
   ]
  },
  {
   "cell_type": "code",
   "execution_count": 12,
   "metadata": {},
   "outputs": [
    {
     "name": "stdout",
     "output_type": "stream",
     "text": [
      "['2000'] ['2003'] ['2006'] ['2009'] ['2012'] ['2015'] ['2018'] ['2022']\n"
     ]
    }
   ],
   "source": [
    "print(PISA_r_2000['year'].unique(),\n",
    "    PISA_r_2003['year'].unique(),\n",
    "    PISA_r_2006['year'].unique(),\n",
    "    PISA_r_2009['year'].unique(),\n",
    "    PISA_r_2012['year'].unique(),\n",
    "    PISA_r_2015['year'].unique(),\n",
    "    PISA_r_2018['year'].unique(),\n",
    "    PISA_r_2022['year'].unique())"
   ]
  },
  {
   "cell_type": "code",
   "execution_count": 13,
   "metadata": {},
   "outputs": [
    {
     "name": "stdout",
     "output_type": "stream",
     "text": [
      "['2000'] ['2003'] ['2006'] ['2009'] ['2012'] ['2015'] ['2018'] ['2022']\n"
     ]
    }
   ],
   "source": [
    "print(PISA_sc_2000['year'].unique(),\n",
    "    PISA_sc_2003['year'].unique(),\n",
    "    PISA_sc_2006['year'].unique(),\n",
    "    PISA_sc_2009['year'].unique(),\n",
    "    PISA_sc_2012['year'].unique(),\n",
    "    PISA_sc_2015['year'].unique(),\n",
    "    PISA_sc_2018['year'].unique(),\n",
    "    PISA_sc_2022['year'].unique())"
   ]
  },
  {
   "cell_type": "markdown",
   "metadata": {},
   "source": [
    "---"
   ]
  },
  {
   "cell_type": "markdown",
   "metadata": {},
   "source": [
    "Change the types for two columns and round the numbers:"
   ]
  },
  {
   "cell_type": "code",
   "execution_count": 14,
   "metadata": {},
   "outputs": [],
   "source": [
    "dataframes = [PISA_m_2000, PISA_r_2000, PISA_sc_2000,\n",
    "              PISA_m_2003, PISA_r_2003, PISA_sc_2003,\n",
    "              PISA_m_2006, PISA_r_2006, PISA_sc_2006,\n",
    "              PISA_m_2009, PISA_r_2009, PISA_sc_2009,\n",
    "              PISA_m_2012, PISA_r_2012, PISA_sc_2012,\n",
    "              PISA_m_2015, PISA_r_2015, PISA_sc_2015,\n",
    "              PISA_m_2018, PISA_r_2018, PISA_sc_2018,\n",
    "              PISA_m_2022, PISA_r_2022, PISA_sc_2022]\n",
    "\n",
    "for df in dataframes:\n",
    "    df['average'] = df['average'].apply(pd.to_numeric, errors='coerce')\n",
    "    df['average'] = df['average'].round(2)\n",
    "\n",
    "    df['standard_error'] = df['standard_error'].apply(pd.to_numeric, errors='coerce')\n",
    "    df['standard_error'] = df['standard_error'].round(2)"
   ]
  },
  {
   "cell_type": "code",
   "execution_count": 15,
   "metadata": {},
   "outputs": [
    {
     "data": {
      "text/html": [
       "<div>\n",
       "<style scoped>\n",
       "    .dataframe tbody tr th:only-of-type {\n",
       "        vertical-align: middle;\n",
       "    }\n",
       "\n",
       "    .dataframe tbody tr th {\n",
       "        vertical-align: top;\n",
       "    }\n",
       "\n",
       "    .dataframe thead th {\n",
       "        text-align: right;\n",
       "    }\n",
       "</style>\n",
       "<table border=\"1\" class=\"dataframe\">\n",
       "  <thead>\n",
       "    <tr style=\"text-align: right;\">\n",
       "      <th></th>\n",
       "      <th>year</th>\n",
       "      <th>jurisdiction</th>\n",
       "      <th>average</th>\n",
       "      <th>standard_error</th>\n",
       "    </tr>\n",
       "  </thead>\n",
       "  <tbody>\n",
       "    <tr>\n",
       "      <th>21</th>\n",
       "      <td>2006</td>\n",
       "      <td>Japan</td>\n",
       "      <td>523.10</td>\n",
       "      <td>3.34</td>\n",
       "    </tr>\n",
       "    <tr>\n",
       "      <th>26</th>\n",
       "      <td>2006</td>\n",
       "      <td>Mexico</td>\n",
       "      <td>405.65</td>\n",
       "      <td>2.93</td>\n",
       "    </tr>\n",
       "    <tr>\n",
       "      <th>11</th>\n",
       "      <td>2006</td>\n",
       "      <td>Estonia</td>\n",
       "      <td>514.58</td>\n",
       "      <td>2.75</td>\n",
       "    </tr>\n",
       "    <tr>\n",
       "      <th>66</th>\n",
       "      <td>2006</td>\n",
       "      <td>Kazakhstan (2015)</td>\n",
       "      <td>NaN</td>\n",
       "      <td>NaN</td>\n",
       "    </tr>\n",
       "    <tr>\n",
       "      <th>52</th>\n",
       "      <td>2006</td>\n",
       "      <td>Bulgaria</td>\n",
       "      <td>413.45</td>\n",
       "      <td>6.13</td>\n",
       "    </tr>\n",
       "  </tbody>\n",
       "</table>\n",
       "</div>"
      ],
      "text/plain": [
       "    year       jurisdiction  average  standard_error\n",
       "21  2006              Japan   523.10            3.34\n",
       "26  2006             Mexico   405.65            2.93\n",
       "11  2006            Estonia   514.58            2.75\n",
       "66  2006  Kazakhstan (2015)      NaN             NaN\n",
       "52  2006           Bulgaria   413.45            6.13"
      ]
     },
     "execution_count": 15,
     "metadata": {},
     "output_type": "execute_result"
    }
   ],
   "source": [
    "PISA_m_2006.sample(5)"
   ]
  },
  {
   "cell_type": "markdown",
   "metadata": {},
   "source": [
    "---"
   ]
  }
 ],
 "metadata": {
  "kernelspec": {
   "display_name": "nf_base",
   "language": "python",
   "name": "python3"
  },
  "language_info": {
   "codemirror_mode": {
    "name": "ipython",
    "version": 3
   },
   "file_extension": ".py",
   "mimetype": "text/x-python",
   "name": "python",
   "nbconvert_exporter": "python",
   "pygments_lexer": "ipython3",
   "version": "3.9.19"
  }
 },
 "nbformat": 4,
 "nbformat_minor": 2
}
