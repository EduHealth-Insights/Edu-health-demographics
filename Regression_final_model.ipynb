{
 "cells": [
  {
   "cell_type": "code",
   "execution_count": null,
   "metadata": {},
   "outputs": [],
   "source": [
    "import python_functions_sp as pfsp\n",
    "import warnings\n",
    "warnings.filterwarnings(\"ignore\")\n",
    "import sqlalchemy\n",
    "import psycopg2\n",
    "import sql_functions_sp as sfsp\n",
    "import matplotlib.pyplot as plt\n",
    "import numpy as np\n",
    "import pandas as pd\n",
    "from scipy import stats\n",
    "import seaborn as sns\n",
    "import statsmodels.formula.api as smf\n",
    "\n",
    "%matplotlib inline"
   ]
  },
  {
   "cell_type": "markdown",
   "metadata": {},
   "source": [
    "### Getting the right data into one dataframe ###"
   ]
  },
  {
   "cell_type": "markdown",
   "metadata": {},
   "source": [
    "#### Getting life expectancy, gross national income, GINI, % not enrolled in school, educational levels from hfa_eduHealth ####"
   ]
  },
  {
   "cell_type": "code",
   "execution_count": null,
   "metadata": {},
   "outputs": [],
   "source": [
    "schema = 'capstone_health_education'\n",
    "table = 'hfa_eduHealth'\n",
    "\n",
    "sql_query = f'SELECT * FROM {schema}.\"{table}\";'\n",
    "hfa_eduHealth= sfsp.get_dataframe(sql_query)"
   ]
  },
  {
   "cell_type": "code",
   "execution_count": null,
   "metadata": {},
   "outputs": [],
   "source": [
    "hfa_eduHealth"
   ]
  },
  {
   "cell_type": "code",
   "execution_count": null,
   "metadata": {},
   "outputs": [],
   "source": [
    "hfa_eduHealth.info()"
   ]
  },
  {
   "cell_type": "code",
   "execution_count": null,
   "metadata": {},
   "outputs": [],
   "source": [
    "hfa_eduHealth.isnull()"
   ]
  },
  {
   "cell_type": "code",
   "execution_count": null,
   "metadata": {},
   "outputs": [],
   "source": [
    "hfa_eduHealth_rec = hfa_eduHealth[['continent_region', 'HFA_43', 'HFA_32','HFA_618', 'HFA_40', 'HFA_41', 'HFA_39', 'HFA_617' ]]"
   ]
  },
  {
   "cell_type": "code",
   "execution_count": null,
   "metadata": {},
   "outputs": [],
   "source": [
    "hfa_eduHealth_rec.info()"
   ]
  },
  {
   "cell_type": "code",
   "execution_count": null,
   "metadata": {},
   "outputs": [],
   "source": [
    "hfa_eduHealth_rec.isnull().sum()"
   ]
  },
  {
   "cell_type": "code",
   "execution_count": null,
   "metadata": {},
   "outputs": [],
   "source": [
    "hfa_eduHealth_rec.dropna(inplace=True)"
   ]
  },
  {
   "cell_type": "code",
   "execution_count": null,
   "metadata": {},
   "outputs": [],
   "source": [
    "hfa_eduHealth_rec = hfa_eduHealth_rec[hfa_eduHealth_rec['continent_region'].isin(['South Europe','West Europe', 'East Europe', 'North Europe'])]"
   ]
  },
  {
   "cell_type": "code",
   "execution_count": null,
   "metadata": {},
   "outputs": [],
   "source": [
    "hfa_eduHealth_rec.info()"
   ]
  },
  {
   "cell_type": "code",
   "execution_count": null,
   "metadata": {},
   "outputs": [],
   "source": [
    "hfa_eduHealth_rec['continent_region'].value_counts()"
   ]
  },
  {
   "cell_type": "code",
   "execution_count": null,
   "metadata": {},
   "outputs": [],
   "source": [
    "hfa_eduHealth_rec"
   ]
  },
  {
   "cell_type": "code",
   "execution_count": null,
   "metadata": {},
   "outputs": [],
   "source": [
    "# looking at all variables and their relationships to sales\n",
    "sns.pairplot(hfa_eduHealth_rec);"
   ]
  },
  {
   "cell_type": "code",
   "execution_count": null,
   "metadata": {},
   "outputs": [],
   "source": [
    "# We start with visualizing the relationship between life_expectancy (HFA_43) and gross national income (HFA_32) in a scatterplot\n",
    "hfa_eduHealth_rec.plot(x='HFA_43', y='HFA_32', kind='scatter')"
   ]
  },
  {
   "cell_type": "code",
   "execution_count": null,
   "metadata": {},
   "outputs": [],
   "source": [
    "### Create a dummy variable from the regions ###"
   ]
  },
  {
   "cell_type": "code",
   "execution_count": null,
   "metadata": {},
   "outputs": [],
   "source": [
    "orig_dummies = pd.get_dummies(hfa_eduHealth_rec['continent_region'], prefix='orig', drop_first=True)"
   ]
  },
  {
   "cell_type": "code",
   "execution_count": null,
   "metadata": {},
   "outputs": [],
   "source": [
    "orig_dummies"
   ]
  },
  {
   "cell_type": "code",
   "execution_count": null,
   "metadata": {},
   "outputs": [],
   "source": [
    "# Use all explanatory variables\n",
    "formula = 'HFA_43 ~  HFA_32 + HFA_618 + HFA_40 + HFA_41 + HFA_39 + HFA_617 + orig_dummies'\n",
    "smf.ols(formula=formula, data=hfa_eduHealth_rec).fit().summary()"
   ]
  },
  {
   "cell_type": "code",
   "execution_count": null,
   "metadata": {},
   "outputs": [],
   "source": [
    "# Use all explanatory variables\n",
    "formula = 'HFA_43 ~  HFA_32 + HFA_618 + HFA_40 + HFA_41 + HFA_39 + HFA_617'\n",
    "smf.ols(formula=formula, data=hfa_eduHealth_rec).fit().summary()"
   ]
  },
  {
   "cell_type": "markdown",
   "metadata": {},
   "source": [
    "#### Getting calories, fats, proteins and alcohol from hfa_continents ####"
   ]
  },
  {
   "cell_type": "code",
   "execution_count": null,
   "metadata": {},
   "outputs": [],
   "source": [
    "schema = 'capstone_health_education'\n",
    "table = 'hfa_continents'\n",
    "\n",
    "sql_query = f'SELECT * FROM {schema}.\"{table}\";'\n",
    "hfa_continents= sfsp.get_dataframe(sql_query)"
   ]
  },
  {
   "cell_type": "code",
   "execution_count": null,
   "metadata": {},
   "outputs": [],
   "source": [
    "hfa_continents"
   ]
  },
  {
   "cell_type": "markdown",
   "metadata": {},
   "source": [
    "### keep HFA_293 (alcohol related death rate), HFA_440 (claories), HFA_441 (fat), HFA_443 (proteins)"
   ]
  },
  {
   "cell_type": "code",
   "execution_count": null,
   "metadata": {},
   "outputs": [],
   "source": [
    "hfa_continents = hfa_continents[['year','continent_region', 'HFA_293', 'HFA_440','HFA_441', 'HFA_443' ]]"
   ]
  },
  {
   "cell_type": "code",
   "execution_count": null,
   "metadata": {},
   "outputs": [],
   "source": [
    "hfa_continents = hfa_continents[hfa_continents['continent_region'].isin(['South Europe','West Europe', 'East Europe', 'North Europe'])]"
   ]
  },
  {
   "cell_type": "code",
   "execution_count": null,
   "metadata": {},
   "outputs": [],
   "source": [
    "hfa_continents.isnull().sum()"
   ]
  },
  {
   "cell_type": "code",
   "execution_count": null,
   "metadata": {},
   "outputs": [],
   "source": [
    "hfa_continents.dropna(inplace=True)"
   ]
  },
  {
   "cell_type": "code",
   "execution_count": null,
   "metadata": {},
   "outputs": [],
   "source": [
    "hfa_continents.info()"
   ]
  },
  {
   "cell_type": "markdown",
   "metadata": {},
   "source": [
    "### Merging dataframes ###"
   ]
  },
  {
   "cell_type": "code",
   "execution_count": null,
   "metadata": {},
   "outputs": [],
   "source": [
    "hfa_merged = pd.merge(hfa_eduHealth_rec, hfa_continents, on='year', how='inner', indicator=True)"
   ]
  },
  {
   "cell_type": "code",
   "execution_count": null,
   "metadata": {},
   "outputs": [],
   "source": [
    "hfa_merged"
   ]
  },
  {
   "cell_type": "code",
   "execution_count": null,
   "metadata": {},
   "outputs": [],
   "source": [
    "# We start with visualizing the relationship between life_expectancy (HFA_43) and gross national income (HFA_32) in a scatterplot\n",
    "hfa_merged.plot('HFA_43', 'HFA_32', kind='scatter');"
   ]
  },
  {
   "cell_type": "markdown",
   "metadata": {},
   "source": [
    "#### Getting expenditure on health from SYB health ####"
   ]
  },
  {
   "cell_type": "code",
   "execution_count": null,
   "metadata": {},
   "outputs": [],
   "source": [
    "schema = 'capstone_health_education'\n",
    "table = 'syb_expenditure_on_health_continents'\n",
    "\n",
    "sql_query = f'SELECT * FROM {schema}.\"{table}\";'\n",
    "health_exp= sfsp.get_dataframe(sql_query)"
   ]
  },
  {
   "cell_type": "code",
   "execution_count": null,
   "metadata": {},
   "outputs": [],
   "source": [
    "health_exp"
   ]
  },
  {
   "cell_type": "code",
   "execution_count": null,
   "metadata": {},
   "outputs": [],
   "source": [
    "health_exp = health_exp[['year', 'continent_region', 'domestic_general_government_health_expenditure_perc_of_total_go']]"
   ]
  },
  {
   "cell_type": "code",
   "execution_count": null,
   "metadata": {},
   "outputs": [],
   "source": [
    "health_exp.info()"
   ]
  },
  {
   "cell_type": "code",
   "execution_count": null,
   "metadata": {},
   "outputs": [],
   "source": [
    "health_exp.isna().sum()"
   ]
  },
  {
   "cell_type": "code",
   "execution_count": null,
   "metadata": {},
   "outputs": [],
   "source": [
    "health_exp = health_exp[health_exp['continent_region'].isin(['South Europe','West Europe', 'East Europe', 'North Europe'])]"
   ]
  },
  {
   "cell_type": "markdown",
   "metadata": {},
   "source": [
    "#### Merging datasets with health expenditure ####"
   ]
  },
  {
   "cell_type": "code",
   "execution_count": null,
   "metadata": {},
   "outputs": [],
   "source": [
    "hfa_merged_2 = pd.merge(hfa_merged, health_exp, on='year', how='inner')\n",
    "hfa_merged_2"
   ]
  },
  {
   "cell_type": "code",
   "execution_count": null,
   "metadata": {},
   "outputs": [],
   "source": [
    "hfa_merged_2.plot('HFA_43', 'HFA_32', kind='scatter');"
   ]
  },
  {
   "cell_type": "markdown",
   "metadata": {},
   "source": [
    "### Getting expenditure on education from syb education ###"
   ]
  },
  {
   "cell_type": "code",
   "execution_count": null,
   "metadata": {},
   "outputs": [],
   "source": [
    "schema = 'capstone_health_education'\n",
    "table = 'syb_public_expenditure_on_education_continents'\n",
    "\n",
    "sql_query = f'SELECT * FROM {schema}.\"{table}\";'\n",
    "edu_exp= sfsp.get_dataframe(sql_query)"
   ]
  },
  {
   "cell_type": "code",
   "execution_count": null,
   "metadata": {},
   "outputs": [],
   "source": [
    "edu_exp"
   ]
  },
  {
   "cell_type": "code",
   "execution_count": null,
   "metadata": {},
   "outputs": [],
   "source": [
    "edu_exp = edu_exp[['year','continent_region', 'public_expenditure_on_education_perc_of_gdp']]"
   ]
  },
  {
   "cell_type": "code",
   "execution_count": null,
   "metadata": {},
   "outputs": [],
   "source": [
    "edu_exp = edu_exp[edu_exp['continent_region'].isin(['South Europe','West Europe', 'East Europe', 'North Europe'])]"
   ]
  },
  {
   "cell_type": "code",
   "execution_count": null,
   "metadata": {},
   "outputs": [],
   "source": [
    "edu_exp.info()"
   ]
  },
  {
   "cell_type": "markdown",
   "metadata": {},
   "source": [
    "#### Creating final data set ####"
   ]
  },
  {
   "cell_type": "code",
   "execution_count": null,
   "metadata": {},
   "outputs": [],
   "source": [
    "hfa_eduHealth_rec.set_index('continent_region', inplace=True)\n",
    "hfa_continents.set_index('continent_region', inplace=True)\n",
    "health_exp.set_index('continent_region', inplace=True)\n",
    "edu_exp.set_index('continent_region', inplace=True)"
   ]
  },
  {
   "cell_type": "code",
   "execution_count": null,
   "metadata": {},
   "outputs": [],
   "source": [
    "hfa_merged = pd.merge(hfa_eduHealth_rec, hfa_continents, on='year', how='left')"
   ]
  },
  {
   "cell_type": "code",
   "execution_count": null,
   "metadata": {},
   "outputs": [],
   "source": [
    "hfa_merged_2 = pd.merge(hfa_merged, health_exp, on='year', how='left')\n",
    "hfa_merged_2"
   ]
  },
  {
   "cell_type": "code",
   "execution_count": null,
   "metadata": {},
   "outputs": [],
   "source": []
  },
  {
   "cell_type": "code",
   "execution_count": null,
   "metadata": {},
   "outputs": [],
   "source": [
    "merged_data = pd.merge(hfa_merged_2, edu_exp, on='year', how='inner')\n",
    "merged_data"
   ]
  },
  {
   "cell_type": "code",
   "execution_count": null,
   "metadata": {},
   "outputs": [],
   "source": [
    "merged_data.dropna(inplace=True)"
   ]
  },
  {
   "cell_type": "code",
   "execution_count": null,
   "metadata": {},
   "outputs": [],
   "source": [
    "merged_data.sample(30)"
   ]
  },
  {
   "cell_type": "code",
   "execution_count": null,
   "metadata": {},
   "outputs": [],
   "source": [
    "# We start with visualizing the relationship between life_expectancy (HFA_43) and gross national income (HFA_32) in a scatterplot\n",
    "merged_data.plot(x='HFA_43', y='HFA_32', kind='scatter')"
   ]
  },
  {
   "cell_type": "code",
   "execution_count": null,
   "metadata": {},
   "outputs": [],
   "source": []
  },
  {
   "cell_type": "code",
   "execution_count": null,
   "metadata": {},
   "outputs": [],
   "source": [
    "# list of all possible explanatory continous variables\n",
    "explanatory_vars = list(hfa_merged.columns)\n",
    "explanatory_vars = [e for e in explanatory_vars \n",
    "                        if e not in ('continent_region')]\n",
    "explanatory_vars"
   ]
  },
  {
   "cell_type": "code",
   "execution_count": null,
   "metadata": {},
   "outputs": [],
   "source": [
    "# simple linear regression with each explanatory variable\n",
    "print('R squared for each possible explanatory variable:' )\n",
    "for explanatory_var in explanatory_vars:\n",
    "    formula = f\"HFA_43 ~ {explanatory_var}\"\n",
    "    rs = smf.ols(formula=formula, data=hfa_merged).fit().rsquared\n",
    "    print(f'{explanatory_var:7s} \\t \\t= {rs:.3}')\n",
    "# income predicting life expectancy included as explanatory variable for sanity check"
   ]
  },
  {
   "cell_type": "code",
   "execution_count": null,
   "metadata": {},
   "outputs": [],
   "source": [
    "# best R^2 for \"life expectance\", let's print the whole linear regression summary for income \n",
    "smf.ols(formula='HFA_43 ~ HFA_32', data=hfa_merged).fit().summary()"
   ]
  },
  {
   "cell_type": "code",
   "execution_count": null,
   "metadata": {},
   "outputs": [],
   "source": [
    "# Use all explanatory variables\n",
    "formula = 'HFA_43 ~  HFA_32 + year + HFA_618 + HFA_40 + HFA_41 + HFA_39 + HFA_617 + HFA_293 + HFA_440 + HFA_441 + HFA_443'\n",
    "smf.ols(formula=formula, data=hfa_merged).fit().summary()"
   ]
  },
  {
   "cell_type": "code",
   "execution_count": null,
   "metadata": {},
   "outputs": [],
   "source": [
    "# Remove  largest p-values from above!\n",
    "model = 'HFA_43 ~  HFA_32 + HFA_618 + HFA_40 + HFA_41 + HFA_39 + HFA_617'\n",
    "smf.ols(formula=model, data=hfa_merged).fit().summary()"
   ]
  },
  {
   "cell_type": "code",
   "execution_count": null,
   "metadata": {},
   "outputs": [],
   "source": []
  }
 ],
 "metadata": {
  "kernelspec": {
   "display_name": "nf_sql",
   "language": "python",
   "name": "python3"
  },
  "language_info": {
   "codemirror_mode": {
    "name": "ipython",
    "version": 3
   },
   "file_extension": ".py",
   "mimetype": "text/x-python",
   "name": "python",
   "nbconvert_exporter": "python",
   "pygments_lexer": "ipython3",
   "version": "3.9.12"
  }
 },
 "nbformat": 4,
 "nbformat_minor": 2
}
