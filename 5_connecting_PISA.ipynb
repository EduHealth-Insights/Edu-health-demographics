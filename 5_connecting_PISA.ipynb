{
 "cells": [
  {
   "cell_type": "code",
   "execution_count": null,
   "metadata": {},
   "outputs": [],
   "source": [
    "import pandas as pd\n",
    "import numpy as np\n",
    "import python_functions_sp as pfsp\n",
    "import warnings\n",
    "warnings.filterwarnings(\"ignore\")\n",
    "import sqlalchemy\n",
    "import psycopg2\n",
    "import sql_functions_sp as sfsp"
   ]
  },
  {
   "cell_type": "code",
   "execution_count": null,
   "metadata": {},
   "outputs": [],
   "source": [
    "%store -r pisa_m_continents\n",
    "%store -r pisa_r_continents\n",
    "%store -r pisa_sc_continents"
   ]
  },
  {
   "cell_type": "code",
   "execution_count": null,
   "metadata": {},
   "outputs": [],
   "source": [
    "pisa_m_continents.info()"
   ]
  },
  {
   "cell_type": "code",
   "execution_count": null,
   "metadata": {},
   "outputs": [],
   "source": [
    "pisa_r_continents.info()"
   ]
  },
  {
   "cell_type": "code",
   "execution_count": null,
   "metadata": {},
   "outputs": [],
   "source": [
    "pisa_sc_continents.info()"
   ]
  },
  {
   "cell_type": "code",
   "execution_count": null,
   "metadata": {},
   "outputs": [],
   "source": [
    "pisa_m_r = pd.merge(pisa_m_continents, pisa_r_continents, how='left', on=['country', 'continent', 'continent_region', 'year'])"
   ]
  },
  {
   "cell_type": "code",
   "execution_count": null,
   "metadata": {},
   "outputs": [],
   "source": [
    "pisa_total = pd.merge(pisa_m_r, pisa_sc_continents, how='left', on=['country', 'continent', 'continent_region', 'year'])"
   ]
  },
  {
   "cell_type": "code",
   "execution_count": null,
   "metadata": {},
   "outputs": [],
   "source": [
    "pisa_total #.sample(20)"
   ]
  },
  {
   "cell_type": "code",
   "execution_count": null,
   "metadata": {},
   "outputs": [],
   "source": [
    "pisa_2000 = pisa_total[(pisa_total['year'] == 2000) & (pisa_total['continent'] != 'Other')]\n",
    "pisa_2003 = pisa_total[(pisa_total['year'] == 2003) & (pisa_total['continent'] != 'Other')]\n",
    "pisa_2006 = pisa_total[(pisa_total['year'] == 2006) & (pisa_total['continent'] != 'Other')]\n",
    "pisa_2009 = pisa_total[(pisa_total['year'] == 2009) & (pisa_total['continent'] != 'Other')]\n",
    "pisa_2012 = pisa_total[(pisa_total['year'] == 2012) & (pisa_total['continent'] != 'Other')]\n",
    "pisa_2015 = pisa_total[(pisa_total['year'] == 2015) & (pisa_total['continent'] != 'Other')]\n",
    "pisa_2018 = pisa_total[(pisa_total['year'] == 2018) & (pisa_total['continent'] != 'Other')]\n",
    "pisa_2022 = pisa_total[(pisa_total['year'] == 2022) & (pisa_total['continent'] != 'Other')]"
   ]
  },
  {
   "cell_type": "code",
   "execution_count": null,
   "metadata": {},
   "outputs": [],
   "source": [
    "pisa_2006"
   ]
  },
  {
   "cell_type": "code",
   "execution_count": null,
   "metadata": {},
   "outputs": [],
   "source": [
    "# dataframes = {\"pisa_2000\": pisa_2000,\n",
    "#               \"pisa_2003\": pisa_2003,\n",
    "#               \"pisa_2006\": pisa_2006,\n",
    "#               \"pisa_2009\": pisa_2009,\n",
    "#               \"pisa_2012\": pisa_2012,\n",
    "#               \"pisa_2015\": pisa_2015,\n",
    "#               \"pisa_2018\": pisa_2018,\n",
    "#               \"pisa_2022\": pisa_2022}\n",
    "\n",
    "# for table_name, df in dataframes.items():\n",
    "#     sfsp.push_to_cloud(df, table_name)"
   ]
  },
  {
   "cell_type": "code",
   "execution_count": null,
   "metadata": {},
   "outputs": [],
   "source": [
    "# sfsp.push_to_cloud(pisa_total, 'pisa_total')"
   ]
  }
 ],
 "metadata": {
  "kernelspec": {
   "display_name": "nf_sql",
   "language": "python",
   "name": "python3"
  },
  "language_info": {
   "codemirror_mode": {
    "name": "ipython",
    "version": 3
   },
   "file_extension": ".py",
   "mimetype": "text/x-python",
   "name": "python",
   "nbconvert_exporter": "python",
   "pygments_lexer": "ipython3",
   "version": "3.9.7"
  }
 },
 "nbformat": 4,
 "nbformat_minor": 2
}
