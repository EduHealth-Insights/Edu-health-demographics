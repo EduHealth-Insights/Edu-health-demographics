{
 "cells": [
  {
   "cell_type": "code",
   "execution_count": null,
   "metadata": {},
   "outputs": [],
   "source": [
    "import pandas as pd\n",
    "import numpy as np\n",
    "import python_functions_sp as pfsp\n",
    "import warnings\n",
    "warnings.filterwarnings(\"ignore\")\n",
    "import sqlalchemy\n",
    "import psycopg2\n",
    "import sql_functions_sp as sfsp"
   ]
  },
  {
   "cell_type": "markdown",
   "metadata": {},
   "source": [
    "### What do we have in our datasets? ###"
   ]
  },
  {
   "cell_type": "code",
   "execution_count": null,
   "metadata": {},
   "outputs": [],
   "source": [
    "'''\n",
    "HFA_617: GINI coefficient (income distribution),\n",
    "'HFA_29',Unemployment rate (%),\n",
    "'HFA_30',Labour force as % of population,\n",
    "'HFA_32',Gross national income, US$ per capita,\n",
    "'HFA_33',Gross domestic product (GDP), US$ per capita,\n",
    "'HFA_35',Total government expenditure as % of GDP,\n",
    "hbsc_2018_par_employ_clean,\n",
    "IRRELFAS_LMH: Relative family affluence categorical (1 = Lowest 20 pct, 2= Medium 60 pct, 3 = Highest 20 pct),\n",
    "syb_labor_unemployment_cleaned,\n",
    "Labour force participation - Total,\n",
    "Unemployment rate - Total,\n",
    "GHED income-level: income ,\n",
    "'''\n"
   ]
  },
  {
   "cell_type": "code",
   "execution_count": null,
   "metadata": {},
   "outputs": [],
   "source": [
    "# schema = 'capstone_health_education'\n",
    "# table = 'hfa_eduHealth'\n",
    "\n",
    "# sql_query1 = f'SELECT * FROM {schema}.\"{table}\";'\n",
    "# hfa_eduHealth = sfsp.get_dataframe(sql_query1)"
   ]
  },
  {
   "cell_type": "code",
   "execution_count": null,
   "metadata": {},
   "outputs": [],
   "source": [
    "hfa_eduHealth\n"
   ]
  },
  {
   "cell_type": "code",
   "execution_count": null,
   "metadata": {},
   "outputs": [],
   "source": [
    "hfa_income = hfa_eduHealth[['country', 'years', 'HFA_617', 'HFA_29',\n",
    "'HFA_30',\n",
    "'HFA_32',\n",
    "'HFA_33',\n",
    "'HFA_35']]"
   ]
  },
  {
   "cell_type": "code",
   "execution_count": null,
   "metadata": {},
   "outputs": [],
   "source": [
    "'''\n",
    "HFA_617: GINI coefficient (income distribution),\n",
    "'HFA_29',Unemployment rate (%),\n",
    "'HFA_30',Labour force as % of population,\n",
    "'HFA_32',Gross national income, US$ per capita,\n",
    "'HFA_33',Gross domestic product (GDP), US$ per capita,\n",
    "'HFA_35',Total government expenditure as % of GDP,\n",
    "hbsc_2018_par_employ_clean,\n",
    "IRRELFAS_LMH: Relative family affluence categorical (1 = Lowest 20 pct, 2= Medium 60 pct, 3 = Highest 20 pct),\n",
    "syb_labor_unemployment_cleaned,\n",
    "Labour force participation - Total,\n",
    "Unemployment rate - Total,\n",
    "GHED income-level: income ,\n",
    "'''\n"
   ]
  },
  {
   "cell_type": "code",
   "execution_count": null,
   "metadata": {},
   "outputs": [],
   "source": [
    "hfa_income.rename(columns={'HFA_617': 'GINI coefficient (income distribution)', 'HFA_29': 'Unemployment rate (%)', 'HFA_30':'Labour force as % of population', 'HFA_32': 'Gross national income, US$ per capita', 'HFA_33': 'Gross domestic product (GDP), US$ per capita', 'HFA_35':'Total government expenditure as % of GDP'}, inplace=True)"
   ]
  },
  {
   "cell_type": "code",
   "execution_count": null,
   "metadata": {},
   "outputs": [],
   "source": [
    "hfa_income"
   ]
  },
  {
   "cell_type": "code",
   "execution_count": null,
   "metadata": {},
   "outputs": [],
   "source": [
    "hfa_income.isna().sum()"
   ]
  },
  {
   "cell_type": "code",
   "execution_count": null,
   "metadata": {},
   "outputs": [],
   "source": [
    "import pandas as pd\n",
    "\n",
    "# Assuming hfa_income is your DataFrame\n",
    "# Group by 'years' and calculate the mean unemployment rate for each year\n",
    "Gini = hfa_income['GINI coefficient (income distribution)'].groupby(hfa_income['country']).mean()\n",
    "\n",
    "# Display the grouped data\n",
    "print(unemployment_by_year)\n"
   ]
  },
  {
   "cell_type": "markdown",
   "metadata": {},
   "source": [
    "### Gross National Income (GNI) per capita is the dollar value of a country’s final income in a year divided by its population using Atlas methodology. ###"
   ]
  },
  {
   "cell_type": "code",
   "execution_count": null,
   "metadata": {},
   "outputs": [],
   "source": [
    "nat_income  = hfa_income['Gross national income, US$ per capita'].groupby(hfa_income['years']).mean()\n",
    "\n",
    "# Display the grouped data\n",
    "print(unemployment_by_year)\n"
   ]
  },
  {
   "cell_type": "code",
   "execution_count": null,
   "metadata": {},
   "outputs": [],
   "source": [
    "schema = 'capstone_health_education'\n",
    "table = 'syb_labor_unemployment_continents'\n",
    "\n",
    "sql_query2 = f'SELECT * FROM {schema}.\"{table}\";'\n",
    "syb_labour = sfsp.get_dataframe(sql_query2)"
   ]
  },
  {
   "cell_type": "code",
   "execution_count": null,
   "metadata": {},
   "outputs": [],
   "source": [
    "syb_labour"
   ]
  },
  {
   "cell_type": "code",
   "execution_count": null,
   "metadata": {},
   "outputs": [],
   "source": [
    "syb_labour['labour_force_participation_-_total']"
   ]
  }
 ],
 "metadata": {
  "kernelspec": {
   "display_name": "nf_sql",
   "language": "python",
   "name": "python3"
  },
  "language_info": {
   "codemirror_mode": {
    "name": "ipython",
    "version": 3
   },
   "file_extension": ".py",
   "mimetype": "text/x-python",
   "name": "python",
   "nbconvert_exporter": "python",
   "pygments_lexer": "ipython3",
   "version": "3.9.12"
  }
 },
 "nbformat": 4,
 "nbformat_minor": 2
}
