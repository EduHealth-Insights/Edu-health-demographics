{
 "cells": [
  {
   "cell_type": "code",
   "execution_count": null,
   "metadata": {},
   "outputs": [],
   "source": [
    "import pandas as pd\n",
    "import sqlalchemy\n",
    "import psycopg2\n",
    "import sql_functions as sf\n",
    "\n",
    "import warnings\n",
    "warnings.simplefilter(action='ignore', category=FutureWarning)\n",
    "warnings.filterwarnings(\"ignore\")"
   ]
  },
  {
   "cell_type": "code",
   "execution_count": null,
   "metadata": {},
   "outputs": [],
   "source": [
    "# define the schema in the database\n",
    "schema = 'capstone_health_education'"
   ]
  },
  {
   "cell_type": "code",
   "execution_count": null,
   "metadata": {},
   "outputs": [],
   "source": [
    "# import the table as dataframe\n",
    "HEPA_data_filtered = sf.get_dataframe(f'SELECT * FROM {schema}.\"HEPA_data_filtered\"')"
   ]
  },
  {
   "cell_type": "code",
   "execution_count": null,
   "metadata": {},
   "outputs": [],
   "source": [
    "HEPA_data_filtered"
   ]
  },
  {
   "cell_type": "code",
   "execution_count": null,
   "metadata": {},
   "outputs": [],
   "source": [
    "# delete YES_NO column, change 'COUNTRY_REGION' to 'country', lower case all headers\n",
    "HEPA_filtered = HEPA_data_filtered.drop(columns='YES_NO')\n",
    "HEPA_filtered.rename(columns = {'COUNTRY_REGION':'country'}, inplace = True)\n",
    "HEPA_filtered.columns = HEPA_filtered.columns.str.lower()\n",
    "# HEPA_filtered\n"
   ]
  },
  {
   "cell_type": "code",
   "execution_count": null,
   "metadata": {},
   "outputs": [],
   "source": [
    "# check for data types and empty cells\n",
    "HEPA_filtered.info()"
   ]
  },
  {
   "cell_type": "code",
   "execution_count": null,
   "metadata": {},
   "outputs": [],
   "source": [
    "#check for duplicates\n",
    "HEPA_filtered.duplicated().value_counts()"
   ]
  },
  {
   "cell_type": "code",
   "execution_count": null,
   "metadata": {},
   "outputs": [],
   "source": [
    "print(HEPA_filtered[HEPA_filtered.isna().any(axis=1)])"
   ]
  },
  {
   "cell_type": "code",
   "execution_count": null,
   "metadata": {},
   "outputs": [],
   "source": [
    "# delete the rows containing empty cells\n",
    "HEPA_filtered.dropna(axis=0, inplace=True)"
   ]
  },
  {
   "cell_type": "code",
   "execution_count": null,
   "metadata": {},
   "outputs": [],
   "source": [
    "print(HEPA_filtered[HEPA_filtered.isna().any(axis=1)])"
   ]
  },
  {
   "cell_type": "code",
   "execution_count": null,
   "metadata": {},
   "outputs": [],
   "source": [
    "# change the 'value' to int\n",
    "HEPA_filtered['value'] = HEPA_filtered['value'].astype('int64')\n",
    "HEPA_filtered"
   ]
  },
  {
   "cell_type": "markdown",
   "metadata": {},
   "source": [
    "HEPA_1: Recommendations on physical activity  \n",
    "HEPA_2: Levels of physical activity in adults  \n",
    "HEPA_3: Levels of physical activity in children and adolescents  \n",
    "HEPA_4: Coordination mechanism on HEPA promotion  \n",
    "HEPA_5: Funding for HEPA promotion  \n",
    "HEPA_6: Sports for All  \n",
    "HEPA_7: Sports Club for Health  \n",
    "HEPA_8: Access for socially disadvantaged groups  \n",
    "HEPA_9: Special target groups  \n",
    "HEPA_10: Surveillance of physical activity in health  \n",
    "HEPA_11: Counselling on physical activity  \n",
    "HEPA_12: Training of health professionals  \n",
    "HEPA_13: Physical education in schools  \n",
    "HEPA_14: Physical activity promotion in schools  \n",
    "HEPA_15: Training of physical education teachers  \n",
    "HEPA_16: Active travel to school  \n",
    "HEPA_17: Level of cycling and walking  \n",
    "HEPA_18: Infrastructures for leisure-time physical activity  \n",
    "HEPA_19: Active travel to work  \n",
    "HEPA_20: Physical activity at the workplace  \n",
    "HEPA_21: Community interventions for older adults  \n",
    "HEPA_22: Evaluation of HEPA policies  \n",
    "HEPA_23: Awareness campaign on physical activity  \n"
   ]
  },
  {
   "cell_type": "code",
   "execution_count": null,
   "metadata": {},
   "outputs": [],
   "source": [
    "# push to cloud\n",
    "sf.push_to_cloud(HEPA_filtered, 'HEPA_filtered_final')"
   ]
  }
 ],
 "metadata": {
  "kernelspec": {
   "display_name": "nf_sql",
   "language": "python",
   "name": "python3"
  },
  "language_info": {
   "codemirror_mode": {
    "name": "ipython",
    "version": 3
   },
   "file_extension": ".py",
   "mimetype": "text/x-python",
   "name": "python",
   "nbconvert_exporter": "python",
   "pygments_lexer": "ipython3",
   "version": "3.9.12"
  }
 },
 "nbformat": 4,
 "nbformat_minor": 2
}
