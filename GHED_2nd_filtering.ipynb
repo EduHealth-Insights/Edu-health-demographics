{
 "cells": [
  {
   "cell_type": "code",
   "execution_count": null,
   "metadata": {},
   "outputs": [],
   "source": [
    "import pandas as pd\n",
    "import sqlalchemy\n",
    "import psycopg2\n",
    "import sql_functions as sf\n",
    "\n",
    "import warnings\n",
    "warnings.simplefilter(action='ignore', category=FutureWarning)\n",
    "warnings.filterwarnings(\"ignore\")"
   ]
  },
  {
   "cell_type": "code",
   "execution_count": null,
   "metadata": {},
   "outputs": [],
   "source": [
    "# define the schema in the database\n",
    "schema = 'capstone_health_education'"
   ]
  },
  {
   "cell_type": "code",
   "execution_count": null,
   "metadata": {},
   "outputs": [],
   "source": [
    "# import the table as dataframe\n",
    "GHED_data_or_filtered = sf.get_dataframe(f'SELECT * FROM {schema}.\"GHED_data_or_filtered\"')"
   ]
  },
  {
   "cell_type": "code",
   "execution_count": null,
   "metadata": {},
   "outputs": [],
   "source": [
    "GHED_data_or_filtered"
   ]
  },
  {
   "cell_type": "code",
   "execution_count": null,
   "metadata": {},
   "outputs": [],
   "source": [
    "# check for data types and empty cells\n",
    "GHED_data_or_filtered.info()"
   ]
  },
  {
   "cell_type": "code",
   "execution_count": null,
   "metadata": {},
   "outputs": [],
   "source": [
    "#check for duplicates\n",
    "GHED_data_or_filtered.duplicated().value_counts()"
   ]
  },
  {
   "cell_type": "code",
   "execution_count": null,
   "metadata": {},
   "outputs": [],
   "source": [
    "# delete the rows containing empty cells\n",
    "GHED_data_or_filtered.dropna(axis=0)"
   ]
  },
  {
   "cell_type": "code",
   "execution_count": null,
   "metadata": {},
   "outputs": [],
   "source": [
    "# visualize the income categories\n",
    "GHED_data_or_filtered['income'].unique()"
   ]
  },
  {
   "cell_type": "code",
   "execution_count": null,
   "metadata": {},
   "outputs": [],
   "source": [
    "# visualize the regions\n",
    "GHED_data_or_filtered['region'].unique()"
   ]
  },
  {
   "cell_type": "markdown",
   "metadata": {},
   "source": [
    "African Region  \n",
    "Region of the Americas  \n",
    "Eastern Mediterranean Region  \n",
    "European Region  \n",
    "South-East Asia Region  \n",
    "Western Pacific Region"
   ]
  },
  {
   "cell_type": "markdown",
   "metadata": {},
   "source": [
    "che_gdp: Current Health Expenditure (CHE) as % of Gross Domestic Product (GDP)  \n",
    "che_pc_usd: Current Health Expenditure (CHE) per Capita in US$"
   ]
  },
  {
   "cell_type": "code",
   "execution_count": null,
   "metadata": {},
   "outputs": [],
   "source": [
    "# Group by 'region' and 'year', then sum 'che_gdp' and 'che_pc_usd'\n",
    "GHED_groupby_region = GHED_data_or_filtered.groupby(['region', 'year'])[['che_gdp', 'che_pc_usd']].sum()\n",
    "\n",
    "# Reset index to make 'region' and 'year' columns instead of index\n",
    "GHED_groupby_region = GHED_groupby_region.reset_index()\n",
    "\n",
    "# Display the result\n",
    "GHED_groupby_region\n"
   ]
  },
  {
   "cell_type": "code",
   "execution_count": null,
   "metadata": {},
   "outputs": [],
   "source": [
    "# calculate the average of all years (2000-20022) per region\n",
    "GHED_groupby_region_average = GHED_groupby_region.groupby('region').mean()\n",
    "\n",
    "\n",
    "# if I want some of the years:\n",
    "#filtered_data = GHED_data_or_filtered[GHED_data_or_filtered['year'].isin([2021, 2022])]\n",
    "\n",
    "\n",
    "# Reset index to make 'region' a column instead of index\n",
    "GHED_groupby_region_average = GHED_groupby_region_average.reset_index()\n",
    "\n",
    "# Display the result\n",
    "GHED_groupby_region_average[['region', 'che_gdp', 'che_pc_usd']]\n"
   ]
  },
  {
   "cell_type": "code",
   "execution_count": null,
   "metadata": {},
   "outputs": [],
   "source": [
    "# push to cloud\n",
    "dataframes = {'GHED_groupby_region': GHED_groupby_region,\n",
    "    'GHED_groupby_region_average': GHED_groupby_region_average}\n",
    "\n",
    "for table_name, df in dataframes.items():\n",
    "    sf.push_to_cloud(df, table_name)"
   ]
  }
 ],
 "metadata": {
  "kernelspec": {
   "display_name": "nf_sql",
   "language": "python",
   "name": "python3"
  },
  "language_info": {
   "codemirror_mode": {
    "name": "ipython",
    "version": 3
   },
   "file_extension": ".py",
   "mimetype": "text/x-python",
   "name": "python",
   "nbconvert_exporter": "python",
   "pygments_lexer": "ipython3",
   "version": "3.9.12"
  }
 },
 "nbformat": 4,
 "nbformat_minor": 2
}
