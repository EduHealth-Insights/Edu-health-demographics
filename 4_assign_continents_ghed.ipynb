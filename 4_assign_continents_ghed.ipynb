{
 "cells": [
  {
   "cell_type": "code",
   "execution_count": 1,
   "metadata": {},
   "outputs": [],
   "source": [
    "import pandas as pd\n",
    "import numpy as np\n",
    "import python_functions_sp as pfsp\n",
    "import warnings\n",
    "warnings.filterwarnings(\"ignore\")\n",
    "import sqlalchemy\n",
    "import psycopg2\n",
    "import sql_functions_sp as sfsp"
   ]
  },
  {
   "cell_type": "code",
   "execution_count": 2,
   "metadata": {},
   "outputs": [],
   "source": [
    "# schema = 'capstone_health_education'\n",
    "# GHED_data_or_filtered = sfsp.get_dataframe(f'SELECT * FROM {schema}.\"GHED_data_or_filtered\"')"
   ]
  },
  {
   "cell_type": "code",
   "execution_count": 3,
   "metadata": {},
   "outputs": [],
   "source": [
    "%store -r GHED_data_or_filtered"
   ]
  },
  {
   "cell_type": "markdown",
   "metadata": {},
   "source": [
    "## Splitting the countries into the continents\n",
    "- northern america\n",
    "- southern america\n",
    "- europe (4 parts for further analysis)\n",
    "- africa\n",
    "- asia\n",
    "- pacific\n",
    "- middle-east"
   ]
  },
  {
   "cell_type": "markdown",
   "metadata": {},
   "source": [
    "Creating a copy with a meaningful name:"
   ]
  },
  {
   "cell_type": "code",
   "execution_count": 4,
   "metadata": {},
   "outputs": [],
   "source": [
    "GHED_continents = GHED_data_or_filtered.copy()"
   ]
  },
  {
   "cell_type": "code",
   "execution_count": 5,
   "metadata": {},
   "outputs": [],
   "source": [
    "GHED_continents = GHED_continents.drop('region', axis=1)"
   ]
  },
  {
   "cell_type": "code",
   "execution_count": 6,
   "metadata": {},
   "outputs": [
    {
     "data": {
      "text/html": [
       "<div>\n",
       "<style scoped>\n",
       "    .dataframe tbody tr th:only-of-type {\n",
       "        vertical-align: middle;\n",
       "    }\n",
       "\n",
       "    .dataframe tbody tr th {\n",
       "        vertical-align: top;\n",
       "    }\n",
       "\n",
       "    .dataframe thead th {\n",
       "        text-align: right;\n",
       "    }\n",
       "</style>\n",
       "<table border=\"1\" class=\"dataframe\">\n",
       "  <thead>\n",
       "    <tr style=\"text-align: right;\">\n",
       "      <th></th>\n",
       "      <th>country</th>\n",
       "      <th>code</th>\n",
       "      <th>income</th>\n",
       "      <th>year</th>\n",
       "      <th>che_gdp</th>\n",
       "      <th>che_pc_usd</th>\n",
       "    </tr>\n",
       "  </thead>\n",
       "  <tbody>\n",
       "    <tr>\n",
       "      <th>0</th>\n",
       "      <td>Algeria</td>\n",
       "      <td>DZA</td>\n",
       "      <td>Lower-middle</td>\n",
       "      <td>2000</td>\n",
       "      <td>3.49</td>\n",
       "      <td>62.12</td>\n",
       "    </tr>\n",
       "    <tr>\n",
       "      <th>1</th>\n",
       "      <td>Algeria</td>\n",
       "      <td>DZA</td>\n",
       "      <td>Lower-middle</td>\n",
       "      <td>2001</td>\n",
       "      <td>3.84</td>\n",
       "      <td>67.34</td>\n",
       "    </tr>\n",
       "    <tr>\n",
       "      <th>2</th>\n",
       "      <td>Algeria</td>\n",
       "      <td>DZA</td>\n",
       "      <td>Lower-middle</td>\n",
       "      <td>2002</td>\n",
       "      <td>3.73</td>\n",
       "      <td>66.95</td>\n",
       "    </tr>\n",
       "    <tr>\n",
       "      <th>3</th>\n",
       "      <td>Algeria</td>\n",
       "      <td>DZA</td>\n",
       "      <td>Lower-middle</td>\n",
       "      <td>2003</td>\n",
       "      <td>3.60</td>\n",
       "      <td>76.24</td>\n",
       "    </tr>\n",
       "    <tr>\n",
       "      <th>4</th>\n",
       "      <td>Algeria</td>\n",
       "      <td>DZA</td>\n",
       "      <td>Lower-middle</td>\n",
       "      <td>2004</td>\n",
       "      <td>3.54</td>\n",
       "      <td>93.02</td>\n",
       "    </tr>\n",
       "    <tr>\n",
       "      <th>...</th>\n",
       "      <td>...</td>\n",
       "      <td>...</td>\n",
       "      <td>...</td>\n",
       "      <td>...</td>\n",
       "      <td>...</td>\n",
       "      <td>...</td>\n",
       "    </tr>\n",
       "    <tr>\n",
       "      <th>4239</th>\n",
       "      <td>Viet Nam</td>\n",
       "      <td>VNM</td>\n",
       "      <td>Lower-middle</td>\n",
       "      <td>2017</td>\n",
       "      <td>4.99</td>\n",
       "      <td>149.31</td>\n",
       "    </tr>\n",
       "    <tr>\n",
       "      <th>4240</th>\n",
       "      <td>Viet Nam</td>\n",
       "      <td>VNM</td>\n",
       "      <td>Lower-middle</td>\n",
       "      <td>2018</td>\n",
       "      <td>5.03</td>\n",
       "      <td>164.24</td>\n",
       "    </tr>\n",
       "    <tr>\n",
       "      <th>4241</th>\n",
       "      <td>Viet Nam</td>\n",
       "      <td>VNM</td>\n",
       "      <td>Lower-middle</td>\n",
       "      <td>2019</td>\n",
       "      <td>4.97</td>\n",
       "      <td>173.65</td>\n",
       "    </tr>\n",
       "    <tr>\n",
       "      <th>4242</th>\n",
       "      <td>Viet Nam</td>\n",
       "      <td>VNM</td>\n",
       "      <td>Lower-middle</td>\n",
       "      <td>2020</td>\n",
       "      <td>4.30</td>\n",
       "      <td>154.24</td>\n",
       "    </tr>\n",
       "    <tr>\n",
       "      <th>4243</th>\n",
       "      <td>Viet Nam</td>\n",
       "      <td>VNM</td>\n",
       "      <td>Lower-middle</td>\n",
       "      <td>2021</td>\n",
       "      <td>4.59</td>\n",
       "      <td>172.55</td>\n",
       "    </tr>\n",
       "  </tbody>\n",
       "</table>\n",
       "<p>4244 rows × 6 columns</p>\n",
       "</div>"
      ],
      "text/plain": [
       "       country code        income  year  che_gdp  che_pc_usd\n",
       "0      Algeria  DZA  Lower-middle  2000     3.49       62.12\n",
       "1      Algeria  DZA  Lower-middle  2001     3.84       67.34\n",
       "2      Algeria  DZA  Lower-middle  2002     3.73       66.95\n",
       "3      Algeria  DZA  Lower-middle  2003     3.60       76.24\n",
       "4      Algeria  DZA  Lower-middle  2004     3.54       93.02\n",
       "...        ...  ...           ...   ...      ...         ...\n",
       "4239  Viet Nam  VNM  Lower-middle  2017     4.99      149.31\n",
       "4240  Viet Nam  VNM  Lower-middle  2018     5.03      164.24\n",
       "4241  Viet Nam  VNM  Lower-middle  2019     4.97      173.65\n",
       "4242  Viet Nam  VNM  Lower-middle  2020     4.30      154.24\n",
       "4243  Viet Nam  VNM  Lower-middle  2021     4.59      172.55\n",
       "\n",
       "[4244 rows x 6 columns]"
      ]
     },
     "execution_count": 6,
     "metadata": {},
     "output_type": "execute_result"
    }
   ],
   "source": [
    "# check if it worked\n",
    "GHED_continents"
   ]
  },
  {
   "cell_type": "markdown",
   "metadata": {},
   "source": [
    "---"
   ]
  },
  {
   "cell_type": "markdown",
   "metadata": {},
   "source": [
    "Assigning the continent to the countries in a new created column:"
   ]
  },
  {
   "cell_type": "code",
   "execution_count": 7,
   "metadata": {},
   "outputs": [],
   "source": [
    "GHED_continents['continent'] = GHED_continents['country'].apply(pfsp.assign_continent)"
   ]
  },
  {
   "cell_type": "markdown",
   "metadata": {},
   "source": [
    "Assigning the four parts of europe to the countries in another new created column:"
   ]
  },
  {
   "cell_type": "code",
   "execution_count": 8,
   "metadata": {},
   "outputs": [],
   "source": [
    "GHED_continents['continent_region'] = GHED_continents['country'].apply(pfsp.assign_europe_region)"
   ]
  },
  {
   "cell_type": "code",
   "execution_count": 9,
   "metadata": {},
   "outputs": [
    {
     "data": {
      "text/html": [
       "<div>\n",
       "<style scoped>\n",
       "    .dataframe tbody tr th:only-of-type {\n",
       "        vertical-align: middle;\n",
       "    }\n",
       "\n",
       "    .dataframe tbody tr th {\n",
       "        vertical-align: top;\n",
       "    }\n",
       "\n",
       "    .dataframe thead th {\n",
       "        text-align: right;\n",
       "    }\n",
       "</style>\n",
       "<table border=\"1\" class=\"dataframe\">\n",
       "  <thead>\n",
       "    <tr style=\"text-align: right;\">\n",
       "      <th></th>\n",
       "      <th>country</th>\n",
       "      <th>code</th>\n",
       "      <th>income</th>\n",
       "      <th>year</th>\n",
       "      <th>che_gdp</th>\n",
       "      <th>che_pc_usd</th>\n",
       "      <th>continent</th>\n",
       "      <th>continent_region</th>\n",
       "    </tr>\n",
       "  </thead>\n",
       "  <tbody>\n",
       "    <tr>\n",
       "      <th>1597</th>\n",
       "      <td>Paraguay</td>\n",
       "      <td>PRY</td>\n",
       "      <td>Upper-middle</td>\n",
       "      <td>2011</td>\n",
       "      <td>5.82</td>\n",
       "      <td>336.12</td>\n",
       "      <td>South America</td>\n",
       "      <td>South America</td>\n",
       "    </tr>\n",
       "    <tr>\n",
       "      <th>3880</th>\n",
       "      <td>Marshall Islands</td>\n",
       "      <td>MHL</td>\n",
       "      <td>Upper-middle</td>\n",
       "      <td>2012</td>\n",
       "      <td>13.04</td>\n",
       "      <td>452.07</td>\n",
       "      <td>Other</td>\n",
       "      <td>Other</td>\n",
       "    </tr>\n",
       "    <tr>\n",
       "      <th>1220</th>\n",
       "      <td>Chile</td>\n",
       "      <td>CHL</td>\n",
       "      <td>High</td>\n",
       "      <td>2009</td>\n",
       "      <td>7.25</td>\n",
       "      <td>738.28</td>\n",
       "      <td>South America</td>\n",
       "      <td>South America</td>\n",
       "    </tr>\n",
       "    <tr>\n",
       "      <th>2432</th>\n",
       "      <td>Bulgaria</td>\n",
       "      <td>BGR</td>\n",
       "      <td>Upper-middle</td>\n",
       "      <td>2009</td>\n",
       "      <td>6.60</td>\n",
       "      <td>459.00</td>\n",
       "      <td>Europe</td>\n",
       "      <td>East Europe</td>\n",
       "    </tr>\n",
       "    <tr>\n",
       "      <th>4242</th>\n",
       "      <td>Viet Nam</td>\n",
       "      <td>VNM</td>\n",
       "      <td>Lower-middle</td>\n",
       "      <td>2020</td>\n",
       "      <td>4.30</td>\n",
       "      <td>154.24</td>\n",
       "      <td>Pacific</td>\n",
       "      <td>Pacific</td>\n",
       "    </tr>\n",
       "    <tr>\n",
       "      <th>799</th>\n",
       "      <td>Sao Tome and Principe</td>\n",
       "      <td>STP</td>\n",
       "      <td>Lower-middle</td>\n",
       "      <td>2007</td>\n",
       "      <td>8.20</td>\n",
       "      <td>69.87</td>\n",
       "      <td>Africa</td>\n",
       "      <td>Africa</td>\n",
       "    </tr>\n",
       "    <tr>\n",
       "      <th>239</th>\n",
       "      <td>Comoros</td>\n",
       "      <td>COM</td>\n",
       "      <td>Lower-middle</td>\n",
       "      <td>2019</td>\n",
       "      <td>5.18</td>\n",
       "      <td>77.80</td>\n",
       "      <td>Africa</td>\n",
       "      <td>Africa</td>\n",
       "    </tr>\n",
       "    <tr>\n",
       "      <th>2951</th>\n",
       "      <td>Montenegro</td>\n",
       "      <td>MNE</td>\n",
       "      <td>Upper-middle</td>\n",
       "      <td>2013</td>\n",
       "      <td>8.47</td>\n",
       "      <td>596.00</td>\n",
       "      <td>Europe</td>\n",
       "      <td>South Europe</td>\n",
       "    </tr>\n",
       "    <tr>\n",
       "      <th>1647</th>\n",
       "      <td>Saint Kitts and Nevis</td>\n",
       "      <td>KNA</td>\n",
       "      <td>High</td>\n",
       "      <td>2017</td>\n",
       "      <td>5.26</td>\n",
       "      <td>1167.66</td>\n",
       "      <td>South America</td>\n",
       "      <td>South America</td>\n",
       "    </tr>\n",
       "    <tr>\n",
       "      <th>2238</th>\n",
       "      <td>Yemen</td>\n",
       "      <td>YEM</td>\n",
       "      <td>Low</td>\n",
       "      <td>2013</td>\n",
       "      <td>4.96</td>\n",
       "      <td>74.30</td>\n",
       "      <td>Asia</td>\n",
       "      <td>Asia</td>\n",
       "    </tr>\n",
       "  </tbody>\n",
       "</table>\n",
       "</div>"
      ],
      "text/plain": [
       "                    country code        income  year  che_gdp  che_pc_usd   \n",
       "1597               Paraguay  PRY  Upper-middle  2011     5.82      336.12  \\\n",
       "3880       Marshall Islands  MHL  Upper-middle  2012    13.04      452.07   \n",
       "1220                  Chile  CHL          High  2009     7.25      738.28   \n",
       "2432               Bulgaria  BGR  Upper-middle  2009     6.60      459.00   \n",
       "4242               Viet Nam  VNM  Lower-middle  2020     4.30      154.24   \n",
       "799   Sao Tome and Principe  STP  Lower-middle  2007     8.20       69.87   \n",
       "239                 Comoros  COM  Lower-middle  2019     5.18       77.80   \n",
       "2951             Montenegro  MNE  Upper-middle  2013     8.47      596.00   \n",
       "1647  Saint Kitts and Nevis  KNA          High  2017     5.26     1167.66   \n",
       "2238                  Yemen  YEM           Low  2013     4.96       74.30   \n",
       "\n",
       "          continent continent_region  \n",
       "1597  South America    South America  \n",
       "3880          Other            Other  \n",
       "1220  South America    South America  \n",
       "2432         Europe      East Europe  \n",
       "4242        Pacific          Pacific  \n",
       "799          Africa           Africa  \n",
       "239          Africa           Africa  \n",
       "2951         Europe     South Europe  \n",
       "1647  South America    South America  \n",
       "2238           Asia             Asia  "
      ]
     },
     "execution_count": 9,
     "metadata": {},
     "output_type": "execute_result"
    }
   ],
   "source": [
    "GHED_continents.sample(10)"
   ]
  },
  {
   "cell_type": "markdown",
   "metadata": {},
   "source": [
    "Changing the order of the columns:"
   ]
  },
  {
   "cell_type": "code",
   "execution_count": 10,
   "metadata": {},
   "outputs": [],
   "source": [
    "columns = [ 'code','country', 'continent', 'continent_region', 'income', 'year', 'che_gdp', 'che_pc_usd']\n",
    "\n",
    "GHED_continents = GHED_continents[columns]"
   ]
  },
  {
   "cell_type": "markdown",
   "metadata": {},
   "source": [
    "Checking the result:"
   ]
  },
  {
   "cell_type": "code",
   "execution_count": 11,
   "metadata": {},
   "outputs": [
    {
     "data": {
      "text/html": [
       "<div>\n",
       "<style scoped>\n",
       "    .dataframe tbody tr th:only-of-type {\n",
       "        vertical-align: middle;\n",
       "    }\n",
       "\n",
       "    .dataframe tbody tr th {\n",
       "        vertical-align: top;\n",
       "    }\n",
       "\n",
       "    .dataframe thead th {\n",
       "        text-align: right;\n",
       "    }\n",
       "</style>\n",
       "<table border=\"1\" class=\"dataframe\">\n",
       "  <thead>\n",
       "    <tr style=\"text-align: right;\">\n",
       "      <th></th>\n",
       "      <th>code</th>\n",
       "      <th>country</th>\n",
       "      <th>continent</th>\n",
       "      <th>continent_region</th>\n",
       "      <th>income</th>\n",
       "      <th>year</th>\n",
       "      <th>che_gdp</th>\n",
       "      <th>che_pc_usd</th>\n",
       "    </tr>\n",
       "  </thead>\n",
       "  <tbody>\n",
       "    <tr>\n",
       "      <th>4165</th>\n",
       "      <td>TON</td>\n",
       "      <td>Tonga</td>\n",
       "      <td>Other</td>\n",
       "      <td>Other</td>\n",
       "      <td>Upper-middle</td>\n",
       "      <td>2009</td>\n",
       "      <td>3.93</td>\n",
       "      <td>117.48</td>\n",
       "    </tr>\n",
       "    <tr>\n",
       "      <th>775</th>\n",
       "      <td>RWA</td>\n",
       "      <td>Rwanda</td>\n",
       "      <td>Africa</td>\n",
       "      <td>Africa</td>\n",
       "      <td>Low</td>\n",
       "      <td>2005</td>\n",
       "      <td>7.73</td>\n",
       "      <td>25.10</td>\n",
       "    </tr>\n",
       "    <tr>\n",
       "      <th>876</th>\n",
       "      <td>SLE</td>\n",
       "      <td>Sierra Leone</td>\n",
       "      <td>Africa</td>\n",
       "      <td>Africa</td>\n",
       "      <td>Low</td>\n",
       "      <td>2018</td>\n",
       "      <td>8.29</td>\n",
       "      <td>43.08</td>\n",
       "    </tr>\n",
       "    <tr>\n",
       "      <th>73</th>\n",
       "      <td>BWA</td>\n",
       "      <td>Botswana</td>\n",
       "      <td>Africa</td>\n",
       "      <td>Africa</td>\n",
       "      <td>Upper-middle</td>\n",
       "      <td>2007</td>\n",
       "      <td>5.52</td>\n",
       "      <td>296.57</td>\n",
       "    </tr>\n",
       "    <tr>\n",
       "      <th>650</th>\n",
       "      <td>MRT</td>\n",
       "      <td>Mauritania</td>\n",
       "      <td>Africa</td>\n",
       "      <td>Africa</td>\n",
       "      <td>Lower-middle</td>\n",
       "      <td>2012</td>\n",
       "      <td>2.65</td>\n",
       "      <td>49.02</td>\n",
       "    </tr>\n",
       "    <tr>\n",
       "      <th>1052</th>\n",
       "      <td>ATG</td>\n",
       "      <td>Antigua and Barbuda</td>\n",
       "      <td>South America</td>\n",
       "      <td>South America</td>\n",
       "      <td>High</td>\n",
       "      <td>2018</td>\n",
       "      <td>4.85</td>\n",
       "      <td>849.83</td>\n",
       "    </tr>\n",
       "    <tr>\n",
       "      <th>1337</th>\n",
       "      <td>DOM</td>\n",
       "      <td>Dominican Republic</td>\n",
       "      <td>South America</td>\n",
       "      <td>South America</td>\n",
       "      <td>Upper-middle</td>\n",
       "      <td>2015</td>\n",
       "      <td>4.72</td>\n",
       "      <td>322.95</td>\n",
       "    </tr>\n",
       "    <tr>\n",
       "      <th>3741</th>\n",
       "      <td>COK</td>\n",
       "      <td>Cook Islands</td>\n",
       "      <td>Other</td>\n",
       "      <td>Other</td>\n",
       "      <td>High</td>\n",
       "      <td>2005</td>\n",
       "      <td>3.91</td>\n",
       "      <td>513.76</td>\n",
       "    </tr>\n",
       "    <tr>\n",
       "      <th>3065</th>\n",
       "      <td>PRT</td>\n",
       "      <td>Portugal</td>\n",
       "      <td>Europe</td>\n",
       "      <td>South Europe</td>\n",
       "      <td>High</td>\n",
       "      <td>2015</td>\n",
       "      <td>9.32</td>\n",
       "      <td>1791.00</td>\n",
       "    </tr>\n",
       "    <tr>\n",
       "      <th>1738</th>\n",
       "      <td>TTO</td>\n",
       "      <td>Trinidad and Tobago</td>\n",
       "      <td>South America</td>\n",
       "      <td>South America</td>\n",
       "      <td>High</td>\n",
       "      <td>2020</td>\n",
       "      <td>7.54</td>\n",
       "      <td>1045.73</td>\n",
       "    </tr>\n",
       "  </tbody>\n",
       "</table>\n",
       "</div>"
      ],
      "text/plain": [
       "     code              country      continent continent_region        income   \n",
       "4165  TON                Tonga          Other            Other  Upper-middle  \\\n",
       "775   RWA               Rwanda         Africa           Africa           Low   \n",
       "876   SLE         Sierra Leone         Africa           Africa           Low   \n",
       "73    BWA             Botswana         Africa           Africa  Upper-middle   \n",
       "650   MRT           Mauritania         Africa           Africa  Lower-middle   \n",
       "1052  ATG  Antigua and Barbuda  South America    South America          High   \n",
       "1337  DOM   Dominican Republic  South America    South America  Upper-middle   \n",
       "3741  COK         Cook Islands          Other            Other          High   \n",
       "3065  PRT             Portugal         Europe     South Europe          High   \n",
       "1738  TTO  Trinidad and Tobago  South America    South America          High   \n",
       "\n",
       "      year  che_gdp  che_pc_usd  \n",
       "4165  2009     3.93      117.48  \n",
       "775   2005     7.73       25.10  \n",
       "876   2018     8.29       43.08  \n",
       "73    2007     5.52      296.57  \n",
       "650   2012     2.65       49.02  \n",
       "1052  2018     4.85      849.83  \n",
       "1337  2015     4.72      322.95  \n",
       "3741  2005     3.91      513.76  \n",
       "3065  2015     9.32     1791.00  \n",
       "1738  2020     7.54     1045.73  "
      ]
     },
     "execution_count": 11,
     "metadata": {},
     "output_type": "execute_result"
    }
   ],
   "source": [
    "GHED_continents.sample(10)"
   ]
  },
  {
   "cell_type": "markdown",
   "metadata": {},
   "source": [
    "Check if some countries couldn't be assigned to a continent:"
   ]
  },
  {
   "cell_type": "code",
   "execution_count": 12,
   "metadata": {},
   "outputs": [
    {
     "data": {
      "text/plain": [
       "array(['Maldives', 'Cook Islands', 'Kiribati', 'Marshall Islands',\n",
       "       'Nauru', 'Niue', 'Palau', 'Samoa', 'Solomon Islands', 'Tonga',\n",
       "       'Tuvalu', 'Vanuatu'], dtype=object)"
      ]
     },
     "execution_count": 12,
     "metadata": {},
     "output_type": "execute_result"
    }
   ],
   "source": [
    "GHED_continents[GHED_continents['continent'] == 'Other']['country'].unique()"
   ]
  },
  {
   "cell_type": "code",
   "execution_count": 13,
   "metadata": {},
   "outputs": [
    {
     "data": {
      "text/plain": [
       "array(['Maldives', 'Cook Islands', 'Kiribati', 'Marshall Islands',\n",
       "       'Nauru', 'Niue', 'Palau', 'Samoa', 'Solomon Islands', 'Tonga',\n",
       "       'Tuvalu', 'Vanuatu'], dtype=object)"
      ]
     },
     "execution_count": 13,
     "metadata": {},
     "output_type": "execute_result"
    }
   ],
   "source": [
    "GHED_continents[GHED_continents['continent_region'] == 'Other']['country'].unique()"
   ]
  },
  {
   "cell_type": "markdown",
   "metadata": {},
   "source": [
    "---"
   ]
  },
  {
   "cell_type": "markdown",
   "metadata": {},
   "source": [
    "Check if the new created columns match:"
   ]
  },
  {
   "cell_type": "code",
   "execution_count": 14,
   "metadata": {},
   "outputs": [
    {
     "name": "stdout",
     "output_type": "stream",
     "text": [
      "All values match.\n"
     ]
    }
   ],
   "source": [
    "pfsp.check_values(GHED_continents)"
   ]
  },
  {
   "cell_type": "markdown",
   "metadata": {},
   "source": [
    "---"
   ]
  },
  {
   "cell_type": "markdown",
   "metadata": {},
   "source": [
    "Writing the table into the database:"
   ]
  },
  {
   "cell_type": "code",
   "execution_count": 15,
   "metadata": {},
   "outputs": [],
   "source": [
    "# sfsp.push_to_cloud(GHED_continents, 'ghed_continents')"
   ]
  },
  {
   "cell_type": "code",
   "execution_count": 16,
   "metadata": {},
   "outputs": [
    {
     "name": "stdout",
     "output_type": "stream",
     "text": [
      "Stored 'ghed_continents' (DataFrame)\n"
     ]
    }
   ],
   "source": [
    "ghed_continents = GHED_continents\n",
    "\n",
    "%store ghed_continents"
   ]
  }
 ],
 "metadata": {
  "kernelspec": {
   "display_name": "nf_sql",
   "language": "python",
   "name": "python3"
  },
  "language_info": {
   "codemirror_mode": {
    "name": "ipython",
    "version": 3
   },
   "file_extension": ".py",
   "mimetype": "text/x-python",
   "name": "python",
   "nbconvert_exporter": "python",
   "pygments_lexer": "ipython3",
   "version": "3.9.7"
  }
 },
 "nbformat": 4,
 "nbformat_minor": 2
}
