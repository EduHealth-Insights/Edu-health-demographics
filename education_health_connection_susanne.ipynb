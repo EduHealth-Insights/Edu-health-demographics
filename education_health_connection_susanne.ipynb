{
 "cells": [
  {
   "cell_type": "code",
   "execution_count": 1,
   "metadata": {},
   "outputs": [],
   "source": [
    "import pandas as pd"
   ]
  },
  {
   "cell_type": "code",
   "execution_count": 2,
   "metadata": {},
   "outputs": [],
   "source": [
    "import warnings\n",
    "warnings.simplefilter(action='ignore', category=FutureWarning)\n",
    "warnings.filterwarnings(\"ignore\")"
   ]
  },
  {
   "cell_type": "code",
   "execution_count": 3,
   "metadata": {},
   "outputs": [],
   "source": [
    "import sqlalchemy"
   ]
  },
  {
   "cell_type": "code",
   "execution_count": 4,
   "metadata": {},
   "outputs": [],
   "source": [
    "import psycopg2"
   ]
  },
  {
   "cell_type": "markdown",
   "metadata": {},
   "source": [
    "### Retrieving the education datasets from Prostgres ###\n"
   ]
  },
  {
   "cell_type": "code",
   "execution_count": 5,
   "metadata": {},
   "outputs": [],
   "source": [
    "# Import get_dataframe from sql_functions.py\n",
    "from sql_functions import get_dataframe\n",
    "#from sql_functions import get_engine"
   ]
  },
  {
   "cell_type": "code",
   "execution_count": 6,
   "metadata": {},
   "outputs": [],
   "source": [
    "# schema = 'capstone_health_education'\n",
    "# sql_1 = f'SELECT * FROM {schema}.syb_education_continents'\n",
    "# syb_edu = get_dataframe(sql_1)"
   ]
  },
  {
   "cell_type": "code",
   "execution_count": 7,
   "metadata": {},
   "outputs": [],
   "source": [
    "#syb_edu.shape"
   ]
  },
  {
   "cell_type": "code",
   "execution_count": 8,
   "metadata": {},
   "outputs": [],
   "source": [
    "# list_of_objects = ['students_enrolled_in_lower_secondary_education_thousands', 'students_enrolled_in_primary_education_thousands', 'students_enrolled_in_upper_secondary_education_thousands']\n",
    "# syb_edu_continents[list_of_objects] = syb_edu_continents[list_of_objects].apply(pd.to_numeric, errors='coerce')"
   ]
  },
  {
   "cell_type": "code",
   "execution_count": 9,
   "metadata": {},
   "outputs": [],
   "source": [
    "#syb_edu_eu= syb_edu[syb_edu['continent_region'].isin(['South Europe','West Europe', 'East Europe', 'North Europe'])]"
   ]
  },
  {
   "cell_type": "markdown",
   "metadata": {},
   "source": [
    "### push to postgres ###"
   ]
  },
  {
   "cell_type": "code",
   "execution_count": 10,
   "metadata": {},
   "outputs": [],
   "source": [
    "# dataframes = [hbsc_2018_health_clean_1, hbsc_2018_health_clean_2, hbsc_2018_health_clean_3, hbsc_2018_behavior_clean, hbsc_2018_par_employ_clean, hbsc_2018_social_media_clean, hbsc_2018_school_clean]\n",
    "\n",
    "# table_names = ['hbsc_2018_health_clean_1', 'hbsc_2018_health_clean_2', 'hbsc_2018_health_clean_3', 'hbsc_2018_behavior_clean', 'hbsc_2018_par_employ_clean', 'hbsc_2018_social_media_clean', 'hbsc_2018_school_clean']\n",
    "\n",
    "# for df, table_name in zip(dataframes, table_names):\n",
    "#      sf.push_to_cloud(df, table_name)"
   ]
  },
  {
   "cell_type": "code",
   "execution_count": 11,
   "metadata": {},
   "outputs": [
    {
     "ename": "NameError",
     "evalue": "name 'sns' is not defined",
     "output_type": "error",
     "traceback": [
      "\u001b[0;31m---------------------------------------------------------------------------\u001b[0m",
      "\u001b[0;31mNameError\u001b[0m                                 Traceback (most recent call last)",
      "Cell \u001b[0;32mIn[11], line 1\u001b[0m\n\u001b[0;32m----> 1\u001b[0m \u001b[43msns\u001b[49m\u001b[38;5;241m.\u001b[39mbarplot(x \u001b[38;5;241m=\u001b[39m\u001b[38;5;124m\"\u001b[39m\u001b[38;5;124mcontinent_region\u001b[39m\u001b[38;5;124m\"\u001b[39m, y\u001b[38;5;241m=\u001b[39m\u001b[38;5;124m\"\u001b[39m\u001b[38;5;124mstudents_enrolled_in_lower_secondary_education_thousands\u001b[39m\u001b[38;5;124m\"\u001b[39m, errorbar\u001b[38;5;241m=\u001b[39m (\u001b[38;5;124m\"\u001b[39m\u001b[38;5;124mci\u001b[39m\u001b[38;5;124m\"\u001b[39m, \u001b[38;5;241m95\u001b[39m), data\u001b[38;5;241m=\u001b[39msyb_edu_eu)\n",
      "\u001b[0;31mNameError\u001b[0m: name 'sns' is not defined"
     ]
    }
   ],
   "source": [
    "#sns.barplot(x =\"continent_region\", y=\"students_enrolled_in_lower_secondary_education_thousands\", errorbar= (\"ci\", 95), data=syb_edu_eu);"
   ]
  },
  {
   "cell_type": "code",
   "execution_count": null,
   "metadata": {},
   "outputs": [],
   "source": [
    "#sns.barplot(x =\"continent_region\", y=\"students_enrolled_in_upper_secondary_education_thousands\", errorbar= (\"ci\", 95), data=syb_edu_eu);"
   ]
  },
  {
   "cell_type": "code",
   "execution_count": null,
   "metadata": {},
   "outputs": [],
   "source": [
    "#sns.barplot(x =\"continent_region\", y=\"students_enrolled_in_primary_education_thousands\", errorbar= (\"ci\", 95), data=syb_edu_eu);"
   ]
  },
  {
   "cell_type": "code",
   "execution_count": null,
   "metadata": {},
   "outputs": [],
   "source": []
  },
  {
   "cell_type": "code",
   "execution_count": null,
   "metadata": {},
   "outputs": [],
   "source": [
    "#syb_edu[['country_code', 'country']].sort_values(by=['country_code', 'country'])"
   ]
  },
  {
   "cell_type": "code",
   "execution_count": null,
   "metadata": {},
   "outputs": [],
   "source": [
    "#hfa_edu.drop(['measure_code', 'measure_label', 'country_region', 'name'], axis=1, inplace=True)"
   ]
  },
  {
   "cell_type": "code",
   "execution_count": null,
   "metadata": {},
   "outputs": [],
   "source": [
    "# hfa_edu = pd.melt(hfa_edu,\n",
    "#                       #id_vars=['country_region', 'name', 'measure_code', 'measure_label'],\n",
    "#                       value_vars=['2000','2001', '2002', '2003', '2004', '2005', '2006', '2007', '2008', '2009', '2010', '2011', '2012', '2013', '2014', '2015', '2016', '2017', '2018', '2019', '2020', '2021', '2022'],\n",
    "#                       var_name='year',\n",
    "#                       value_name='value'\n",
    "#                       )"
   ]
  },
  {
   "cell_type": "code",
   "execution_count": null,
   "metadata": {},
   "outputs": [],
   "source": [
    "#hfa_edu = hfa_edu.rename(columns={'value': 'prop_kids_unrolled_sc'})"
   ]
  },
  {
   "cell_type": "code",
   "execution_count": null,
   "metadata": {},
   "outputs": [],
   "source": [
    "#hfa_edu['prop_kids_unrolled_sc'] = hfa_edu['prop_kids_unrolled_sc'].apply(pd.to_numeric, errors='coerce')"
   ]
  },
  {
   "cell_type": "code",
   "execution_count": 13,
   "metadata": {},
   "outputs": [],
   "source": [
    "# schema = 'capstone_health_education'\n",
    "# sql_3 = f'SELECT * FROM {schema}.pisa_m_continents'\n",
    "# pisa_m = get_dataframe(sql_3)"
   ]
  },
  {
   "cell_type": "code",
   "execution_count": null,
   "metadata": {},
   "outputs": [],
   "source": [
    "#pisa_m_cont_label = pisa_m.rename(columns={'average': 'average_pisa_m', 'standard_error': 'standard_error_pisa_m'})"
   ]
  },
  {
   "cell_type": "code",
   "execution_count": null,
   "metadata": {},
   "outputs": [],
   "source": [
    "# schema = 'capstone_health_education'\n",
    "# sql_4 = f'SELECT * FROM {schema}.pisa_r_continents'\n",
    "# pisa_r = get_dataframe(sql_4)"
   ]
  },
  {
   "cell_type": "code",
   "execution_count": null,
   "metadata": {},
   "outputs": [],
   "source": [
    "#pisa_r_cont_label = pisa_r.rename(columns={'average': 'average_pisa_r', 'standard_error': 'standard_error_pisa_r'})"
   ]
  },
  {
   "cell_type": "code",
   "execution_count": null,
   "metadata": {},
   "outputs": [],
   "source": [
    "# schema = 'capstone_health_education'\n",
    "# sql_5 = f'SELECT * FROM {schema}.pisa_sc_continents'\n",
    "# pisa_sc = get_dataframe(sql_5)"
   ]
  },
  {
   "cell_type": "code",
   "execution_count": null,
   "metadata": {},
   "outputs": [],
   "source": [
    "#pisa_sc_cont_label = pisa_sc.rename(columns={'average': 'average_pisa_sc', 'standard_error': 'standard_error_pisa_sc'})"
   ]
  },
  {
   "cell_type": "markdown",
   "metadata": {},
   "source": [
    "### Pushing changes PISA datasets to PostGres; only labels have been changed ###"
   ]
  },
  {
   "cell_type": "code",
   "execution_count": null,
   "metadata": {},
   "outputs": [],
   "source": [
    "import sql_functions as sf\n",
    "#from sql_functions import get_engine\n",
    "#engine = get_engine()"
   ]
  },
  {
   "cell_type": "code",
   "execution_count": null,
   "metadata": {},
   "outputs": [],
   "source": [
    "#schema = 'capstone_health_education'"
   ]
  },
  {
   "cell_type": "code",
   "execution_count": null,
   "metadata": {},
   "outputs": [],
   "source": [
    "#pisa_m_cont_label"
   ]
  },
  {
   "cell_type": "code",
   "execution_count": null,
   "metadata": {},
   "outputs": [],
   "source": [
    "#pisa_r_cont_label\n",
    "\n"
   ]
  },
  {
   "cell_type": "code",
   "execution_count": null,
   "metadata": {},
   "outputs": [],
   "source": [
    "# pisa_sc_cont_label"
   ]
  },
  {
   "cell_type": "code",
   "execution_count": null,
   "metadata": {},
   "outputs": [],
   "source": [
    "# dataframes = [pisa_m_cont_label, pisa_sc_cont_label, pisa_r_cont_label]\n",
    "\n",
    "# table_names = ['pisa_m_cont_label', 'pisa_sc_cont_label', 'pisa_r_cont_label']\n",
    "\n",
    "# for df, table_name in zip(dataframes, table_names):\n",
    "#       sf.push_to_cloud(df, table_name)"
   ]
  },
  {
   "cell_type": "markdown",
   "metadata": {},
   "source": [
    "### Retrieving the health datasets from Prostgres ###"
   ]
  },
  {
   "cell_type": "code",
   "execution_count": null,
   "metadata": {},
   "outputs": [],
   "source": [
    "schema = 'capstone_health_education'\n",
    "sql_6 = f'SELECT * FROM {schema}.hfa_continents'\n",
    "hfa_health = get_dataframe(sql_6)"
   ]
  },
  {
   "cell_type": "code",
   "execution_count": null,
   "metadata": {},
   "outputs": [],
   "source": [
    "hfa_health.continent_region.unique()\n"
   ]
  },
  {
   "cell_type": "code",
   "execution_count": null,
   "metadata": {},
   "outputs": [],
   "source": [
    "hfa_health_eu= hfa_health[hfa_health['continent_region'].isin(['South Europe','West Europe', 'East Europe', 'North Europe'])]"
   ]
  },
  {
   "cell_type": "code",
   "execution_count": null,
   "metadata": {},
   "outputs": [],
   "source": [
    "hfa_health_eu.sample(18)"
   ]
  },
  {
   "cell_type": "code",
   "execution_count": null,
   "metadata": {},
   "outputs": [],
   "source": [
    "# # rows to dkeep\n",
    "# rows = ['South Europe','West Europe', 'East Europe', 'North Europe']\n",
    "\n",
    "# # Filter the DataFrame\n",
    "# hfa_health = df[df['Unnamed: 1'].str.contains('|'.join(rows), na=False)]"
   ]
  },
  {
   "cell_type": "code",
   "execution_count": null,
   "metadata": {},
   "outputs": [],
   "source": [
    "hfa_health.sample(7)"
   ]
  },
  {
   "cell_type": "code",
   "execution_count": null,
   "metadata": {},
   "outputs": [],
   "source": [
    "hfa_health_life_exp = hfa_health_eu[['country', 'continent_region', 'years', 'HFA_618', 'HFA_636']]"
   ]
  },
  {
   "cell_type": "code",
   "execution_count": null,
   "metadata": {},
   "outputs": [],
   "source": [
    "hfa_health_life_exp.sample(7)"
   ]
  },
  {
   "cell_type": "code",
   "execution_count": null,
   "metadata": {},
   "outputs": [],
   "source": [
    "hfa_life_exp = hfa_health_life_exp.rename(columns={'HFA_618': 'school_prop_kids_not_enr', 'HFA_636': 'healthy_life_exp', 'years' : 'year'})"
   ]
  },
  {
   "cell_type": "code",
   "execution_count": null,
   "metadata": {},
   "outputs": [],
   "source": [
    "hfa_life_exp.head()"
   ]
  },
  {
   "cell_type": "code",
   "execution_count": null,
   "metadata": {},
   "outputs": [],
   "source": [
    "# healthy_life_exp_rec = pd.melt(healthy_life_exp_rec,\n",
    "#                       #id_vars=['country_region', 'name', 'measure_code', 'measure_label'],\n",
    "#                       value_vars=['2000','2001', '2002', '2003', '2004', '2005', '2006', '2007', '2008', '2009', '2010', '2011', '2012', '2013', '2014', '2015', '2016', '2017', '2018', '2019', '2020', '2021', '2022'],\n",
    "#                       var_name='year',\n",
    "#                       value_name='health_life_exp (at birth)'\n",
    "#                       )"
   ]
  },
  {
   "cell_type": "code",
   "execution_count": null,
   "metadata": {},
   "outputs": [],
   "source": [
    "hfa_life_exp.info()"
   ]
  },
  {
   "cell_type": "code",
   "execution_count": null,
   "metadata": {},
   "outputs": [],
   "source": [
    "### changing years from object to numeric ###\n",
    "hfa_life_exp['year'] = hfa_life_exp['year'].apply(pd.to_numeric, errors='coerce')"
   ]
  },
  {
   "cell_type": "code",
   "execution_count": null,
   "metadata": {},
   "outputs": [],
   "source": [
    "hfa_life_exp.info()"
   ]
  },
  {
   "cell_type": "code",
   "execution_count": null,
   "metadata": {},
   "outputs": [],
   "source": [
    "import pandas as pd\n",
    "import matplotlib.pyplot as plt\n",
    "import seaborn as sns"
   ]
  },
  {
   "cell_type": "code",
   "execution_count": null,
   "metadata": {},
   "outputs": [],
   "source": [
    "hfa_life_exp.continent.value_counts()"
   ]
  },
  {
   "cell_type": "code",
   "execution_count": null,
   "metadata": {},
   "outputs": [],
   "source": [
    "# Let's start with basic\n",
    "sns.histplot(x = 'healthy_life_exp',data= hfa_life_exp); # we pass the dataframe "
   ]
  },
  {
   "cell_type": "code",
   "execution_count": null,
   "metadata": {},
   "outputs": [],
   "source": [
    "## Let's add all continents\n",
    "\n",
    "plt.figure(figsize=(8,4)) # using matplotlib we can change the size of the graph\n",
    "\n",
    "sns.histplot(x = 'healthy_life_exp', # hue:shading\n",
    "             hue = 'continent', bins=20, data= hfa_life_exp);"
   ]
  },
  {
   "cell_type": "code",
   "execution_count": null,
   "metadata": {},
   "outputs": [],
   "source": [
    "## Let's add all continent_regions\n",
    "\n",
    "plt.figure(figsize=(8,4)) # using matplotlib we can change the size of the graph\n",
    "\n",
    "sns.histplot(x = 'healthy_life_exp', # hue:shading\n",
    "             hue = 'continent_region', bins=20,  multiple=\"dodge\",data= hfa_life_exp);"
   ]
  },
  {
   "cell_type": "code",
   "execution_count": null,
   "metadata": {},
   "outputs": [],
   "source": []
  },
  {
   "cell_type": "code",
   "execution_count": null,
   "metadata": {},
   "outputs": [],
   "source": [
    "pisa_m.continent.value_counts()"
   ]
  },
  {
   "cell_type": "code",
   "execution_count": null,
   "metadata": {},
   "outputs": [],
   "source": [
    "import matplotlib.pyplot as plt\n",
    "\n",
    "# Set up the figure and axis\n",
    "fig, ax = plt.subplots(figsize=(12, 6))\n",
    "\n",
    "# Plot the histogram\n",
    "ax.hist(healthy_life_exp_rec['health_life_exp (at birth)'], bins=20, alpha=0.7)\n",
    "\n",
    "# Set labels and title\n",
    "ax.set_xlabel('Healthy Life Expectancy (at Birth)')\n",
    "ax.set_ylabel('Frequency')\n",
    "ax.set_title('Histogram of Healthy Life Expectancy (at Birth)')\n",
    "\n",
    "# Set years as x-axis ticks\n",
    "ax.set_xticks(range(54, 80, 2))  # Assuming the life expectancy range is between 50 and 90, with a step of 2\n",
    "\n",
    "# Set x-axis limit\n",
    "ax.set_xlim(left=50, right=90)\n",
    "\n",
    "# Show the plot\n",
    "plt.tight_layout()\n",
    "plt.show()\n"
   ]
  },
  {
   "cell_type": "code",
   "execution_count": null,
   "metadata": {},
   "outputs": [],
   "source": [
    "# show life expectancy per continent_region\n",
    "\n",
    "plt.subplots(figsize = (8,4))\n",
    "\n",
    "sns.boxplot(y = 'continent_region', x = 'healthy_life_exp', #order = ['Biscoe', 'Torgersen', 'Dream'],\n",
    "            data=hfa_life_exp);"
   ]
  },
  {
   "cell_type": "code",
   "execution_count": null,
   "metadata": {},
   "outputs": [],
   "source": [
    "plt.subplots(figsize=(8,4))\n",
    "\n",
    "sns.scatterplot(x='school_prop_kids_not_enr', y='healthy_life_exp', data=hfa_life_exp, hue='continent_region'\n",
    "               ).set(title='Do regions with higher school non-enrollment rates have lower life expectancy ?');"
   ]
  },
  {
   "cell_type": "code",
   "execution_count": null,
   "metadata": {},
   "outputs": [],
   "source": [
    "# scatterplot is the default type of the relplot\n",
    "\n",
    "sns.relplot(x='school_prop_kids_not_enr', y='healthy_life_exp', \n",
    "            kind='scatter', \n",
    "            hue='continent_region', data=hfa_life_exp);\n",
    "# relplot options are \"scatter\" or \"line\""
   ]
  },
  {
   "cell_type": "code",
   "execution_count": null,
   "metadata": {},
   "outputs": [],
   "source": [
    "# using the 'col' and 'row' arguments we can split our plot in multiple facets\n",
    "sns.relplot(x='school_prop_kids_not_enr', y='healthy_life_exp', kind='scatter', \n",
    "            hue='continent_region', \n",
    "            col = 'continent_region',\n",
    "            #row = 'sex',\n",
    "            data=hfa_life_exp);"
   ]
  },
  {
   "cell_type": "code",
   "execution_count": null,
   "metadata": {},
   "outputs": [],
   "source": [
    "# correlation matrix between these variables\n",
    "corr_columns=[\"school_prop_kids_not_enr\", \"healthy_life_exp\"]\n",
    "corr_mtrx=hfa_life_exp[corr_columns].corr()\n",
    "corr_mtrx"
   ]
  },
  {
   "cell_type": "code",
   "execution_count": null,
   "metadata": {},
   "outputs": [],
   "source": [
    "# draw the heatmap \n",
    "plt.figure(figsize = (14,12))\n",
    "ax = sns.heatmap(corr_mtrx, linewidths=.5, annot=True, cmap='coolwarm')"
   ]
  },
  {
   "cell_type": "markdown",
   "metadata": {},
   "source": [
    "### Pushing to Postgres ###"
   ]
  },
  {
   "cell_type": "code",
   "execution_count": null,
   "metadata": {},
   "outputs": [],
   "source": [
    "dataframes = [hfa_life_exp]\n",
    "\n",
    "\n",
    "table_names = ['hfa_subset_healthy_life_exp']\n",
    "\n",
    "for df, table_name in zip(dataframes, table_names):\n",
    "      sf.push_to_cloud(df, table_name)"
   ]
  },
  {
   "cell_type": "markdown",
   "metadata": {},
   "source": [
    "----\n"
   ]
  },
  {
   "cell_type": "markdown",
   "metadata": {},
   "source": [
    "### Adding Pisa data ###"
   ]
  },
  {
   "cell_type": "code",
   "execution_count": null,
   "metadata": {},
   "outputs": [],
   "source": [
    "pisa_r.info()"
   ]
  },
  {
   "cell_type": "code",
   "execution_count": null,
   "metadata": {},
   "outputs": [],
   "source": [
    "pisa_r.continent_region"
   ]
  },
  {
   "cell_type": "code",
   "execution_count": null,
   "metadata": {},
   "outputs": [],
   "source": [
    "plt.subplots(figsize = (8,4))\n",
    "\n",
    "sns.boxplot(y = 'continent_region', x = 'average_pisa_r', #order = ['Biscoe', 'Torgersen', 'Dream'],\n",
    "            data=pisa_r);"
   ]
  },
  {
   "cell_type": "code",
   "execution_count": null,
   "metadata": {},
   "outputs": [],
   "source": [
    "plt.subplots(figsize = (8,4))\n",
    "\n",
    "sns.boxplot(y = 'continent_region', x = 'average_pisa_m', #order = ['Biscoe', 'Torgersen', 'Dream'],\n",
    "            data=pisa_m);"
   ]
  },
  {
   "cell_type": "code",
   "execution_count": null,
   "metadata": {},
   "outputs": [],
   "source": [
    "plt.subplots(figsize = (8,4))\n",
    "\n",
    "sns.boxplot(y = 'continent_region', x = 'average_pisa_sc', #order = ['Biscoe', 'Torgersen', 'Dream'],\n",
    "            data=pisa_sc);"
   ]
  },
  {
   "cell_type": "code",
   "execution_count": null,
   "metadata": {},
   "outputs": [],
   "source": [
    "plt.figure(figsize=(10, 6))\n",
    "sns.regplot(x='school_prop_kids_not_enr', y='healthy_life_exp', data=hfa_life_exp)\n",
    "plt.title('Regression Line with Seaborn')\n",
    "plt.xlabel('X axis')\n",
    "plt.ylabel('Y axis')\n",
    "plt.show()"
   ]
  },
  {
   "cell_type": "code",
   "execution_count": null,
   "metadata": {},
   "outputs": [],
   "source": [
    "hfa_health_life_exp.isna().sum()"
   ]
  },
  {
   "cell_type": "markdown",
   "metadata": {},
   "source": [
    "----"
   ]
  },
  {
   "cell_type": "code",
   "execution_count": null,
   "metadata": {},
   "outputs": [],
   "source": [
    "hfa_health_life_exp_clean = hfa_health_life_exp.dropna()"
   ]
  },
  {
   "cell_type": "code",
   "execution_count": null,
   "metadata": {},
   "outputs": [],
   "source": [
    "hfa_health_life_exp_clean.reset_index(drop=True)"
   ]
  },
  {
   "cell_type": "code",
   "execution_count": null,
   "metadata": {},
   "outputs": [],
   "source": [
    "hfa_health_life_exp_clean.rename(columns={'HFA_618': 'school_prop_kids_not_enr', 'HFA_636': 'healthy_life_exp', 'years' : 'year'})"
   ]
  },
  {
   "cell_type": "code",
   "execution_count": null,
   "metadata": {},
   "outputs": [],
   "source": [
    "import statsmodels.api as sm"
   ]
  },
  {
   "cell_type": "code",
   "execution_count": null,
   "metadata": {},
   "outputs": [],
   "source": [
    "# Choose the independent variable, the predictor X\n",
    "X_1 = hfa_life_exp_clean[['school_prop_kids_not_enr']]\n",
    "# Define dependent variable (since it's always a single variable, we can use dot notation here)\n",
    "y_1 = hfa_life_exp_clean.healthy_life_exp\n",
    "# Since our statsmodel OLS model needs an adjustable intercept, we add a column of 1s to:\n",
    "X_1 = sm.add_constant(X_1)\n",
    "# create an OLS model\n",
    "our_model_1 = sm.OLS(y_1, X_1)\n",
    "# use the data to calculate the intercept and slope\n",
    "model_results_1 = our_model_1.fit()\n",
    "# return the output of the model\n",
    "model_results_1.summary() # summary contains eg. 'const' (intercept) and 'slope' of the regression equation.\n",
    "intercept, slope = model_results_1.params\n",
    "# Plotting the results of our model\n",
    "fig, ax = plt.subplots(figsize=(6, 4))\n",
    "x_1 = hfa_life_exp_clean[['school_prop_kids_not_enr']]\n",
    "y_1 = hfa_life_exp_clean.healthy_life_exp\n",
    "# add data points\n",
    "ax.scatter(x_1, y_1, alpha=0.5, color='orchid')\n",
    "fig.suptitle('Relationship between school non enrollment and healthy life expectancy')\n",
    "# plotting the regression line with the help of our calculated intercept and slope variables\n",
    "ax.plot(x_1, x_1*slope+intercept, '-', color='darkorchid', linewidth=2);\n",
    "#ax.set_ylabel(\"acceleration\");\n",
    "#ax.set_xlabel(\"weight\");"
   ]
  },
  {
   "cell_type": "code",
   "execution_count": null,
   "metadata": {},
   "outputs": [],
   "source": [
    "syb_edu.info()"
   ]
  },
  {
   "cell_type": "code",
   "execution_count": null,
   "metadata": {},
   "outputs": [],
   "source": [
    "syb_edu"
   ]
  },
  {
   "cell_type": "markdown",
   "metadata": {},
   "source": [
    "#### Merging dataframes ####"
   ]
  },
  {
   "cell_type": "markdown",
   "metadata": {},
   "source": []
  },
  {
   "cell_type": "code",
   "execution_count": null,
   "metadata": {},
   "outputs": [],
   "source": []
  },
  {
   "cell_type": "markdown",
   "metadata": {},
   "source": [
    "#### collection of codes not used anymore ####"
   ]
  },
  {
   "cell_type": "code",
   "execution_count": null,
   "metadata": {},
   "outputs": [],
   "source": [
    "#syb_edu.rename(columns={'indicator': 'school_enrollment'}, inplace=True)"
   ]
  },
  {
   "cell_type": "code",
   "execution_count": null,
   "metadata": {},
   "outputs": [],
   "source": [
    "#syb_edu.drop(['country_code', 'country'], axis=1, inplace=True)\n"
   ]
  },
  {
   "cell_type": "code",
   "execution_count": null,
   "metadata": {},
   "outputs": [],
   "source": [
    "#syb_edu.reset_index(inplace=True)"
   ]
  },
  {
   "cell_type": "code",
   "execution_count": null,
   "metadata": {},
   "outputs": [],
   "source": [
    "# #syb_edu_pivoted = pd.pivot(syb_edu,\n",
    "#                        columns='indicator',\n",
    "#                        index=['country', 'year'],\n",
    "#                        values='value'\n",
    "#                        )"
   ]
  },
  {
   "cell_type": "code",
   "execution_count": null,
   "metadata": {},
   "outputs": [],
   "source": [
    "#syb_edu_pivoted.head()"
   ]
  },
  {
   "cell_type": "code",
   "execution_count": null,
   "metadata": {},
   "outputs": [],
   "source": [
    "#syb_edu_pivoted.reset_index(inplace=True)"
   ]
  },
  {
   "cell_type": "code",
   "execution_count": null,
   "metadata": {},
   "outputs": [],
   "source": [
    "##syb_edu_pivoted.columns.name=None"
   ]
  },
  {
   "cell_type": "code",
   "execution_count": null,
   "metadata": {},
   "outputs": [],
   "source": [
    "#syb_edu_pivoted.drop(['country'], axis=1, inplace=True)"
   ]
  },
  {
   "cell_type": "code",
   "execution_count": null,
   "metadata": {},
   "outputs": [],
   "source": [
    "#syb_edu_pivoted"
   ]
  },
  {
   "cell_type": "code",
   "execution_count": null,
   "metadata": {},
   "outputs": [],
   "source": [
    "#syb_edu_pivoted.reset_index(inplace=True)"
   ]
  },
  {
   "cell_type": "code",
   "execution_count": null,
   "metadata": {},
   "outputs": [],
   "source": [
    "#sy_edu_hfa = pd.merge(syb_edu_pivoted, hfa_edu, on='year', how='left')"
   ]
  },
  {
   "cell_type": "code",
   "execution_count": null,
   "metadata": {},
   "outputs": [],
   "source": [
    "#sy_edu_hfa"
   ]
  },
  {
   "cell_type": "code",
   "execution_count": null,
   "metadata": {},
   "outputs": [],
   "source": [
    "##sys_hfa_pisa_m= pd.merge(sy_edu_hfa, pisa_m, on='year', how='left')"
   ]
  },
  {
   "cell_type": "code",
   "execution_count": null,
   "metadata": {},
   "outputs": [],
   "source": [
    "#sys_hfa_pisa_r= pd.merge(sys_hfa_pisa_m, pisa_r, on='year', how='left')"
   ]
  },
  {
   "cell_type": "code",
   "execution_count": null,
   "metadata": {},
   "outputs": [],
   "source": [
    "#all_edu= pd.merge(sys_hfa_pisa_r, pisa_sc, on='year', how='left')"
   ]
  },
  {
   "cell_type": "code",
   "execution_count": null,
   "metadata": {},
   "outputs": [],
   "source": [
    "#sys_hfa_pisa_r.shape"
   ]
  },
  {
   "cell_type": "code",
   "execution_count": null,
   "metadata": {},
   "outputs": [],
   "source": [
    "#sy_edu_hfa = pd.merge(syb_edu_pivoted, hfa_edu, pisa_m, pisa_r, pisa_sc, healthy_life_exp_rec, on='year', how='inner')"
   ]
  },
  {
   "cell_type": "code",
   "execution_count": null,
   "metadata": {},
   "outputs": [],
   "source": [
    "#edu_healthy_life_exp.reset_index(inplace=True)"
   ]
  },
  {
   "cell_type": "code",
   "execution_count": null,
   "metadata": {},
   "outputs": [],
   "source": [
    "#edu_healthy_life_exp['school_enrollment'].value_counts()"
   ]
  },
  {
   "cell_type": "code",
   "execution_count": null,
   "metadata": {},
   "outputs": [],
   "source": []
  }
 ],
 "metadata": {
  "kernelspec": {
   "display_name": "nf_sql",
   "language": "python",
   "name": "python3"
  },
  "language_info": {
   "codemirror_mode": {
    "name": "ipython",
    "version": 3
   },
   "file_extension": ".py",
   "mimetype": "text/x-python",
   "name": "python",
   "nbconvert_exporter": "python",
   "pygments_lexer": "ipython3",
   "version": "3.9.12"
  }
 },
 "nbformat": 4,
 "nbformat_minor": 2
}
