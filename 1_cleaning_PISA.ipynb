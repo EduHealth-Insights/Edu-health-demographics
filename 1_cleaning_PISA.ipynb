{
 "cells": [
  {
   "cell_type": "code",
   "execution_count": null,
   "metadata": {},
   "outputs": [],
   "source": [
    "import pandas as pd\n",
    "import numpy as np\n",
    "import python_functions_sp as pf\n",
    "import warnings\n",
    "warnings.filterwarnings(\"ignore\")\n",
    "import sqlalchemy\n",
    "import psycopg2\n",
    "import sql_functions_sp as sf"
   ]
  },
  {
   "cell_type": "markdown",
   "metadata": {},
   "source": [
    "# Import"
   ]
  },
  {
   "cell_type": "code",
   "execution_count": null,
   "metadata": {},
   "outputs": [],
   "source": [
    "PISA_m = pd.read_excel('data/2000-2022_m_r.xls', sheet_name='mathematics', header=11)\n",
    "PISA_r = pd.read_excel('data/2000-2022_m_r.xls', sheet_name='reading', header=11)\n",
    "PISA_sc = pd.read_excel('data/2000-2022_sc.xls', sheet_name='science', header=11)"
   ]
  },
  {
   "cell_type": "code",
   "execution_count": null,
   "metadata": {},
   "outputs": [],
   "source": [
    "PISA_m.head()"
   ]
  },
  {
   "cell_type": "code",
   "execution_count": null,
   "metadata": {},
   "outputs": [],
   "source": [
    "PISA_r.head()"
   ]
  },
  {
   "cell_type": "code",
   "execution_count": null,
   "metadata": {},
   "outputs": [],
   "source": [
    "PISA_sc.head()"
   ]
  },
  {
   "cell_type": "code",
   "execution_count": null,
   "metadata": {},
   "outputs": [],
   "source": [
    "PISA_m = PISA_m.drop('Unnamed: 0', axis=1)\n",
    "PISA_r = PISA_r.drop('Unnamed: 0', axis=1)\n",
    "PISA_sc = PISA_sc.drop('Unnamed: 0', axis=1)"
   ]
  },
  {
   "cell_type": "markdown",
   "metadata": {},
   "source": [
    "---"
   ]
  },
  {
   "cell_type": "markdown",
   "metadata": {},
   "source": [
    "# Put column names in lower case, snake case and rename"
   ]
  },
  {
   "cell_type": "code",
   "execution_count": null,
   "metadata": {},
   "outputs": [],
   "source": [
    "dataframes = [PISA_m, PISA_r, PISA_sc]\n",
    "\n",
    "pf.columns_lower_snake_case(dataframes)"
   ]
  },
  {
   "cell_type": "code",
   "execution_count": null,
   "metadata": {},
   "outputs": [],
   "source": [
    "PISA_m.sample(5)"
   ]
  },
  {
   "cell_type": "code",
   "execution_count": null,
   "metadata": {},
   "outputs": [],
   "source": [
    "PISA_r.sample(5)"
   ]
  },
  {
   "cell_type": "code",
   "execution_count": null,
   "metadata": {},
   "outputs": [],
   "source": [
    "PISA_sc.sample(5)"
   ]
  },
  {
   "cell_type": "markdown",
   "metadata": {},
   "source": [
    "## Change the types for two columns and round the numbers"
   ]
  },
  {
   "cell_type": "code",
   "execution_count": null,
   "metadata": {},
   "outputs": [],
   "source": [
    "dataframes = [PISA_m, PISA_r, PISA_sc]\n",
    "\n",
    "for df in dataframes:\n",
    "    df['average'] = df['average'].apply(pd.to_numeric, errors='coerce')\n",
    "    df['average'] = df['average'].round(2)\n",
    "\n",
    "    df['standard_error'] = df['standard_error'].apply(pd.to_numeric, errors='coerce')\n",
    "    df['standard_error'] = df['standard_error'].round(2)"
   ]
  },
  {
   "cell_type": "code",
   "execution_count": null,
   "metadata": {},
   "outputs": [],
   "source": [
    "PISA_m.sample(5)"
   ]
  },
  {
   "cell_type": "code",
   "execution_count": null,
   "metadata": {},
   "outputs": [],
   "source": [
    "PISA_r.sample(5)"
   ]
  },
  {
   "cell_type": "code",
   "execution_count": null,
   "metadata": {},
   "outputs": [],
   "source": [
    "PISA_sc.sample(5)"
   ]
  },
  {
   "cell_type": "markdown",
   "metadata": {},
   "source": [
    "---"
   ]
  },
  {
   "cell_type": "markdown",
   "metadata": {},
   "source": [
    "# Exploratory Data Analysis - EDA\n",
    "- understand the data\n",
    "- drop unneeded columns\n",
    "- duplicates\n",
    "- missing values\n",
    "- descriptive statistics\n",
    "- extreme values / outliers"
   ]
  },
  {
   "cell_type": "code",
   "execution_count": null,
   "metadata": {},
   "outputs": [],
   "source": [
    "PISA_m.info()"
   ]
  },
  {
   "cell_type": "code",
   "execution_count": null,
   "metadata": {},
   "outputs": [],
   "source": [
    "PISA_r.info()"
   ]
  },
  {
   "cell_type": "code",
   "execution_count": null,
   "metadata": {},
   "outputs": [],
   "source": [
    "PISA_sc.info()"
   ]
  },
  {
   "cell_type": "markdown",
   "metadata": {},
   "source": [
    "## Check for duplicates"
   ]
  },
  {
   "cell_type": "code",
   "execution_count": null,
   "metadata": {},
   "outputs": [],
   "source": [
    "PISA_m.duplicated().value_counts()"
   ]
  },
  {
   "cell_type": "code",
   "execution_count": null,
   "metadata": {},
   "outputs": [],
   "source": [
    "PISA_r.duplicated().value_counts()"
   ]
  },
  {
   "cell_type": "code",
   "execution_count": null,
   "metadata": {},
   "outputs": [],
   "source": [
    "PISA_sc.duplicated().value_counts()"
   ]
  },
  {
   "cell_type": "markdown",
   "metadata": {},
   "source": [
    "## Check for missing values"
   ]
  },
  {
   "cell_type": "code",
   "execution_count": null,
   "metadata": {},
   "outputs": [],
   "source": [
    "PISA_m.isnull().sum()"
   ]
  },
  {
   "cell_type": "code",
   "execution_count": null,
   "metadata": {},
   "outputs": [],
   "source": [
    "PISA_r.isnull().sum()"
   ]
  },
  {
   "cell_type": "code",
   "execution_count": null,
   "metadata": {},
   "outputs": [],
   "source": [
    "PISA_sc.isnull().sum()"
   ]
  },
  {
   "cell_type": "code",
   "execution_count": null,
   "metadata": {},
   "outputs": [],
   "source": [
    "PISA_m = PISA_m.tail(-2)\n",
    "PISA_m = PISA_m.head(-6)\n",
    "\n",
    "PISA_r = PISA_r.tail(-2)\n",
    "PISA_r = PISA_r.head(-6)\n",
    "\n",
    "PISA_sc = PISA_sc.tail(-2)\n",
    "PISA_sc = PISA_sc.head(-6)"
   ]
  },
  {
   "cell_type": "code",
   "execution_count": null,
   "metadata": {},
   "outputs": [],
   "source": [
    "PISA_m"
   ]
  },
  {
   "cell_type": "code",
   "execution_count": null,
   "metadata": {},
   "outputs": [],
   "source": [
    "PISA_r"
   ]
  },
  {
   "cell_type": "code",
   "execution_count": null,
   "metadata": {},
   "outputs": [],
   "source": [
    "PISA_sc"
   ]
  },
  {
   "cell_type": "markdown",
   "metadata": {},
   "source": [
    "---"
   ]
  },
  {
   "cell_type": "markdown",
   "metadata": {},
   "source": [
    "## Change format of year column to datetime"
   ]
  },
  {
   "cell_type": "code",
   "execution_count": null,
   "metadata": {},
   "outputs": [],
   "source": [
    "PISA_r.info()"
   ]
  },
  {
   "cell_type": "code",
   "execution_count": null,
   "metadata": {},
   "outputs": [],
   "source": [
    "pf.year_to_int(PISA_m)\n",
    "pf.year_to_int(PISA_r)\n",
    "pf.year_to_int(PISA_sc)"
   ]
  },
  {
   "cell_type": "code",
   "execution_count": null,
   "metadata": {},
   "outputs": [],
   "source": [
    "print(PISA_m.info())\n",
    "print(PISA_r.info())\n",
    "print(PISA_sc.info())"
   ]
  },
  {
   "cell_type": "markdown",
   "metadata": {},
   "source": [
    "---"
   ]
  },
  {
   "cell_type": "markdown",
   "metadata": {},
   "source": [
    "## Do some descriptive statistics"
   ]
  },
  {
   "cell_type": "code",
   "execution_count": null,
   "metadata": {},
   "outputs": [],
   "source": [
    "PISA_m.describe()"
   ]
  },
  {
   "cell_type": "code",
   "execution_count": null,
   "metadata": {},
   "outputs": [],
   "source": [
    "PISA_r.describe()"
   ]
  },
  {
   "cell_type": "code",
   "execution_count": null,
   "metadata": {},
   "outputs": [],
   "source": [
    "PISA_sc.describe()"
   ]
  },
  {
   "cell_type": "markdown",
   "metadata": {},
   "source": [
    "---"
   ]
  },
  {
   "cell_type": "markdown",
   "metadata": {},
   "source": [
    "# Create new DataFrames, for each subject and year one DataFrame"
   ]
  },
  {
   "cell_type": "code",
   "execution_count": null,
   "metadata": {},
   "outputs": [],
   "source": [
    "years = [2000, 2003, 2006, 2009, 2012, 2015, 2018, 2022]\n",
    "\n",
    "# Create a new list to safe the new DataFrames\n",
    "new_dataframes = []\n",
    "\n",
    "# Iterate over every year\n",
    "for year in years:\n",
    "    # Filter the row for every DataFrame for each year\n",
    "    PISA_m_year = PISA_m[PISA_m['year'] == year].copy()\n",
    "    PISA_r_year = PISA_r[PISA_r['year'] == year].copy()\n",
    "    PISA_sc_year = PISA_sc[PISA_sc['year'] == year].copy()\n",
    "    \n",
    "    # Add the new DataFrames to the list\n",
    "    new_dataframes.extend([PISA_m_year, PISA_r_year, PISA_sc_year])\n",
    "\n",
    "# Save the newly created DataFrames in new Variables\n",
    "PISA_m_2000, PISA_r_2000, PISA_sc_2000 = new_dataframes[:3]\n",
    "PISA_m_2003, PISA_r_2003, PISA_sc_2003 = new_dataframes[3:6]\n",
    "PISA_m_2006, PISA_r_2006, PISA_sc_2006 = new_dataframes[6:9]\n",
    "PISA_m_2009, PISA_r_2009, PISA_sc_2009 = new_dataframes[9:12]\n",
    "PISA_m_2012, PISA_r_2012, PISA_sc_2012 = new_dataframes[12:15]\n",
    "PISA_m_2015, PISA_r_2015, PISA_sc_2015 = new_dataframes[15:18]\n",
    "PISA_m_2018, PISA_r_2018, PISA_sc_2018 = new_dataframes[18:21]\n",
    "PISA_m_2022, PISA_r_2022, PISA_sc_2022 = new_dataframes[21:]"
   ]
  },
  {
   "cell_type": "code",
   "execution_count": null,
   "metadata": {},
   "outputs": [],
   "source": [
    "dataframes = [PISA_m_2000, PISA_r_2000, PISA_sc_2000,\n",
    "              PISA_m_2003, PISA_r_2003, PISA_sc_2003,\n",
    "              PISA_m_2006, PISA_r_2006, PISA_sc_2006,\n",
    "              PISA_m_2009, PISA_r_2009, PISA_sc_2009,\n",
    "              PISA_m_2012, PISA_r_2012, PISA_sc_2012,\n",
    "              PISA_m_2015, PISA_r_2015, PISA_sc_2015,\n",
    "              PISA_m_2018, PISA_r_2018, PISA_sc_2018,\n",
    "              PISA_m_2022, PISA_r_2022, PISA_sc_2022]\n",
    "\n",
    "for df in dataframes:\n",
    "    df.reset_index(inplace=True, drop=True)"
   ]
  },
  {
   "cell_type": "code",
   "execution_count": null,
   "metadata": {},
   "outputs": [],
   "source": [
    "PISA_m_2000"
   ]
  },
  {
   "cell_type": "markdown",
   "metadata": {},
   "source": [
    "## Check that only one year is saved in each DataFrame"
   ]
  },
  {
   "cell_type": "code",
   "execution_count": null,
   "metadata": {},
   "outputs": [],
   "source": [
    "print(PISA_m_2000['year'].unique(), \n",
    "      PISA_m_2003['year'].unique(), \n",
    "      PISA_m_2006['year'].unique(), \n",
    "      PISA_m_2009['year'].unique(), \n",
    "      PISA_m_2012['year'].unique(), \n",
    "      PISA_m_2015['year'].unique(), \n",
    "      PISA_m_2018['year'].unique(), \n",
    "      PISA_m_2022['year'].unique())"
   ]
  },
  {
   "cell_type": "code",
   "execution_count": null,
   "metadata": {},
   "outputs": [],
   "source": [
    "print(PISA_r_2000['year'].unique(),\n",
    "    PISA_r_2003['year'].unique(),\n",
    "    PISA_r_2006['year'].unique(),\n",
    "    PISA_r_2009['year'].unique(),\n",
    "    PISA_r_2012['year'].unique(),\n",
    "    PISA_r_2015['year'].unique(),\n",
    "    PISA_r_2018['year'].unique(),\n",
    "    PISA_r_2022['year'].unique())"
   ]
  },
  {
   "cell_type": "code",
   "execution_count": null,
   "metadata": {},
   "outputs": [],
   "source": [
    "print(PISA_sc_2000['year'].unique(),\n",
    "    PISA_sc_2003['year'].unique(),\n",
    "    PISA_sc_2006['year'].unique(),\n",
    "    PISA_sc_2009['year'].unique(),\n",
    "    PISA_sc_2012['year'].unique(),\n",
    "    PISA_sc_2015['year'].unique(),\n",
    "    PISA_sc_2018['year'].unique(),\n",
    "    PISA_sc_2022['year'].unique())"
   ]
  },
  {
   "cell_type": "markdown",
   "metadata": {},
   "source": [
    "---"
   ]
  },
  {
   "cell_type": "markdown",
   "metadata": {},
   "source": [
    "# Save the DataFrames (pisa_x)\n",
    "## Export tables to database"
   ]
  },
  {
   "cell_type": "code",
   "execution_count": null,
   "metadata": {},
   "outputs": [],
   "source": [
    "sf.get_engine()"
   ]
  },
  {
   "cell_type": "code",
   "execution_count": null,
   "metadata": {},
   "outputs": [],
   "source": [
    "# dataframes = [PISA_m_2000, PISA_r_2000, PISA_sc_2000,\n",
    "#               PISA_m_2003, PISA_r_2003, PISA_sc_2003,\n",
    "#               PISA_m_2006, PISA_r_2006, PISA_sc_2006,\n",
    "#               PISA_m_2009, PISA_r_2009, PISA_sc_2009,\n",
    "#               PISA_m_2012, PISA_r_2012, PISA_sc_2012,\n",
    "#               PISA_m_2015, PISA_r_2015, PISA_sc_2015,\n",
    "#               PISA_m_2018, PISA_r_2018, PISA_sc_2018,\n",
    "#               PISA_m_2022, PISA_r_2022, PISA_sc_2022]\n",
    "\n",
    "# table_names = ['pisa_m_2000', 'pisa_r_2000', 'pisa_sc_2000',\n",
    "#               'pisa_m_2003', 'pisa_r_2003', 'pisa_sc_2003',\n",
    "#               'pisa_m_2006', 'pisa_r_2006', 'pisa_sc_2006',\n",
    "#               'pisa_m_2009', 'pisa_r_2009', 'pisa_sc_2009',\n",
    "#               'pisa_m_2012', 'pisa_r_2012', 'pisa_sc_2012',\n",
    "#               'pisa_m_2015', 'pisa_r_2015', 'pisa_sc_2015',\n",
    "#               'pisa_m_2018', 'pisa_r_2018', 'pisa_sc_2018',\n",
    "#               'pisa_m_2022', 'pisa_r_2022', 'pisa_sc_2022']\n",
    "\n",
    "# for df, table_name in zip(dataframes, table_names):\n",
    "#     sf.push_to_cloud(df, table_name)"
   ]
  },
  {
   "cell_type": "markdown",
   "metadata": {},
   "source": [
    "One can also create a dictionary to name the DataFrames - but pay attention: the DataFrame has to be the value and can't be the key!"
   ]
  },
  {
   "cell_type": "code",
   "execution_count": null,
   "metadata": {},
   "outputs": [],
   "source": [
    "test = {'name1': 'df1',\n",
    "        'name2': 'df2',\n",
    "        'name3': 'df3'}\n",
    "\n",
    "for table_name, df in test.items():\n",
    "    testi = f'{table_name}_pivot'\n",
    "    print(df, testi)"
   ]
  },
  {
   "cell_type": "code",
   "execution_count": null,
   "metadata": {},
   "outputs": [],
   "source": [
    "# sf.push_to_cloud(PISA_m, 'pisa_m')\n",
    "# sf.push_to_cloud(PISA_r, 'pisa_r')\n",
    "# sf.push_to_cloud(PISA_sc, 'pisa_sc')"
   ]
  },
  {
   "cell_type": "markdown",
   "metadata": {},
   "source": [
    "## Store DataFrames"
   ]
  },
  {
   "cell_type": "code",
   "execution_count": null,
   "metadata": {},
   "outputs": [],
   "source": [
    "pisa_m = PISA_m\n",
    "pisa_r = PISA_r\n",
    "pisa_sc = PISA_sc\n",
    "\n",
    "%store pisa_m\n",
    "%store pisa_r\n",
    "%store pisa_sc"
   ]
  },
  {
   "cell_type": "markdown",
   "metadata": {},
   "source": [
    "---"
   ]
  },
  {
   "cell_type": "markdown",
   "metadata": {},
   "source": [
    "-- Extra Credit: Change the types for two columns and round the numbers (doppel gemoppelt - we did it at the beginning)"
   ]
  },
  {
   "cell_type": "code",
   "execution_count": null,
   "metadata": {},
   "outputs": [],
   "source": [
    "# dataframes = [PISA_m_2000, PISA_r_2000, PISA_sc_2000,\n",
    "#               PISA_m_2003, PISA_r_2003, PISA_sc_2003,\n",
    "#               PISA_m_2006, PISA_r_2006, PISA_sc_2006,\n",
    "#               PISA_m_2009, PISA_r_2009, PISA_sc_2009,\n",
    "#               PISA_m_2012, PISA_r_2012, PISA_sc_2012,\n",
    "#               PISA_m_2015, PISA_r_2015, PISA_sc_2015,\n",
    "#               PISA_m_2018, PISA_r_2018, PISA_sc_2018,\n",
    "#               PISA_m_2022, PISA_r_2022, PISA_sc_2022]\n",
    "\n",
    "# for df in dataframes:\n",
    "#     df['average'] = df['average'].apply(pd.to_numeric, errors='coerce')\n",
    "#     df['average'] = df['average'].round(2)\n",
    "\n",
    "#     df['standard_error'] = df['standard_error'].apply(pd.to_numeric, errors='coerce')\n",
    "#     df['standard_error'] = df['standard_error'].round(2)"
   ]
  },
  {
   "cell_type": "markdown",
   "metadata": {},
   "source": [
    "Two other ways to do it:"
   ]
  },
  {
   "cell_type": "code",
   "execution_count": null,
   "metadata": {},
   "outputs": [],
   "source": [
    "# dataframes = [PISA_m_2000, PISA_r_2000, PISA_sc_2000,\n",
    "#               PISA_m_2003, PISA_r_2003, PISA_sc_2003,\n",
    "#               PISA_m_2006, PISA_r_2006, PISA_sc_2006,\n",
    "#               PISA_m_2009, PISA_r_2009, PISA_sc_2009,\n",
    "#               PISA_m_2012, PISA_r_2012, PISA_sc_2012,\n",
    "#               PISA_m_2015, PISA_r_2015, PISA_sc_2015,\n",
    "#               PISA_m_2018, PISA_r_2018, PISA_sc_2018,\n",
    "#               PISA_m_2022, PISA_r_2022, PISA_sc_2022]\n",
    "\n",
    "# for df in dataframes:\n",
    "#     df['average'] = df['average'].astype(str).replace({'—': np.nan, '‡': np.nan, '†': np.nan})\n",
    "#     df['average'] = df['average'].astype(float)\n",
    "#     df['average'] = df['average'].round(2)\n",
    "\n",
    "#     df['standard_error'] = df['standard_error'].astype(str).replace({'—': np.nan, '‡': np.nan, '†': np.nan})\n",
    "#     df['standard_error'] = df['standard_error'].astype(float)\n",
    "#     df['standard_error'] = df['standard_error'].round(2)"
   ]
  },
  {
   "cell_type": "code",
   "execution_count": null,
   "metadata": {},
   "outputs": [],
   "source": [
    "# df['average'] = df['average'].astype('str')\n",
    "# df['average'] = df['average'].str.replace('-', '0')\n",
    "# df['average'] = df['average'].astype"
   ]
  },
  {
   "cell_type": "markdown",
   "metadata": {},
   "source": [
    "---\n",
    "---"
   ]
  },
  {
   "cell_type": "markdown",
   "metadata": {},
   "source": [
    "# Playground"
   ]
  },
  {
   "cell_type": "code",
   "execution_count": null,
   "metadata": {},
   "outputs": [],
   "source": [
    "PISA_m['year'].unique()"
   ]
  },
  {
   "cell_type": "code",
   "execution_count": null,
   "metadata": {},
   "outputs": [],
   "source": [
    "PISA_m['jurisdiction'].unique()"
   ]
  },
  {
   "cell_type": "markdown",
   "metadata": {},
   "source": [
    "---\n",
    "---"
   ]
  },
  {
   "cell_type": "code",
   "execution_count": null,
   "metadata": {},
   "outputs": [],
   "source": [
    "import python_functions_sp as pfsp"
   ]
  },
  {
   "cell_type": "markdown",
   "metadata": {},
   "source": [
    "# Splitting the countries into the continents\n",
    "- northern america\n",
    "- southern america\n",
    "- europe (4 parts for further analysis)\n",
    "- africa\n",
    "- asia\n",
    "- pacific\n",
    "- middle-east"
   ]
  },
  {
   "cell_type": "markdown",
   "metadata": {},
   "source": [
    "Creating a copy with a meaningful name:"
   ]
  },
  {
   "cell_type": "code",
   "execution_count": null,
   "metadata": {},
   "outputs": [],
   "source": [
    "PISA_m_continents = PISA_m.copy()\n",
    "PISA_r_continents = PISA_r.copy()\n",
    "PISA_sc_continents = PISA_sc.copy()"
   ]
  },
  {
   "cell_type": "code",
   "execution_count": null,
   "metadata": {},
   "outputs": [],
   "source": [
    "PISA_m_continents.rename(columns={'jurisdiction': 'country'}, inplace=True)\n",
    "PISA_r_continents.rename(columns={'jurisdiction': 'country'}, inplace=True)\n",
    "PISA_sc_continents.rename(columns={'jurisdiction': 'country'}, inplace=True)"
   ]
  },
  {
   "cell_type": "markdown",
   "metadata": {},
   "source": [
    "Check if it worked:"
   ]
  },
  {
   "cell_type": "code",
   "execution_count": null,
   "metadata": {},
   "outputs": [],
   "source": [
    "PISA_m_continents.head()"
   ]
  },
  {
   "cell_type": "code",
   "execution_count": null,
   "metadata": {},
   "outputs": [],
   "source": [
    "PISA_r_continents.head()"
   ]
  },
  {
   "cell_type": "code",
   "execution_count": null,
   "metadata": {},
   "outputs": [],
   "source": [
    "PISA_sc_continents.head()"
   ]
  },
  {
   "cell_type": "markdown",
   "metadata": {},
   "source": [
    "Assigning the continent to the countries in a new created column:"
   ]
  },
  {
   "cell_type": "code",
   "execution_count": null,
   "metadata": {},
   "outputs": [],
   "source": [
    "PISA_m_continents['continent'] = PISA_m_continents['country'].apply(pfsp.assign_continent)\n",
    "PISA_r_continents['continent'] = PISA_r_continents['country'].apply(pfsp.assign_continent)\n",
    "PISA_sc_continents['continent'] = PISA_sc_continents['country'].apply(pfsp.assign_continent)"
   ]
  },
  {
   "cell_type": "markdown",
   "metadata": {},
   "source": [
    "Assigning the four parts of europe to the countries in another new created column:"
   ]
  },
  {
   "cell_type": "code",
   "execution_count": null,
   "metadata": {},
   "outputs": [],
   "source": [
    "PISA_m_continents['continent_region'] = PISA_m_continents['country'].apply(pfsp.assign_europe_region)\n",
    "PISA_r_continents['continent_region'] = PISA_r_continents['country'].apply(pfsp.assign_europe_region)\n",
    "PISA_sc_continents['continent_region'] = PISA_sc_continents['country'].apply(pfsp.assign_europe_region)"
   ]
  },
  {
   "cell_type": "markdown",
   "metadata": {},
   "source": [
    "Changing the order of the columns:"
   ]
  },
  {
   "cell_type": "code",
   "execution_count": null,
   "metadata": {},
   "outputs": [],
   "source": [
    "columns = ['country', 'continent', 'continent_region', 'year', 'average', 'standard_error']\n",
    "\n",
    "PISA_m_continents = PISA_m_continents[columns]\n",
    "PISA_r_continents = PISA_r_continents[columns]\n",
    "PISA_sc_continents = PISA_sc_continents[columns]"
   ]
  },
  {
   "cell_type": "markdown",
   "metadata": {},
   "source": [
    "Checking the result:"
   ]
  },
  {
   "cell_type": "code",
   "execution_count": null,
   "metadata": {},
   "outputs": [],
   "source": [
    "PISA_m_continents.sample(10)"
   ]
  },
  {
   "cell_type": "code",
   "execution_count": null,
   "metadata": {},
   "outputs": [],
   "source": [
    "PISA_r_continents.sample(10)"
   ]
  },
  {
   "cell_type": "code",
   "execution_count": null,
   "metadata": {},
   "outputs": [],
   "source": [
    "PISA_sc_continents.sample(10)"
   ]
  },
  {
   "cell_type": "markdown",
   "metadata": {},
   "source": [
    "Check if some countries couldn't be assigned to a continent:"
   ]
  },
  {
   "cell_type": "code",
   "execution_count": null,
   "metadata": {},
   "outputs": [],
   "source": [
    "PISA_m_continents[PISA_m_continents['continent'] == 'Other']['country'].unique()"
   ]
  },
  {
   "cell_type": "code",
   "execution_count": null,
   "metadata": {},
   "outputs": [],
   "source": [
    "PISA_m_continents[PISA_m_continents['continent_region'] == 'Other']['country'].unique()"
   ]
  },
  {
   "cell_type": "code",
   "execution_count": null,
   "metadata": {},
   "outputs": [],
   "source": [
    "PISA_r_continents[PISA_r_continents['continent'] == 'Other']['country'].unique()"
   ]
  },
  {
   "cell_type": "code",
   "execution_count": null,
   "metadata": {},
   "outputs": [],
   "source": [
    "PISA_r_continents[PISA_r_continents['continent_region'] == 'Other']['country'].unique()"
   ]
  },
  {
   "cell_type": "code",
   "execution_count": null,
   "metadata": {},
   "outputs": [],
   "source": [
    "PISA_sc_continents[PISA_sc_continents['continent'] == 'Other']['country'].unique()"
   ]
  },
  {
   "cell_type": "code",
   "execution_count": null,
   "metadata": {},
   "outputs": [],
   "source": [
    "PISA_sc_continents[PISA_sc_continents['continent_region'] == 'Other']['country'].unique()"
   ]
  },
  {
   "cell_type": "markdown",
   "metadata": {},
   "source": [
    "---"
   ]
  },
  {
   "cell_type": "markdown",
   "metadata": {},
   "source": [
    "Check if the new created columns match:"
   ]
  },
  {
   "cell_type": "code",
   "execution_count": null,
   "metadata": {},
   "outputs": [],
   "source": [
    "pfsp.check_values(PISA_m_continents)\n",
    "pfsp.check_values(PISA_r_continents)\n",
    "pfsp.check_values(PISA_sc_continents)"
   ]
  },
  {
   "cell_type": "markdown",
   "metadata": {},
   "source": [
    "---"
   ]
  },
  {
   "cell_type": "markdown",
   "metadata": {},
   "source": [
    "# Saving pisa_x_continents"
   ]
  },
  {
   "cell_type": "markdown",
   "metadata": {},
   "source": [
    "## Export tables to database"
   ]
  },
  {
   "cell_type": "code",
   "execution_count": null,
   "metadata": {},
   "outputs": [],
   "source": [
    "# sf.push_to_cloud(PISA_m_continents, 'pisa_m_continents')\n",
    "# sf.push_to_cloud(PISA_r_continents, 'pisa_r_continents')\n",
    "# sf.push_to_cloud(PISA_sc_continents, 'pisa_sc_continents')"
   ]
  },
  {
   "cell_type": "markdown",
   "metadata": {},
   "source": [
    "## Storing the DataFrames"
   ]
  },
  {
   "cell_type": "code",
   "execution_count": null,
   "metadata": {},
   "outputs": [],
   "source": [
    "pisa_m_continents = PISA_m_continents\n",
    "pisa_r_continents = PISA_r_continents\n",
    "pisa_sc_continents = PISA_sc_continents\n",
    "\n",
    "%store pisa_m_continents\n",
    "%store pisa_r_continents\n",
    "%store pisa_sc_continents"
   ]
  },
  {
   "cell_type": "markdown",
   "metadata": {},
   "source": [
    "---\n",
    "---"
   ]
  },
  {
   "cell_type": "code",
   "execution_count": null,
   "metadata": {},
   "outputs": [],
   "source": [
    "PISA_m_continents.sample(10)"
   ]
  },
  {
   "cell_type": "code",
   "execution_count": null,
   "metadata": {},
   "outputs": [],
   "source": [
    "PISA_r_continents.sample(10)"
   ]
  },
  {
   "cell_type": "code",
   "execution_count": null,
   "metadata": {},
   "outputs": [],
   "source": [
    "PISA_sc_continents.sample(10)"
   ]
  }
 ],
 "metadata": {
  "kernelspec": {
   "display_name": "nf_base",
   "language": "python",
   "name": "python3"
  },
  "language_info": {
   "codemirror_mode": {
    "name": "ipython",
    "version": 3
   },
   "file_extension": ".py",
   "mimetype": "text/x-python",
   "name": "python",
   "nbconvert_exporter": "python",
   "pygments_lexer": "ipython3",
   "version": "3.9.7"
  }
 },
 "nbformat": 4,
 "nbformat_minor": 2
}
