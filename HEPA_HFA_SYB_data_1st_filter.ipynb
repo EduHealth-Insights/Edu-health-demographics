{
 "cells": [
  {
   "cell_type": "code",
   "execution_count": null,
   "metadata": {},
   "outputs": [],
   "source": [
    "import pandas as pd\n",
    "import warnings\n",
    "warnings.simplefilter(action='ignore', category=FutureWarning)\n",
    "warnings.filterwarnings(\"ignore\")\n"
   ]
  },
  {
   "cell_type": "markdown",
   "metadata": {},
   "source": [
    "https://apps.who.int/nha/database/Select/Indicators/en  \n",
    "GLOBAL HEALTH EXPENDITURE DATABASE"
   ]
  },
  {
   "cell_type": "code",
   "execution_count": null,
   "metadata": {},
   "outputs": [],
   "source": [
    "df = pd.read_excel('data/GHED Indicator List (2023).xlsx')"
   ]
  },
  {
   "cell_type": "code",
   "execution_count": null,
   "metadata": {},
   "outputs": [],
   "source": [
    "df.head(3)"
   ]
  },
  {
   "cell_type": "code",
   "execution_count": null,
   "metadata": {},
   "outputs": [],
   "source": [
    "df.sample(10)"
   ]
  },
  {
   "cell_type": "code",
   "execution_count": null,
   "metadata": {},
   "outputs": [],
   "source": [
    "df['Unnamed: 1'].unique()"
   ]
  },
  {
   "cell_type": "code",
   "execution_count": null,
   "metadata": {},
   "outputs": [],
   "source": [
    "# rows to delete\n",
    "rows = ['FINANCING SOURCES',\n",
    "       'FINANCING SCHEMES', 'PRIMARY HEALTH CARE',\n",
    "       'DISEASES AND CONDITIONS', 'COVID', 'MACRO']\n",
    "\n",
    "# Filter the DataFrame\n",
    "df_f1 = df[~df['Unnamed: 1'].str.contains('|'.join(rows), na=False)]"
   ]
  },
  {
   "cell_type": "code",
   "execution_count": null,
   "metadata": {},
   "outputs": [],
   "source": [
    "df_f1.columns"
   ]
  },
  {
   "cell_type": "code",
   "execution_count": null,
   "metadata": {},
   "outputs": [],
   "source": [
    "# Set the first row as header\n",
    "df_f1.columns = df_f1.iloc[0]\n",
    "df_f1 = df_f1[1:].reset_index(drop=True)\n",
    "\n",
    "df_f1.columns"
   ]
  },
  {
   "cell_type": "code",
   "execution_count": null,
   "metadata": {},
   "outputs": [],
   "source": [
    "# Columns to delete\n",
    "columns_to_delete = ['INDICATOR CODE', 'METHOD OF MEASUREMENT', 'INDICATOR GROUP', \n",
    "                     'INDICATOR FORMULA',\n",
    "                     'Indicator Name - FRENCH', 'Indicator Name - SPANISH',\n",
    "                     'Indicator Name - RUSSIAN', 'Indicator Name - ARABIC',\n",
    "                     'Indicator Name - CHINESE']\n",
    "\n",
    "# Delete the specified columns\n",
    "df_f2 = df_f1.drop(columns=columns_to_delete)\n"
   ]
  },
  {
   "cell_type": "code",
   "execution_count": null,
   "metadata": {},
   "outputs": [],
   "source": [
    "pd.set_option('display.max_colwidth', None)\n",
    "# pd.reset_option('display.max_colwidth')\n",
    "\n",
    "df_f2"
   ]
  },
  {
   "cell_type": "code",
   "execution_count": null,
   "metadata": {},
   "outputs": [],
   "source": [
    "# GHED 2000-2021 (everything) from WHO\n",
    "df1 = pd.read_excel('data/GHED_data.xlsx')"
   ]
  },
  {
   "cell_type": "code",
   "execution_count": null,
   "metadata": {},
   "outputs": [],
   "source": [
    "df1.head(3)"
   ]
  },
  {
   "cell_type": "code",
   "execution_count": null,
   "metadata": {},
   "outputs": [],
   "source": [
    "df1.shape"
   ]
  },
  {
   "cell_type": "code",
   "execution_count": null,
   "metadata": {},
   "outputs": [],
   "source": [
    "df1.sample(10)"
   ]
  },
  {
   "cell_type": "code",
   "execution_count": null,
   "metadata": {},
   "outputs": [],
   "source": [
    "df1.columns"
   ]
  },
  {
   "cell_type": "code",
   "execution_count": null,
   "metadata": {},
   "outputs": [],
   "source": [
    "# List of columns to keep\n",
    "columns_to_keep = ['country', 'code', 'region', 'income', 'year', 'che_gdp', 'che_pc_usd']\n",
    "\n",
    "# Delete all columns except the specified ones\n",
    "df1_f1 = df1[columns_to_keep]"
   ]
  },
  {
   "cell_type": "code",
   "execution_count": null,
   "metadata": {},
   "outputs": [],
   "source": [
    "df1_f1.columns"
   ]
  },
  {
   "cell_type": "code",
   "execution_count": null,
   "metadata": {},
   "outputs": [],
   "source": [
    "df1_f1['year'].unique()"
   ]
  },
  {
   "cell_type": "code",
   "execution_count": null,
   "metadata": {},
   "outputs": [],
   "source": [
    "df1_f1.dtypes"
   ]
  },
  {
   "cell_type": "code",
   "execution_count": null,
   "metadata": {},
   "outputs": [],
   "source": [
    "# change 'year' to date_time format, round che_gdp\n",
    "df1_f1['year'] = pd.to_datetime(df1_f1['year'], format='%Y')\n",
    "df1_f1['che_gdp'] = df1_f1['che_gdp'].round(2)\n",
    "\n",
    "# Format 'che' to display without exponential notation and round it\n",
    "#pd.options.display.float_format = '{:.2f}'.format\n",
    "df1_f1.loc[:, 'che_pc_usd'] = df1_f1['che_pc_usd'].round(2)"
   ]
  },
  {
   "cell_type": "code",
   "execution_count": null,
   "metadata": {},
   "outputs": [],
   "source": [
    "df1_f1['year'] = df1_f1['year'].dt.year"
   ]
  },
  {
   "cell_type": "code",
   "execution_count": null,
   "metadata": {},
   "outputs": [],
   "source": [
    "df1_f1"
   ]
  },
  {
   "cell_type": "markdown",
   "metadata": {},
   "source": []
  },
  {
   "cell_type": "markdown",
   "metadata": {},
   "source": [
    "https://gateway.euro.who.int/en/datasets/hepa/Health  \n",
    "Health-Enhancing Physical Activity"
   ]
  },
  {
   "cell_type": "markdown",
   "metadata": {},
   "source": [
    "HEPA_1: Recommendations on physical activity  \n",
    "HEPA_2: Levels of physical activity in adults  \n",
    "HEPA_3: Levels of physical activity in children and adolescents  \n",
    "HEPA_4: Coordination mechanism on HEPA promotion  \n",
    "HEPA_5: Funding for HEPA promotion  \n",
    "HEPA_6: Sports for All  \n",
    "HEPA_7: Sports Club for Health  \n",
    "HEPA_8: Access for socially disadvantaged groups  \n",
    "HEPA_9: Special target groups  \n",
    "HEPA_10: Surveillance of physical activity in health  \n",
    "HEPA_11: Counselling on physical activity  \n",
    "HEPA_12: Training of health professionals  \n",
    "HEPA_13: Physical education in schools  \n",
    "HEPA_14: Physical activity promotion in schools  \n",
    "HEPA_15: Training of physical education teachers  \n",
    "HEPA_16: Active travel to school  \n",
    "HEPA_17: Level of cycling and walking  \n",
    "HEPA_18: Infrastructures for leisure-time physical activity  \n",
    "HEPA_19: Active travel to work  \n",
    "HEPA_20: Physical activity at the workplace  \n",
    "HEPA_21: Community interventions for older adults  \n",
    "HEPA_22: Evaluation of HEPA policies  \n",
    "HEPA_23: Awareness campaign on physical activity  \n"
   ]
  },
  {
   "cell_type": "code",
   "execution_count": null,
   "metadata": {},
   "outputs": [],
   "source": [
    "df2 = pd.read_excel('data/HEPA Metadata.xlsx', sheet_name=5)\n",
    "df2.shape"
   ]
  },
  {
   "cell_type": "code",
   "execution_count": null,
   "metadata": {},
   "outputs": [],
   "source": [
    "pd.set_option('display.max_colwidth', None)\n",
    "# pd.reset_option('display.max_colwidth')"
   ]
  },
  {
   "cell_type": "code",
   "execution_count": null,
   "metadata": {},
   "outputs": [],
   "source": [
    "df2.tail(15)"
   ]
  },
  {
   "cell_type": "code",
   "execution_count": null,
   "metadata": {},
   "outputs": [],
   "source": [
    "df3 = pd.read_csv('data/HEPA Data (table).csv')"
   ]
  },
  {
   "cell_type": "code",
   "execution_count": null,
   "metadata": {},
   "outputs": [],
   "source": [
    "df3.shape"
   ]
  },
  {
   "cell_type": "code",
   "execution_count": null,
   "metadata": {},
   "outputs": [],
   "source": [
    "df3"
   ]
  },
  {
   "cell_type": "code",
   "execution_count": null,
   "metadata": {},
   "outputs": [],
   "source": [
    "df3.dtypes"
   ]
  },
  {
   "cell_type": "code",
   "execution_count": null,
   "metadata": {},
   "outputs": [],
   "source": [
    "# delete HEPA_24 rows\n",
    "\n",
    "df3_f1 = df3[~df3['Measure code'].str.contains('HEPA_24', na=False)]"
   ]
  },
  {
   "cell_type": "code",
   "execution_count": null,
   "metadata": {},
   "outputs": [],
   "source": [
    "df3_f1"
   ]
  },
  {
   "cell_type": "code",
   "execution_count": null,
   "metadata": {},
   "outputs": [],
   "source": [
    "df3_f1['YEAR'].unique()"
   ]
  },
  {
   "cell_type": "code",
   "execution_count": null,
   "metadata": {},
   "outputs": [],
   "source": []
  },
  {
   "cell_type": "markdown",
   "metadata": {},
   "source": [
    "  https://gateway.euro.who.int/en/datasets/european-health-for-all-database/  \n",
    "  European Health for All database (HFA-DB)"
   ]
  },
  {
   "cell_type": "code",
   "execution_count": null,
   "metadata": {},
   "outputs": [],
   "source": [
    "df4_1 = pd.read_excel('data/HFA Metadata.xlsx', sheet_name=1)\n",
    "df4_1.head(20)"
   ]
  },
  {
   "cell_type": "code",
   "execution_count": null,
   "metadata": {},
   "outputs": [],
   "source": [
    "df5 = pd.read_excel('data/HFA Metadata.xlsx', sheet_name=3)\n",
    "df5.head(30)"
   ]
  },
  {
   "cell_type": "code",
   "execution_count": null,
   "metadata": {},
   "outputs": [],
   "source": [
    "df5.shape"
   ]
  },
  {
   "cell_type": "code",
   "execution_count": null,
   "metadata": {},
   "outputs": [],
   "source": [
    "df6 = pd.read_csv('data/HFA Data (pivoted) part 1.csv', low_memory=False)\n",
    "df7 = pd.read_csv('data/HFA Data (pivoted) part 2.csv', low_memory=False)\n",
    "df8 = pd.read_csv('data/HFA Data (pivoted) part 3.csv', low_memory=False)\n",
    "print(df5.shape, df6.shape, df7.shape)"
   ]
  },
  {
   "cell_type": "code",
   "execution_count": null,
   "metadata": {},
   "outputs": [],
   "source": [
    "df6.sample(10)"
   ]
  },
  {
   "cell_type": "code",
   "execution_count": null,
   "metadata": {},
   "outputs": [],
   "source": [
    "# delete male-female and other rows to better see the data that's in there\n",
    "\n",
    "HFAp1_to_delete = ['HFA_2', 'HFA_3', 'HFA_11', 'HFA_12', 'HFA_14', 'HFA_15', \n",
    "                 'HFA_17', 'HFA_18', 'HFA_20', 'HFA_21', 'HFA_23', 'HFA_24', \n",
    "                 'HFA_25', 'HFA_28', 'HFA_31', 'HFA_32', 'HFA_34', 'HFA_35', \n",
    "                 'HFA_37', 'HFA_38', 'HFA_39', 'HFA_40', 'HFA_41', 'HFA_42', \n",
    "                 'HFA_44', 'HFA_45', 'HFA_46', 'HFA_47', 'HFA_48', 'HFA_48',\n",
    "                 'HFA_49', 'HFA_50', 'HFA_51', 'HFA_52', 'HFA_53', 'HFA_54', \n",
    "                 'HFA_55', 'HFA_56', 'HFA_57', 'HFA_58', 'HFA_59', 'HFA_60', \n",
    "                 'HFA_61', 'HFA_62', 'HFA_63', 'HFA_64', 'HFA_67', 'HFA_68', \n",
    "                 'HFA_69', 'HFA_70', 'HFA_71', 'HFA_72', 'HFA_73', 'HFA_74', \n",
    "                 'HFA_75', 'HFA_76', 'HFA_77', 'HFA_78', 'HFA_79', 'HFA_80',\n",
    "                 'HFA_81', 'HFA_82', 'HFA_83', 'HFA_84', 'HFA_85', 'HFA_86', \n",
    "                 'HFA_87', 'HFA_88', 'HFA_89', 'HFA_90', 'HFA_91', 'HFA_92', \n",
    "                 'HFA_93', 'HFA_94', 'HFA_95', 'HFA_96', 'HFA_97', 'HFA_98', \n",
    "                 'HFA_99', 'HFA_100', 'HFA_102', 'HFA_103', 'HFA_104', 'HFA_105', \n",
    "                 'HFA_106', 'HFA_107', 'HFA_108', 'HFA_109', 'HFA_110', 'HFA_111', \n",
    "                 'HFA_112', 'HFA_113', 'HFA_114', 'HFA_115', 'HFA_117', 'HFA_118', \n",
    "                 'HFA_119', 'HFA_120', 'HFA_121', 'HFA_122', 'HFA_123', 'HFA_124', \n",
    "                 'HFA_125', 'HFA_126', 'HFA_127', 'HFA_129', 'HFA_130', 'HFA_131', \n",
    "                 'HFA_132', 'HFA_133', 'HFA_134', 'HFA_135', 'HFA_136', 'HFA_137',  \n",
    "                 'HFA_138', 'HFA_139', 'HFA_140', 'HFA_141', 'HFA_142', 'HFA_143', \n",
    "                 'HFA_144', 'HFA_145', 'HFA_146', 'HFA_147', 'HFA_148', 'HFA_149', \n",
    "                 'HFA_150', 'HFA_151', 'HFA_152', 'HFA_153', 'HFA_154', 'HFA_155', \n",
    "                 'HFA_156', 'HFA_157', 'HFA_158', 'HFA_159', 'HFA_160', 'HFA_161', \n",
    "                 'HFA_162', 'HFA_163', 'HFA_164', 'HFA_165', 'HFA_166', 'HFA_168', \n",
    "                 'HFA_169', 'HFA_170', 'HFA_171', 'HFA_172', 'HFA_173', 'HFA_174', \n",
    "                 'HFA_175', 'HFA_177', 'HFA_178', 'HFA_179', 'HFA_180', 'HFA_181', \n",
    "                 'HFA_182', 'HFA_183', 'HFA_184', 'HFA_186', 'HFA_187', 'HFA_188', \n",
    "                 'HFA_189', 'HFA_190', 'HFA_191', 'HFA_192', 'HFA_193', 'HFA_195', \n",
    "                 'HFA_196', 'HFA_197', 'HFA_198', 'HFA_199', 'HFA_200', 'HFA_201', \n",
    "                 'HFA_202', 'HFA_204', 'HFA_205', 'HFA_206', 'HFA_207', 'HFA_208', \n",
    "                 'HFA_209', 'HFA_210', 'HFA_211', 'HFA_212', 'HFA_213', 'HFA_214', \n",
    "                 'HFA_215', 'HFA_216', 'HFA_217', 'HFA_218', 'HFA_219', 'HFA_220',\n",
    "                 'HFA_221', 'HFA_222']\n",
    "df6_f1 = df6[~df6['Measure code'].str.contains('|'.join(HFAp1_to_delete), na=False)]\n"
   ]
  },
  {
   "cell_type": "code",
   "execution_count": null,
   "metadata": {},
   "outputs": [],
   "source": [
    "df6_f1.sample(30)"
   ]
  },
  {
   "cell_type": "code",
   "execution_count": null,
   "metadata": {},
   "outputs": [],
   "source": [
    "df6_f1['SEX'].unique"
   ]
  },
  {
   "cell_type": "code",
   "execution_count": null,
   "metadata": {},
   "outputs": [],
   "source": [
    "df6_f1.columns"
   ]
  },
  {
   "cell_type": "code",
   "execution_count": null,
   "metadata": {},
   "outputs": [],
   "source": [
    "# List of columns to keep\n",
    "columns_to_keep = ['Measure code', 'COUNTRY_REGION', '2000', '2001', '2002', '2003', '2004', '2005', '2006',\n",
    "       '2007', '2008', '2009', '2010', '2011', '2012', '2013', '2014', '2015',\n",
    "       '2016', '2017', '2018', '2019', '2020', '2021', '2022']\n",
    "\n",
    "# Delete all columns except the specified ones\n",
    "df6_f2 = df6_f1[columns_to_keep].reset_index(drop=True)"
   ]
  },
  {
   "cell_type": "code",
   "execution_count": null,
   "metadata": {},
   "outputs": [],
   "source": [
    "df6_f2.columns = df6_f2.columns.str.lower()\n",
    "df6_f2"
   ]
  },
  {
   "cell_type": "code",
   "execution_count": null,
   "metadata": {},
   "outputs": [],
   "source": [
    "df7"
   ]
  },
  {
   "cell_type": "code",
   "execution_count": null,
   "metadata": {},
   "outputs": [],
   "source": [
    "# choose indicators to keep\n",
    "HFAp2_to_keep = ['HFA_260', 'HFA_275', 'HFA_293', 'HFA_357', 'HFA_411', \n",
    "                 'HFA_417', 'HFA_436', 'HFA_440', 'HFA_441', 'HFA_442', \n",
    "                 'HFA_443', 'HFA_444', 'HFA_445', 'HFA_446', 'HFA_454']\n",
    "\n",
    "df7_f1 = df7.loc[df7['Measure code'].isin(HFAp2_to_keep)]"
   ]
  },
  {
   "cell_type": "code",
   "execution_count": null,
   "metadata": {},
   "outputs": [],
   "source": [
    "df7_f1.columns"
   ]
  },
  {
   "cell_type": "code",
   "execution_count": null,
   "metadata": {},
   "outputs": [],
   "source": [
    "# List of columns to keep\n",
    "columns_to_keep = ['Measure code', 'COUNTRY_REGION', '2000', '2001', '2002', '2003', '2004', '2005', '2006',\n",
    "       '2007', '2008', '2009', '2010', '2011', '2012', '2013', '2014', '2015',\n",
    "       '2016', '2017', '2018', '2019', '2020', '2021', '2022']\n",
    "\n",
    "# Delete all columns except the specified ones\n",
    "df7_f2 = df7_f1[columns_to_keep].reset_index(drop=True)"
   ]
  },
  {
   "cell_type": "code",
   "execution_count": null,
   "metadata": {},
   "outputs": [],
   "source": [
    "df7_f2.columns = df7_f2.columns.str.lower()\n",
    "df7_f2\n"
   ]
  },
  {
   "cell_type": "code",
   "execution_count": null,
   "metadata": {},
   "outputs": [],
   "source": [
    "df8.head(10)"
   ]
  },
  {
   "cell_type": "code",
   "execution_count": null,
   "metadata": {},
   "outputs": [],
   "source": [
    "# choose indicators to keep\n",
    "HFAp3_to_keep = ['HFA_546', 'HFA_566', 'HFA_617', 'HFA_618', 'HFA_625', \n",
    "                 'HFA_627', 'HFA_636', 'HFA_637']\n",
    "\n",
    "\n",
    "df8_f1 = df8.loc[df8['Measure code'].isin(HFAp3_to_keep)]"
   ]
  },
  {
   "cell_type": "code",
   "execution_count": null,
   "metadata": {},
   "outputs": [],
   "source": [
    "df8_f1.columns"
   ]
  },
  {
   "cell_type": "code",
   "execution_count": null,
   "metadata": {},
   "outputs": [],
   "source": [
    "# List of columns to keep\n",
    "columns_to_keep = ['Measure code', 'COUNTRY_REGION', '2000', '2001', '2002', '2003', '2004', '2005', '2006',\n",
    "       '2007', '2008', '2009', '2010', '2011', '2012', '2013', '2014', '2015',\n",
    "       '2016', '2017', '2018', '2019', '2020', '2021', '2022']\n",
    "\n",
    "# Delete all columns except the specified ones\n",
    "df8_f2 = df8_f1[columns_to_keep].reset_index(drop=True)"
   ]
  },
  {
   "cell_type": "code",
   "execution_count": null,
   "metadata": {},
   "outputs": [],
   "source": [
    "df8_f2.columns = df8_f2.columns.str.lower()\n",
    "df8_f2"
   ]
  },
  {
   "cell_type": "code",
   "execution_count": null,
   "metadata": {},
   "outputs": [],
   "source": []
  },
  {
   "cell_type": "markdown",
   "metadata": {},
   "source": [
    "https://data.un.org/  \n",
    "education: Education at the primary, secondary and tertiary levels  \n",
    " Labour market: Labour force and unemployment"
   ]
  },
  {
   "cell_type": "code",
   "execution_count": null,
   "metadata": {},
   "outputs": [],
   "source": [
    "df9 = pd.read_csv('data/SYB66_309_202310_Education.csv', \n",
    "                  encoding='iso-8859-1', low_memory = False)"
   ]
  },
  {
   "cell_type": "code",
   "execution_count": null,
   "metadata": {},
   "outputs": [],
   "source": [
    "df9.head(10)"
   ]
  },
  {
   "cell_type": "code",
   "execution_count": null,
   "metadata": {},
   "outputs": [],
   "source": [
    "df9['Unnamed: 2'].unique()"
   ]
  },
  {
   "cell_type": "code",
   "execution_count": null,
   "metadata": {},
   "outputs": [],
   "source": [
    "df10 = pd.read_csv('data/SYB66_329_202310_Labour Force and Unemployment.csv', \n",
    "                   encoding='iso-8859-1', low_memory = False)"
   ]
  },
  {
   "cell_type": "code",
   "execution_count": null,
   "metadata": {},
   "outputs": [],
   "source": [
    "df10"
   ]
  },
  {
   "cell_type": "code",
   "execution_count": null,
   "metadata": {},
   "outputs": [],
   "source": []
  },
  {
   "cell_type": "code",
   "execution_count": null,
   "metadata": {},
   "outputs": [],
   "source": []
  },
  {
   "cell_type": "markdown",
   "metadata": {},
   "source": [
    "Export to postgres"
   ]
  },
  {
   "cell_type": "code",
   "execution_count": null,
   "metadata": {},
   "outputs": [],
   "source": [
    "import sqlalchemy\n",
    "import psycopg2\n",
    "import sql_functions as sf"
   ]
  },
  {
   "cell_type": "code",
   "execution_count": null,
   "metadata": {},
   "outputs": [],
   "source": [
    "\n",
    "\n",
    "dataframes = {'GHED_indicator_list_filtered': df_f2,\n",
    "    'GHED_data_or_filtered': df1_f1,\n",
    "    'HEPA_metadata': df2,\n",
    "    'HEPA_data_filtered': df3_f1,\n",
    "    'HFA_metadata_sh2_filtered': df4_1,\n",
    "    'HFA_metadata_sh4': df5,\n",
    "    'HFA_data_p1_filtered': df6_f2,\n",
    "    'HFA_data_p2_filtered': df7_f2,\n",
    "    'HFA_data_p3_filtered': df8_f2,\n",
    "    'SYB66_education': df9,\n",
    "    'SYB66_labor_unemployment': df10}\n",
    "\n",
    "for table_name, df in dataframes.items():\n",
    "    sf.push_to_cloud(df, table_name)\n"
   ]
  },
  {
   "cell_type": "code",
   "execution_count": null,
   "metadata": {},
   "outputs": [],
   "source": [
    "dataframes_or = {'GHED_indicator_list': df,\n",
    "    'GHED_data_or': df1,\n",
    "    'HEPA_data': df3,\n",
    "    'HFA_data_p1': df6,\n",
    "    'HFA_data_p2': df7,\n",
    "    'HFA_data_p3': df8,}\n",
    "\n",
    "for table_name, df in dataframes_or.items():\n",
    "    sf.push_to_cloud(df, table_name)"
   ]
  },
  {
   "cell_type": "code",
   "execution_count": null,
   "metadata": {},
   "outputs": [],
   "source": [
    "df11 = pd.read_excel('data/HFA Metadata.xlsx', sheet_name=4)\n",
    "df12 = pd.read_excel('data/HFA Metadata.xlsx', sheet_name=5)"
   ]
  },
  {
   "cell_type": "code",
   "execution_count": null,
   "metadata": {},
   "outputs": [],
   "source": [
    "dataframes_2 = {'HFA_metadata_sh5': df11,\n",
    "    'HFA_metadata_sh6': df12}\n",
    "\n",
    "for table_name, df in dataframes_2.items():\n",
    "    sf.push_to_cloud(df, table_name)"
   ]
  },
  {
   "cell_type": "code",
   "execution_count": null,
   "metadata": {},
   "outputs": [],
   "source": [
    "SYB66_1_202310_Population_Surface_Area_Density = pd.read_csv('data/SYB66_1_202310_Population, Surface Area and Density.csv',\n",
    "                                                             encoding='iso-8859-1', low_memory = False)\n",
    "SYB66_325_202310_Expenditure_on_health = pd.read_csv('data/SYB66_325_202310_Expenditure on health.csv',\n",
    "                                                     encoding='iso-8859-1', low_memory = False)\n",
    "SYB66_245_202310_Public_expenditure_on_education = pd.read_csv('data/SYB66_245_202310_Public expenditure on education and access to computers.csv',\n",
    "                                                               encoding='iso-8859-1', low_memory = False)"
   ]
  },
  {
   "cell_type": "code",
   "execution_count": null,
   "metadata": {},
   "outputs": [],
   "source": [
    "dataframes = {'SYB66_Population_Surface_Area_Density': SYB66_1_202310_Population_Surface_Area_Density,\n",
    "    'SYB66_Expenditure_on_health': SYB66_325_202310_Expenditure_on_health,\n",
    "    'SYB66_Public_expenditure_on_education': SYB66_245_202310_Public_expenditure_on_education}\n",
    "\n",
    "for table_name, df in dataframes.items():\n",
    "    sf.push_to_cloud(df, table_name)"
   ]
  }
 ],
 "metadata": {
  "kernelspec": {
   "display_name": "base",
   "language": "python",
   "name": "python3"
  },
  "language_info": {
   "codemirror_mode": {
    "name": "ipython",
    "version": 3
   },
   "file_extension": ".py",
   "mimetype": "text/x-python",
   "name": "python",
   "nbconvert_exporter": "python",
   "pygments_lexer": "ipython3",
   "version": "3.9.12"
  }
 },
 "nbformat": 4,
 "nbformat_minor": 2
}
