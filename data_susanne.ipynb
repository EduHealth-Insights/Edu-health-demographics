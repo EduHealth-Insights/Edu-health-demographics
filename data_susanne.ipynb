{
 "cells": [
  {
   "cell_type": "code",
   "execution_count": 1,
   "metadata": {},
   "outputs": [],
   "source": [
    "import pandas as pd\n"
   ]
  },
  {
   "cell_type": "code",
   "execution_count": 2,
   "metadata": {},
   "outputs": [
    {
     "name": "stdout",
     "output_type": "stream",
     "text": [
      "Requirement already satisfied: openpyxl in /opt/homebrew/Caskroom/miniconda/base/envs/nf_sql/lib/python3.9/site-packages (3.1.2)\n",
      "Requirement already satisfied: et-xmlfile in /opt/homebrew/Caskroom/miniconda/base/envs/nf_sql/lib/python3.9/site-packages (from openpyxl) (1.1.0)\n",
      "Note: you may need to restart the kernel to use updated packages.\n"
     ]
    }
   ],
   "source": [
    "pip install openpyxl"
   ]
  },
  {
   "cell_type": "code",
   "execution_count": 3,
   "metadata": {},
   "outputs": [],
   "source": [
    "hbsc = pd.read_csv('../Edu-health-demographics/data/HBSC Data (pivoted).csv')"
   ]
  },
  {
   "cell_type": "code",
   "execution_count": 4,
   "metadata": {},
   "outputs": [
    {
     "data": {
      "text/html": [
       "<div>\n",
       "<style scoped>\n",
       "    .dataframe tbody tr th:only-of-type {\n",
       "        vertical-align: middle;\n",
       "    }\n",
       "\n",
       "    .dataframe tbody tr th {\n",
       "        vertical-align: top;\n",
       "    }\n",
       "\n",
       "    .dataframe thead th {\n",
       "        text-align: right;\n",
       "    }\n",
       "</style>\n",
       "<table border=\"1\" class=\"dataframe\">\n",
       "  <thead>\n",
       "    <tr style=\"text-align: right;\">\n",
       "      <th></th>\n",
       "      <th>Measure code</th>\n",
       "      <th>AGE_GRP</th>\n",
       "      <th>SEX</th>\n",
       "      <th>SIGNIF_GENDER</th>\n",
       "      <th>SIGNIF_AFFL</th>\n",
       "      <th>FAMILY_STATUS</th>\n",
       "      <th>IMMIGRANT_STATUS</th>\n",
       "      <th>COUNTRY_REGION</th>\n",
       "      <th>2014</th>\n",
       "      <th>2018</th>\n",
       "    </tr>\n",
       "  </thead>\n",
       "  <tbody>\n",
       "    <tr>\n",
       "      <th>0</th>\n",
       "      <td>HBSC_1</td>\n",
       "      <td>11YO</td>\n",
       "      <td>FEMALE</td>\n",
       "      <td>NOTSIGNIF</td>\n",
       "      <td>NaN</td>\n",
       "      <td>NaN</td>\n",
       "      <td>NaN</td>\n",
       "      <td>ALB</td>\n",
       "      <td>65.0</td>\n",
       "      <td>60.0</td>\n",
       "    </tr>\n",
       "    <tr>\n",
       "      <th>1</th>\n",
       "      <td>HBSC_1</td>\n",
       "      <td>11YO</td>\n",
       "      <td>FEMALE</td>\n",
       "      <td>NOTSIGNIF</td>\n",
       "      <td>NaN</td>\n",
       "      <td>NaN</td>\n",
       "      <td>NaN</td>\n",
       "      <td>ARM</td>\n",
       "      <td>64.0</td>\n",
       "      <td>61.0</td>\n",
       "    </tr>\n",
       "    <tr>\n",
       "      <th>2</th>\n",
       "      <td>HBSC_1</td>\n",
       "      <td>11YO</td>\n",
       "      <td>FEMALE</td>\n",
       "      <td>NOTSIGNIF</td>\n",
       "      <td>NaN</td>\n",
       "      <td>NaN</td>\n",
       "      <td>NaN</td>\n",
       "      <td>AUT</td>\n",
       "      <td>62.0</td>\n",
       "      <td>NaN</td>\n",
       "    </tr>\n",
       "    <tr>\n",
       "      <th>3</th>\n",
       "      <td>HBSC_1</td>\n",
       "      <td>11YO</td>\n",
       "      <td>FEMALE</td>\n",
       "      <td>NOTSIGNIF</td>\n",
       "      <td>NaN</td>\n",
       "      <td>NaN</td>\n",
       "      <td>NaN</td>\n",
       "      <td>AZE</td>\n",
       "      <td>NaN</td>\n",
       "      <td>55.0</td>\n",
       "    </tr>\n",
       "    <tr>\n",
       "      <th>4</th>\n",
       "      <td>HBSC_1</td>\n",
       "      <td>11YO</td>\n",
       "      <td>FEMALE</td>\n",
       "      <td>NOTSIGNIF</td>\n",
       "      <td>NaN</td>\n",
       "      <td>NaN</td>\n",
       "      <td>NaN</td>\n",
       "      <td>BE-VLG</td>\n",
       "      <td>79.0</td>\n",
       "      <td>77.0</td>\n",
       "    </tr>\n",
       "  </tbody>\n",
       "</table>\n",
       "</div>"
      ],
      "text/plain": [
       "  Measure code AGE_GRP     SEX SIGNIF_GENDER SIGNIF_AFFL FAMILY_STATUS  \\\n",
       "0       HBSC_1    11YO  FEMALE     NOTSIGNIF         NaN           NaN   \n",
       "1       HBSC_1    11YO  FEMALE     NOTSIGNIF         NaN           NaN   \n",
       "2       HBSC_1    11YO  FEMALE     NOTSIGNIF         NaN           NaN   \n",
       "3       HBSC_1    11YO  FEMALE     NOTSIGNIF         NaN           NaN   \n",
       "4       HBSC_1    11YO  FEMALE     NOTSIGNIF         NaN           NaN   \n",
       "\n",
       "  IMMIGRANT_STATUS COUNTRY_REGION  2014  2018  \n",
       "0              NaN            ALB  65.0  60.0  \n",
       "1              NaN            ARM  64.0  61.0  \n",
       "2              NaN            AUT  62.0   NaN  \n",
       "3              NaN            AZE   NaN  55.0  \n",
       "4              NaN         BE-VLG  79.0  77.0  "
      ]
     },
     "execution_count": 4,
     "metadata": {},
     "output_type": "execute_result"
    }
   ],
   "source": [
    "hbsc.head()"
   ]
  },
  {
   "cell_type": "code",
   "execution_count": 38,
   "metadata": {},
   "outputs": [
    {
     "data": {
      "text/html": [
       "<div>\n",
       "<style scoped>\n",
       "    .dataframe tbody tr th:only-of-type {\n",
       "        vertical-align: middle;\n",
       "    }\n",
       "\n",
       "    .dataframe tbody tr th {\n",
       "        vertical-align: top;\n",
       "    }\n",
       "\n",
       "    .dataframe thead th {\n",
       "        text-align: right;\n",
       "    }\n",
       "</style>\n",
       "<table border=\"1\" class=\"dataframe\">\n",
       "  <thead>\n",
       "    <tr style=\"text-align: right;\">\n",
       "      <th></th>\n",
       "      <th>2014</th>\n",
       "      <th>2018</th>\n",
       "    </tr>\n",
       "  </thead>\n",
       "  <tbody>\n",
       "    <tr>\n",
       "      <th>count</th>\n",
       "      <td>19442.000000</td>\n",
       "      <td>18813.000000</td>\n",
       "    </tr>\n",
       "    <tr>\n",
       "      <th>mean</th>\n",
       "      <td>24.815194</td>\n",
       "      <td>24.041461</td>\n",
       "    </tr>\n",
       "    <tr>\n",
       "      <th>std</th>\n",
       "      <td>24.788574</td>\n",
       "      <td>24.261705</td>\n",
       "    </tr>\n",
       "    <tr>\n",
       "      <th>min</th>\n",
       "      <td>-22.000000</td>\n",
       "      <td>-27.000000</td>\n",
       "    </tr>\n",
       "    <tr>\n",
       "      <th>25%</th>\n",
       "      <td>5.000000</td>\n",
       "      <td>6.000000</td>\n",
       "    </tr>\n",
       "    <tr>\n",
       "      <th>50%</th>\n",
       "      <td>17.000000</td>\n",
       "      <td>16.000000</td>\n",
       "    </tr>\n",
       "    <tr>\n",
       "      <th>75%</th>\n",
       "      <td>39.000000</td>\n",
       "      <td>38.000000</td>\n",
       "    </tr>\n",
       "    <tr>\n",
       "      <th>max</th>\n",
       "      <td>96.000000</td>\n",
       "      <td>100.000000</td>\n",
       "    </tr>\n",
       "  </tbody>\n",
       "</table>\n",
       "</div>"
      ],
      "text/plain": [
       "               2014          2018\n",
       "count  19442.000000  18813.000000\n",
       "mean      24.815194     24.041461\n",
       "std       24.788574     24.261705\n",
       "min      -22.000000    -27.000000\n",
       "25%        5.000000      6.000000\n",
       "50%       17.000000     16.000000\n",
       "75%       39.000000     38.000000\n",
       "max       96.000000    100.000000"
      ]
     },
     "execution_count": 38,
     "metadata": {},
     "output_type": "execute_result"
    }
   ],
   "source": [
    "hbsc.describe()"
   ]
  },
  {
   "cell_type": "code",
   "execution_count": 5,
   "metadata": {},
   "outputs": [],
   "source": [
    "hbsc_table = pd.read_csv('../Edu-health-demographics/data/HBSC Data (table).csv')"
   ]
  },
  {
   "cell_type": "code",
   "execution_count": 6,
   "metadata": {},
   "outputs": [
    {
     "data": {
      "text/html": [
       "<div>\n",
       "<style scoped>\n",
       "    .dataframe tbody tr th:only-of-type {\n",
       "        vertical-align: middle;\n",
       "    }\n",
       "\n",
       "    .dataframe tbody tr th {\n",
       "        vertical-align: top;\n",
       "    }\n",
       "\n",
       "    .dataframe thead th {\n",
       "        text-align: right;\n",
       "    }\n",
       "</style>\n",
       "<table border=\"1\" class=\"dataframe\">\n",
       "  <thead>\n",
       "    <tr style=\"text-align: right;\">\n",
       "      <th></th>\n",
       "      <th>Measure code</th>\n",
       "      <th>AGE_GRP</th>\n",
       "      <th>SEX</th>\n",
       "      <th>SIGNIF_GENDER</th>\n",
       "      <th>SIGNIF_AFFL</th>\n",
       "      <th>FAMILY_STATUS</th>\n",
       "      <th>IMMIGRANT_STATUS</th>\n",
       "      <th>COUNTRY_REGION</th>\n",
       "      <th>YEAR</th>\n",
       "      <th>VALUE</th>\n",
       "    </tr>\n",
       "  </thead>\n",
       "  <tbody>\n",
       "    <tr>\n",
       "      <th>0</th>\n",
       "      <td>HBSC_1</td>\n",
       "      <td>11YO</td>\n",
       "      <td>ALL</td>\n",
       "      <td>NaN</td>\n",
       "      <td>NaN</td>\n",
       "      <td>NaN</td>\n",
       "      <td>NaN</td>\n",
       "      <td>HBSC_MEMBER</td>\n",
       "      <td>2014</td>\n",
       "      <td>72.0</td>\n",
       "    </tr>\n",
       "    <tr>\n",
       "      <th>1</th>\n",
       "      <td>HBSC_1</td>\n",
       "      <td>11YO</td>\n",
       "      <td>FEMALE</td>\n",
       "      <td>NaN</td>\n",
       "      <td>NaN</td>\n",
       "      <td>NaN</td>\n",
       "      <td>NaN</td>\n",
       "      <td>HBSC_MEMBER</td>\n",
       "      <td>2014</td>\n",
       "      <td>70.0</td>\n",
       "    </tr>\n",
       "    <tr>\n",
       "      <th>2</th>\n",
       "      <td>HBSC_1</td>\n",
       "      <td>11YO</td>\n",
       "      <td>MALE</td>\n",
       "      <td>NaN</td>\n",
       "      <td>NaN</td>\n",
       "      <td>NaN</td>\n",
       "      <td>NaN</td>\n",
       "      <td>HBSC_MEMBER</td>\n",
       "      <td>2014</td>\n",
       "      <td>73.0</td>\n",
       "    </tr>\n",
       "    <tr>\n",
       "      <th>3</th>\n",
       "      <td>HBSC_1</td>\n",
       "      <td>13YO</td>\n",
       "      <td>ALL</td>\n",
       "      <td>NaN</td>\n",
       "      <td>NaN</td>\n",
       "      <td>NaN</td>\n",
       "      <td>NaN</td>\n",
       "      <td>HBSC_MEMBER</td>\n",
       "      <td>2014</td>\n",
       "      <td>62.0</td>\n",
       "    </tr>\n",
       "    <tr>\n",
       "      <th>4</th>\n",
       "      <td>HBSC_1</td>\n",
       "      <td>13YO</td>\n",
       "      <td>FEMALE</td>\n",
       "      <td>NaN</td>\n",
       "      <td>NaN</td>\n",
       "      <td>NaN</td>\n",
       "      <td>NaN</td>\n",
       "      <td>HBSC_MEMBER</td>\n",
       "      <td>2014</td>\n",
       "      <td>58.0</td>\n",
       "    </tr>\n",
       "  </tbody>\n",
       "</table>\n",
       "</div>"
      ],
      "text/plain": [
       "  Measure code AGE_GRP     SEX SIGNIF_GENDER SIGNIF_AFFL FAMILY_STATUS  \\\n",
       "0       HBSC_1    11YO     ALL           NaN         NaN           NaN   \n",
       "1       HBSC_1    11YO  FEMALE           NaN         NaN           NaN   \n",
       "2       HBSC_1    11YO    MALE           NaN         NaN           NaN   \n",
       "3       HBSC_1    13YO     ALL           NaN         NaN           NaN   \n",
       "4       HBSC_1    13YO  FEMALE           NaN         NaN           NaN   \n",
       "\n",
       "  IMMIGRANT_STATUS COUNTRY_REGION  YEAR  VALUE  \n",
       "0              NaN    HBSC_MEMBER  2014   72.0  \n",
       "1              NaN    HBSC_MEMBER  2014   70.0  \n",
       "2              NaN    HBSC_MEMBER  2014   73.0  \n",
       "3              NaN    HBSC_MEMBER  2014   62.0  \n",
       "4              NaN    HBSC_MEMBER  2014   58.0  "
      ]
     },
     "execution_count": 6,
     "metadata": {},
     "output_type": "execute_result"
    }
   ],
   "source": [
    "hbsc_table.head()"
   ]
  },
  {
   "cell_type": "code",
   "execution_count": 7,
   "metadata": {},
   "outputs": [],
   "source": [
    "hbsc_meta = pd.read_excel('../Edu-health-demographics/data/HBSC Metadata.xlsx')"
   ]
  },
  {
   "cell_type": "code",
   "execution_count": 8,
   "metadata": {},
   "outputs": [
    {
     "data": {
      "text/html": [
       "<div>\n",
       "<style scoped>\n",
       "    .dataframe tbody tr th:only-of-type {\n",
       "        vertical-align: middle;\n",
       "    }\n",
       "\n",
       "    .dataframe tbody tr th {\n",
       "        vertical-align: top;\n",
       "    }\n",
       "\n",
       "    .dataframe thead th {\n",
       "        text-align: right;\n",
       "    }\n",
       "</style>\n",
       "<table border=\"1\" class=\"dataframe\">\n",
       "  <thead>\n",
       "    <tr style=\"text-align: right;\">\n",
       "      <th></th>\n",
       "      <th>File</th>\n",
       "      <th>Description</th>\n",
       "    </tr>\n",
       "  </thead>\n",
       "  <tbody>\n",
       "    <tr>\n",
       "      <th>0</th>\n",
       "      <td>HBSC Metadata.xlsx</td>\n",
       "      <td>This file contains metadata for exported measu...</td>\n",
       "    </tr>\n",
       "    <tr>\n",
       "      <th>1</th>\n",
       "      <td>HBSC Data (table).csv</td>\n",
       "      <td>Data for measures in table format as a CSV fil...</td>\n",
       "    </tr>\n",
       "    <tr>\n",
       "      <th>2</th>\n",
       "      <td>HBSC Data (pivoted).csv</td>\n",
       "      <td>Data for measures in pivoted format as a CSV f...</td>\n",
       "    </tr>\n",
       "    <tr>\n",
       "      <th>3</th>\n",
       "      <td>NaN</td>\n",
       "      <td>NaN</td>\n",
       "    </tr>\n",
       "    <tr>\n",
       "      <th>4</th>\n",
       "      <td>Worksheet</td>\n",
       "      <td>Description</td>\n",
       "    </tr>\n",
       "    <tr>\n",
       "      <th>5</th>\n",
       "      <td>Measure list</td>\n",
       "      <td>Metadata for measures (indicators) that are co...</td>\n",
       "    </tr>\n",
       "    <tr>\n",
       "      <th>6</th>\n",
       "      <td>Labels</td>\n",
       "      <td>Text labels for all metadata</td>\n",
       "    </tr>\n",
       "    <tr>\n",
       "      <th>7</th>\n",
       "      <td>Countries</td>\n",
       "      <td>Country labels with ISO2, ISO3 and WHO codes</td>\n",
       "    </tr>\n",
       "    <tr>\n",
       "      <th>8</th>\n",
       "      <td>Country groups</td>\n",
       "      <td>Labels for country groups</td>\n",
       "    </tr>\n",
       "    <tr>\n",
       "      <th>9</th>\n",
       "      <td>Country groups mapping</td>\n",
       "      <td>Country mapping information for country groups</td>\n",
       "    </tr>\n",
       "    <tr>\n",
       "      <th>10</th>\n",
       "      <td>Classifications</td>\n",
       "      <td>Classification trees are used in the data ware...</td>\n",
       "    </tr>\n",
       "    <tr>\n",
       "      <th>11</th>\n",
       "      <td>Measure notes</td>\n",
       "      <td>Notes about the measures (indicators) that are...</td>\n",
       "    </tr>\n",
       "    <tr>\n",
       "      <th>12</th>\n",
       "      <td>Dataset notes</td>\n",
       "      <td>Notes about the data sets containing exported ...</td>\n",
       "    </tr>\n",
       "    <tr>\n",
       "      <th>13</th>\n",
       "      <td>Data (table)</td>\n",
       "      <td>Data for measures (indicators) that are contai...</td>\n",
       "    </tr>\n",
       "    <tr>\n",
       "      <th>14</th>\n",
       "      <td>Data (pivoted)</td>\n",
       "      <td>Data for the exported measures (indicators) in...</td>\n",
       "    </tr>\n",
       "    <tr>\n",
       "      <th>15</th>\n",
       "      <td>NaN</td>\n",
       "      <td>NaN</td>\n",
       "    </tr>\n",
       "    <tr>\n",
       "      <th>16</th>\n",
       "      <td>Last update</td>\n",
       "      <td>2020.07.06 11:09:31 GMT</td>\n",
       "    </tr>\n",
       "    <tr>\n",
       "      <th>17</th>\n",
       "      <td>Export URL</td>\n",
       "      <td>https://dw.euro.who.int/api/v3/export_data_set...</td>\n",
       "    </tr>\n",
       "    <tr>\n",
       "      <th>18</th>\n",
       "      <td>Description</td>\n",
       "      <td>Entire HBSC data set export that contains data...</td>\n",
       "    </tr>\n",
       "    <tr>\n",
       "      <th>19</th>\n",
       "      <td>Filters</td>\n",
       "      <td>Not applied</td>\n",
       "    </tr>\n",
       "    <tr>\n",
       "      <th>20</th>\n",
       "      <td>NaN</td>\n",
       "      <td>NaN</td>\n",
       "    </tr>\n",
       "    <tr>\n",
       "      <th>21</th>\n",
       "      <td>Copyright</td>\n",
       "      <td>NaN</td>\n",
       "    </tr>\n",
       "    <tr>\n",
       "      <th>22</th>\n",
       "      <td>© WHO Regional Office for Europe 2024. All rig...</td>\n",
       "      <td>https://www.who.int/about/policies/publishing/...</td>\n",
       "    </tr>\n",
       "  </tbody>\n",
       "</table>\n",
       "</div>"
      ],
      "text/plain": [
       "                                                 File  \\\n",
       "0                                  HBSC Metadata.xlsx   \n",
       "1                               HBSC Data (table).csv   \n",
       "2                             HBSC Data (pivoted).csv   \n",
       "3                                                 NaN   \n",
       "4                                           Worksheet   \n",
       "5                                        Measure list   \n",
       "6                                              Labels   \n",
       "7                                           Countries   \n",
       "8                                      Country groups   \n",
       "9                              Country groups mapping   \n",
       "10                                    Classifications   \n",
       "11                                      Measure notes   \n",
       "12                                      Dataset notes   \n",
       "13                                       Data (table)   \n",
       "14                                     Data (pivoted)   \n",
       "15                                                NaN   \n",
       "16                                        Last update   \n",
       "17                                         Export URL   \n",
       "18                                        Description   \n",
       "19                                            Filters   \n",
       "20                                                NaN   \n",
       "21                                          Copyright   \n",
       "22  © WHO Regional Office for Europe 2024. All rig...   \n",
       "\n",
       "                                          Description  \n",
       "0   This file contains metadata for exported measu...  \n",
       "1   Data for measures in table format as a CSV fil...  \n",
       "2   Data for measures in pivoted format as a CSV f...  \n",
       "3                                                 NaN  \n",
       "4                                         Description  \n",
       "5   Metadata for measures (indicators) that are co...  \n",
       "6                        Text labels for all metadata  \n",
       "7        Country labels with ISO2, ISO3 and WHO codes  \n",
       "8                           Labels for country groups  \n",
       "9      Country mapping information for country groups  \n",
       "10  Classification trees are used in the data ware...  \n",
       "11  Notes about the measures (indicators) that are...  \n",
       "12  Notes about the data sets containing exported ...  \n",
       "13  Data for measures (indicators) that are contai...  \n",
       "14  Data for the exported measures (indicators) in...  \n",
       "15                                                NaN  \n",
       "16                            2020.07.06 11:09:31 GMT  \n",
       "17  https://dw.euro.who.int/api/v3/export_data_set...  \n",
       "18  Entire HBSC data set export that contains data...  \n",
       "19                                        Not applied  \n",
       "20                                                NaN  \n",
       "21                                                NaN  \n",
       "22  https://www.who.int/about/policies/publishing/...  "
      ]
     },
     "execution_count": 8,
     "metadata": {},
     "output_type": "execute_result"
    }
   ],
   "source": [
    "hbsc_meta"
   ]
  },
  {
   "cell_type": "code",
   "execution_count": 9,
   "metadata": {},
   "outputs": [
    {
     "data": {
      "text/plain": [
       "Index(['Measure code', 'AGE_GRP', 'SEX', 'SIGNIF_GENDER', 'SIGNIF_AFFL',\n",
       "       'FAMILY_STATUS', 'IMMIGRANT_STATUS', 'COUNTRY_REGION', '2014', '2018'],\n",
       "      dtype='object')"
      ]
     },
     "execution_count": 9,
     "metadata": {},
     "output_type": "execute_result"
    }
   ],
   "source": [
    "hbsc.columns"
   ]
  },
  {
   "cell_type": "code",
   "execution_count": 10,
   "metadata": {},
   "outputs": [
    {
     "data": {
      "text/plain": [
       "FIRST     31\n",
       "NON       31\n",
       "SECOND    31\n",
       "Name: IMMIGRANT_STATUS, dtype: int64"
      ]
     },
     "execution_count": 10,
     "metadata": {},
     "output_type": "execute_result"
    }
   ],
   "source": [
    "hbsc['IMMIGRANT_STATUS'].value_counts()"
   ]
  },
  {
   "cell_type": "code",
   "execution_count": 11,
   "metadata": {},
   "outputs": [
    {
     "data": {
      "text/plain": [
       "(47162, 10)"
      ]
     },
     "execution_count": 11,
     "metadata": {},
     "output_type": "execute_result"
    }
   ],
   "source": [
    "hbsc.shape"
   ]
  },
  {
   "cell_type": "code",
   "execution_count": 39,
   "metadata": {},
   "outputs": [
    {
     "data": {
      "text/plain": [
       "HBSC_1      567\n",
       "HBSC_36     567\n",
       "HBSC_29     567\n",
       "HBSC_30     567\n",
       "HBSC_31     567\n",
       "           ... \n",
       "HBSC_91     152\n",
       "HBSC_105    128\n",
       "HBSC_48      93\n",
       "HBSC_77      84\n",
       "HBSC_111     46\n",
       "Name: Measure code, Length: 155, dtype: int64"
      ]
     },
     "execution_count": 39,
     "metadata": {},
     "output_type": "execute_result"
    }
   ],
   "source": [
    "hbsc['Measure code'].value_counts()"
   ]
  },
  {
   "cell_type": "code",
   "execution_count": 44,
   "metadata": {},
   "outputs": [
    {
     "data": {
      "text/html": [
       "<div>\n",
       "<style scoped>\n",
       "    .dataframe tbody tr th:only-of-type {\n",
       "        vertical-align: middle;\n",
       "    }\n",
       "\n",
       "    .dataframe tbody tr th {\n",
       "        vertical-align: top;\n",
       "    }\n",
       "\n",
       "    .dataframe thead th {\n",
       "        text-align: right;\n",
       "    }\n",
       "</style>\n",
       "<table border=\"1\" class=\"dataframe\">\n",
       "  <thead>\n",
       "    <tr style=\"text-align: right;\">\n",
       "      <th></th>\n",
       "      <th>Measure code</th>\n",
       "      <th>AGE_GRP</th>\n",
       "      <th>SEX</th>\n",
       "      <th>SIGNIF_GENDER</th>\n",
       "      <th>SIGNIF_AFFL</th>\n",
       "      <th>FAMILY_STATUS</th>\n",
       "      <th>IMMIGRANT_STATUS</th>\n",
       "      <th>COUNTRY_REGION</th>\n",
       "      <th>2014</th>\n",
       "      <th>2018</th>\n",
       "    </tr>\n",
       "  </thead>\n",
       "  <tbody>\n",
       "    <tr>\n",
       "      <th>count</th>\n",
       "      <td>47162</td>\n",
       "      <td>46855</td>\n",
       "      <td>46855</td>\n",
       "      <td>27060</td>\n",
       "      <td>11608</td>\n",
       "      <td>168</td>\n",
       "      <td>93</td>\n",
       "      <td>47162</td>\n",
       "      <td>19442.000000</td>\n",
       "      <td>18813.000000</td>\n",
       "    </tr>\n",
       "    <tr>\n",
       "      <th>unique</th>\n",
       "      <td>155</td>\n",
       "      <td>4</td>\n",
       "      <td>3</td>\n",
       "      <td>2</td>\n",
       "      <td>2</td>\n",
       "      <td>4</td>\n",
       "      <td>3</td>\n",
       "      <td>47</td>\n",
       "      <td>NaN</td>\n",
       "      <td>NaN</td>\n",
       "    </tr>\n",
       "    <tr>\n",
       "      <th>top</th>\n",
       "      <td>HBSC_1</td>\n",
       "      <td>15YO</td>\n",
       "      <td>FEMALE</td>\n",
       "      <td>NOTSIGNIF</td>\n",
       "      <td>NOTSIGNIF</td>\n",
       "      <td>BOTHPARENTS</td>\n",
       "      <td>FIRST</td>\n",
       "      <td>ALB</td>\n",
       "      <td>NaN</td>\n",
       "      <td>NaN</td>\n",
       "    </tr>\n",
       "    <tr>\n",
       "      <th>freq</th>\n",
       "      <td>567</td>\n",
       "      <td>12737</td>\n",
       "      <td>23332</td>\n",
       "      <td>13546</td>\n",
       "      <td>5804</td>\n",
       "      <td>42</td>\n",
       "      <td>31</td>\n",
       "      <td>1056</td>\n",
       "      <td>NaN</td>\n",
       "      <td>NaN</td>\n",
       "    </tr>\n",
       "    <tr>\n",
       "      <th>mean</th>\n",
       "      <td>NaN</td>\n",
       "      <td>NaN</td>\n",
       "      <td>NaN</td>\n",
       "      <td>NaN</td>\n",
       "      <td>NaN</td>\n",
       "      <td>NaN</td>\n",
       "      <td>NaN</td>\n",
       "      <td>NaN</td>\n",
       "      <td>24.815194</td>\n",
       "      <td>24.041461</td>\n",
       "    </tr>\n",
       "    <tr>\n",
       "      <th>std</th>\n",
       "      <td>NaN</td>\n",
       "      <td>NaN</td>\n",
       "      <td>NaN</td>\n",
       "      <td>NaN</td>\n",
       "      <td>NaN</td>\n",
       "      <td>NaN</td>\n",
       "      <td>NaN</td>\n",
       "      <td>NaN</td>\n",
       "      <td>24.788574</td>\n",
       "      <td>24.261705</td>\n",
       "    </tr>\n",
       "    <tr>\n",
       "      <th>min</th>\n",
       "      <td>NaN</td>\n",
       "      <td>NaN</td>\n",
       "      <td>NaN</td>\n",
       "      <td>NaN</td>\n",
       "      <td>NaN</td>\n",
       "      <td>NaN</td>\n",
       "      <td>NaN</td>\n",
       "      <td>NaN</td>\n",
       "      <td>-22.000000</td>\n",
       "      <td>-27.000000</td>\n",
       "    </tr>\n",
       "    <tr>\n",
       "      <th>25%</th>\n",
       "      <td>NaN</td>\n",
       "      <td>NaN</td>\n",
       "      <td>NaN</td>\n",
       "      <td>NaN</td>\n",
       "      <td>NaN</td>\n",
       "      <td>NaN</td>\n",
       "      <td>NaN</td>\n",
       "      <td>NaN</td>\n",
       "      <td>5.000000</td>\n",
       "      <td>6.000000</td>\n",
       "    </tr>\n",
       "    <tr>\n",
       "      <th>50%</th>\n",
       "      <td>NaN</td>\n",
       "      <td>NaN</td>\n",
       "      <td>NaN</td>\n",
       "      <td>NaN</td>\n",
       "      <td>NaN</td>\n",
       "      <td>NaN</td>\n",
       "      <td>NaN</td>\n",
       "      <td>NaN</td>\n",
       "      <td>17.000000</td>\n",
       "      <td>16.000000</td>\n",
       "    </tr>\n",
       "    <tr>\n",
       "      <th>75%</th>\n",
       "      <td>NaN</td>\n",
       "      <td>NaN</td>\n",
       "      <td>NaN</td>\n",
       "      <td>NaN</td>\n",
       "      <td>NaN</td>\n",
       "      <td>NaN</td>\n",
       "      <td>NaN</td>\n",
       "      <td>NaN</td>\n",
       "      <td>39.000000</td>\n",
       "      <td>38.000000</td>\n",
       "    </tr>\n",
       "    <tr>\n",
       "      <th>max</th>\n",
       "      <td>NaN</td>\n",
       "      <td>NaN</td>\n",
       "      <td>NaN</td>\n",
       "      <td>NaN</td>\n",
       "      <td>NaN</td>\n",
       "      <td>NaN</td>\n",
       "      <td>NaN</td>\n",
       "      <td>NaN</td>\n",
       "      <td>96.000000</td>\n",
       "      <td>100.000000</td>\n",
       "    </tr>\n",
       "  </tbody>\n",
       "</table>\n",
       "</div>"
      ],
      "text/plain": [
       "       Measure code AGE_GRP     SEX SIGNIF_GENDER SIGNIF_AFFL FAMILY_STATUS  \\\n",
       "count         47162   46855   46855         27060       11608           168   \n",
       "unique          155       4       3             2           2             4   \n",
       "top          HBSC_1    15YO  FEMALE     NOTSIGNIF   NOTSIGNIF   BOTHPARENTS   \n",
       "freq            567   12737   23332         13546        5804            42   \n",
       "mean            NaN     NaN     NaN           NaN         NaN           NaN   \n",
       "std             NaN     NaN     NaN           NaN         NaN           NaN   \n",
       "min             NaN     NaN     NaN           NaN         NaN           NaN   \n",
       "25%             NaN     NaN     NaN           NaN         NaN           NaN   \n",
       "50%             NaN     NaN     NaN           NaN         NaN           NaN   \n",
       "75%             NaN     NaN     NaN           NaN         NaN           NaN   \n",
       "max             NaN     NaN     NaN           NaN         NaN           NaN   \n",
       "\n",
       "       IMMIGRANT_STATUS COUNTRY_REGION          2014          2018  \n",
       "count                93          47162  19442.000000  18813.000000  \n",
       "unique                3             47           NaN           NaN  \n",
       "top               FIRST            ALB           NaN           NaN  \n",
       "freq                 31           1056           NaN           NaN  \n",
       "mean                NaN            NaN     24.815194     24.041461  \n",
       "std                 NaN            NaN     24.788574     24.261705  \n",
       "min                 NaN            NaN    -22.000000    -27.000000  \n",
       "25%                 NaN            NaN      5.000000      6.000000  \n",
       "50%                 NaN            NaN     17.000000     16.000000  \n",
       "75%                 NaN            NaN     39.000000     38.000000  \n",
       "max                 NaN            NaN     96.000000    100.000000  "
      ]
     },
     "execution_count": 44,
     "metadata": {},
     "output_type": "execute_result"
    }
   ],
   "source": [
    "hbsc.describe(include='all')"
   ]
  },
  {
   "cell_type": "code",
   "execution_count": 12,
   "metadata": {},
   "outputs": [
    {
     "name": "stdout",
     "output_type": "stream",
     "text": [
      "      Measure code AGE_GRP     SEX SIGNIF_GENDER SIGNIF_AFFL FAMILY_STATUS  \\\n",
      "0           HBSC_1    11YO  FEMALE     NOTSIGNIF         NaN           NaN   \n",
      "1           HBSC_1    11YO  FEMALE     NOTSIGNIF         NaN           NaN   \n",
      "2           HBSC_1    11YO  FEMALE     NOTSIGNIF         NaN           NaN   \n",
      "3           HBSC_1    11YO  FEMALE     NOTSIGNIF         NaN           NaN   \n",
      "4           HBSC_1    11YO  FEMALE     NOTSIGNIF         NaN           NaN   \n",
      "...            ...     ...     ...           ...         ...           ...   \n",
      "47157     HBSC_156   TOTAL    MALE           NaN      SIGNIF           NaN   \n",
      "47158     HBSC_156   TOTAL    MALE           NaN      SIGNIF           NaN   \n",
      "47159     HBSC_156   TOTAL    MALE           NaN      SIGNIF           NaN   \n",
      "47160     HBSC_156   TOTAL    MALE           NaN      SIGNIF           NaN   \n",
      "47161     HBSC_156   TOTAL    MALE           NaN      SIGNIF           NaN   \n",
      "\n",
      "      IMMIGRANT_STATUS COUNTRY_REGION  2014  2018  \n",
      "0                  NaN            ALB  65.0  60.0  \n",
      "1                  NaN            ARM  64.0  61.0  \n",
      "2                  NaN            AUT  62.0   NaN  \n",
      "3                  NaN            AZE   NaN  55.0  \n",
      "4                  NaN         BE-VLG  79.0  77.0  \n",
      "...                ...            ...   ...   ...  \n",
      "47157              NaN            CHE   NaN   NaN  \n",
      "47158              NaN            UKR   NaN   NaN  \n",
      "47159              NaN         GB-ENG   NaN  11.0  \n",
      "47160              NaN         GB-SCT   NaN  12.0  \n",
      "47161              NaN         GB-WLS   NaN   NaN  \n",
      "\n",
      "[47162 rows x 10 columns]\n"
     ]
    }
   ],
   "source": [
    "# Adjust pandas settings to display more characters in cells\n",
    "pd.set_option('display.max_colwidth', None)\n",
    "\n",
    "# Display the DataFrame again\n",
    "print(hbsc)\n"
   ]
  },
  {
   "cell_type": "code",
   "execution_count": 13,
   "metadata": {},
   "outputs": [
    {
     "data": {
      "text/plain": [
       "ALB            1056\n",
       "GB-SCT         1056\n",
       "SVN            1056\n",
       "RUS            1056\n",
       "ROU            1056\n",
       "MDA            1056\n",
       "PRT            1056\n",
       "NLD            1056\n",
       "MLT            1056\n",
       "LUX            1056\n",
       "ITA            1056\n",
       "ISL            1056\n",
       "GRC            1056\n",
       "DEU            1056\n",
       "SWE            1056\n",
       "CZE            1056\n",
       "EST            1056\n",
       "GB-WLS         1056\n",
       "BE-VLG         1056\n",
       "HRV            1056\n",
       "CAN            1053\n",
       "HUN            1053\n",
       "POL            1053\n",
       "AUT            1052\n",
       "UKR            1052\n",
       "BE-WAL         1052\n",
       "FRA            1049\n",
       "GB-ENG         1049\n",
       "FIN            1048\n",
       "ARM            1047\n",
       "DNK            1040\n",
       "LTU            1037\n",
       "MKD            1031\n",
       "BGR            1024\n",
       "LVA            1021\n",
       "CHE            1020\n",
       "IRL            1018\n",
       "NOR            1012\n",
       "ESP            1006\n",
       "SVK             949\n",
       "GRL             883\n",
       "HBSC_MEMBER     801\n",
       "GEO             751\n",
       "KAZ             751\n",
       "ISR             740\n",
       "SRB             735\n",
       "AZE             715\n",
       "Name: COUNTRY_REGION, dtype: int64"
      ]
     },
     "execution_count": 13,
     "metadata": {},
     "output_type": "execute_result"
    }
   ],
   "source": [
    "hbsc['COUNTRY_REGION'].value_counts()"
   ]
  },
  {
   "cell_type": "code",
   "execution_count": 14,
   "metadata": {},
   "outputs": [],
   "source": [
    "import matplotlib.pyplot as plt"
   ]
  },
  {
   "cell_type": "code",
   "execution_count": 15,
   "metadata": {},
   "outputs": [
    {
     "name": "stdout",
     "output_type": "stream",
     "text": [
      "<class 'pandas.core.series.Series'>\n",
      "RangeIndex: 47162 entries, 0 to 47161\n",
      "Series name: AGE_GRP\n",
      "Non-Null Count  Dtype \n",
      "--------------  ----- \n",
      "46855 non-null  object\n",
      "dtypes: object(1)\n",
      "memory usage: 368.6+ KB\n"
     ]
    }
   ],
   "source": [
    "hbsc['AGE_GRP'].info()"
   ]
  },
  {
   "cell_type": "code",
   "execution_count": 16,
   "metadata": {},
   "outputs": [
    {
     "data": {
      "text/plain": [
       "15YO     12737\n",
       "TOTAL    11608\n",
       "11YO     11255\n",
       "13YO     11255\n",
       "Name: AGE_GRP, dtype: int64"
      ]
     },
     "execution_count": 16,
     "metadata": {},
     "output_type": "execute_result"
    }
   ],
   "source": [
    "hbsc['AGE_GRP'].value_counts()"
   ]
  },
  {
   "cell_type": "code",
   "execution_count": 17,
   "metadata": {},
   "outputs": [
    {
     "name": "stdout",
     "output_type": "stream",
     "text": [
      "<class 'pandas.core.series.Series'>\n",
      "Int64Index: 47162 entries, 0 to 33052\n",
      "Series name: AGE_GRP\n",
      "Non-Null Count  Dtype \n",
      "--------------  ----- \n",
      "46855 non-null  object\n",
      "dtypes: object(1)\n",
      "memory usage: 736.9+ KB\n"
     ]
    }
   ],
   "source": [
    "hbsc['AGE_GRP'].sort_values().info()"
   ]
  },
  {
   "cell_type": "code",
   "execution_count": 18,
   "metadata": {},
   "outputs": [
    {
     "name": "stdout",
     "output_type": "stream",
     "text": [
      "Number of missing values in AGE_GRP: 307\n"
     ]
    }
   ],
   "source": [
    "missing_age_grp = hbsc['AGE_GRP'].isna()\n",
    "print(f\"Number of missing values in AGE_GRP: {missing_age_grp.sum()}\")"
   ]
  },
  {
   "cell_type": "code",
   "execution_count": 19,
   "metadata": {},
   "outputs": [],
   "source": [
    "hbsc_clean = hbsc.dropna(subset=['AGE_GRP'])"
   ]
  },
  {
   "cell_type": "code",
   "execution_count": 20,
   "metadata": {},
   "outputs": [
    {
     "data": {
      "text/plain": [
       "(46855, 10)"
      ]
     },
     "execution_count": 20,
     "metadata": {},
     "output_type": "execute_result"
    }
   ],
   "source": [
    "hbsc_clean.shape"
   ]
  },
  {
   "cell_type": "code",
   "execution_count": 21,
   "metadata": {},
   "outputs": [
    {
     "data": {
      "image/png": "[encoded data removed]",
      "text/plain": [
       "<Figure size 1000x600 with 1 Axes>"
      ]
     },
     "metadata": {},
     "output_type": "display_data"
    }
   ],
   "source": [
    "age_grp_counts = hbsc_clean['AGE_GRP'].value_counts().sort_index()\n",
    "\n",
    "# Plot the value counts as a bar chart\n",
    "plt.figure(figsize=(10, 6))\n",
    "age_grp_counts.plot(kind='bar', color='skyblue')\n",
    "\n",
    "# Add title and labels\n",
    "plt.title('Distribution of Age Groups')\n",
    "plt.xlabel('Age Group')\n",
    "plt.ylabel('Counts')\n",
    "\n",
    "# Rotate x-axis labels for better readability\n",
    "plt.xticks(rotation=45, ha='right')\n",
    "\n",
    "# Show the plot\n",
    "plt.tight_layout()\n",
    "plt.show()"
   ]
  },
  {
   "cell_type": "markdown",
   "metadata": {},
   "source": [
    "### HBSC_79 Percentage point difference in prevalence of self-rated health, between low and high family affluence groups ###\n"
   ]
  },
  {
   "cell_type": "markdown",
   "metadata": {},
   "source": [
    "#### Young people were asked to describe their health (Would you say your health is ...?). Response options were excellent, good, fair and poor. Findings show associations between family affluence and reporting their health as either fair or poor.0 means less than +-0.5%. Low- and high-affluence groups represent the lowest 20% and highest 20% in each country. ####\n",
    "\n"
   ]
  },
  {
   "cell_type": "code",
   "execution_count": 22,
   "metadata": {},
   "outputs": [],
   "source": [
    "# Filter the DataFrame to include only the relevant measure code\n",
    "filtered_df = hbsc_clean[hbsc_clean['Measure code'] == 'HBSC_79']"
   ]
  },
  {
   "cell_type": "code",
   "execution_count": 23,
   "metadata": {},
   "outputs": [],
   "source": [
    "# Select the relevant columns\n",
    "hbsc_79_2014 = filtered_df[['COUNTRY_REGION', 'Measure code', '2014', 'AGE_GRP']]"
   ]
  },
  {
   "cell_type": "code",
   "execution_count": 24,
   "metadata": {},
   "outputs": [
    {
     "data": {
      "text/html": [
       "<div>\n",
       "<style scoped>\n",
       "    .dataframe tbody tr th:only-of-type {\n",
       "        vertical-align: middle;\n",
       "    }\n",
       "\n",
       "    .dataframe tbody tr th {\n",
       "        vertical-align: top;\n",
       "    }\n",
       "\n",
       "    .dataframe thead th {\n",
       "        text-align: right;\n",
       "    }\n",
       "</style>\n",
       "<table border=\"1\" class=\"dataframe\">\n",
       "  <thead>\n",
       "    <tr style=\"text-align: right;\">\n",
       "      <th></th>\n",
       "      <th>COUNTRY_REGION</th>\n",
       "      <th>Measure code</th>\n",
       "      <th>2014</th>\n",
       "      <th>AGE_GRP</th>\n",
       "    </tr>\n",
       "  </thead>\n",
       "  <tbody>\n",
       "    <tr>\n",
       "      <th>27611</th>\n",
       "      <td>ALB</td>\n",
       "      <td>HBSC_79</td>\n",
       "      <td>-2.0</td>\n",
       "      <td>TOTAL</td>\n",
       "    </tr>\n",
       "    <tr>\n",
       "      <th>27612</th>\n",
       "      <td>ARM</td>\n",
       "      <td>HBSC_79</td>\n",
       "      <td>NaN</td>\n",
       "      <td>TOTAL</td>\n",
       "    </tr>\n",
       "    <tr>\n",
       "      <th>27613</th>\n",
       "      <td>AUT</td>\n",
       "      <td>HBSC_79</td>\n",
       "      <td>0.0</td>\n",
       "      <td>TOTAL</td>\n",
       "    </tr>\n",
       "    <tr>\n",
       "      <th>27614</th>\n",
       "      <td>BE-VLG</td>\n",
       "      <td>HBSC_79</td>\n",
       "      <td>NaN</td>\n",
       "      <td>TOTAL</td>\n",
       "    </tr>\n",
       "    <tr>\n",
       "      <th>27615</th>\n",
       "      <td>BE-WAL</td>\n",
       "      <td>HBSC_79</td>\n",
       "      <td>NaN</td>\n",
       "      <td>TOTAL</td>\n",
       "    </tr>\n",
       "    <tr>\n",
       "      <th>...</th>\n",
       "      <td>...</td>\n",
       "      <td>...</td>\n",
       "      <td>...</td>\n",
       "      <td>...</td>\n",
       "    </tr>\n",
       "    <tr>\n",
       "      <th>27774</th>\n",
       "      <td>CHE</td>\n",
       "      <td>HBSC_79</td>\n",
       "      <td>-4.0</td>\n",
       "      <td>TOTAL</td>\n",
       "    </tr>\n",
       "    <tr>\n",
       "      <th>27775</th>\n",
       "      <td>UKR</td>\n",
       "      <td>HBSC_79</td>\n",
       "      <td>-6.0</td>\n",
       "      <td>TOTAL</td>\n",
       "    </tr>\n",
       "    <tr>\n",
       "      <th>27776</th>\n",
       "      <td>GB-ENG</td>\n",
       "      <td>HBSC_79</td>\n",
       "      <td>NaN</td>\n",
       "      <td>TOTAL</td>\n",
       "    </tr>\n",
       "    <tr>\n",
       "      <th>27777</th>\n",
       "      <td>GB-SCT</td>\n",
       "      <td>HBSC_79</td>\n",
       "      <td>-18.0</td>\n",
       "      <td>TOTAL</td>\n",
       "    </tr>\n",
       "    <tr>\n",
       "      <th>27778</th>\n",
       "      <td>GB-WLS</td>\n",
       "      <td>HBSC_79</td>\n",
       "      <td>-11.0</td>\n",
       "      <td>TOTAL</td>\n",
       "    </tr>\n",
       "  </tbody>\n",
       "</table>\n",
       "<p>168 rows × 4 columns</p>\n",
       "</div>"
      ],
      "text/plain": [
       "      COUNTRY_REGION Measure code  2014 AGE_GRP\n",
       "27611            ALB      HBSC_79  -2.0   TOTAL\n",
       "27612            ARM      HBSC_79   NaN   TOTAL\n",
       "27613            AUT      HBSC_79   0.0   TOTAL\n",
       "27614         BE-VLG      HBSC_79   NaN   TOTAL\n",
       "27615         BE-WAL      HBSC_79   NaN   TOTAL\n",
       "...              ...          ...   ...     ...\n",
       "27774            CHE      HBSC_79  -4.0   TOTAL\n",
       "27775            UKR      HBSC_79  -6.0   TOTAL\n",
       "27776         GB-ENG      HBSC_79   NaN   TOTAL\n",
       "27777         GB-SCT      HBSC_79 -18.0   TOTAL\n",
       "27778         GB-WLS      HBSC_79 -11.0   TOTAL\n",
       "\n",
       "[168 rows x 4 columns]"
      ]
     },
     "execution_count": 24,
     "metadata": {},
     "output_type": "execute_result"
    }
   ],
   "source": [
    "hbsc_79_2014"
   ]
  },
  {
   "cell_type": "code",
   "execution_count": 25,
   "metadata": {},
   "outputs": [
    {
     "name": "stdout",
     "output_type": "stream",
     "text": [
      "<class 'pandas.core.series.Series'>\n",
      "Int64Index: 168 entries, 27611 to 27778\n",
      "Series name: 2014\n",
      "Non-Null Count  Dtype  \n",
      "--------------  -----  \n",
      "84 non-null     float64\n",
      "dtypes: float64(1)\n",
      "memory usage: 2.6 KB\n"
     ]
    }
   ],
   "source": [
    "hbsc_79_2014['2014'].info()\n"
   ]
  },
  {
   "cell_type": "code",
   "execution_count": 26,
   "metadata": {},
   "outputs": [
    {
     "data": {
      "text/plain": [
       "(168, 4)"
      ]
     },
     "execution_count": 26,
     "metadata": {},
     "output_type": "execute_result"
    }
   ],
   "source": [
    "hbsc_79_2014.shape"
   ]
  },
  {
   "cell_type": "code",
   "execution_count": 27,
   "metadata": {},
   "outputs": [
    {
     "data": {
      "text/plain": [
       "COUNTRY_REGION     0\n",
       "Measure code       0\n",
       "2014              84\n",
       "AGE_GRP            0\n",
       "dtype: int64"
      ]
     },
     "execution_count": 27,
     "metadata": {},
     "output_type": "execute_result"
    }
   ],
   "source": [
    "hbsc_79_2014.isna().sum()"
   ]
  },
  {
   "cell_type": "code",
   "execution_count": 29,
   "metadata": {},
   "outputs": [],
   "source": [
    "import seaborn as sns"
   ]
  },
  {
   "cell_type": "code",
   "execution_count": 30,
   "metadata": {},
   "outputs": [
    {
     "name": "stderr",
     "output_type": "stream",
     "text": [
      "/opt/homebrew/Caskroom/miniconda/base/envs/nf_sql/lib/python3.9/site-packages/seaborn/algorithms.py:98: RuntimeWarning: Mean of empty slice\n",
      "  boot_dist.append(f(*sample, **func_kwargs))\n",
      "/opt/homebrew/Caskroom/miniconda/base/envs/nf_sql/lib/python3.9/site-packages/seaborn/algorithms.py:98: RuntimeWarning: Mean of empty slice\n",
      "  boot_dist.append(f(*sample, **func_kwargs))\n",
      "/opt/homebrew/Caskroom/miniconda/base/envs/nf_sql/lib/python3.9/site-packages/seaborn/algorithms.py:98: RuntimeWarning: Mean of empty slice\n",
      "  boot_dist.append(f(*sample, **func_kwargs))\n",
      "/opt/homebrew/Caskroom/miniconda/base/envs/nf_sql/lib/python3.9/site-packages/seaborn/algorithms.py:98: RuntimeWarning: Mean of empty slice\n",
      "  boot_dist.append(f(*sample, **func_kwargs))\n",
      "/opt/homebrew/Caskroom/miniconda/base/envs/nf_sql/lib/python3.9/site-packages/seaborn/algorithms.py:98: RuntimeWarning: Mean of empty slice\n",
      "  boot_dist.append(f(*sample, **func_kwargs))\n",
      "/opt/homebrew/Caskroom/miniconda/base/envs/nf_sql/lib/python3.9/site-packages/seaborn/algorithms.py:98: RuntimeWarning: Mean of empty slice\n",
      "  boot_dist.append(f(*sample, **func_kwargs))\n",
      "/opt/homebrew/Caskroom/miniconda/base/envs/nf_sql/lib/python3.9/site-packages/seaborn/algorithms.py:98: RuntimeWarning: Mean of empty slice\n",
      "  boot_dist.append(f(*sample, **func_kwargs))\n",
      "/opt/homebrew/Caskroom/miniconda/base/envs/nf_sql/lib/python3.9/site-packages/seaborn/algorithms.py:98: RuntimeWarning: Mean of empty slice\n",
      "  boot_dist.append(f(*sample, **func_kwargs))\n",
      "/opt/homebrew/Caskroom/miniconda/base/envs/nf_sql/lib/python3.9/site-packages/seaborn/algorithms.py:98: RuntimeWarning: Mean of empty slice\n",
      "  boot_dist.append(f(*sample, **func_kwargs))\n",
      "/opt/homebrew/Caskroom/miniconda/base/envs/nf_sql/lib/python3.9/site-packages/seaborn/algorithms.py:98: RuntimeWarning: Mean of empty slice\n",
      "  boot_dist.append(f(*sample, **func_kwargs))\n",
      "/opt/homebrew/Caskroom/miniconda/base/envs/nf_sql/lib/python3.9/site-packages/seaborn/algorithms.py:98: RuntimeWarning: Mean of empty slice\n",
      "  boot_dist.append(f(*sample, **func_kwargs))\n",
      "/opt/homebrew/Caskroom/miniconda/base/envs/nf_sql/lib/python3.9/site-packages/seaborn/algorithms.py:98: RuntimeWarning: Mean of empty slice\n",
      "  boot_dist.append(f(*sample, **func_kwargs))\n",
      "/opt/homebrew/Caskroom/miniconda/base/envs/nf_sql/lib/python3.9/site-packages/seaborn/algorithms.py:98: RuntimeWarning: Mean of empty slice\n",
      "  boot_dist.append(f(*sample, **func_kwargs))\n",
      "/opt/homebrew/Caskroom/miniconda/base/envs/nf_sql/lib/python3.9/site-packages/seaborn/algorithms.py:98: RuntimeWarning: Mean of empty slice\n",
      "  boot_dist.append(f(*sample, **func_kwargs))\n",
      "/opt/homebrew/Caskroom/miniconda/base/envs/nf_sql/lib/python3.9/site-packages/seaborn/algorithms.py:98: RuntimeWarning: Mean of empty slice\n",
      "  boot_dist.append(f(*sample, **func_kwargs))\n",
      "/opt/homebrew/Caskroom/miniconda/base/envs/nf_sql/lib/python3.9/site-packages/seaborn/algorithms.py:98: RuntimeWarning: Mean of empty slice\n",
      "  boot_dist.append(f(*sample, **func_kwargs))\n",
      "/opt/homebrew/Caskroom/miniconda/base/envs/nf_sql/lib/python3.9/site-packages/seaborn/algorithms.py:98: RuntimeWarning: Mean of empty slice\n",
      "  boot_dist.append(f(*sample, **func_kwargs))\n",
      "/opt/homebrew/Caskroom/miniconda/base/envs/nf_sql/lib/python3.9/site-packages/seaborn/algorithms.py:98: RuntimeWarning: Mean of empty slice\n",
      "  boot_dist.append(f(*sample, **func_kwargs))\n",
      "/opt/homebrew/Caskroom/miniconda/base/envs/nf_sql/lib/python3.9/site-packages/seaborn/algorithms.py:98: RuntimeWarning: Mean of empty slice\n",
      "  boot_dist.append(f(*sample, **func_kwargs))\n",
      "/opt/homebrew/Caskroom/miniconda/base/envs/nf_sql/lib/python3.9/site-packages/seaborn/algorithms.py:98: RuntimeWarning: Mean of empty slice\n",
      "  boot_dist.append(f(*sample, **func_kwargs))\n",
      "/opt/homebrew/Caskroom/miniconda/base/envs/nf_sql/lib/python3.9/site-packages/seaborn/algorithms.py:98: RuntimeWarning: Mean of empty slice\n",
      "  boot_dist.append(f(*sample, **func_kwargs))\n",
      "/opt/homebrew/Caskroom/miniconda/base/envs/nf_sql/lib/python3.9/site-packages/seaborn/algorithms.py:98: RuntimeWarning: Mean of empty slice\n",
      "  boot_dist.append(f(*sample, **func_kwargs))\n",
      "/opt/homebrew/Caskroom/miniconda/base/envs/nf_sql/lib/python3.9/site-packages/seaborn/algorithms.py:98: RuntimeWarning: Mean of empty slice\n",
      "  boot_dist.append(f(*sample, **func_kwargs))\n",
      "/opt/homebrew/Caskroom/miniconda/base/envs/nf_sql/lib/python3.9/site-packages/seaborn/algorithms.py:98: RuntimeWarning: Mean of empty slice\n",
      "  boot_dist.append(f(*sample, **func_kwargs))\n",
      "/opt/homebrew/Caskroom/miniconda/base/envs/nf_sql/lib/python3.9/site-packages/seaborn/algorithms.py:98: RuntimeWarning: Mean of empty slice\n",
      "  boot_dist.append(f(*sample, **func_kwargs))\n",
      "/opt/homebrew/Caskroom/miniconda/base/envs/nf_sql/lib/python3.9/site-packages/seaborn/algorithms.py:98: RuntimeWarning: Mean of empty slice\n",
      "  boot_dist.append(f(*sample, **func_kwargs))\n",
      "/opt/homebrew/Caskroom/miniconda/base/envs/nf_sql/lib/python3.9/site-packages/seaborn/algorithms.py:98: RuntimeWarning: Mean of empty slice\n",
      "  boot_dist.append(f(*sample, **func_kwargs))\n",
      "/opt/homebrew/Caskroom/miniconda/base/envs/nf_sql/lib/python3.9/site-packages/seaborn/algorithms.py:98: RuntimeWarning: Mean of empty slice\n",
      "  boot_dist.append(f(*sample, **func_kwargs))\n",
      "/opt/homebrew/Caskroom/miniconda/base/envs/nf_sql/lib/python3.9/site-packages/seaborn/algorithms.py:98: RuntimeWarning: Mean of empty slice\n",
      "  boot_dist.append(f(*sample, **func_kwargs))\n",
      "/opt/homebrew/Caskroom/miniconda/base/envs/nf_sql/lib/python3.9/site-packages/seaborn/algorithms.py:98: RuntimeWarning: Mean of empty slice\n",
      "  boot_dist.append(f(*sample, **func_kwargs))\n",
      "/opt/homebrew/Caskroom/miniconda/base/envs/nf_sql/lib/python3.9/site-packages/seaborn/algorithms.py:98: RuntimeWarning: Mean of empty slice\n",
      "  boot_dist.append(f(*sample, **func_kwargs))\n",
      "/opt/homebrew/Caskroom/miniconda/base/envs/nf_sql/lib/python3.9/site-packages/seaborn/algorithms.py:98: RuntimeWarning: Mean of empty slice\n",
      "  boot_dist.append(f(*sample, **func_kwargs))\n",
      "/opt/homebrew/Caskroom/miniconda/base/envs/nf_sql/lib/python3.9/site-packages/seaborn/algorithms.py:98: RuntimeWarning: Mean of empty slice\n",
      "  boot_dist.append(f(*sample, **func_kwargs))\n",
      "/opt/homebrew/Caskroom/miniconda/base/envs/nf_sql/lib/python3.9/site-packages/seaborn/algorithms.py:98: RuntimeWarning: Mean of empty slice\n",
      "  boot_dist.append(f(*sample, **func_kwargs))\n",
      "/opt/homebrew/Caskroom/miniconda/base/envs/nf_sql/lib/python3.9/site-packages/seaborn/algorithms.py:98: RuntimeWarning: Mean of empty slice\n",
      "  boot_dist.append(f(*sample, **func_kwargs))\n",
      "/opt/homebrew/Caskroom/miniconda/base/envs/nf_sql/lib/python3.9/site-packages/seaborn/algorithms.py:98: RuntimeWarning: Mean of empty slice\n",
      "  boot_dist.append(f(*sample, **func_kwargs))\n",
      "/opt/homebrew/Caskroom/miniconda/base/envs/nf_sql/lib/python3.9/site-packages/seaborn/algorithms.py:98: RuntimeWarning: Mean of empty slice\n",
      "  boot_dist.append(f(*sample, **func_kwargs))\n",
      "/opt/homebrew/Caskroom/miniconda/base/envs/nf_sql/lib/python3.9/site-packages/seaborn/algorithms.py:98: RuntimeWarning: Mean of empty slice\n",
      "  boot_dist.append(f(*sample, **func_kwargs))\n",
      "/opt/homebrew/Caskroom/miniconda/base/envs/nf_sql/lib/python3.9/site-packages/seaborn/algorithms.py:98: RuntimeWarning: Mean of empty slice\n",
      "  boot_dist.append(f(*sample, **func_kwargs))\n",
      "/opt/homebrew/Caskroom/miniconda/base/envs/nf_sql/lib/python3.9/site-packages/seaborn/algorithms.py:98: RuntimeWarning: Mean of empty slice\n",
      "  boot_dist.append(f(*sample, **func_kwargs))\n",
      "/opt/homebrew/Caskroom/miniconda/base/envs/nf_sql/lib/python3.9/site-packages/seaborn/algorithms.py:98: RuntimeWarning: Mean of empty slice\n",
      "  boot_dist.append(f(*sample, **func_kwargs))\n",
      "/opt/homebrew/Caskroom/miniconda/base/envs/nf_sql/lib/python3.9/site-packages/seaborn/algorithms.py:98: RuntimeWarning: Mean of empty slice\n",
      "  boot_dist.append(f(*sample, **func_kwargs))\n"
     ]
    },
    {
     "data": {
      "text/plain": [
       "(array([-25., -20., -15., -10.,  -5.,   0.]),\n",
       " [Text(-25.0, 0, '−25'),\n",
       "  Text(-20.0, 0, '−20'),\n",
       "  Text(-15.0, 0, '−15'),\n",
       "  Text(-10.0, 0, '−10'),\n",
       "  Text(-5.0, 0, '−5'),\n",
       "  Text(0.0, 0, '0')])"
      ]
     },
     "execution_count": 30,
     "metadata": {},
     "output_type": "execute_result"
    },
    {
     "data": {
      "text/plain": [
       "<Figure size 800x800 with 0 Axes>"
      ]
     },
     "metadata": {},
     "output_type": "display_data"
    },
    {
     "data": {
      "image/png": "[encoded data removed]",
      "text/plain": [
       "<Figure size 500x500 with 1 Axes>"
      ]
     },
     "metadata": {},
     "output_type": "display_data"
    }
   ],
   "source": [
    "plt.figure(figsize=(8, 8))\n",
    "sns.catplot(data=hbsc_79_2014, x=\"2014\", y=\"COUNTRY_REGION\", kind=\"bar\")\n",
    "plt.xticks(rotation=90)"
   ]
  },
  {
   "cell_type": "code",
   "execution_count": null,
   "metadata": {},
   "outputs": [],
   "source": []
  },
  {
   "cell_type": "markdown",
   "metadata": {},
   "source": [
    "### HBSC_80Percentage point difference in prevalence of life satisfaction, between low and high family affluence groups ###\n"
   ]
  },
  {
   "cell_type": "markdown",
   "metadata": {},
   "source": [
    "#### Young people were asked to rate their life satisfaction using a visual analogue scale. The Cantril ladder has 11 steps: the top indicates the best possible life and the bottom the worst. Respondents were asked to indicate the ladder step at which they would place their lives at present (from zero to 10). Findings show associations between family affluence and reporting high life satisfaction, defined as a score of six or more on the Cantril ladder. 0 means less than +-0.5%. Low- and high-affluence groups represent the lowest 20% and highest 20% in each country. ####"
   ]
  },
  {
   "cell_type": "code",
   "execution_count": 31,
   "metadata": {},
   "outputs": [],
   "source": [
    "# Filter the DataFrame to include only the relevant measure code\n",
    "filtered_df_2 = hbsc_clean[hbsc_clean['Measure code'] == 'HBSC_80']"
   ]
  },
  {
   "cell_type": "code",
   "execution_count": 32,
   "metadata": {},
   "outputs": [],
   "source": [
    "# Select the relevant columns\n",
    "hbsc_80_2014 = filtered_df_2[['COUNTRY_REGION', 'Measure code', '2014', 'AGE_GRP']]"
   ]
  },
  {
   "cell_type": "code",
   "execution_count": 33,
   "metadata": {},
   "outputs": [
    {
     "data": {
      "text/plain": [
       "(184, 4)"
      ]
     },
     "execution_count": 33,
     "metadata": {},
     "output_type": "execute_result"
    }
   ],
   "source": [
    "hbsc_80_2014.shape"
   ]
  },
  {
   "cell_type": "code",
   "execution_count": 34,
   "metadata": {},
   "outputs": [],
   "source": [
    "hbsc_80_2018 = filtered_df_2[['COUNTRY_REGION', 'Measure code', '2018', 'AGE_GRP']]"
   ]
  },
  {
   "cell_type": "code",
   "execution_count": 35,
   "metadata": {},
   "outputs": [
    {
     "data": {
      "text/plain": [
       "(184, 4)"
      ]
     },
     "execution_count": 35,
     "metadata": {},
     "output_type": "execute_result"
    }
   ],
   "source": [
    "hbsc_80_2018.shape"
   ]
  },
  {
   "cell_type": "code",
   "execution_count": 36,
   "metadata": {},
   "outputs": [
    {
     "name": "stderr",
     "output_type": "stream",
     "text": [
      "/opt/homebrew/Caskroom/miniconda/base/envs/nf_sql/lib/python3.9/site-packages/seaborn/algorithms.py:98: RuntimeWarning: Mean of empty slice\n",
      "  boot_dist.append(f(*sample, **func_kwargs))\n",
      "/opt/homebrew/Caskroom/miniconda/base/envs/nf_sql/lib/python3.9/site-packages/seaborn/algorithms.py:98: RuntimeWarning: Mean of empty slice\n",
      "  boot_dist.append(f(*sample, **func_kwargs))\n",
      "/opt/homebrew/Caskroom/miniconda/base/envs/nf_sql/lib/python3.9/site-packages/seaborn/algorithms.py:98: RuntimeWarning: Mean of empty slice\n",
      "  boot_dist.append(f(*sample, **func_kwargs))\n",
      "/opt/homebrew/Caskroom/miniconda/base/envs/nf_sql/lib/python3.9/site-packages/seaborn/algorithms.py:98: RuntimeWarning: Mean of empty slice\n",
      "  boot_dist.append(f(*sample, **func_kwargs))\n",
      "/opt/homebrew/Caskroom/miniconda/base/envs/nf_sql/lib/python3.9/site-packages/seaborn/algorithms.py:98: RuntimeWarning: Mean of empty slice\n",
      "  boot_dist.append(f(*sample, **func_kwargs))\n",
      "/opt/homebrew/Caskroom/miniconda/base/envs/nf_sql/lib/python3.9/site-packages/seaborn/algorithms.py:98: RuntimeWarning: Mean of empty slice\n",
      "  boot_dist.append(f(*sample, **func_kwargs))\n",
      "/opt/homebrew/Caskroom/miniconda/base/envs/nf_sql/lib/python3.9/site-packages/seaborn/algorithms.py:98: RuntimeWarning: Mean of empty slice\n",
      "  boot_dist.append(f(*sample, **func_kwargs))\n",
      "/opt/homebrew/Caskroom/miniconda/base/envs/nf_sql/lib/python3.9/site-packages/seaborn/algorithms.py:98: RuntimeWarning: Mean of empty slice\n",
      "  boot_dist.append(f(*sample, **func_kwargs))\n",
      "/opt/homebrew/Caskroom/miniconda/base/envs/nf_sql/lib/python3.9/site-packages/seaborn/algorithms.py:98: RuntimeWarning: Mean of empty slice\n",
      "  boot_dist.append(f(*sample, **func_kwargs))\n",
      "/opt/homebrew/Caskroom/miniconda/base/envs/nf_sql/lib/python3.9/site-packages/seaborn/algorithms.py:98: RuntimeWarning: Mean of empty slice\n",
      "  boot_dist.append(f(*sample, **func_kwargs))\n",
      "/opt/homebrew/Caskroom/miniconda/base/envs/nf_sql/lib/python3.9/site-packages/seaborn/algorithms.py:98: RuntimeWarning: Mean of empty slice\n",
      "  boot_dist.append(f(*sample, **func_kwargs))\n",
      "/opt/homebrew/Caskroom/miniconda/base/envs/nf_sql/lib/python3.9/site-packages/seaborn/algorithms.py:98: RuntimeWarning: Mean of empty slice\n",
      "  boot_dist.append(f(*sample, **func_kwargs))\n",
      "/opt/homebrew/Caskroom/miniconda/base/envs/nf_sql/lib/python3.9/site-packages/seaborn/algorithms.py:98: RuntimeWarning: Mean of empty slice\n",
      "  boot_dist.append(f(*sample, **func_kwargs))\n",
      "/opt/homebrew/Caskroom/miniconda/base/envs/nf_sql/lib/python3.9/site-packages/seaborn/algorithms.py:98: RuntimeWarning: Mean of empty slice\n",
      "  boot_dist.append(f(*sample, **func_kwargs))\n",
      "/opt/homebrew/Caskroom/miniconda/base/envs/nf_sql/lib/python3.9/site-packages/seaborn/algorithms.py:98: RuntimeWarning: Mean of empty slice\n",
      "  boot_dist.append(f(*sample, **func_kwargs))\n",
      "/opt/homebrew/Caskroom/miniconda/base/envs/nf_sql/lib/python3.9/site-packages/seaborn/algorithms.py:98: RuntimeWarning: Mean of empty slice\n",
      "  boot_dist.append(f(*sample, **func_kwargs))\n",
      "/opt/homebrew/Caskroom/miniconda/base/envs/nf_sql/lib/python3.9/site-packages/seaborn/algorithms.py:98: RuntimeWarning: Mean of empty slice\n",
      "  boot_dist.append(f(*sample, **func_kwargs))\n",
      "/opt/homebrew/Caskroom/miniconda/base/envs/nf_sql/lib/python3.9/site-packages/seaborn/algorithms.py:98: RuntimeWarning: Mean of empty slice\n",
      "  boot_dist.append(f(*sample, **func_kwargs))\n",
      "/opt/homebrew/Caskroom/miniconda/base/envs/nf_sql/lib/python3.9/site-packages/seaborn/algorithms.py:98: RuntimeWarning: Mean of empty slice\n",
      "  boot_dist.append(f(*sample, **func_kwargs))\n",
      "/opt/homebrew/Caskroom/miniconda/base/envs/nf_sql/lib/python3.9/site-packages/seaborn/algorithms.py:98: RuntimeWarning: Mean of empty slice\n",
      "  boot_dist.append(f(*sample, **func_kwargs))\n",
      "/opt/homebrew/Caskroom/miniconda/base/envs/nf_sql/lib/python3.9/site-packages/seaborn/algorithms.py:98: RuntimeWarning: Mean of empty slice\n",
      "  boot_dist.append(f(*sample, **func_kwargs))\n",
      "/opt/homebrew/Caskroom/miniconda/base/envs/nf_sql/lib/python3.9/site-packages/seaborn/algorithms.py:98: RuntimeWarning: Mean of empty slice\n",
      "  boot_dist.append(f(*sample, **func_kwargs))\n",
      "/opt/homebrew/Caskroom/miniconda/base/envs/nf_sql/lib/python3.9/site-packages/numpy/lib/nanfunctions.py:1384: RuntimeWarning: All-NaN slice encountered\n",
      "  return _nanquantile_unchecked(\n",
      "/opt/homebrew/Caskroom/miniconda/base/envs/nf_sql/lib/python3.9/site-packages/seaborn/algorithms.py:98: RuntimeWarning: Mean of empty slice\n",
      "  boot_dist.append(f(*sample, **func_kwargs))\n",
      "/opt/homebrew/Caskroom/miniconda/base/envs/nf_sql/lib/python3.9/site-packages/seaborn/algorithms.py:98: RuntimeWarning: Mean of empty slice\n",
      "  boot_dist.append(f(*sample, **func_kwargs))\n",
      "/opt/homebrew/Caskroom/miniconda/base/envs/nf_sql/lib/python3.9/site-packages/seaborn/algorithms.py:98: RuntimeWarning: Mean of empty slice\n",
      "  boot_dist.append(f(*sample, **func_kwargs))\n",
      "/opt/homebrew/Caskroom/miniconda/base/envs/nf_sql/lib/python3.9/site-packages/seaborn/algorithms.py:98: RuntimeWarning: Mean of empty slice\n",
      "  boot_dist.append(f(*sample, **func_kwargs))\n",
      "/opt/homebrew/Caskroom/miniconda/base/envs/nf_sql/lib/python3.9/site-packages/seaborn/algorithms.py:98: RuntimeWarning: Mean of empty slice\n",
      "  boot_dist.append(f(*sample, **func_kwargs))\n",
      "/opt/homebrew/Caskroom/miniconda/base/envs/nf_sql/lib/python3.9/site-packages/seaborn/algorithms.py:98: RuntimeWarning: Mean of empty slice\n",
      "  boot_dist.append(f(*sample, **func_kwargs))\n",
      "/opt/homebrew/Caskroom/miniconda/base/envs/nf_sql/lib/python3.9/site-packages/seaborn/algorithms.py:98: RuntimeWarning: Mean of empty slice\n",
      "  boot_dist.append(f(*sample, **func_kwargs))\n",
      "/opt/homebrew/Caskroom/miniconda/base/envs/nf_sql/lib/python3.9/site-packages/seaborn/algorithms.py:98: RuntimeWarning: Mean of empty slice\n",
      "  boot_dist.append(f(*sample, **func_kwargs))\n",
      "/opt/homebrew/Caskroom/miniconda/base/envs/nf_sql/lib/python3.9/site-packages/seaborn/algorithms.py:98: RuntimeWarning: Mean of empty slice\n",
      "  boot_dist.append(f(*sample, **func_kwargs))\n",
      "/opt/homebrew/Caskroom/miniconda/base/envs/nf_sql/lib/python3.9/site-packages/seaborn/algorithms.py:98: RuntimeWarning: Mean of empty slice\n",
      "  boot_dist.append(f(*sample, **func_kwargs))\n",
      "/opt/homebrew/Caskroom/miniconda/base/envs/nf_sql/lib/python3.9/site-packages/seaborn/algorithms.py:98: RuntimeWarning: Mean of empty slice\n",
      "  boot_dist.append(f(*sample, **func_kwargs))\n",
      "/opt/homebrew/Caskroom/miniconda/base/envs/nf_sql/lib/python3.9/site-packages/seaborn/algorithms.py:98: RuntimeWarning: Mean of empty slice\n",
      "  boot_dist.append(f(*sample, **func_kwargs))\n",
      "/opt/homebrew/Caskroom/miniconda/base/envs/nf_sql/lib/python3.9/site-packages/seaborn/algorithms.py:98: RuntimeWarning: Mean of empty slice\n",
      "  boot_dist.append(f(*sample, **func_kwargs))\n",
      "/opt/homebrew/Caskroom/miniconda/base/envs/nf_sql/lib/python3.9/site-packages/seaborn/algorithms.py:98: RuntimeWarning: Mean of empty slice\n",
      "  boot_dist.append(f(*sample, **func_kwargs))\n",
      "/opt/homebrew/Caskroom/miniconda/base/envs/nf_sql/lib/python3.9/site-packages/seaborn/algorithms.py:98: RuntimeWarning: Mean of empty slice\n",
      "  boot_dist.append(f(*sample, **func_kwargs))\n",
      "/opt/homebrew/Caskroom/miniconda/base/envs/nf_sql/lib/python3.9/site-packages/seaborn/algorithms.py:98: RuntimeWarning: Mean of empty slice\n",
      "  boot_dist.append(f(*sample, **func_kwargs))\n",
      "/opt/homebrew/Caskroom/miniconda/base/envs/nf_sql/lib/python3.9/site-packages/seaborn/algorithms.py:98: RuntimeWarning: Mean of empty slice\n",
      "  boot_dist.append(f(*sample, **func_kwargs))\n",
      "/opt/homebrew/Caskroom/miniconda/base/envs/nf_sql/lib/python3.9/site-packages/seaborn/algorithms.py:98: RuntimeWarning: Mean of empty slice\n",
      "  boot_dist.append(f(*sample, **func_kwargs))\n",
      "/opt/homebrew/Caskroom/miniconda/base/envs/nf_sql/lib/python3.9/site-packages/seaborn/algorithms.py:98: RuntimeWarning: Mean of empty slice\n",
      "  boot_dist.append(f(*sample, **func_kwargs))\n",
      "/opt/homebrew/Caskroom/miniconda/base/envs/nf_sql/lib/python3.9/site-packages/seaborn/algorithms.py:98: RuntimeWarning: Mean of empty slice\n",
      "  boot_dist.append(f(*sample, **func_kwargs))\n",
      "/opt/homebrew/Caskroom/miniconda/base/envs/nf_sql/lib/python3.9/site-packages/seaborn/algorithms.py:98: RuntimeWarning: Mean of empty slice\n",
      "  boot_dist.append(f(*sample, **func_kwargs))\n",
      "/opt/homebrew/Caskroom/miniconda/base/envs/nf_sql/lib/python3.9/site-packages/seaborn/algorithms.py:98: RuntimeWarning: Mean of empty slice\n",
      "  boot_dist.append(f(*sample, **func_kwargs))\n",
      "/opt/homebrew/Caskroom/miniconda/base/envs/nf_sql/lib/python3.9/site-packages/seaborn/algorithms.py:98: RuntimeWarning: Mean of empty slice\n",
      "  boot_dist.append(f(*sample, **func_kwargs))\n",
      "/opt/homebrew/Caskroom/miniconda/base/envs/nf_sql/lib/python3.9/site-packages/seaborn/algorithms.py:98: RuntimeWarning: Mean of empty slice\n",
      "  boot_dist.append(f(*sample, **func_kwargs))\n"
     ]
    },
    {
     "data": {
      "text/plain": [
       "(array([-20., -10.,   0.,  10.,  20.,  30.,  40.]),\n",
       " [Text(-20.0, 0, '−20'),\n",
       "  Text(-10.0, 0, '−10'),\n",
       "  Text(0.0, 0, '0'),\n",
       "  Text(10.0, 0, '10'),\n",
       "  Text(20.0, 0, '20'),\n",
       "  Text(30.0, 0, '30'),\n",
       "  Text(40.0, 0, '40')])"
      ]
     },
     "execution_count": 36,
     "metadata": {},
     "output_type": "execute_result"
    },
    {
     "data": {
      "text/plain": [
       "<Figure size 800x800 with 0 Axes>"
      ]
     },
     "metadata": {},
     "output_type": "display_data"
    },
    {
     "data": {
      "image/png": "[encoded data removed]",
      "text/plain": [
       "<Figure size 500x500 with 1 Axes>"
      ]
     },
     "metadata": {},
     "output_type": "display_data"
    }
   ],
   "source": [
    "plt.figure(figsize=(8, 8))\n",
    "sns.catplot(data=hbsc_80_2018, x=\"2018\", y=\"COUNTRY_REGION\", kind=\"bar\")\n",
    "plt.xticks(rotation=90)"
   ]
  },
  {
   "cell_type": "markdown",
   "metadata": {},
   "source": [
    "### HBSC_81: Percentage point difference in prevalence of health complaints, between low and high family affluence groups ###"
   ]
  },
  {
   "cell_type": "markdown",
   "metadata": {},
   "source": [
    "#### Young people were asked how often they had experienced the following symptoms in the last six months: headache; stomach ache; backache; feeling low, irritable or bad tempered; feeling nervous; difficulties in getting to sleep; and feeling dizzy. Response options for each symptom ranged from about every day to rarely or never. The measure presents a nonclinical measure of psychosomatic complaints and a sum-score scale that can be used for cross-national comparison. Findings show associations between family affluence and reporting multiple (two or more) health complaints more than once a week in the past six months. 0 means less than +-0.5%. Low- and high-affluence groups represent the lowest 20% and highest 20% in each country. ####"
   ]
  },
  {
   "cell_type": "code",
   "execution_count": null,
   "metadata": {},
   "outputs": [],
   "source": [
    "# Filter the DataFrame to include only the relevant measure code\n",
    "filtered_df_3 = hbsc_clean[hbsc_clean['Measure code'] == 'HBSC_81']"
   ]
  },
  {
   "cell_type": "code",
   "execution_count": null,
   "metadata": {},
   "outputs": [],
   "source": [
    "# Select the relevant columns\n",
    "hbsc_81_2014 = filtered_df_3[['COUNTRY_REGION', 'Measure code', '2014', 'AGE_GRP']]"
   ]
  },
  {
   "cell_type": "code",
   "execution_count": null,
   "metadata": {},
   "outputs": [],
   "source": [
    "hbsc_81_2014.shape"
   ]
  },
  {
   "cell_type": "code",
   "execution_count": null,
   "metadata": {},
   "outputs": [],
   "source": [
    "plt.figure(figsize=(10, 6))\n",
    "sns.catplot(data=hbsc_81_2014, x=\"2014\", y=\"COUNTRY_REGION\", kind=\"bar\")\n",
    "plt.xticks(rotation=90)"
   ]
  },
  {
   "cell_type": "code",
   "execution_count": null,
   "metadata": {},
   "outputs": [],
   "source": [
    "import matplotlib.pyplot as plt\n",
    "\n",
    "\n",
    "\n",
    "# Plotting\n",
    "plt.figure(figsize=(10, 6))\n",
    "plt.bar(selected_df['COUNTRY_REGION'], selected_df['2014'])\n",
    "plt.xlabel('Country/Region')\n",
    "plt.ylabel('Proportion of young people who drink soft drinks at least once a day')\n",
    "plt.title('Proportion of young people who drink soft drinks at least once a day in 2014 by Country/Region')\n",
    "plt.xticks(rotation=45, ha='right')  # Rotate x-axis labels for better readability\n",
    "plt.tight_layout()\n",
    "plt.show()\n"
   ]
  },
  {
   "cell_type": "code",
   "execution_count": null,
   "metadata": {},
   "outputs": [],
   "source": [
    "import seaborn as sns"
   ]
  },
  {
   "cell_type": "code",
   "execution_count": null,
   "metadata": {},
   "outputs": [],
   "source": [
    "plt.figure(figsize=(6, 6))\n",
    "sns.catplot(data=selected_df, x=\"COUNTRY_REGION\", y=\"2014\", hue=\"AGE_GRP\", kind=\"bar\")\n",
    "plt.xticks(rotation=90)"
   ]
  },
  {
   "cell_type": "markdown",
   "metadata": {},
   "source": [
    "### HBCS 15: Proportion of young people who report high life satisfaction  ###"
   ]
  },
  {
   "cell_type": "markdown",
   "metadata": {},
   "source": [
    "#### Young people were asked to rate their life satisfaction using a visual analogue scale. The Cantril ladder has 11 steps: the top indicates the best possible life and the bottom the worst. Respondents were asked to indicate the ladder step at which they would place their lives at present (from zero to 10). Findings presented here show the proportion reporting high life satisfaction, defined as a score of six or more on the Cantril ladder. ####"
   ]
  },
  {
   "cell_type": "code",
   "execution_count": 46,
   "metadata": {},
   "outputs": [],
   "source": [
    "high_lifesat = hbsc_clean[hbsc_clean['Measure code'] == 'HBSC_15'] # Filter the DataFrame to include only the relevant measure code\n"
   ]
  },
  {
   "cell_type": "code",
   "execution_count": 52,
   "metadata": {},
   "outputs": [
    {
     "name": "stdout",
     "output_type": "stream",
     "text": [
      "<class 'pandas.core.frame.DataFrame'>\n",
      "Int64Index: 567 entries, 5442 to 6008\n",
      "Data columns (total 10 columns):\n",
      " #   Column            Non-Null Count  Dtype  \n",
      "---  ------            --------------  -----  \n",
      " 0   Measure code      567 non-null    object \n",
      " 1   AGE_GRP           567 non-null    object \n",
      " 2   SEX               567 non-null    object \n",
      " 3   SIGNIF_GENDER     558 non-null    object \n",
      " 4   SIGNIF_AFFL       0 non-null      object \n",
      " 5   FAMILY_STATUS     0 non-null      object \n",
      " 6   IMMIGRANT_STATUS  0 non-null      object \n",
      " 7   COUNTRY_REGION    567 non-null    object \n",
      " 8   2014              261 non-null    float64\n",
      " 9   2018              279 non-null    float64\n",
      "dtypes: float64(2), object(8)\n",
      "memory usage: 48.7+ KB\n"
     ]
    }
   ],
   "source": [
    "high_lifesat.info(verbose=True)"
   ]
  },
  {
   "cell_type": "code",
   "execution_count": 47,
   "metadata": {},
   "outputs": [
    {
     "data": {
      "text/html": [
       "<div>\n",
       "<style scoped>\n",
       "    .dataframe tbody tr th:only-of-type {\n",
       "        vertical-align: middle;\n",
       "    }\n",
       "\n",
       "    .dataframe tbody tr th {\n",
       "        vertical-align: top;\n",
       "    }\n",
       "\n",
       "    .dataframe thead th {\n",
       "        text-align: right;\n",
       "    }\n",
       "</style>\n",
       "<table border=\"1\" class=\"dataframe\">\n",
       "  <thead>\n",
       "    <tr style=\"text-align: right;\">\n",
       "      <th></th>\n",
       "      <th>Measure code</th>\n",
       "      <th>AGE_GRP</th>\n",
       "      <th>SEX</th>\n",
       "      <th>SIGNIF_GENDER</th>\n",
       "      <th>SIGNIF_AFFL</th>\n",
       "      <th>FAMILY_STATUS</th>\n",
       "      <th>IMMIGRANT_STATUS</th>\n",
       "      <th>COUNTRY_REGION</th>\n",
       "      <th>2014</th>\n",
       "      <th>2018</th>\n",
       "    </tr>\n",
       "  </thead>\n",
       "  <tbody>\n",
       "    <tr>\n",
       "      <th>count</th>\n",
       "      <td>567</td>\n",
       "      <td>567</td>\n",
       "      <td>567</td>\n",
       "      <td>558</td>\n",
       "      <td>0</td>\n",
       "      <td>0</td>\n",
       "      <td>0</td>\n",
       "      <td>567</td>\n",
       "      <td>261.000000</td>\n",
       "      <td>279.000000</td>\n",
       "    </tr>\n",
       "    <tr>\n",
       "      <th>unique</th>\n",
       "      <td>1</td>\n",
       "      <td>3</td>\n",
       "      <td>3</td>\n",
       "      <td>2</td>\n",
       "      <td>0</td>\n",
       "      <td>0</td>\n",
       "      <td>0</td>\n",
       "      <td>47</td>\n",
       "      <td>NaN</td>\n",
       "      <td>NaN</td>\n",
       "    </tr>\n",
       "    <tr>\n",
       "      <th>top</th>\n",
       "      <td>HBSC_15</td>\n",
       "      <td>11YO</td>\n",
       "      <td>FEMALE</td>\n",
       "      <td>NOTSIGNIF</td>\n",
       "      <td>NaN</td>\n",
       "      <td>NaN</td>\n",
       "      <td>NaN</td>\n",
       "      <td>HBSC_MEMBER</td>\n",
       "      <td>NaN</td>\n",
       "      <td>NaN</td>\n",
       "    </tr>\n",
       "    <tr>\n",
       "      <th>freq</th>\n",
       "      <td>567</td>\n",
       "      <td>189</td>\n",
       "      <td>282</td>\n",
       "      <td>282</td>\n",
       "      <td>NaN</td>\n",
       "      <td>NaN</td>\n",
       "      <td>NaN</td>\n",
       "      <td>15</td>\n",
       "      <td>NaN</td>\n",
       "      <td>NaN</td>\n",
       "    </tr>\n",
       "    <tr>\n",
       "      <th>mean</th>\n",
       "      <td>NaN</td>\n",
       "      <td>NaN</td>\n",
       "      <td>NaN</td>\n",
       "      <td>NaN</td>\n",
       "      <td>NaN</td>\n",
       "      <td>NaN</td>\n",
       "      <td>NaN</td>\n",
       "      <td>NaN</td>\n",
       "      <td>85.854406</td>\n",
       "      <td>58.724014</td>\n",
       "    </tr>\n",
       "    <tr>\n",
       "      <th>std</th>\n",
       "      <td>NaN</td>\n",
       "      <td>NaN</td>\n",
       "      <td>NaN</td>\n",
       "      <td>NaN</td>\n",
       "      <td>NaN</td>\n",
       "      <td>NaN</td>\n",
       "      <td>NaN</td>\n",
       "      <td>NaN</td>\n",
       "      <td>5.667881</td>\n",
       "      <td>11.421888</td>\n",
       "    </tr>\n",
       "    <tr>\n",
       "      <th>min</th>\n",
       "      <td>NaN</td>\n",
       "      <td>NaN</td>\n",
       "      <td>NaN</td>\n",
       "      <td>NaN</td>\n",
       "      <td>NaN</td>\n",
       "      <td>NaN</td>\n",
       "      <td>NaN</td>\n",
       "      <td>NaN</td>\n",
       "      <td>68.000000</td>\n",
       "      <td>26.000000</td>\n",
       "    </tr>\n",
       "    <tr>\n",
       "      <th>25%</th>\n",
       "      <td>NaN</td>\n",
       "      <td>NaN</td>\n",
       "      <td>NaN</td>\n",
       "      <td>NaN</td>\n",
       "      <td>NaN</td>\n",
       "      <td>NaN</td>\n",
       "      <td>NaN</td>\n",
       "      <td>NaN</td>\n",
       "      <td>83.000000</td>\n",
       "      <td>50.000000</td>\n",
       "    </tr>\n",
       "    <tr>\n",
       "      <th>50%</th>\n",
       "      <td>NaN</td>\n",
       "      <td>NaN</td>\n",
       "      <td>NaN</td>\n",
       "      <td>NaN</td>\n",
       "      <td>NaN</td>\n",
       "      <td>NaN</td>\n",
       "      <td>NaN</td>\n",
       "      <td>NaN</td>\n",
       "      <td>87.000000</td>\n",
       "      <td>60.000000</td>\n",
       "    </tr>\n",
       "    <tr>\n",
       "      <th>75%</th>\n",
       "      <td>NaN</td>\n",
       "      <td>NaN</td>\n",
       "      <td>NaN</td>\n",
       "      <td>NaN</td>\n",
       "      <td>NaN</td>\n",
       "      <td>NaN</td>\n",
       "      <td>NaN</td>\n",
       "      <td>NaN</td>\n",
       "      <td>90.000000</td>\n",
       "      <td>68.000000</td>\n",
       "    </tr>\n",
       "    <tr>\n",
       "      <th>max</th>\n",
       "      <td>NaN</td>\n",
       "      <td>NaN</td>\n",
       "      <td>NaN</td>\n",
       "      <td>NaN</td>\n",
       "      <td>NaN</td>\n",
       "      <td>NaN</td>\n",
       "      <td>NaN</td>\n",
       "      <td>NaN</td>\n",
       "      <td>96.000000</td>\n",
       "      <td>84.000000</td>\n",
       "    </tr>\n",
       "  </tbody>\n",
       "</table>\n",
       "</div>"
      ],
      "text/plain": [
       "       Measure code AGE_GRP     SEX SIGNIF_GENDER SIGNIF_AFFL FAMILY_STATUS  \\\n",
       "count           567     567     567           558           0             0   \n",
       "unique            1       3       3             2           0             0   \n",
       "top         HBSC_15    11YO  FEMALE     NOTSIGNIF         NaN           NaN   \n",
       "freq            567     189     282           282         NaN           NaN   \n",
       "mean            NaN     NaN     NaN           NaN         NaN           NaN   \n",
       "std             NaN     NaN     NaN           NaN         NaN           NaN   \n",
       "min             NaN     NaN     NaN           NaN         NaN           NaN   \n",
       "25%             NaN     NaN     NaN           NaN         NaN           NaN   \n",
       "50%             NaN     NaN     NaN           NaN         NaN           NaN   \n",
       "75%             NaN     NaN     NaN           NaN         NaN           NaN   \n",
       "max             NaN     NaN     NaN           NaN         NaN           NaN   \n",
       "\n",
       "       IMMIGRANT_STATUS COUNTRY_REGION        2014        2018  \n",
       "count                 0            567  261.000000  279.000000  \n",
       "unique                0             47         NaN         NaN  \n",
       "top                 NaN    HBSC_MEMBER         NaN         NaN  \n",
       "freq                NaN             15         NaN         NaN  \n",
       "mean                NaN            NaN   85.854406   58.724014  \n",
       "std                 NaN            NaN    5.667881   11.421888  \n",
       "min                 NaN            NaN   68.000000   26.000000  \n",
       "25%                 NaN            NaN   83.000000   50.000000  \n",
       "50%                 NaN            NaN   87.000000   60.000000  \n",
       "75%                 NaN            NaN   90.000000   68.000000  \n",
       "max                 NaN            NaN   96.000000   84.000000  "
      ]
     },
     "execution_count": 47,
     "metadata": {},
     "output_type": "execute_result"
    }
   ],
   "source": [
    "high_lifesat.describe(include='all')"
   ]
  },
  {
   "cell_type": "code",
   "execution_count": 50,
   "metadata": {},
   "outputs": [
    {
     "data": {
      "text/plain": [
       "Measure code         object\n",
       "AGE_GRP              object\n",
       "SEX                  object\n",
       "SIGNIF_GENDER        object\n",
       "SIGNIF_AFFL          object\n",
       "FAMILY_STATUS        object\n",
       "IMMIGRANT_STATUS     object\n",
       "COUNTRY_REGION       object\n",
       "2014                float64\n",
       "2018                float64\n",
       "dtype: object"
      ]
     },
     "execution_count": 50,
     "metadata": {},
     "output_type": "execute_result"
    }
   ],
   "source": [
    "high_lifesat.dtypes"
   ]
  },
  {
   "cell_type": "code",
   "execution_count": 51,
   "metadata": {},
   "outputs": [
    {
     "data": {
      "text/plain": [
       "array([['HBSC_15', '11YO', 'FEMALE', ..., 'ALB', 96.0, 69.0],\n",
       "       ['HBSC_15', '11YO', 'FEMALE', ..., 'ARM', 93.0, nan],\n",
       "       ['HBSC_15', '11YO', 'FEMALE', ..., 'AUT', 93.0, 73.0],\n",
       "       ...,\n",
       "       ['HBSC_15', '15YO', 'FEMALE', ..., 'HBSC_MEMBER', nan, 43.0],\n",
       "       ['HBSC_15', '15YO', 'MALE', ..., 'HBSC_MEMBER', 87.0, nan],\n",
       "       ['HBSC_15', '15YO', 'MALE', ..., 'HBSC_MEMBER', nan, 53.0]],\n",
       "      dtype=object)"
      ]
     },
     "execution_count": 51,
     "metadata": {},
     "output_type": "execute_result"
    }
   ],
   "source": [
    "high_lifesat.values"
   ]
  },
  {
   "cell_type": "code",
   "execution_count": 57,
   "metadata": {},
   "outputs": [
    {
     "data": {
      "text/html": [
       "<div>\n",
       "<style scoped>\n",
       "    .dataframe tbody tr th:only-of-type {\n",
       "        vertical-align: middle;\n",
       "    }\n",
       "\n",
       "    .dataframe tbody tr th {\n",
       "        vertical-align: top;\n",
       "    }\n",
       "\n",
       "    .dataframe thead th {\n",
       "        text-align: right;\n",
       "    }\n",
       "</style>\n",
       "<table border=\"1\" class=\"dataframe\">\n",
       "  <thead>\n",
       "    <tr style=\"text-align: right;\">\n",
       "      <th></th>\n",
       "      <th>Measure code</th>\n",
       "      <th>AGE_GRP</th>\n",
       "      <th>SEX</th>\n",
       "      <th>COUNTRY_REGION</th>\n",
       "    </tr>\n",
       "  </thead>\n",
       "  <tbody>\n",
       "    <tr>\n",
       "      <th>5442</th>\n",
       "      <td>HBSC_15</td>\n",
       "      <td>11YO</td>\n",
       "      <td>FEMALE</td>\n",
       "      <td>ALB</td>\n",
       "    </tr>\n",
       "    <tr>\n",
       "      <th>5443</th>\n",
       "      <td>HBSC_15</td>\n",
       "      <td>11YO</td>\n",
       "      <td>FEMALE</td>\n",
       "      <td>ARM</td>\n",
       "    </tr>\n",
       "    <tr>\n",
       "      <th>5444</th>\n",
       "      <td>HBSC_15</td>\n",
       "      <td>11YO</td>\n",
       "      <td>FEMALE</td>\n",
       "      <td>AUT</td>\n",
       "    </tr>\n",
       "    <tr>\n",
       "      <th>5445</th>\n",
       "      <td>HBSC_15</td>\n",
       "      <td>11YO</td>\n",
       "      <td>FEMALE</td>\n",
       "      <td>AZE</td>\n",
       "    </tr>\n",
       "    <tr>\n",
       "      <th>5446</th>\n",
       "      <td>HBSC_15</td>\n",
       "      <td>11YO</td>\n",
       "      <td>FEMALE</td>\n",
       "      <td>BE-VLG</td>\n",
       "    </tr>\n",
       "    <tr>\n",
       "      <th>...</th>\n",
       "      <td>...</td>\n",
       "      <td>...</td>\n",
       "      <td>...</td>\n",
       "      <td>...</td>\n",
       "    </tr>\n",
       "    <tr>\n",
       "      <th>6004</th>\n",
       "      <td>HBSC_15</td>\n",
       "      <td>15YO</td>\n",
       "      <td>ALL</td>\n",
       "      <td>HBSC_MEMBER</td>\n",
       "    </tr>\n",
       "    <tr>\n",
       "      <th>6005</th>\n",
       "      <td>HBSC_15</td>\n",
       "      <td>15YO</td>\n",
       "      <td>FEMALE</td>\n",
       "      <td>HBSC_MEMBER</td>\n",
       "    </tr>\n",
       "    <tr>\n",
       "      <th>6006</th>\n",
       "      <td>HBSC_15</td>\n",
       "      <td>15YO</td>\n",
       "      <td>FEMALE</td>\n",
       "      <td>HBSC_MEMBER</td>\n",
       "    </tr>\n",
       "    <tr>\n",
       "      <th>6007</th>\n",
       "      <td>HBSC_15</td>\n",
       "      <td>15YO</td>\n",
       "      <td>MALE</td>\n",
       "      <td>HBSC_MEMBER</td>\n",
       "    </tr>\n",
       "    <tr>\n",
       "      <th>6008</th>\n",
       "      <td>HBSC_15</td>\n",
       "      <td>15YO</td>\n",
       "      <td>MALE</td>\n",
       "      <td>HBSC_MEMBER</td>\n",
       "    </tr>\n",
       "  </tbody>\n",
       "</table>\n",
       "<p>567 rows × 4 columns</p>\n",
       "</div>"
      ],
      "text/plain": [
       "     Measure code AGE_GRP     SEX COUNTRY_REGION\n",
       "5442      HBSC_15    11YO  FEMALE            ALB\n",
       "5443      HBSC_15    11YO  FEMALE            ARM\n",
       "5444      HBSC_15    11YO  FEMALE            AUT\n",
       "5445      HBSC_15    11YO  FEMALE            AZE\n",
       "5446      HBSC_15    11YO  FEMALE         BE-VLG\n",
       "...           ...     ...     ...            ...\n",
       "6004      HBSC_15    15YO     ALL    HBSC_MEMBER\n",
       "6005      HBSC_15    15YO  FEMALE    HBSC_MEMBER\n",
       "6006      HBSC_15    15YO  FEMALE    HBSC_MEMBER\n",
       "6007      HBSC_15    15YO    MALE    HBSC_MEMBER\n",
       "6008      HBSC_15    15YO    MALE    HBSC_MEMBER\n",
       "\n",
       "[567 rows x 4 columns]"
      ]
     },
     "execution_count": 57,
     "metadata": {},
     "output_type": "execute_result"
    }
   ],
   "source": [
    "high_lifesat.dropna(axis='columns')"
   ]
  },
  {
   "cell_type": "code",
   "execution_count": 63,
   "metadata": {},
   "outputs": [
    {
     "data": {
      "text/plain": [
       "FEMALE    282\n",
       "MALE      282\n",
       "ALL         3\n",
       "Name: SEX, dtype: int64"
      ]
     },
     "execution_count": 63,
     "metadata": {},
     "output_type": "execute_result"
    }
   ],
   "source": [
    "high_lifesat['SEX'].value_counts()"
   ]
  },
  {
   "cell_type": "code",
   "execution_count": 62,
   "metadata": {},
   "outputs": [
    {
     "data": {
      "text/html": [
       "<div>\n",
       "<style scoped>\n",
       "    .dataframe tbody tr th:only-of-type {\n",
       "        vertical-align: middle;\n",
       "    }\n",
       "\n",
       "    .dataframe tbody tr th {\n",
       "        vertical-align: top;\n",
       "    }\n",
       "\n",
       "    .dataframe thead th {\n",
       "        text-align: right;\n",
       "    }\n",
       "</style>\n",
       "<table border=\"1\" class=\"dataframe\">\n",
       "  <thead>\n",
       "    <tr style=\"text-align: right;\">\n",
       "      <th></th>\n",
       "      <th>2014</th>\n",
       "      <th>2018</th>\n",
       "    </tr>\n",
       "    <tr>\n",
       "      <th>SEX</th>\n",
       "      <th></th>\n",
       "      <th></th>\n",
       "    </tr>\n",
       "  </thead>\n",
       "  <tbody>\n",
       "    <tr>\n",
       "      <th>ALL</th>\n",
       "      <td>86.000000</td>\n",
       "      <td>58.666667</td>\n",
       "    </tr>\n",
       "    <tr>\n",
       "      <th>FEMALE</th>\n",
       "      <td>83.294574</td>\n",
       "      <td>56.079710</td>\n",
       "    </tr>\n",
       "    <tr>\n",
       "      <th>MALE</th>\n",
       "      <td>88.410853</td>\n",
       "      <td>61.369565</td>\n",
       "    </tr>\n",
       "  </tbody>\n",
       "</table>\n",
       "</div>"
      ],
      "text/plain": [
       "             2014       2018\n",
       "SEX                         \n",
       "ALL     86.000000  58.666667\n",
       "FEMALE  83.294574  56.079710\n",
       "MALE    88.410853  61.369565"
      ]
     },
     "execution_count": 62,
     "metadata": {},
     "output_type": "execute_result"
    }
   ],
   "source": [
    "high_lifesat.groupby('SEX').mean()"
   ]
  }
 ],
 "metadata": {
  "kernelspec": {
   "display_name": "nf_sql",
   "language": "python",
   "name": "python3"
  },
  "language_info": {
   "codemirror_mode": {
    "name": "ipython",
    "version": 3
   },
   "file_extension": ".py",
   "mimetype": "text/x-python",
   "name": "python",
   "nbconvert_exporter": "python",
   "pygments_lexer": "ipython3",
   "version": "3.9.12"
  }
 },
 "nbformat": 4,
 "nbformat_minor": 2
}
