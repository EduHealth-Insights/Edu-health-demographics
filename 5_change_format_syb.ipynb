{
 "cells": [
  {
   "cell_type": "code",
   "execution_count": null,
   "metadata": {},
   "outputs": [],
   "source": [
    "import pandas as pd\n",
    "import numpy as np\n",
    "import python_functions_sp as pfsp\n",
    "import warnings\n",
    "warnings.filterwarnings(\"ignore\")\n",
    "import sqlalchemy\n",
    "import psycopg2\n",
    "import sql_functions_sp as sfsp"
   ]
  },
  {
   "cell_type": "code",
   "execution_count": null,
   "metadata": {},
   "outputs": [],
   "source": [
    "%store -r syb_public_expenditure_on_education_continents"
   ]
  },
  {
   "cell_type": "code",
   "execution_count": null,
   "metadata": {},
   "outputs": [],
   "source": [
    "syb_expenditure_education = syb_public_expenditure_on_education_continents\n",
    "syb_expenditure_education"
   ]
  },
  {
   "cell_type": "code",
   "execution_count": null,
   "metadata": {},
   "outputs": [],
   "source": [
    "syb_expenditure_education.info()"
   ]
  },
  {
   "cell_type": "code",
   "execution_count": null,
   "metadata": {},
   "outputs": [],
   "source": [
    "syb_expenditure_education.columns"
   ]
  },
  {
   "cell_type": "code",
   "execution_count": null,
   "metadata": {},
   "outputs": [],
   "source": [
    "columns = ['country', 'continent', 'continent_region', 'year',\n",
    "       'all_staff_compensation_as_perc_of_total_expenditure_in_public_institutions_perc',\n",
    "       'basic_access_to_computers_by_level_of_education_lower_secondary',\n",
    "       'basic_access_to_computers_by_level_of_education_primary',\n",
    "       'basic_access_to_computers_by_level_of_education_upper_secondary',\n",
    "       'capital_expenditure_as_perc_of_total_expenditure_in_public_institutions_perc',\n",
    "       'current_expenditure_other_than_staff_compensation_as_perc_of_total_expenditure_in_public_institutions_perc',\n",
    "       'public_expenditure_on_education_perc_of_gdp']\n",
    "\n",
    "for column in columns:\n",
    "    "
   ]
  }
 ],
 "metadata": {
  "kernelspec": {
   "display_name": "nf_sql",
   "language": "python",
   "name": "python3"
  },
  "language_info": {
   "codemirror_mode": {
    "name": "ipython",
    "version": 3
   },
   "file_extension": ".py",
   "mimetype": "text/x-python",
   "name": "python",
   "nbconvert_exporter": "python",
   "pygments_lexer": "ipython3",
   "version": "3.9.7"
  }
 },
 "nbformat": 4,
 "nbformat_minor": 2
}
