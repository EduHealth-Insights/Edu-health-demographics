{
 "cells": [
  {
   "cell_type": "code",
   "execution_count": null,
   "metadata": {},
   "outputs": [],
   "source": [
    "import pandas as pd\n",
    "import numpy as np\n",
    "import python_functions_sp as pfsp\n",
    "import warnings\n",
    "warnings.filterwarnings(\"ignore\")\n",
    "import sqlalchemy\n",
    "import psycopg2\n",
    "import sql_functions_sp as sfsp"
   ]
  },
  {
   "cell_type": "code",
   "execution_count": null,
   "metadata": {},
   "outputs": [],
   "source": [
    "# schema = 'capstone_health_education'\n",
    "\n",
    "# HBSC_behaviour_continents = sfsp.get_dataframe(f'SELECT * FROM {schema}.hbsc_2018_behavior_clean')\n",
    "# HBSC_health_1_continents = sfsp.get_dataframe(f'SELECT * FROM {schema}.hbsc_2018_health_clean_1')\n",
    "# HBSC_health_2_continents = sfsp.get_dataframe(f'SELECT * FROM {schema}.hbsc_2018_health_clean_2')\n",
    "# HBSC_health_3_continents = sfsp.get_dataframe(f'SELECT * FROM {schema}.hbsc_2018_health_clean_3')\n",
    "# HBSC_par_employ_continents = sfsp.get_dataframe(f'SELECT * FROM {schema}.hbsc_2018_par_employ_clean')\n",
    "# HBSC_school_continents = sfsp.get_dataframe(f'SELECT * FROM {schema}.hbsc_2018_school_clean')\n",
    "# HBSC_social_media_continents = sfsp.get_dataframe(f'SELECT * FROM {schema}.hbsc_2018_social_media_clean')"
   ]
  },
  {
   "cell_type": "code",
   "execution_count": null,
   "metadata": {},
   "outputs": [],
   "source": [
    "%store -r hbsc_2018_behavior_clean\n",
    "%store -r hbsc_2018_health_clean_1\n",
    "%store -r hbsc_2018_health_clean_2\n",
    "%store -r hbsc_2018_health_clean_3\n",
    "%store -r hbsc_2018_par_employ_clean\n",
    "%store -r hbsc_2018_school_clean\n",
    "%store -r hbsc_2018_social_media_clean\n",
    "\n",
    "HBSC_behaviour_continents = hbsc_2018_behavior_clean\n",
    "HBSC_health_1_continents = hbsc_2018_health_clean_1\n",
    "HBSC_health_2_continents = hbsc_2018_health_clean_2\n",
    "HBSC_health_3_continents = hbsc_2018_health_clean_3\n",
    "HBSC_par_employ_continents = hbsc_2018_par_employ_clean\n",
    "HBSC_school_continents = hbsc_2018_school_clean\n",
    "HBSC_social_media_continents = hbsc_2018_social_media_clean"
   ]
  },
  {
   "cell_type": "code",
   "execution_count": null,
   "metadata": {},
   "outputs": [],
   "source": [
    "HBSC_behaviour_continents.info()"
   ]
  },
  {
   "cell_type": "code",
   "execution_count": null,
   "metadata": {},
   "outputs": [],
   "source": [
    "HBSC_behaviour_continents"
   ]
  },
  {
   "cell_type": "markdown",
   "metadata": {},
   "source": [
    "Put column names in lower case, snake case and rename:"
   ]
  },
  {
   "cell_type": "code",
   "execution_count": null,
   "metadata": {},
   "outputs": [],
   "source": [
    "dataframes = [HBSC_behaviour_continents, \n",
    "              HBSC_health_1_continents, \n",
    "              HBSC_health_2_continents, \n",
    "              HBSC_health_3_continents, \n",
    "              HBSC_par_employ_continents, \n",
    "              HBSC_school_continents, \n",
    "              HBSC_social_media_continents]\n",
    "\n",
    "pfsp.columns_lower_snake_case(dataframes)"
   ]
  },
  {
   "cell_type": "code",
   "execution_count": null,
   "metadata": {},
   "outputs": [],
   "source": [
    "dataframes = [HBSC_behaviour_continents, \n",
    "              HBSC_health_1_continents, \n",
    "              HBSC_health_2_continents, \n",
    "              HBSC_health_3_continents, \n",
    "              HBSC_par_employ_continents, \n",
    "              HBSC_school_continents, \n",
    "              HBSC_social_media_continents]\n",
    "\n",
    "for df in dataframes:\n",
    "    df.rename(columns={'country_name': 'country'}, inplace=True)"
   ]
  },
  {
   "cell_type": "markdown",
   "metadata": {},
   "source": [
    "Check if it worked:"
   ]
  },
  {
   "cell_type": "code",
   "execution_count": null,
   "metadata": {},
   "outputs": [],
   "source": [
    "HBSC_behaviour_continents.head()"
   ]
  },
  {
   "cell_type": "code",
   "execution_count": null,
   "metadata": {},
   "outputs": [],
   "source": [
    "HBSC_health_1_continents.head()"
   ]
  },
  {
   "cell_type": "code",
   "execution_count": null,
   "metadata": {},
   "outputs": [],
   "source": [
    "HBSC_health_2_continents.head()"
   ]
  },
  {
   "cell_type": "code",
   "execution_count": null,
   "metadata": {},
   "outputs": [],
   "source": [
    "HBSC_health_3_continents.head()"
   ]
  },
  {
   "cell_type": "code",
   "execution_count": null,
   "metadata": {},
   "outputs": [],
   "source": [
    "HBSC_par_employ_continents.head()"
   ]
  },
  {
   "cell_type": "code",
   "execution_count": null,
   "metadata": {},
   "outputs": [],
   "source": [
    "HBSC_school_continents.head()"
   ]
  },
  {
   "cell_type": "code",
   "execution_count": null,
   "metadata": {},
   "outputs": [],
   "source": [
    "HBSC_social_media_continents.head()"
   ]
  },
  {
   "cell_type": "markdown",
   "metadata": {},
   "source": [
    "## Splitting the countries into the continents\n",
    "- northern america\n",
    "- southern america\n",
    "- europe (4 parts for further analysis)\n",
    "- africa\n",
    "- asia\n",
    "- pacific\n",
    "- middle-east"
   ]
  },
  {
   "cell_type": "markdown",
   "metadata": {},
   "source": [
    "Assigning the continent to the countries in a new created column:"
   ]
  },
  {
   "cell_type": "code",
   "execution_count": null,
   "metadata": {},
   "outputs": [],
   "source": [
    "HBSC_behaviour_continents['continent'] = HBSC_behaviour_continents['country'].apply(pfsp.assign_continent)\n",
    "HBSC_health_1_continents['continent'] = HBSC_health_1_continents['country'].apply(pfsp.assign_continent)\n",
    "HBSC_health_2_continents['continent'] = HBSC_health_2_continents['country'].apply(pfsp.assign_continent)\n",
    "HBSC_health_3_continents['continent'] = HBSC_health_3_continents['country'].apply(pfsp.assign_continent)\n",
    "HBSC_par_employ_continents['continent'] = HBSC_par_employ_continents['country'].apply(pfsp.assign_continent)\n",
    "HBSC_school_continents['continent'] = HBSC_school_continents['country'].apply(pfsp.assign_continent)\n",
    "HBSC_social_media_continents['continent'] = HBSC_social_media_continents['country'].apply(pfsp.assign_continent)"
   ]
  },
  {
   "cell_type": "markdown",
   "metadata": {},
   "source": [
    "Assigning the four parts of europe to the countries in another new created column:"
   ]
  },
  {
   "cell_type": "code",
   "execution_count": null,
   "metadata": {},
   "outputs": [],
   "source": [
    "HBSC_behaviour_continents['continent_region'] = HBSC_behaviour_continents['country'].apply(pfsp.assign_europe_region)\n",
    "HBSC_health_1_continents['continent_region'] = HBSC_health_1_continents['country'].apply(pfsp.assign_europe_region)\n",
    "HBSC_health_2_continents['continent_region'] = HBSC_health_2_continents['country'].apply(pfsp.assign_europe_region)\n",
    "HBSC_health_3_continents['continent_region'] = HBSC_health_3_continents['country'].apply(pfsp.assign_europe_region)\n",
    "HBSC_par_employ_continents['continent_region'] = HBSC_par_employ_continents['country'].apply(pfsp.assign_europe_region)\n",
    "HBSC_school_continents['continent_region'] = HBSC_school_continents['country'].apply(pfsp.assign_europe_region)\n",
    "HBSC_social_media_continents['continent_region'] = HBSC_social_media_continents['country'].apply(pfsp.assign_europe_region)"
   ]
  },
  {
   "cell_type": "markdown",
   "metadata": {},
   "source": [
    "Changing the order of the columns:"
   ]
  },
  {
   "cell_type": "code",
   "execution_count": null,
   "metadata": {},
   "outputs": [],
   "source": [
    "columns = ['id4', 'country', 'continent', 'continent_region', 'physact60', 'timeexe', 'smokltm', 'smok30d_2',\n",
    "       'alcltm', 'alc30d_2', 'bodyweight', 'bodyheight']\n",
    "\n",
    "HBSC_behaviour_continents = HBSC_behaviour_continents[columns]\n",
    "HBSC_behaviour_continents"
   ]
  },
  {
   "cell_type": "code",
   "execution_count": null,
   "metadata": {},
   "outputs": [],
   "source": [
    "columns = ['id4', 'country', 'continent', 'continent_region', 'age', 'agecat', 'sex']\n",
    "\n",
    "HBSC_health_1_continents = HBSC_health_1_continents[columns]\n",
    "HBSC_health_1_continents"
   ]
  },
  {
   "cell_type": "code",
   "execution_count": null,
   "metadata": {},
   "outputs": [],
   "source": [
    "columns = ['id4', 'country', 'continent', 'continent_region', 'health', 'lifesat', 'headache', 'stomachache', 'backache']\n",
    "\n",
    "HBSC_health_2_continents = HBSC_health_2_continents[columns]\n",
    "HBSC_health_2_continents"
   ]
  },
  {
   "cell_type": "code",
   "execution_count": null,
   "metadata": {},
   "outputs": [],
   "source": [
    "columns = ['id4', 'country', 'continent', 'continent_region', 'feellow', 'irritable', 'nervous', 'sleepdificulty',\n",
    "       'dizzy', 'thinkbody']\n",
    "\n",
    "HBSC_health_3_continents = HBSC_health_3_continents[columns]\n",
    "HBSC_health_3_continents"
   ]
  },
  {
   "cell_type": "code",
   "execution_count": null,
   "metadata": {},
   "outputs": [],
   "source": [
    "columns = ['id4', 'country', 'continent', 'continent_region', 'employmo', 'employfa', 'employnotfa', 'employnotmo',\n",
    "       'mbmi', 'irrelfas_lmh']\n",
    "\n",
    "HBSC_par_employ_continents = HBSC_par_employ_continents[columns]\n",
    "HBSC_par_employ_continents"
   ]
  },
  {
   "cell_type": "code",
   "execution_count": null,
   "metadata": {},
   "outputs": [],
   "source": [
    "columns = ['id4', 'country', 'continent', 'continent_region', 'likeschool', 'schoolpressure', 'studaccept',\n",
    "       'teacheraccept', 'bulliedothers', 'beenbullied']\n",
    "\n",
    "HBSC_school_continents = HBSC_school_continents[columns]\n",
    "HBSC_school_continents"
   ]
  },
  {
   "cell_type": "code",
   "execution_count": null,
   "metadata": {},
   "outputs": [],
   "source": [
    "columns = ['id4', 'country', 'continent', 'continent_region', 'emcsocmed1', 'emcsocmed2', 'emcsocmed3',\n",
    "       'emcsocmed4', 'emcsocmed5', 'emcsocmed6', 'emcsocmed7', 'emcsocmed8',\n",
    "       'emcsocmed9']\n",
    "\n",
    "HBSC_social_media_continents = HBSC_social_media_continents[columns]\n",
    "HBSC_social_media_continents"
   ]
  },
  {
   "cell_type": "markdown",
   "metadata": {},
   "source": [
    "Check if some countries couldn't be assigned to a continent:"
   ]
  },
  {
   "cell_type": "code",
   "execution_count": null,
   "metadata": {},
   "outputs": [],
   "source": [
    "HBSC_behaviour_continents[HBSC_behaviour_continents['continent'] == 'Other']['country'].unique()"
   ]
  },
  {
   "cell_type": "code",
   "execution_count": null,
   "metadata": {},
   "outputs": [],
   "source": [
    "HBSC_health_1_continents[HBSC_health_1_continents['continent'] == 'Other']['country'].unique()"
   ]
  },
  {
   "cell_type": "code",
   "execution_count": null,
   "metadata": {},
   "outputs": [],
   "source": [
    "HBSC_health_2_continents[HBSC_health_2_continents['continent'] == 'Other']['country'].unique()"
   ]
  },
  {
   "cell_type": "code",
   "execution_count": null,
   "metadata": {},
   "outputs": [],
   "source": [
    "HBSC_health_3_continents[HBSC_health_3_continents['continent'] == 'Other']['country'].unique()"
   ]
  },
  {
   "cell_type": "code",
   "execution_count": null,
   "metadata": {},
   "outputs": [],
   "source": [
    "HBSC_par_employ_continents[HBSC_par_employ_continents['continent'] == 'Other']['country'].unique()"
   ]
  },
  {
   "cell_type": "code",
   "execution_count": null,
   "metadata": {},
   "outputs": [],
   "source": [
    "HBSC_school_continents[HBSC_school_continents['continent'] == 'Other']['country'].unique()"
   ]
  },
  {
   "cell_type": "code",
   "execution_count": null,
   "metadata": {},
   "outputs": [],
   "source": [
    "HBSC_social_media_continents[HBSC_social_media_continents['continent'] == 'Other']['country'].unique()"
   ]
  },
  {
   "cell_type": "markdown",
   "metadata": {},
   "source": [
    "---"
   ]
  },
  {
   "cell_type": "markdown",
   "metadata": {},
   "source": [
    "Check if the new created columns match:"
   ]
  },
  {
   "cell_type": "code",
   "execution_count": null,
   "metadata": {},
   "outputs": [],
   "source": [
    "dataframes = [HBSC_behaviour_continents, \n",
    "              HBSC_health_1_continents, \n",
    "              HBSC_health_2_continents, \n",
    "              HBSC_health_3_continents, \n",
    "              HBSC_par_employ_continents, \n",
    "              HBSC_school_continents, \n",
    "              HBSC_social_media_continents]\n",
    "\n",
    "for df in dataframes:\n",
    "    pfsp.check_values(df)"
   ]
  },
  {
   "cell_type": "markdown",
   "metadata": {},
   "source": [
    "---"
   ]
  },
  {
   "cell_type": "markdown",
   "metadata": {},
   "source": [
    "Writing the table into the database:"
   ]
  },
  {
   "cell_type": "code",
   "execution_count": null,
   "metadata": {},
   "outputs": [],
   "source": [
    "# dataframes = {'hbsc_behaviour_continents': HBSC_behaviour_continents, \n",
    "#               'hbsc_health_1_continents': HBSC_health_1_continents, \n",
    "#               'hbsc_health_2_continents': HBSC_health_2_continents, \n",
    "#               'hbsc_health_3_continents': HBSC_health_3_continents, \n",
    "#               'hbsc_par_employ_continents': HBSC_par_employ_continents, \n",
    "#               'hbsc_school_continents': HBSC_school_continents, \n",
    "#               'hbsc_social_media_continents': HBSC_social_media_continents}\n",
    "\n",
    "# for table_name, df in dataframes.items():\n",
    "#     sfsp.push_to_cloud(df, table_name)"
   ]
  },
  {
   "cell_type": "code",
   "execution_count": null,
   "metadata": {},
   "outputs": [],
   "source": [
    "hbsc_behaviour_continents = HBSC_behaviour_continents\n",
    "hbsc_health_1_continents = HBSC_health_1_continents\n",
    "hbsc_health_2_continents = HBSC_health_2_continents\n",
    "hbsc_health_3_continents = HBSC_health_3_continents\n",
    "hbsc_par_employ_continents = HBSC_par_employ_continents\n",
    "hbsc_school_continents = HBSC_school_continents\n",
    "hbsc_social_media_continents = HBSC_social_media_continents\n",
    "\n",
    "%store hbsc_behaviour_continents\n",
    "%store hbsc_health_1_continents\n",
    "%store hbsc_health_2_continents\n",
    "%store hbsc_health_3_continents\n",
    "%store hbsc_par_employ_continents\n",
    "%store hbsc_school_continents\n",
    "%store hbsc_social_media_continents"
   ]
  },
  {
   "cell_type": "markdown",
   "metadata": {},
   "source": [
    "---\n",
    "---"
   ]
  },
  {
   "cell_type": "code",
   "execution_count": null,
   "metadata": {},
   "outputs": [],
   "source": [
    "# dataframes = [HBSC_behaviour_continents, \n",
    "#               HBSC_health_1_continents, \n",
    "#               HBSC_health_2_continents, \n",
    "#               HBSC_health_3_continents, \n",
    "#               HBSC_par_employ_continents, \n",
    "#               HBSC_school_continents, \n",
    "#               HBSC_social_media_continents]\n",
    "\n",
    "# list = ['physact60'\t'timeexe'\t'smokltm'\t'smok30d_2'\t'alcltm'\t'alc30d_2']\n",
    "\n",
    "# for df in dataframes:\n",
    "#     df['average'] = df['average'].apply(pd.to_numeric, errors='coerce')"
   ]
  },
  {
   "cell_type": "code",
   "execution_count": null,
   "metadata": {},
   "outputs": [],
   "source": [
    "# HBSC_behaviour_continents.info()"
   ]
  },
  {
   "cell_type": "code",
   "execution_count": null,
   "metadata": {},
   "outputs": [],
   "source": [
    "# HBSC_health_1_continents.info()"
   ]
  }
 ],
 "metadata": {
  "kernelspec": {
   "display_name": "nf_sql",
   "language": "python",
   "name": "python3"
  },
  "language_info": {
   "codemirror_mode": {
    "name": "ipython",
    "version": 3
   },
   "file_extension": ".py",
   "mimetype": "text/x-python",
   "name": "python",
   "nbconvert_exporter": "python",
   "pygments_lexer": "ipython3",
   "version": "3.9.7"
  }
 },
 "nbformat": 4,
 "nbformat_minor": 2
}
