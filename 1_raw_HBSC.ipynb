{
 "cells": [
  {
   "cell_type": "code",
   "execution_count": 1,
   "metadata": {},
   "outputs": [],
   "source": [
    "import pandas as pd"
   ]
  },
  {
   "cell_type": "code",
   "execution_count": 2,
   "metadata": {},
   "outputs": [],
   "source": [
    "import warnings\n",
    "warnings.simplefilter(action='ignore', category=FutureWarning)\n",
    "warnings.filterwarnings(\"ignore\")"
   ]
  },
  {
   "cell_type": "markdown",
   "metadata": {},
   "source": [
    "# Import"
   ]
  },
  {
   "cell_type": "code",
   "execution_count": 3,
   "metadata": {},
   "outputs": [],
   "source": [
    "hbsc_2018 = pd.read_csv('data/HBSC2018OAed1.csv', low_memory=False)"
   ]
  },
  {
   "cell_type": "code",
   "execution_count": 4,
   "metadata": {},
   "outputs": [
    {
     "data": {
      "text/html": [
       "<div>\n",
       "<style scoped>\n",
       "    .dataframe tbody tr th:only-of-type {\n",
       "        vertical-align: middle;\n",
       "    }\n",
       "\n",
       "    .dataframe tbody tr th {\n",
       "        vertical-align: top;\n",
       "    }\n",
       "\n",
       "    .dataframe thead th {\n",
       "        text-align: right;\n",
       "    }\n",
       "</style>\n",
       "<table border=\"1\" class=\"dataframe\">\n",
       "  <thead>\n",
       "    <tr style=\"text-align: right;\">\n",
       "      <th></th>\n",
       "      <th>HBSC</th>\n",
       "      <th>seqno_int</th>\n",
       "      <th>cluster</th>\n",
       "      <th>countryno</th>\n",
       "      <th>region</th>\n",
       "      <th>id1</th>\n",
       "      <th>id2</th>\n",
       "      <th>id3</th>\n",
       "      <th>id4</th>\n",
       "      <th>weight</th>\n",
       "      <th>adm</th>\n",
       "      <th>month</th>\n",
       "      <th>year</th>\n",
       "      <th>age</th>\n",
       "      <th>agecat</th>\n",
       "      <th>sex</th>\n",
       "      <th>grade</th>\n",
       "      <th>monthbirth</th>\n",
       "      <th>yearbirth</th>\n",
       "      <th>fasfamcar</th>\n",
       "    </tr>\n",
       "  </thead>\n",
       "  <tbody>\n",
       "    <tr>\n",
       "      <th>0</th>\n",
       "      <td>2018</td>\n",
       "      <td>100001</td>\n",
       "      <td>100231</td>\n",
       "      <td>8000</td>\n",
       "      <td>AL</td>\n",
       "      <td>10</td>\n",
       "      <td>58</td>\n",
       "      <td>231</td>\n",
       "      <td>321</td>\n",
       "      <td>1.000000</td>\n",
       "      <td>1</td>\n",
       "      <td>5</td>\n",
       "      <td>2017</td>\n",
       "      <td>1.79769313486232e+308</td>\n",
       "      <td>1.79769313486232e+308</td>\n",
       "      <td>1</td>\n",
       "      <td>1</td>\n",
       "      <td>1.79769313486232e+308</td>\n",
       "      <td>1.79769313486232e+308</td>\n",
       "      <td>2</td>\n",
       "    </tr>\n",
       "    <tr>\n",
       "      <th>1</th>\n",
       "      <td>2018</td>\n",
       "      <td>100002</td>\n",
       "      <td>100238</td>\n",
       "      <td>8000</td>\n",
       "      <td>AL</td>\n",
       "      <td>10</td>\n",
       "      <td>60</td>\n",
       "      <td>238</td>\n",
       "      <td>611</td>\n",
       "      <td>1.000000</td>\n",
       "      <td>1</td>\n",
       "      <td>5</td>\n",
       "      <td>2017</td>\n",
       "      <td>1.79769313486232e+308</td>\n",
       "      <td>1.79769313486232e+308</td>\n",
       "      <td>1</td>\n",
       "      <td>1</td>\n",
       "      <td>1.79769313486232e+308</td>\n",
       "      <td>1.79769313486232e+308</td>\n",
       "      <td>1.79769313486232e+308</td>\n",
       "    </tr>\n",
       "    <tr>\n",
       "      <th>2</th>\n",
       "      <td>2018</td>\n",
       "      <td>100004</td>\n",
       "      <td>100066</td>\n",
       "      <td>8000</td>\n",
       "      <td>AL</td>\n",
       "      <td>3</td>\n",
       "      <td>16</td>\n",
       "      <td>66</td>\n",
       "      <td>1225</td>\n",
       "      <td>1.000000</td>\n",
       "      <td>1</td>\n",
       "      <td>5</td>\n",
       "      <td>2017</td>\n",
       "      <td>1.79769313486232e+308</td>\n",
       "      <td>1.79769313486232e+308</td>\n",
       "      <td>1</td>\n",
       "      <td>1</td>\n",
       "      <td>1.79769313486232e+308</td>\n",
       "      <td>1.79769313486232e+308</td>\n",
       "      <td>2</td>\n",
       "    </tr>\n",
       "    <tr>\n",
       "      <th>3</th>\n",
       "      <td>2018</td>\n",
       "      <td>100005</td>\n",
       "      <td>100047</td>\n",
       "      <td>8000</td>\n",
       "      <td>AL</td>\n",
       "      <td>3</td>\n",
       "      <td>14</td>\n",
       "      <td>47</td>\n",
       "      <td>1371</td>\n",
       "      <td>1.000000</td>\n",
       "      <td>1</td>\n",
       "      <td>5</td>\n",
       "      <td>2017</td>\n",
       "      <td>1.79769313486232e+308</td>\n",
       "      <td>1.79769313486232e+308</td>\n",
       "      <td>1</td>\n",
       "      <td>1</td>\n",
       "      <td>1.79769313486232e+308</td>\n",
       "      <td>1.79769313486232e+308</td>\n",
       "      <td>1.79769313486232e+308</td>\n",
       "    </tr>\n",
       "    <tr>\n",
       "      <th>4</th>\n",
       "      <td>2018</td>\n",
       "      <td>100007</td>\n",
       "      <td>100132</td>\n",
       "      <td>8000</td>\n",
       "      <td>AL</td>\n",
       "      <td>5</td>\n",
       "      <td>30</td>\n",
       "      <td>132</td>\n",
       "      <td>1604</td>\n",
       "      <td>1.000000</td>\n",
       "      <td>1</td>\n",
       "      <td>5</td>\n",
       "      <td>2017</td>\n",
       "      <td>1.79769313486232e+308</td>\n",
       "      <td>1.79769313486232e+308</td>\n",
       "      <td>1</td>\n",
       "      <td>1</td>\n",
       "      <td>1.79769313486232e+308</td>\n",
       "      <td>1.79769313486232e+308</td>\n",
       "      <td>1.79769313486232e+308</td>\n",
       "    </tr>\n",
       "    <tr>\n",
       "      <th>...</th>\n",
       "      <td>...</td>\n",
       "      <td>...</td>\n",
       "      <td>...</td>\n",
       "      <td>...</td>\n",
       "      <td>...</td>\n",
       "      <td>...</td>\n",
       "      <td>...</td>\n",
       "      <td>...</td>\n",
       "      <td>...</td>\n",
       "      <td>...</td>\n",
       "      <td>...</td>\n",
       "      <td>...</td>\n",
       "      <td>...</td>\n",
       "      <td>...</td>\n",
       "      <td>...</td>\n",
       "      <td>...</td>\n",
       "      <td>...</td>\n",
       "      <td>...</td>\n",
       "      <td>...</td>\n",
       "      <td>...</td>\n",
       "    </tr>\n",
       "    <tr>\n",
       "      <th>244092</th>\n",
       "      <td>2018</td>\n",
       "      <td>4504270</td>\n",
       "      <td>4500262</td>\n",
       "      <td>705000</td>\n",
       "      <td>SI</td>\n",
       "      <td>1</td>\n",
       "      <td>728</td>\n",
       "      <td>262</td>\n",
       "      <td>4537</td>\n",
       "      <td>0.866025</td>\n",
       "      <td>2</td>\n",
       "      <td>2</td>\n",
       "      <td>2018</td>\n",
       "      <td>16.5</td>\n",
       "      <td>3</td>\n",
       "      <td>2</td>\n",
       "      <td>3</td>\n",
       "      <td>8</td>\n",
       "      <td>2001</td>\n",
       "      <td>2</td>\n",
       "    </tr>\n",
       "    <tr>\n",
       "      <th>244093</th>\n",
       "      <td>2018</td>\n",
       "      <td>4504801</td>\n",
       "      <td>4500318</td>\n",
       "      <td>705000</td>\n",
       "      <td>SI</td>\n",
       "      <td>2</td>\n",
       "      <td>775</td>\n",
       "      <td>318</td>\n",
       "      <td>5674</td>\n",
       "      <td>1.015672</td>\n",
       "      <td>2</td>\n",
       "      <td>2</td>\n",
       "      <td>2018</td>\n",
       "      <td>16.5</td>\n",
       "      <td>3</td>\n",
       "      <td>2</td>\n",
       "      <td>3</td>\n",
       "      <td>8</td>\n",
       "      <td>2001</td>\n",
       "      <td>2</td>\n",
       "    </tr>\n",
       "    <tr>\n",
       "      <th>244094</th>\n",
       "      <td>2018</td>\n",
       "      <td>4504878</td>\n",
       "      <td>4500325</td>\n",
       "      <td>705000</td>\n",
       "      <td>SI</td>\n",
       "      <td>2</td>\n",
       "      <td>781</td>\n",
       "      <td>325</td>\n",
       "      <td>5811</td>\n",
       "      <td>1.015672</td>\n",
       "      <td>2</td>\n",
       "      <td>2</td>\n",
       "      <td>2018</td>\n",
       "      <td>16.5</td>\n",
       "      <td>3</td>\n",
       "      <td>2</td>\n",
       "      <td>3</td>\n",
       "      <td>8</td>\n",
       "      <td>2001</td>\n",
       "      <td>3</td>\n",
       "    </tr>\n",
       "    <tr>\n",
       "      <th>244095</th>\n",
       "      <td>2018</td>\n",
       "      <td>4504898</td>\n",
       "      <td>4500327</td>\n",
       "      <td>705000</td>\n",
       "      <td>SI</td>\n",
       "      <td>3</td>\n",
       "      <td>782</td>\n",
       "      <td>327</td>\n",
       "      <td>5858</td>\n",
       "      <td>1.605955</td>\n",
       "      <td>2</td>\n",
       "      <td>2</td>\n",
       "      <td>2018</td>\n",
       "      <td>16.5</td>\n",
       "      <td>3</td>\n",
       "      <td>2</td>\n",
       "      <td>3</td>\n",
       "      <td>8</td>\n",
       "      <td>2001</td>\n",
       "      <td>3</td>\n",
       "    </tr>\n",
       "    <tr>\n",
       "      <th>244096</th>\n",
       "      <td>2018</td>\n",
       "      <td>4703040</td>\n",
       "      <td>4700148</td>\n",
       "      <td>792000</td>\n",
       "      <td>TR</td>\n",
       "      <td>12</td>\n",
       "      <td>46</td>\n",
       "      <td>148</td>\n",
       "      <td>3040</td>\n",
       "      <td>1.000000</td>\n",
       "      <td>1</td>\n",
       "      <td>4</td>\n",
       "      <td>2019</td>\n",
       "      <td>16.5</td>\n",
       "      <td>3</td>\n",
       "      <td>2</td>\n",
       "      <td>2</td>\n",
       "      <td>10</td>\n",
       "      <td>2002</td>\n",
       "      <td>2</td>\n",
       "    </tr>\n",
       "  </tbody>\n",
       "</table>\n",
       "<p>244097 rows × 20 columns</p>\n",
       "</div>"
      ],
      "text/plain": [
       "        HBSC  seqno_int  cluster  countryno region  id1  id2  id3   id4   \n",
       "0       2018     100001   100231       8000     AL   10   58  231   321  \\\n",
       "1       2018     100002   100238       8000     AL   10   60  238   611   \n",
       "2       2018     100004   100066       8000     AL    3   16   66  1225   \n",
       "3       2018     100005   100047       8000     AL    3   14   47  1371   \n",
       "4       2018     100007   100132       8000     AL    5   30  132  1604   \n",
       "...      ...        ...      ...        ...    ...  ...  ...  ...   ...   \n",
       "244092  2018    4504270  4500262     705000     SI    1  728  262  4537   \n",
       "244093  2018    4504801  4500318     705000     SI    2  775  318  5674   \n",
       "244094  2018    4504878  4500325     705000     SI    2  781  325  5811   \n",
       "244095  2018    4504898  4500327     705000     SI    3  782  327  5858   \n",
       "244096  2018    4703040  4700148     792000     TR   12   46  148  3040   \n",
       "\n",
       "          weight  adm month  year                    age   \n",
       "0       1.000000    1     5  2017  1.79769313486232e+308  \\\n",
       "1       1.000000    1     5  2017  1.79769313486232e+308   \n",
       "2       1.000000    1     5  2017  1.79769313486232e+308   \n",
       "3       1.000000    1     5  2017  1.79769313486232e+308   \n",
       "4       1.000000    1     5  2017  1.79769313486232e+308   \n",
       "...          ...  ...   ...   ...                    ...   \n",
       "244092  0.866025    2     2  2018                   16.5   \n",
       "244093  1.015672    2     2  2018                   16.5   \n",
       "244094  1.015672    2     2  2018                   16.5   \n",
       "244095  1.605955    2     2  2018                   16.5   \n",
       "244096  1.000000    1     4  2019                   16.5   \n",
       "\n",
       "                       agecat  sex grade             monthbirth   \n",
       "0       1.79769313486232e+308    1     1  1.79769313486232e+308  \\\n",
       "1       1.79769313486232e+308    1     1  1.79769313486232e+308   \n",
       "2       1.79769313486232e+308    1     1  1.79769313486232e+308   \n",
       "3       1.79769313486232e+308    1     1  1.79769313486232e+308   \n",
       "4       1.79769313486232e+308    1     1  1.79769313486232e+308   \n",
       "...                       ...  ...   ...                    ...   \n",
       "244092                      3    2     3                      8   \n",
       "244093                      3    2     3                      8   \n",
       "244094                      3    2     3                      8   \n",
       "244095                      3    2     3                      8   \n",
       "244096                      3    2     2                     10   \n",
       "\n",
       "                    yearbirth              fasfamcar  \n",
       "0       1.79769313486232e+308                      2  \n",
       "1       1.79769313486232e+308  1.79769313486232e+308  \n",
       "2       1.79769313486232e+308                      2  \n",
       "3       1.79769313486232e+308  1.79769313486232e+308  \n",
       "4       1.79769313486232e+308  1.79769313486232e+308  \n",
       "...                       ...                    ...  \n",
       "244092                   2001                      2  \n",
       "244093                   2001                      2  \n",
       "244094                   2001                      3  \n",
       "244095                   2001                      3  \n",
       "244096                   2002                      2  \n",
       "\n",
       "[244097 rows x 20 columns]"
      ]
     },
     "execution_count": 4,
     "metadata": {},
     "output_type": "execute_result"
    }
   ],
   "source": [
    "hbsc_2018.iloc[:, : 20]"
   ]
  },
  {
   "cell_type": "code",
   "execution_count": 5,
   "metadata": {},
   "outputs": [
    {
     "data": {
      "text/html": [
       "<div>\n",
       "<style scoped>\n",
       "    .dataframe tbody tr th:only-of-type {\n",
       "        vertical-align: middle;\n",
       "    }\n",
       "\n",
       "    .dataframe tbody tr th {\n",
       "        vertical-align: top;\n",
       "    }\n",
       "\n",
       "    .dataframe thead th {\n",
       "        text-align: right;\n",
       "    }\n",
       "</style>\n",
       "<table border=\"1\" class=\"dataframe\">\n",
       "  <thead>\n",
       "    <tr style=\"text-align: right;\">\n",
       "      <th></th>\n",
       "      <th>HBSC</th>\n",
       "      <th>seqno_int</th>\n",
       "      <th>cluster</th>\n",
       "      <th>countryno</th>\n",
       "      <th>region</th>\n",
       "      <th>id1</th>\n",
       "      <th>id2</th>\n",
       "      <th>id3</th>\n",
       "      <th>id4</th>\n",
       "      <th>weight</th>\n",
       "      <th>...</th>\n",
       "      <th>talkstepmo</th>\n",
       "      <th>famhelp</th>\n",
       "      <th>famsup</th>\n",
       "      <th>famtalk</th>\n",
       "      <th>famdec</th>\n",
       "      <th>MBMI</th>\n",
       "      <th>IRFAS</th>\n",
       "      <th>IRRELFAS_LMH</th>\n",
       "      <th>IOTF4</th>\n",
       "      <th>oweight_who</th>\n",
       "    </tr>\n",
       "  </thead>\n",
       "  <tbody>\n",
       "    <tr>\n",
       "      <th>0</th>\n",
       "      <td>2018</td>\n",
       "      <td>100001</td>\n",
       "      <td>100231</td>\n",
       "      <td>8000</td>\n",
       "      <td>AL</td>\n",
       "      <td>10</td>\n",
       "      <td>58</td>\n",
       "      <td>231</td>\n",
       "      <td>321</td>\n",
       "      <td>1.0</td>\n",
       "      <td>...</td>\n",
       "      <td>5</td>\n",
       "      <td>7</td>\n",
       "      <td>6</td>\n",
       "      <td>7</td>\n",
       "      <td>5</td>\n",
       "      <td>17.981667470725</td>\n",
       "      <td>6</td>\n",
       "      <td>2</td>\n",
       "      <td>1.79769313486232e+308</td>\n",
       "      <td>1.79769313486232e+308</td>\n",
       "    </tr>\n",
       "    <tr>\n",
       "      <th>1</th>\n",
       "      <td>2018</td>\n",
       "      <td>100002</td>\n",
       "      <td>100238</td>\n",
       "      <td>8000</td>\n",
       "      <td>AL</td>\n",
       "      <td>10</td>\n",
       "      <td>60</td>\n",
       "      <td>238</td>\n",
       "      <td>611</td>\n",
       "      <td>1.0</td>\n",
       "      <td>...</td>\n",
       "      <td>5</td>\n",
       "      <td>7</td>\n",
       "      <td>7</td>\n",
       "      <td>7</td>\n",
       "      <td>7</td>\n",
       "      <td>17.7832495468691</td>\n",
       "      <td>1.79769313486232e+308</td>\n",
       "      <td>1.79769313486232e+308</td>\n",
       "      <td>1.79769313486232e+308</td>\n",
       "      <td>1.79769313486232e+308</td>\n",
       "    </tr>\n",
       "    <tr>\n",
       "      <th>2</th>\n",
       "      <td>2018</td>\n",
       "      <td>100004</td>\n",
       "      <td>100066</td>\n",
       "      <td>8000</td>\n",
       "      <td>AL</td>\n",
       "      <td>3</td>\n",
       "      <td>16</td>\n",
       "      <td>66</td>\n",
       "      <td>1225</td>\n",
       "      <td>1.0</td>\n",
       "      <td>...</td>\n",
       "      <td>5</td>\n",
       "      <td>7</td>\n",
       "      <td>7</td>\n",
       "      <td>1</td>\n",
       "      <td>7</td>\n",
       "      <td>24.2439184746877</td>\n",
       "      <td>1.79769313486232e+308</td>\n",
       "      <td>1.79769313486232e+308</td>\n",
       "      <td>1.79769313486232e+308</td>\n",
       "      <td>1.79769313486232e+308</td>\n",
       "    </tr>\n",
       "    <tr>\n",
       "      <th>3</th>\n",
       "      <td>2018</td>\n",
       "      <td>100005</td>\n",
       "      <td>100047</td>\n",
       "      <td>8000</td>\n",
       "      <td>AL</td>\n",
       "      <td>3</td>\n",
       "      <td>14</td>\n",
       "      <td>47</td>\n",
       "      <td>1371</td>\n",
       "      <td>1.0</td>\n",
       "      <td>...</td>\n",
       "      <td>5</td>\n",
       "      <td>7</td>\n",
       "      <td>7</td>\n",
       "      <td>7</td>\n",
       "      <td>7</td>\n",
       "      <td>15.0310509869072</td>\n",
       "      <td>1.79769313486232e+308</td>\n",
       "      <td>1.79769313486232e+308</td>\n",
       "      <td>1.79769313486232e+308</td>\n",
       "      <td>1.79769313486232e+308</td>\n",
       "    </tr>\n",
       "    <tr>\n",
       "      <th>4</th>\n",
       "      <td>2018</td>\n",
       "      <td>100007</td>\n",
       "      <td>100132</td>\n",
       "      <td>8000</td>\n",
       "      <td>AL</td>\n",
       "      <td>5</td>\n",
       "      <td>30</td>\n",
       "      <td>132</td>\n",
       "      <td>1604</td>\n",
       "      <td>1.0</td>\n",
       "      <td>...</td>\n",
       "      <td>5</td>\n",
       "      <td>2</td>\n",
       "      <td>1</td>\n",
       "      <td>1</td>\n",
       "      <td>1</td>\n",
       "      <td>15.5709342560554</td>\n",
       "      <td>1.79769313486232e+308</td>\n",
       "      <td>1.79769313486232e+308</td>\n",
       "      <td>1.79769313486232e+308</td>\n",
       "      <td>1.79769313486232e+308</td>\n",
       "    </tr>\n",
       "  </tbody>\n",
       "</table>\n",
       "<p>5 rows × 120 columns</p>\n",
       "</div>"
      ],
      "text/plain": [
       "   HBSC  seqno_int  cluster  countryno region  id1  id2  id3   id4  weight   \n",
       "0  2018     100001   100231       8000     AL   10   58  231   321     1.0  \\\n",
       "1  2018     100002   100238       8000     AL   10   60  238   611     1.0   \n",
       "2  2018     100004   100066       8000     AL    3   16   66  1225     1.0   \n",
       "3  2018     100005   100047       8000     AL    3   14   47  1371     1.0   \n",
       "4  2018     100007   100132       8000     AL    5   30  132  1604     1.0   \n",
       "\n",
       "   ...  talkstepmo famhelp  famsup famtalk famdec              MBMI   \n",
       "0  ...           5       7       6       7      5   17.981667470725  \\\n",
       "1  ...           5       7       7       7      7  17.7832495468691   \n",
       "2  ...           5       7       7       1      7  24.2439184746877   \n",
       "3  ...           5       7       7       7      7  15.0310509869072   \n",
       "4  ...           5       2       1       1      1  15.5709342560554   \n",
       "\n",
       "                   IRFAS           IRRELFAS_LMH                  IOTF4   \n",
       "0                      6                      2  1.79769313486232e+308  \\\n",
       "1  1.79769313486232e+308  1.79769313486232e+308  1.79769313486232e+308   \n",
       "2  1.79769313486232e+308  1.79769313486232e+308  1.79769313486232e+308   \n",
       "3  1.79769313486232e+308  1.79769313486232e+308  1.79769313486232e+308   \n",
       "4  1.79769313486232e+308  1.79769313486232e+308  1.79769313486232e+308   \n",
       "\n",
       "             oweight_who  \n",
       "0  1.79769313486232e+308  \n",
       "1  1.79769313486232e+308  \n",
       "2  1.79769313486232e+308  \n",
       "3  1.79769313486232e+308  \n",
       "4  1.79769313486232e+308  \n",
       "\n",
       "[5 rows x 120 columns]"
      ]
     },
     "execution_count": 5,
     "metadata": {},
     "output_type": "execute_result"
    }
   ],
   "source": [
    "hbsc_2018.head()"
   ]
  },
  {
   "cell_type": "code",
   "execution_count": 6,
   "metadata": {},
   "outputs": [
    {
     "data": {
      "text/plain": [
       "{'HBSC': dtype('int64'),\n",
       " 'seqno_int': dtype('int64'),\n",
       " 'cluster': dtype('int64'),\n",
       " 'countryno': dtype('int64'),\n",
       " 'region': dtype('O'),\n",
       " 'id1': dtype('int64'),\n",
       " 'id2': dtype('int64'),\n",
       " 'id3': dtype('O'),\n",
       " 'id4': dtype('int64'),\n",
       " 'weight': dtype('float64'),\n",
       " 'adm': dtype('int64'),\n",
       " 'month': dtype('O'),\n",
       " 'year': dtype('int64'),\n",
       " 'age': dtype('O'),\n",
       " 'agecat': dtype('O'),\n",
       " 'sex': dtype('int64'),\n",
       " 'grade': dtype('O'),\n",
       " 'monthbirth': dtype('O'),\n",
       " 'yearbirth': dtype('O'),\n",
       " 'fasfamcar': dtype('O'),\n",
       " 'fasbedroom': dtype('O'),\n",
       " 'fascomputers': dtype('O'),\n",
       " 'fasbathroom': dtype('O'),\n",
       " 'fasdishwash': dtype('O'),\n",
       " 'fasholidays': dtype('O'),\n",
       " 'health': dtype('O'),\n",
       " 'lifesat': dtype('O'),\n",
       " 'headache': dtype('O'),\n",
       " 'stomachache': dtype('O'),\n",
       " 'backache': dtype('O'),\n",
       " 'feellow': dtype('O'),\n",
       " 'irritable': dtype('O'),\n",
       " 'nervous': dtype('O'),\n",
       " 'sleepdificulty': dtype('O'),\n",
       " 'dizzy': dtype('O'),\n",
       " 'thinkbody': dtype('O'),\n",
       " 'physact60': dtype('O'),\n",
       " 'breakfastwd': dtype('O'),\n",
       " 'breakfastwe': dtype('O'),\n",
       " 'fruits_2': dtype('O'),\n",
       " 'vegetables_2': dtype('O'),\n",
       " 'sweets_2': dtype('O'),\n",
       " 'softdrinks_2': dtype('O'),\n",
       " 'fmeal': dtype('O'),\n",
       " 'toothbr': dtype('O'),\n",
       " 'timeexe': dtype('O'),\n",
       " 'smokltm': dtype('O'),\n",
       " 'smok30d_2': dtype('O'),\n",
       " 'alcltm': dtype('O'),\n",
       " 'alc30d_2': dtype('O'),\n",
       " 'drunkltm': dtype('O'),\n",
       " 'drunk30d': dtype('O'),\n",
       " 'cannabisltm_2': dtype('O'),\n",
       " 'cannabis30d_2': dtype('O'),\n",
       " 'bodyweight': dtype('O'),\n",
       " 'bodyheight': dtype('O'),\n",
       " 'likeschool': dtype('O'),\n",
       " 'schoolpressure': dtype('O'),\n",
       " 'studtogether': dtype('O'),\n",
       " 'studhelpful': dtype('O'),\n",
       " 'studaccept': dtype('O'),\n",
       " 'teacheraccept': dtype('O'),\n",
       " 'teachercare': dtype('O'),\n",
       " 'teachertrust': dtype('O'),\n",
       " 'bulliedothers': dtype('O'),\n",
       " 'beenbullied': dtype('O'),\n",
       " 'cbulliedothers': dtype('O'),\n",
       " 'cbeenbullied': dtype('O'),\n",
       " 'fight12m': dtype('O'),\n",
       " 'injured12m': dtype('O'),\n",
       " 'friendhelp': dtype('O'),\n",
       " 'friendcounton': dtype('O'),\n",
       " 'friendshare': dtype('O'),\n",
       " 'friendtalk': dtype('O'),\n",
       " 'emconlfreq1': dtype('O'),\n",
       " 'emconlfreq2': dtype('O'),\n",
       " 'emconlfreq3': dtype('O'),\n",
       " 'emconlfreq4': dtype('O'),\n",
       " 'emconlpref1': dtype('O'),\n",
       " 'emconlpref2': dtype('O'),\n",
       " 'emconlpref3': dtype('O'),\n",
       " 'emcsocmed1': dtype('O'),\n",
       " 'emcsocmed2': dtype('O'),\n",
       " 'emcsocmed3': dtype('O'),\n",
       " 'emcsocmed4': dtype('O'),\n",
       " 'emcsocmed5': dtype('O'),\n",
       " 'emcsocmed6': dtype('O'),\n",
       " 'emcsocmed7': dtype('O'),\n",
       " 'emcsocmed8': dtype('O'),\n",
       " 'emcsocmed9': dtype('O'),\n",
       " 'hadsex': dtype('O'),\n",
       " 'agesex': dtype('O'),\n",
       " 'contraceptcondom': dtype('O'),\n",
       " 'contraceptpill': dtype('O'),\n",
       " 'countryborn': dtype('O'),\n",
       " 'countrybornmo': dtype('O'),\n",
       " 'countrybornfa': dtype('O'),\n",
       " 'motherhome1': dtype('O'),\n",
       " 'fatherhome1': dtype('O'),\n",
       " 'stepmohome1': dtype('O'),\n",
       " 'stepfahome1': dtype('O'),\n",
       " 'fosterhome1': dtype('O'),\n",
       " 'elsehome1_2': dtype('O'),\n",
       " 'employfa': dtype('O'),\n",
       " 'employmo': dtype('O'),\n",
       " 'employnotfa': dtype('O'),\n",
       " 'employnotmo': dtype('O'),\n",
       " 'talkfather': dtype('O'),\n",
       " 'talkstepfa': dtype('O'),\n",
       " 'talkmother': dtype('O'),\n",
       " 'talkstepmo': dtype('O'),\n",
       " 'famhelp': dtype('O'),\n",
       " 'famsup': dtype('O'),\n",
       " 'famtalk': dtype('O'),\n",
       " 'famdec': dtype('O'),\n",
       " 'MBMI': dtype('O'),\n",
       " 'IRFAS': dtype('O'),\n",
       " 'IRRELFAS_LMH': dtype('O'),\n",
       " 'IOTF4': dtype('O'),\n",
       " 'oweight_who': dtype('O')}"
      ]
     },
     "execution_count": 6,
     "metadata": {},
     "output_type": "execute_result"
    }
   ],
   "source": [
    "dict(hbsc_2018.dtypes)"
   ]
  },
  {
   "cell_type": "code",
   "execution_count": 7,
   "metadata": {},
   "outputs": [],
   "source": [
    "#keeping interesting variables#\n",
    "#columns_to_drop = ['HBSC', 'seqno_int', 'cluster', 'fruits_2', 'vegetables_2', 'sweets_2', 'softdrinks_2', 'toothbr',  'monthbirth', 'grade', 'yearbirth', 'region', 'id1', 'id2', 'id3', 'id4', 'adm', 'month', 'fasfamcar', 'fasbedroom', 'fascomputers', 'fasbathroom', 'fasdishwash', 'fasholidays', 'bulliedothers', 'beenbullied', 'cbulliedothers', 'cbeenbullied', 'friendhelp', 'friendcounton', 'friendshare', 'friendtalk', 'emconlfreq1', 'emconlfreq2', 'emconlfreq3', 'emconlfreq4', 'emconlpref1', 'emconlpref2', 'emconlpref3', 'grade', 'hadsex', 'agesex', 'contraceptcondom', 'contraceptpill', 'countryborn', 'countrybornmo', 'countrybornfa',  'motherhome1', 'fatherhome1', 'stepmohome1', 'stepfahome1', 'fosterhome1', 'elsehome1_2', 'talkfather', 'talkstepfa', 'talkmother', 'talkstepmo', 'famhelp', 'famsup', 'famtalk', 'famdec', 'MBMI', 'IRFAS', 'oweight_who' ]\n",
    "#hbsc_2018_short = hbsc_2018.drop(columns=columns_to_drop)"
   ]
  },
  {
   "cell_type": "code",
   "execution_count": 8,
   "metadata": {},
   "outputs": [],
   "source": [
    "hbsc_2018 = hbsc_2018[['id4', 'countryno', 'age', 'agecat', 'sex', 'health', 'lifesat', 'headache', 'stomachache', 'backache', 'feellow', 'irritable', 'nervous', 'sleepdificulty', 'dizzy', 'thinkbody', 'physact60', 'timeexe', 'smokltm', 'smok30d_2', 'alcltm', 'alc30d_2', 'bodyweight', 'bodyheight', 'likeschool', 'schoolpressure', 'studaccept', 'teacheraccept', 'bulliedothers', 'beenbullied', 'emcsocmed1', 'emcsocmed2', 'emcsocmed3', 'emcsocmed4', 'emcsocmed5', 'emcsocmed6', 'emcsocmed7', 'emcsocmed8', 'emcsocmed9', 'employmo', 'employfa', 'employnotfa', 'employnotmo', 'MBMI', 'IRRELFAS_LMH'  ]]"
   ]
  },
  {
   "cell_type": "code",
   "execution_count": 9,
   "metadata": {},
   "outputs": [],
   "source": [
    "# Format to display without exponential notation and round it\n",
    "pd.options.display.float_format = '{:.1f}'.format"
   ]
  },
  {
   "cell_type": "code",
   "execution_count": 10,
   "metadata": {},
   "outputs": [
    {
     "name": "stdout",
     "output_type": "stream",
     "text": [
      "<class 'pandas.core.frame.DataFrame'>\n",
      "RangeIndex: 244097 entries, 0 to 244096\n",
      "Data columns (total 45 columns):\n",
      " #   Column          Non-Null Count   Dtype \n",
      "---  ------          --------------   ----- \n",
      " 0   id4             244097 non-null  int64 \n",
      " 1   countryno       244097 non-null  int64 \n",
      " 2   age             244097 non-null  object\n",
      " 3   agecat          244097 non-null  object\n",
      " 4   sex             244097 non-null  int64 \n",
      " 5   health          244097 non-null  object\n",
      " 6   lifesat         244097 non-null  object\n",
      " 7   headache        244097 non-null  object\n",
      " 8   stomachache     244097 non-null  object\n",
      " 9   backache        244097 non-null  object\n",
      " 10  feellow         244097 non-null  object\n",
      " 11  irritable       244097 non-null  object\n",
      " 12  nervous         244097 non-null  object\n",
      " 13  sleepdificulty  244097 non-null  object\n",
      " 14  dizzy           244097 non-null  object\n",
      " 15  thinkbody       244097 non-null  object\n",
      " 16  physact60       244097 non-null  object\n",
      " 17  timeexe         244097 non-null  object\n",
      " 18  smokltm         244097 non-null  object\n",
      " 19  smok30d_2       244097 non-null  object\n",
      " 20  alcltm          244097 non-null  object\n",
      " 21  alc30d_2        244097 non-null  object\n",
      " 22  bodyweight      244097 non-null  object\n",
      " 23  bodyheight      244097 non-null  object\n",
      " 24  likeschool      244097 non-null  object\n",
      " 25  schoolpressure  244097 non-null  object\n",
      " 26  studaccept      244097 non-null  object\n",
      " 27  teacheraccept   244097 non-null  object\n",
      " 28  bulliedothers   244097 non-null  object\n",
      " 29  beenbullied     244097 non-null  object\n",
      " 30  emcsocmed1      244097 non-null  object\n",
      " 31  emcsocmed2      244097 non-null  object\n",
      " 32  emcsocmed3      244097 non-null  object\n",
      " 33  emcsocmed4      244097 non-null  object\n",
      " 34  emcsocmed5      244097 non-null  object\n",
      " 35  emcsocmed6      244097 non-null  object\n",
      " 36  emcsocmed7      244097 non-null  object\n",
      " 37  emcsocmed8      244097 non-null  object\n",
      " 38  emcsocmed9      244097 non-null  object\n",
      " 39  employmo        244097 non-null  object\n",
      " 40  employfa        244097 non-null  object\n",
      " 41  employnotfa     244097 non-null  object\n",
      " 42  employnotmo     244097 non-null  object\n",
      " 43  MBMI            244097 non-null  object\n",
      " 44  IRRELFAS_LMH    244097 non-null  object\n",
      "dtypes: int64(3), object(42)\n",
      "memory usage: 83.8+ MB\n"
     ]
    }
   ],
   "source": [
    "hbsc_2018.info()"
   ]
  },
  {
   "cell_type": "code",
   "execution_count": 11,
   "metadata": {},
   "outputs": [
    {
     "data": {
      "text/plain": [
       "False    244097\n",
       "Name: count, dtype: int64"
      ]
     },
     "execution_count": 11,
     "metadata": {},
     "output_type": "execute_result"
    }
   ],
   "source": [
    "# no duplicates\n",
    "hbsc_2018.duplicated().value_counts()"
   ]
  },
  {
   "cell_type": "markdown",
   "metadata": {},
   "source": [
    "#### Bringing NaNs into format ####"
   ]
  },
  {
   "cell_type": "code",
   "execution_count": 12,
   "metadata": {},
   "outputs": [],
   "source": [
    "list_of_objects = ['countryno', 'bodyweight', 'bodyheight', 'likeschool', 'schoolpressure', 'studaccept', 'teacheraccept', 'bulliedothers', 'beenbullied', 'emcsocmed1', 'emcsocmed2', 'emcsocmed3', 'emcsocmed4', 'emcsocmed5', 'emcsocmed6', 'emcsocmed7', 'emcsocmed8', 'emcsocmed9', 'employmo', 'employfa', 'employnotfa', 'employnotmo', 'MBMI', 'IRRELFAS_LMH' ]\n",
    "\n",
    "hbsc_2018[list_of_objects] = hbsc_2018[list_of_objects].apply(pd.to_numeric, errors='coerce')"
   ]
  },
  {
   "cell_type": "markdown",
   "metadata": {},
   "source": [
    "# DEMOGRAPHICS"
   ]
  },
  {
   "cell_type": "code",
   "execution_count": 13,
   "metadata": {},
   "outputs": [
    {
     "data": {
      "text/plain": [
       "0"
      ]
     },
     "execution_count": 13,
     "metadata": {},
     "output_type": "execute_result"
    }
   ],
   "source": [
    "hbsc_2018['id4'].isna().sum()"
   ]
  },
  {
   "cell_type": "code",
   "execution_count": 14,
   "metadata": {},
   "outputs": [
    {
     "data": {
      "text/plain": [
       "array([  8000,  40000, 124000, 756000, 276000, 233000, 246000, 250000,\n",
       "       826001, 826002, 826003, 268000, 304000, 300000, 348000, 372000,\n",
       "       352000, 380000, 398000, 440000, 442000, 428000, 470000, 528000,\n",
       "       578000, 616000, 620000, 642000, 688000, 752000, 705000, 792000,\n",
       "        51000,  31000,  56002, 203000, 724000, 643000, 804000, 376000,\n",
       "       498000, 191000, 807000, 100000,  56001, 208000, 703000])"
      ]
     },
     "execution_count": 14,
     "metadata": {},
     "output_type": "execute_result"
    }
   ],
   "source": [
    "hbsc_2018['countryno'].unique()"
   ]
  },
  {
   "cell_type": "code",
   "execution_count": 15,
   "metadata": {},
   "outputs": [],
   "source": [
    "#Creating a new column containing country names#\n",
    "country_names = {\n",
    "    8000: 'Albania',\n",
    "    31000:'Azerbaijan',\n",
    "    40000: 'Austria',\n",
    "    51000: 'Armenia',\n",
    "    56001: 'Belgium (Flemish)',\n",
    "    56002: 'Belgium (French)',\n",
    "    100000: 'Bulgaria',\n",
    "    124000: 'Canada',\n",
    "    191000: 'Croatia',\n",
    "    203000: 'Czech Republic',\n",
    "    208000: 'Denmark',\n",
    "    233000: 'Estonia',\n",
    "    246000: 'Finland',\n",
    "    250000: 'France',\n",
    "    268000: 'Georgia',\n",
    "    276000: 'Germany',\n",
    "    300000: 'Greece',\n",
    "    304000: 'Greenland',\n",
    "    348000: 'Hungary',\n",
    "    352000: 'Iceland',\n",
    "    372000: 'Ireland',\n",
    "    376000: 'Israel',\n",
    "    380000: 'Italy',\n",
    "    398000: 'Kazakhstan',\n",
    "    440000: 'Lithuania',\n",
    "    428000: 'Latvia',\n",
    "    442000: 'Luxembourg',\n",
    "    470000: 'Malta',\n",
    "    498000: 'Republic of Moldova',\n",
    "    528000: 'Netherlands',\n",
    "    578000: 'Norway',\n",
    "    616000: 'Poland',\n",
    "    620000: 'Portugal',\n",
    "    642000: 'Romania',\n",
    "    643000: 'Russia',\n",
    "    688000: 'Serbia',\n",
    "    703000: 'Slovakia',\n",
    "    705000: 'Slovenia',\n",
    "    724000: 'Spain',\n",
    "    752000: 'Sweden',\n",
    "    756000: 'Switzerland',\n",
    "    792000: 'Turkey',\n",
    "    804000: 'Ukraine',\n",
    "    807000: 'Macedonia',\n",
    "    826001: 'England',\n",
    "    826002: 'Scotland',\n",
    "    826003: 'Wales',\n",
    "    826004: 'Northern Ireland',\n",
    "    840000: 'USA'\n",
    "    \n",
    "    }"
   ]
  },
  {
   "cell_type": "code",
   "execution_count": 16,
   "metadata": {},
   "outputs": [],
   "source": [
    "hbsc_2018['country_name'] = hbsc_2018['countryno'].map(country_names)"
   ]
  },
  {
   "cell_type": "code",
   "execution_count": 17,
   "metadata": {},
   "outputs": [
    {
     "data": {
      "text/plain": [
       "country_name\n",
       "Wales                  15951\n",
       "Canada                 12950\n",
       "Czech Republic         11564\n",
       "France                  9170\n",
       "Israel                  7712\n",
       "Switzerland             7510\n",
       "Iceland                 6996\n",
       "Ukraine                 6660\n",
       "Portugal                6126\n",
       "Turkey                  5848\n",
       "Slovenia                5667\n",
       "Belgium (French)        5578\n",
       "Poland                  5224\n",
       "Croatia                 5169\n",
       "Scotland                5021\n",
       "Kazakhstan              4868\n",
       "Slovakia                4785\n",
       "Estonia                 4725\n",
       "Armenia                 4717\n",
       "Netherlands             4698\n",
       "Republic of Moldova     4686\n",
       "Macedonia               4658\n",
       "Azerbaijan              4586\n",
       "Romania                 4567\n",
       "Bulgaria                4548\n",
       "Latvia                  4412\n",
       "Germany                 4347\n",
       "Belgium (Flemish)       4333\n",
       "Spain                   4320\n",
       "Russia                  4281\n",
       "Georgia                 4242\n",
       "Sweden                  4185\n",
       "Italy                   4144\n",
       "Austria                 4129\n",
       "Luxembourg              4070\n",
       "Serbia                  3933\n",
       "Greece                  3863\n",
       "Ireland                 3833\n",
       "Lithuania               3797\n",
       "Hungary                 3789\n",
       "England                 3397\n",
       "Denmark                 3181\n",
       "Finland                 3146\n",
       "Norway                  3127\n",
       "Malta                   2576\n",
       "Albania                 1765\n",
       "Greenland               1243\n",
       "Name: count, dtype: int64"
      ]
     },
     "execution_count": 17,
     "metadata": {},
     "output_type": "execute_result"
    }
   ],
   "source": [
    "hbsc_2018['country_name'].value_counts()"
   ]
  },
  {
   "cell_type": "code",
   "execution_count": 18,
   "metadata": {},
   "outputs": [],
   "source": [
    "#hbsc_2018['country_name']= pd.Categorical(hbsc_2018['country_name'])"
   ]
  },
  {
   "cell_type": "code",
   "execution_count": 19,
   "metadata": {},
   "outputs": [
    {
     "data": {
      "text/plain": [
       "country_name\n",
       "Wales                  15951\n",
       "Canada                 12950\n",
       "Czech Republic         11564\n",
       "France                  9170\n",
       "Israel                  7712\n",
       "Switzerland             7510\n",
       "Iceland                 6996\n",
       "Ukraine                 6660\n",
       "Portugal                6126\n",
       "Turkey                  5848\n",
       "Slovenia                5667\n",
       "Belgium (French)        5578\n",
       "Poland                  5224\n",
       "Croatia                 5169\n",
       "Scotland                5021\n",
       "Kazakhstan              4868\n",
       "Slovakia                4785\n",
       "Estonia                 4725\n",
       "Armenia                 4717\n",
       "Netherlands             4698\n",
       "Republic of Moldova     4686\n",
       "Macedonia               4658\n",
       "Azerbaijan              4586\n",
       "Romania                 4567\n",
       "Bulgaria                4548\n",
       "Latvia                  4412\n",
       "Germany                 4347\n",
       "Belgium (Flemish)       4333\n",
       "Spain                   4320\n",
       "Russia                  4281\n",
       "Georgia                 4242\n",
       "Sweden                  4185\n",
       "Italy                   4144\n",
       "Austria                 4129\n",
       "Luxembourg              4070\n",
       "Serbia                  3933\n",
       "Greece                  3863\n",
       "Ireland                 3833\n",
       "Lithuania               3797\n",
       "Hungary                 3789\n",
       "England                 3397\n",
       "Denmark                 3181\n",
       "Finland                 3146\n",
       "Norway                  3127\n",
       "Malta                   2576\n",
       "Albania                 1765\n",
       "Greenland               1243\n",
       "Name: count, dtype: int64"
      ]
     },
     "execution_count": 19,
     "metadata": {},
     "output_type": "execute_result"
    }
   ],
   "source": [
    "hbsc_2018['country_name'].value_counts()"
   ]
  },
  {
   "cell_type": "code",
   "execution_count": 20,
   "metadata": {},
   "outputs": [
    {
     "data": {
      "text/plain": [
       "0"
      ]
     },
     "execution_count": 20,
     "metadata": {},
     "output_type": "execute_result"
    }
   ],
   "source": [
    "hbsc_2018['country_name'].isna().sum()"
   ]
  },
  {
   "cell_type": "code",
   "execution_count": 21,
   "metadata": {},
   "outputs": [],
   "source": [
    "hbsc_2018 = hbsc_2018.drop(['countryno'], axis=1)\n"
   ]
  },
  {
   "cell_type": "code",
   "execution_count": 22,
   "metadata": {},
   "outputs": [
    {
     "data": {
      "text/html": [
       "<div>\n",
       "<style scoped>\n",
       "    .dataframe tbody tr th:only-of-type {\n",
       "        vertical-align: middle;\n",
       "    }\n",
       "\n",
       "    .dataframe tbody tr th {\n",
       "        vertical-align: top;\n",
       "    }\n",
       "\n",
       "    .dataframe thead th {\n",
       "        text-align: right;\n",
       "    }\n",
       "</style>\n",
       "<table border=\"1\" class=\"dataframe\">\n",
       "  <thead>\n",
       "    <tr style=\"text-align: right;\">\n",
       "      <th></th>\n",
       "      <th>id4</th>\n",
       "      <th>age</th>\n",
       "      <th>agecat</th>\n",
       "      <th>sex</th>\n",
       "      <th>health</th>\n",
       "      <th>lifesat</th>\n",
       "      <th>headache</th>\n",
       "      <th>stomachache</th>\n",
       "      <th>backache</th>\n",
       "      <th>feellow</th>\n",
       "      <th>...</th>\n",
       "      <th>emcsocmed7</th>\n",
       "      <th>emcsocmed8</th>\n",
       "      <th>emcsocmed9</th>\n",
       "      <th>employmo</th>\n",
       "      <th>employfa</th>\n",
       "      <th>employnotfa</th>\n",
       "      <th>employnotmo</th>\n",
       "      <th>MBMI</th>\n",
       "      <th>IRRELFAS_LMH</th>\n",
       "      <th>country_name</th>\n",
       "    </tr>\n",
       "  </thead>\n",
       "  <tbody>\n",
       "    <tr>\n",
       "      <th>0</th>\n",
       "      <td>321</td>\n",
       "      <td>1.79769313486232e+308</td>\n",
       "      <td>1.79769313486232e+308</td>\n",
       "      <td>1</td>\n",
       "      <td>1</td>\n",
       "      <td>7</td>\n",
       "      <td>5</td>\n",
       "      <td>4</td>\n",
       "      <td>5</td>\n",
       "      <td>3</td>\n",
       "      <td>...</td>\n",
       "      <td>1.0</td>\n",
       "      <td>1.0</td>\n",
       "      <td>1.0</td>\n",
       "      <td>1.0</td>\n",
       "      <td>1.0</td>\n",
       "      <td>NaN</td>\n",
       "      <td>NaN</td>\n",
       "      <td>18.0</td>\n",
       "      <td>2.0</td>\n",
       "      <td>Albania</td>\n",
       "    </tr>\n",
       "    <tr>\n",
       "      <th>1</th>\n",
       "      <td>611</td>\n",
       "      <td>1.79769313486232e+308</td>\n",
       "      <td>1.79769313486232e+308</td>\n",
       "      <td>1</td>\n",
       "      <td>1</td>\n",
       "      <td>7</td>\n",
       "      <td>5</td>\n",
       "      <td>5</td>\n",
       "      <td>5</td>\n",
       "      <td>3</td>\n",
       "      <td>...</td>\n",
       "      <td>1.0</td>\n",
       "      <td>2.0</td>\n",
       "      <td>1.0</td>\n",
       "      <td>1.0</td>\n",
       "      <td>1.0</td>\n",
       "      <td>NaN</td>\n",
       "      <td>NaN</td>\n",
       "      <td>17.8</td>\n",
       "      <td>NaN</td>\n",
       "      <td>Albania</td>\n",
       "    </tr>\n",
       "    <tr>\n",
       "      <th>2</th>\n",
       "      <td>1225</td>\n",
       "      <td>1.79769313486232e+308</td>\n",
       "      <td>1.79769313486232e+308</td>\n",
       "      <td>1</td>\n",
       "      <td>1</td>\n",
       "      <td>10</td>\n",
       "      <td>5</td>\n",
       "      <td>3</td>\n",
       "      <td>5</td>\n",
       "      <td>5</td>\n",
       "      <td>...</td>\n",
       "      <td>1.0</td>\n",
       "      <td>2.0</td>\n",
       "      <td>2.0</td>\n",
       "      <td>2.0</td>\n",
       "      <td>1.0</td>\n",
       "      <td>NaN</td>\n",
       "      <td>1.0</td>\n",
       "      <td>24.2</td>\n",
       "      <td>NaN</td>\n",
       "      <td>Albania</td>\n",
       "    </tr>\n",
       "    <tr>\n",
       "      <th>3</th>\n",
       "      <td>1371</td>\n",
       "      <td>1.79769313486232e+308</td>\n",
       "      <td>1.79769313486232e+308</td>\n",
       "      <td>1</td>\n",
       "      <td>1.79769313486232e+308</td>\n",
       "      <td>1.79769313486232e+308</td>\n",
       "      <td>5</td>\n",
       "      <td>5</td>\n",
       "      <td>4</td>\n",
       "      <td>5</td>\n",
       "      <td>...</td>\n",
       "      <td>1.0</td>\n",
       "      <td>1.0</td>\n",
       "      <td>1.0</td>\n",
       "      <td>1.0</td>\n",
       "      <td>1.0</td>\n",
       "      <td>NaN</td>\n",
       "      <td>NaN</td>\n",
       "      <td>15.0</td>\n",
       "      <td>NaN</td>\n",
       "      <td>Albania</td>\n",
       "    </tr>\n",
       "    <tr>\n",
       "      <th>4</th>\n",
       "      <td>1604</td>\n",
       "      <td>1.79769313486232e+308</td>\n",
       "      <td>1.79769313486232e+308</td>\n",
       "      <td>1</td>\n",
       "      <td>2</td>\n",
       "      <td>6</td>\n",
       "      <td>2</td>\n",
       "      <td>5</td>\n",
       "      <td>1</td>\n",
       "      <td>1</td>\n",
       "      <td>...</td>\n",
       "      <td>1.0</td>\n",
       "      <td>1.0</td>\n",
       "      <td>2.0</td>\n",
       "      <td>1.0</td>\n",
       "      <td>1.0</td>\n",
       "      <td>NaN</td>\n",
       "      <td>NaN</td>\n",
       "      <td>15.6</td>\n",
       "      <td>NaN</td>\n",
       "      <td>Albania</td>\n",
       "    </tr>\n",
       "  </tbody>\n",
       "</table>\n",
       "<p>5 rows × 45 columns</p>\n",
       "</div>"
      ],
      "text/plain": [
       "    id4                    age                 agecat  sex   \n",
       "0   321  1.79769313486232e+308  1.79769313486232e+308    1  \\\n",
       "1   611  1.79769313486232e+308  1.79769313486232e+308    1   \n",
       "2  1225  1.79769313486232e+308  1.79769313486232e+308    1   \n",
       "3  1371  1.79769313486232e+308  1.79769313486232e+308    1   \n",
       "4  1604  1.79769313486232e+308  1.79769313486232e+308    1   \n",
       "\n",
       "                  health                lifesat headache stomachache backache   \n",
       "0                      1                      7        5           4        5  \\\n",
       "1                      1                      7        5           5        5   \n",
       "2                      1                     10        5           3        5   \n",
       "3  1.79769313486232e+308  1.79769313486232e+308        5           5        4   \n",
       "4                      2                      6        2           5        1   \n",
       "\n",
       "  feellow  ... emcsocmed7 emcsocmed8 emcsocmed9 employmo employfa employnotfa   \n",
       "0       3  ...        1.0        1.0        1.0      1.0      1.0         NaN  \\\n",
       "1       3  ...        1.0        2.0        1.0      1.0      1.0         NaN   \n",
       "2       5  ...        1.0        2.0        2.0      2.0      1.0         NaN   \n",
       "3       5  ...        1.0        1.0        1.0      1.0      1.0         NaN   \n",
       "4       1  ...        1.0        1.0        2.0      1.0      1.0         NaN   \n",
       "\n",
       "  employnotmo MBMI IRRELFAS_LMH country_name  \n",
       "0         NaN 18.0          2.0      Albania  \n",
       "1         NaN 17.8          NaN      Albania  \n",
       "2         1.0 24.2          NaN      Albania  \n",
       "3         NaN 15.0          NaN      Albania  \n",
       "4         NaN 15.6          NaN      Albania  \n",
       "\n",
       "[5 rows x 45 columns]"
      ]
     },
     "execution_count": 22,
     "metadata": {},
     "output_type": "execute_result"
    }
   ],
   "source": [
    "hbsc_2018.head()"
   ]
  },
  {
   "cell_type": "code",
   "execution_count": 23,
   "metadata": {},
   "outputs": [],
   "source": [
    "hbsc_2018['age'] = hbsc_2018['age'].apply(pd.to_numeric, errors='coerce')"
   ]
  },
  {
   "cell_type": "code",
   "execution_count": 24,
   "metadata": {},
   "outputs": [
    {
     "data": {
      "text/plain": [
       "dtype('float64')"
      ]
     },
     "execution_count": 24,
     "metadata": {},
     "output_type": "execute_result"
    }
   ],
   "source": [
    "hbsc_2018['age'].dtype"
   ]
  },
  {
   "cell_type": "code",
   "execution_count": 25,
   "metadata": {},
   "outputs": [
    {
     "data": {
      "text/plain": [
       "count   242581.0\n",
       "mean        13.5\n",
       "std          1.6\n",
       "min         10.0\n",
       "25%         11.8\n",
       "50%         13.5\n",
       "75%         15.2\n",
       "max         16.5\n",
       "Name: age, dtype: float64"
      ]
     },
     "execution_count": 25,
     "metadata": {},
     "output_type": "execute_result"
    }
   ],
   "source": [
    "hbsc_2018['age'].describe()"
   ]
  },
  {
   "cell_type": "code",
   "execution_count": 26,
   "metadata": {},
   "outputs": [
    {
     "data": {
      "text/plain": [
       "0         NaN\n",
       "1         NaN\n",
       "2         NaN\n",
       "3         NaN\n",
       "4         NaN\n",
       "         ... \n",
       "244092   16.5\n",
       "244093   16.5\n",
       "244094   16.5\n",
       "244095   16.5\n",
       "244096   16.5\n",
       "Name: age, Length: 244097, dtype: float64"
      ]
     },
     "execution_count": 26,
     "metadata": {},
     "output_type": "execute_result"
    }
   ],
   "source": [
    "hbsc_2018['age']"
   ]
  },
  {
   "cell_type": "code",
   "execution_count": 27,
   "metadata": {},
   "outputs": [
    {
     "data": {
      "text/plain": [
       "1516"
      ]
     },
     "execution_count": 27,
     "metadata": {},
     "output_type": "execute_result"
    }
   ],
   "source": [
    "hbsc_2018['age'].isna().sum()"
   ]
  },
  {
   "cell_type": "code",
   "execution_count": 28,
   "metadata": {},
   "outputs": [
    {
     "data": {
      "text/plain": [
       "dtype('O')"
      ]
     },
     "execution_count": 28,
     "metadata": {},
     "output_type": "execute_result"
    }
   ],
   "source": [
    "hbsc_2018['agecat'].dtype"
   ]
  },
  {
   "cell_type": "code",
   "execution_count": 29,
   "metadata": {},
   "outputs": [],
   "source": [
    "hbsc_2018['agecat'] = hbsc_2018['agecat'].apply(pd.to_numeric, errors='coerce')"
   ]
  },
  {
   "cell_type": "code",
   "execution_count": 30,
   "metadata": {},
   "outputs": [
    {
     "data": {
      "text/plain": [
       "count   242581.0\n",
       "mean         2.0\n",
       "std          0.8\n",
       "min          1.0\n",
       "25%          1.0\n",
       "50%          2.0\n",
       "75%          3.0\n",
       "max          3.0\n",
       "Name: agecat, dtype: float64"
      ]
     },
     "execution_count": 30,
     "metadata": {},
     "output_type": "execute_result"
    }
   ],
   "source": [
    "hbsc_2018['agecat'].describe()"
   ]
  },
  {
   "cell_type": "code",
   "execution_count": 31,
   "metadata": {},
   "outputs": [
    {
     "data": {
      "text/plain": [
       "1516"
      ]
     },
     "execution_count": 31,
     "metadata": {},
     "output_type": "execute_result"
    }
   ],
   "source": [
    "hbsc_2018['agecat'].isna().sum()"
   ]
  },
  {
   "cell_type": "code",
   "execution_count": 32,
   "metadata": {},
   "outputs": [
    {
     "data": {
      "text/plain": [
       "agecat\n",
       "2.0    83749\n",
       "1.0    81834\n",
       "3.0    76998\n",
       "Name: count, dtype: int64"
      ]
     },
     "execution_count": 32,
     "metadata": {},
     "output_type": "execute_result"
    }
   ],
   "source": [
    "hbsc_2018['agecat'].value_counts()"
   ]
  },
  {
   "cell_type": "code",
   "execution_count": 33,
   "metadata": {},
   "outputs": [],
   "source": [
    "#hbsc_2018['agecat']= pd.Categorical(hbsc_2018['agecat'])"
   ]
  },
  {
   "cell_type": "markdown",
   "metadata": {},
   "source": [
    "# Age Category"
   ]
  },
  {
   "cell_type": "code",
   "execution_count": 34,
   "metadata": {},
   "outputs": [
    {
     "data": {
      "text/plain": [
       "<Axes: xlabel='agecat'>"
      ]
     },
     "execution_count": 34,
     "metadata": {},
     "output_type": "execute_result"
    },
    {
     "data": {
      "image/png": "[encoded data removed]",
      "text/plain": [
       "<Figure size 640x480 with 1 Axes>"
      ]
     },
     "metadata": {},
     "output_type": "display_data"
    }
   ],
   "source": [
    "hbsc_2018['agecat'].value_counts().plot(kind='bar')"
   ]
  },
  {
   "cell_type": "code",
   "execution_count": 35,
   "metadata": {},
   "outputs": [
    {
     "data": {
      "text/plain": [
       "0         1\n",
       "1         1\n",
       "2         1\n",
       "3         1\n",
       "4         1\n",
       "         ..\n",
       "244092    2\n",
       "244093    2\n",
       "244094    2\n",
       "244095    2\n",
       "244096    2\n",
       "Name: sex, Length: 244097, dtype: int64"
      ]
     },
     "execution_count": 35,
     "metadata": {},
     "output_type": "execute_result"
    }
   ],
   "source": [
    "hbsc_2018['sex']"
   ]
  },
  {
   "cell_type": "code",
   "execution_count": 36,
   "metadata": {},
   "outputs": [
    {
     "data": {
      "text/plain": [
       "dtype('int64')"
      ]
     },
     "execution_count": 36,
     "metadata": {},
     "output_type": "execute_result"
    }
   ],
   "source": [
    "hbsc_2018['sex'].dtype"
   ]
  },
  {
   "cell_type": "code",
   "execution_count": 37,
   "metadata": {},
   "outputs": [
    {
     "data": {
      "text/plain": [
       "count   244097.0\n",
       "mean         1.5\n",
       "std          0.5\n",
       "min          1.0\n",
       "25%          1.0\n",
       "50%          2.0\n",
       "75%          2.0\n",
       "max          2.0\n",
       "Name: sex, dtype: float64"
      ]
     },
     "execution_count": 37,
     "metadata": {},
     "output_type": "execute_result"
    }
   ],
   "source": [
    "#1=male, 2=female\n",
    "hbsc_2018['sex'].describe()"
   ]
  },
  {
   "cell_type": "code",
   "execution_count": 38,
   "metadata": {},
   "outputs": [
    {
     "data": {
      "text/plain": [
       "0"
      ]
     },
     "execution_count": 38,
     "metadata": {},
     "output_type": "execute_result"
    }
   ],
   "source": [
    "hbsc_2018['sex'].isna().sum()"
   ]
  },
  {
   "cell_type": "code",
   "execution_count": 39,
   "metadata": {},
   "outputs": [],
   "source": [
    "#hbsc_2018['gender'] = pd.Categorical(hbsc_2018['sex'])"
   ]
  },
  {
   "cell_type": "code",
   "execution_count": 40,
   "metadata": {},
   "outputs": [],
   "source": [
    "#hbsc_2018['gender'] = hbsc_2018['gender'].map({1:'M',2:'F'})"
   ]
  },
  {
   "cell_type": "code",
   "execution_count": 41,
   "metadata": {},
   "outputs": [],
   "source": [
    "#hbsc_2018['gender'].value_counts().plot(kind='bar')"
   ]
  },
  {
   "cell_type": "markdown",
   "metadata": {},
   "source": [
    "# HEALTH-RELATED DATA"
   ]
  },
  {
   "cell_type": "markdown",
   "metadata": {},
   "source": [
    "## 'health' - Would you say your health is...?\n",
    "1= excellent, 2= good, 3= fair, 4= poor"
   ]
  },
  {
   "cell_type": "code",
   "execution_count": 42,
   "metadata": {},
   "outputs": [
    {
     "data": {
      "text/plain": [
       "<bound method Series.unique of 0                             1\n",
       "1                             1\n",
       "2                             1\n",
       "3         1.79769313486232e+308\n",
       "4                             2\n",
       "                  ...          \n",
       "244092                        1\n",
       "244093                        2\n",
       "244094                        4\n",
       "244095                        2\n",
       "244096                        2\n",
       "Name: health, Length: 244097, dtype: object>"
      ]
     },
     "execution_count": 42,
     "metadata": {},
     "output_type": "execute_result"
    }
   ],
   "source": [
    "hbsc_2018['health'].unique"
   ]
  },
  {
   "cell_type": "code",
   "execution_count": 43,
   "metadata": {},
   "outputs": [],
   "source": [
    "hbsc_2018['health'] = hbsc_2018['health'].apply(pd.to_numeric, errors='coerce')"
   ]
  },
  {
   "cell_type": "code",
   "execution_count": 44,
   "metadata": {},
   "outputs": [
    {
     "data": {
      "text/plain": [
       "health\n",
       "2.0    120155\n",
       "1.0     86985\n",
       "3.0     30473\n",
       "4.0      3907\n",
       "Name: count, dtype: int64"
      ]
     },
     "execution_count": 44,
     "metadata": {},
     "output_type": "execute_result"
    }
   ],
   "source": [
    "hbsc_2018['health'].value_counts()"
   ]
  },
  {
   "cell_type": "code",
   "execution_count": 45,
   "metadata": {},
   "outputs": [],
   "source": [
    "#hbsc_2018['health']= pd.Categorical(hbsc_2018['health'])"
   ]
  },
  {
   "cell_type": "code",
   "execution_count": 46,
   "metadata": {},
   "outputs": [
    {
     "data": {
      "text/plain": [
       "2577"
      ]
     },
     "execution_count": 46,
     "metadata": {},
     "output_type": "execute_result"
    }
   ],
   "source": [
    "hbsc_2018['health'].isna().sum()"
   ]
  },
  {
   "cell_type": "markdown",
   "metadata": {},
   "source": [
    "## 'lifesat' - Life satisfaction: Here is a picture of a ladder. The top of the ladder “10” is the best possible life for you and the bottom “0” is the worst possible life for you. In general, where on the ladder do you feel you stand at the moment?"
   ]
  },
  {
   "cell_type": "code",
   "execution_count": 47,
   "metadata": {},
   "outputs": [
    {
     "data": {
      "text/plain": [
       "0                             7\n",
       "1                             7\n",
       "2                            10\n",
       "3         1.79769313486232e+308\n",
       "4                             6\n",
       "                  ...          \n",
       "244092                        9\n",
       "244093                        7\n",
       "244094                        5\n",
       "244095                        8\n",
       "244096                        7\n",
       "Name: lifesat, Length: 244097, dtype: object"
      ]
     },
     "execution_count": 47,
     "metadata": {},
     "output_type": "execute_result"
    }
   ],
   "source": [
    "hbsc_2018['lifesat']"
   ]
  },
  {
   "cell_type": "code",
   "execution_count": 48,
   "metadata": {},
   "outputs": [],
   "source": [
    "hbsc_2018['lifesat'] = hbsc_2018['lifesat'].apply(pd.to_numeric, errors='coerce')"
   ]
  },
  {
   "cell_type": "code",
   "execution_count": 49,
   "metadata": {},
   "outputs": [
    {
     "data": {
      "text/plain": [
       "count   239585.0\n",
       "mean         7.7\n",
       "std          1.9\n",
       "min          0.0\n",
       "25%          7.0\n",
       "50%          8.0\n",
       "75%          9.0\n",
       "max         10.0\n",
       "Name: lifesat, dtype: float64"
      ]
     },
     "execution_count": 49,
     "metadata": {},
     "output_type": "execute_result"
    }
   ],
   "source": [
    "hbsc_2018['lifesat'].describe()"
   ]
  },
  {
   "cell_type": "code",
   "execution_count": 50,
   "metadata": {},
   "outputs": [
    {
     "data": {
      "text/plain": [
       "4512"
      ]
     },
     "execution_count": 50,
     "metadata": {},
     "output_type": "execute_result"
    }
   ],
   "source": [
    "hbsc_2018['lifesat'].isna().sum()"
   ]
  },
  {
   "cell_type": "code",
   "execution_count": 51,
   "metadata": {},
   "outputs": [
    {
     "data": {
      "text/plain": [
       "array([[<Axes: title={'center': 'lifesat'}>]], dtype=object)"
      ]
     },
     "execution_count": 51,
     "metadata": {},
     "output_type": "execute_result"
    },
    {
     "data": {
      "image/png": "[encoded data removed]",
      "text/plain": [
       "<Figure size 640x480 with 1 Axes>"
      ]
     },
     "metadata": {},
     "output_type": "display_data"
    }
   ],
   "source": [
    "hbsc_2018.hist(column='lifesat')"
   ]
  },
  {
   "cell_type": "markdown",
   "metadata": {},
   "source": [
    "## 'headache' - Headache: In the last 6 months: how often have you had the following....?"
   ]
  },
  {
   "cell_type": "markdown",
   "metadata": {},
   "source": [
    "1 = about every day, 2 = more once/week, 3 = about every week, 4 = about every month, 5 = rarely or never"
   ]
  },
  {
   "cell_type": "code",
   "execution_count": 52,
   "metadata": {},
   "outputs": [
    {
     "data": {
      "text/plain": [
       "0         5\n",
       "1         5\n",
       "2         5\n",
       "3         5\n",
       "4         2\n",
       "         ..\n",
       "244092    3\n",
       "244093    5\n",
       "244094    2\n",
       "244095    5\n",
       "244096    2\n",
       "Name: headache, Length: 244097, dtype: object"
      ]
     },
     "execution_count": 52,
     "metadata": {},
     "output_type": "execute_result"
    }
   ],
   "source": [
    "hbsc_2018.headache"
   ]
  },
  {
   "cell_type": "code",
   "execution_count": 53,
   "metadata": {},
   "outputs": [],
   "source": [
    "hbsc_2018['headache'] = hbsc_2018['headache'].apply(pd.to_numeric, errors='coerce')"
   ]
  },
  {
   "cell_type": "code",
   "execution_count": 54,
   "metadata": {},
   "outputs": [],
   "source": [
    "#hbsc_2018['headache']"
   ]
  },
  {
   "cell_type": "code",
   "execution_count": 55,
   "metadata": {},
   "outputs": [],
   "source": [
    "#hbsc_2018['headache']= pd.Categorical(hbsc_2018['headache'])"
   ]
  },
  {
   "cell_type": "code",
   "execution_count": 56,
   "metadata": {},
   "outputs": [
    {
     "data": {
      "text/plain": [
       "headache\n",
       "5.0    117700\n",
       "4.0     53676\n",
       "3.0     30076\n",
       "2.0     24257\n",
       "1.0     13883\n",
       "Name: count, dtype: int64"
      ]
     },
     "execution_count": 56,
     "metadata": {},
     "output_type": "execute_result"
    }
   ],
   "source": [
    "hbsc_2018['headache'].value_counts()"
   ]
  },
  {
   "cell_type": "code",
   "execution_count": 57,
   "metadata": {},
   "outputs": [
    {
     "data": {
      "text/plain": [
       "4505"
      ]
     },
     "execution_count": 57,
     "metadata": {},
     "output_type": "execute_result"
    }
   ],
   "source": [
    "hbsc_2018['headache'].isna().sum()"
   ]
  },
  {
   "cell_type": "code",
   "execution_count": 58,
   "metadata": {},
   "outputs": [
    {
     "data": {
      "text/plain": [
       "<Axes: xlabel='headache'>"
      ]
     },
     "execution_count": 58,
     "metadata": {},
     "output_type": "execute_result"
    },
    {
     "data": {
      "image/png": "[encoded data removed]",
      "text/plain": [
       "<Figure size 640x480 with 1 Axes>"
      ]
     },
     "metadata": {},
     "output_type": "display_data"
    }
   ],
   "source": [
    "hbsc_2018['headache'].value_counts().plot(kind='bar')"
   ]
  },
  {
   "cell_type": "markdown",
   "metadata": {},
   "source": [
    "## 'stomachache' - Stomachache: In the last 6 months: how often have you had the following....?"
   ]
  },
  {
   "cell_type": "markdown",
   "metadata": {},
   "source": [
    "1 = about every day, 2 = more once/week, 3 = about every week, 4 = about every month, 5 = rarely or never"
   ]
  },
  {
   "cell_type": "code",
   "execution_count": 59,
   "metadata": {},
   "outputs": [
    {
     "data": {
      "text/plain": [
       "0         4\n",
       "1         5\n",
       "2         3\n",
       "3         5\n",
       "4         5\n",
       "         ..\n",
       "244092    5\n",
       "244093    4\n",
       "244094    1\n",
       "244095    5\n",
       "244096    2\n",
       "Name: stomachache, Length: 244097, dtype: object"
      ]
     },
     "execution_count": 59,
     "metadata": {},
     "output_type": "execute_result"
    }
   ],
   "source": [
    "hbsc_2018['stomachache']"
   ]
  },
  {
   "cell_type": "code",
   "execution_count": 60,
   "metadata": {},
   "outputs": [
    {
     "data": {
      "text/plain": [
       "(244097,)"
      ]
     },
     "execution_count": 60,
     "metadata": {},
     "output_type": "execute_result"
    }
   ],
   "source": [
    "hbsc_2018['stomachache'].shape"
   ]
  },
  {
   "cell_type": "code",
   "execution_count": 61,
   "metadata": {},
   "outputs": [],
   "source": [
    "hbsc_2018['stomachache'] = hbsc_2018['stomachache'].apply(pd.to_numeric, errors='coerce')"
   ]
  },
  {
   "cell_type": "code",
   "execution_count": 62,
   "metadata": {},
   "outputs": [],
   "source": [
    "#hbsc_2018['stomachache']= pd.Categorical(hbsc_2018['stomachache'])"
   ]
  },
  {
   "cell_type": "code",
   "execution_count": 63,
   "metadata": {},
   "outputs": [
    {
     "data": {
      "text/plain": [
       "stomachache\n",
       "5.0    122867\n",
       "4.0     68018\n",
       "3.0     22895\n",
       "2.0     16223\n",
       "1.0      8415\n",
       "Name: count, dtype: int64"
      ]
     },
     "execution_count": 63,
     "metadata": {},
     "output_type": "execute_result"
    }
   ],
   "source": [
    "hbsc_2018['stomachache'].value_counts()"
   ]
  },
  {
   "cell_type": "code",
   "execution_count": 64,
   "metadata": {},
   "outputs": [
    {
     "data": {
      "text/plain": [
       "5679"
      ]
     },
     "execution_count": 64,
     "metadata": {},
     "output_type": "execute_result"
    }
   ],
   "source": [
    "hbsc_2018['stomachache'].isna().sum()"
   ]
  },
  {
   "cell_type": "code",
   "execution_count": 65,
   "metadata": {},
   "outputs": [
    {
     "data": {
      "text/plain": [
       "<Axes: xlabel='stomachache'>"
      ]
     },
     "execution_count": 65,
     "metadata": {},
     "output_type": "execute_result"
    },
    {
     "data": {
      "image/png": "[encoded data removed]",
      "text/plain": [
       "<Figure size 640x480 with 1 Axes>"
      ]
     },
     "metadata": {},
     "output_type": "display_data"
    }
   ],
   "source": [
    "hbsc_2018['stomachache'].value_counts().plot(kind='bar')"
   ]
  },
  {
   "cell_type": "markdown",
   "metadata": {},
   "source": [
    "## 'backache' - Back ache: In the last 6 months: how often have you had the following....?"
   ]
  },
  {
   "cell_type": "markdown",
   "metadata": {},
   "source": [
    "1 = about every day, 2 = more once/week, 3 = about every week, 4 = about every month, 5 = rarely or never"
   ]
  },
  {
   "cell_type": "code",
   "execution_count": 66,
   "metadata": {},
   "outputs": [
    {
     "data": {
      "text/plain": [
       "count     244097\n",
       "unique         6\n",
       "top            5\n",
       "freq      144225\n",
       "Name: backache, dtype: object"
      ]
     },
     "execution_count": 66,
     "metadata": {},
     "output_type": "execute_result"
    }
   ],
   "source": [
    "hbsc_2018['backache'].describe()"
   ]
  },
  {
   "cell_type": "code",
   "execution_count": 67,
   "metadata": {},
   "outputs": [],
   "source": [
    "hbsc_2018['backache'] = hbsc_2018['backache'].apply(pd.to_numeric, errors='coerce')"
   ]
  },
  {
   "cell_type": "code",
   "execution_count": 68,
   "metadata": {},
   "outputs": [],
   "source": [
    "#hbsc_2018['backache']= pd.Categorical(hbsc_2018['backache'])"
   ]
  },
  {
   "cell_type": "code",
   "execution_count": 69,
   "metadata": {},
   "outputs": [
    {
     "data": {
      "text/plain": [
       "backache\n",
       "5.0    144225\n",
       "4.0     40910\n",
       "3.0     21410\n",
       "2.0     16137\n",
       "1.0     14872\n",
       "Name: count, dtype: int64"
      ]
     },
     "execution_count": 69,
     "metadata": {},
     "output_type": "execute_result"
    }
   ],
   "source": [
    "hbsc_2018['backache'].value_counts()"
   ]
  },
  {
   "cell_type": "code",
   "execution_count": 70,
   "metadata": {},
   "outputs": [
    {
     "data": {
      "text/plain": [
       "6543"
      ]
     },
     "execution_count": 70,
     "metadata": {},
     "output_type": "execute_result"
    }
   ],
   "source": [
    "hbsc_2018['backache'].isna().sum()"
   ]
  },
  {
   "cell_type": "code",
   "execution_count": 71,
   "metadata": {},
   "outputs": [
    {
     "data": {
      "text/plain": [
       "<Axes: xlabel='backache'>"
      ]
     },
     "execution_count": 71,
     "metadata": {},
     "output_type": "execute_result"
    },
    {
     "data": {
      "image/png": "[encoded data removed]",
      "text/plain": [
       "<Figure size 640x480 with 1 Axes>"
      ]
     },
     "metadata": {},
     "output_type": "display_data"
    }
   ],
   "source": [
    "hbsc_2018['backache'].value_counts().plot(kind='bar')"
   ]
  },
  {
   "cell_type": "markdown",
   "metadata": {},
   "source": [
    "## 'feellow' - Feeling low: In the last 6 months: how often have you had the following....?"
   ]
  },
  {
   "cell_type": "markdown",
   "metadata": {},
   "source": [
    "1 = about every day, 2 = more once/week, 3 = about every week, 4 = about every month, 5 = rarely or never"
   ]
  },
  {
   "cell_type": "code",
   "execution_count": 72,
   "metadata": {},
   "outputs": [
    {
     "data": {
      "text/plain": [
       "count     244097\n",
       "unique         6\n",
       "top            5\n",
       "freq      112756\n",
       "Name: feellow, dtype: object"
      ]
     },
     "execution_count": 72,
     "metadata": {},
     "output_type": "execute_result"
    }
   ],
   "source": [
    "hbsc_2018['feellow'].describe()"
   ]
  },
  {
   "cell_type": "code",
   "execution_count": 73,
   "metadata": {},
   "outputs": [],
   "source": [
    "hbsc_2018['feellow'] = hbsc_2018['feellow'].apply(pd.to_numeric, errors='coerce')"
   ]
  },
  {
   "cell_type": "code",
   "execution_count": 74,
   "metadata": {},
   "outputs": [],
   "source": [
    "#hbsc_2018['feellow']= pd.Categorical(hbsc_2018['feellow'])"
   ]
  },
  {
   "cell_type": "code",
   "execution_count": 75,
   "metadata": {},
   "outputs": [
    {
     "data": {
      "text/plain": [
       "feellow\n",
       "5.0    112756\n",
       "4.0     48898\n",
       "3.0     29784\n",
       "2.0     25739\n",
       "1.0     20224\n",
       "Name: count, dtype: int64"
      ]
     },
     "execution_count": 75,
     "metadata": {},
     "output_type": "execute_result"
    }
   ],
   "source": [
    "hbsc_2018['feellow'].value_counts()"
   ]
  },
  {
   "cell_type": "code",
   "execution_count": 76,
   "metadata": {},
   "outputs": [
    {
     "data": {
      "text/plain": [
       "6696"
      ]
     },
     "execution_count": 76,
     "metadata": {},
     "output_type": "execute_result"
    }
   ],
   "source": [
    "hbsc_2018['feellow'].isna().sum()"
   ]
  },
  {
   "cell_type": "code",
   "execution_count": 77,
   "metadata": {},
   "outputs": [
    {
     "data": {
      "text/plain": [
       "<Axes: xlabel='feellow'>"
      ]
     },
     "execution_count": 77,
     "metadata": {},
     "output_type": "execute_result"
    },
    {
     "data": {
      "image/png": "[encoded data removed]",
      "text/plain": [
       "<Figure size 640x480 with 1 Axes>"
      ]
     },
     "metadata": {},
     "output_type": "display_data"
    }
   ],
   "source": [
    "hbsc_2018['feellow'].value_counts().plot(kind='bar')"
   ]
  },
  {
   "cell_type": "markdown",
   "metadata": {},
   "source": [
    "## 'irritable' - Irritability or bad temper: In the last 6 months: how often have you had the following....?"
   ]
  },
  {
   "cell_type": "markdown",
   "metadata": {},
   "source": [
    "1 = about every day, 2 = more once/week, 3 = about every week, 4 = about every month, 5 = rarely or never"
   ]
  },
  {
   "cell_type": "code",
   "execution_count": 78,
   "metadata": {},
   "outputs": [
    {
     "data": {
      "text/plain": [
       "count     244097\n",
       "unique         6\n",
       "top            5\n",
       "freq       75056\n",
       "Name: irritable, dtype: object"
      ]
     },
     "execution_count": 78,
     "metadata": {},
     "output_type": "execute_result"
    }
   ],
   "source": [
    "hbsc_2018['irritable'].describe()"
   ]
  },
  {
   "cell_type": "code",
   "execution_count": 79,
   "metadata": {},
   "outputs": [],
   "source": [
    "hbsc_2018['irritable'] = hbsc_2018['irritable'].apply(pd.to_numeric, errors='coerce')"
   ]
  },
  {
   "cell_type": "code",
   "execution_count": 80,
   "metadata": {},
   "outputs": [],
   "source": [
    "#hbsc_2018['irritable']= pd.Categorical(hbsc_2018['irritable'])"
   ]
  },
  {
   "cell_type": "code",
   "execution_count": 81,
   "metadata": {},
   "outputs": [
    {
     "data": {
      "text/plain": [
       "irritable\n",
       "5.0    75056\n",
       "4.0    57922\n",
       "3.0    42648\n",
       "2.0    35879\n",
       "1.0    26053\n",
       "Name: count, dtype: int64"
      ]
     },
     "execution_count": 81,
     "metadata": {},
     "output_type": "execute_result"
    }
   ],
   "source": [
    "hbsc_2018['irritable'].value_counts()"
   ]
  },
  {
   "cell_type": "code",
   "execution_count": 82,
   "metadata": {},
   "outputs": [
    {
     "data": {
      "text/plain": [
       "6539"
      ]
     },
     "execution_count": 82,
     "metadata": {},
     "output_type": "execute_result"
    }
   ],
   "source": [
    "hbsc_2018['irritable'].isna().sum()"
   ]
  },
  {
   "cell_type": "code",
   "execution_count": 182,
   "metadata": {},
   "outputs": [
    {
     "data": {
      "text/plain": [
       "<Axes: xlabel='irritable'>"
      ]
     },
     "execution_count": 182,
     "metadata": {},
     "output_type": "execute_result"
    },
    {
     "data": {
      "image/png": "[encoded data removed]",
      "text/plain": [
       "<Figure size 640x480 with 1 Axes>"
      ]
     },
     "metadata": {},
     "output_type": "display_data"
    }
   ],
   "source": [
    "hbsc_2018['irritable'].value_counts().plot(kind='bar')"
   ]
  },
  {
   "cell_type": "markdown",
   "metadata": {},
   "source": [
    "## 'nervous' - Feeling nervous: In the last 6 months: how often have you had the following....?"
   ]
  },
  {
   "cell_type": "markdown",
   "metadata": {},
   "source": [
    "1 = about every day, 2 = more once/week, 3 = about every week, 4 = about every month, 5 = rarely or never"
   ]
  },
  {
   "cell_type": "code",
   "execution_count": 83,
   "metadata": {},
   "outputs": [
    {
     "data": {
      "text/plain": [
       "count     244097\n",
       "unique         6\n",
       "top            5\n",
       "freq       82323\n",
       "Name: nervous, dtype: object"
      ]
     },
     "execution_count": 83,
     "metadata": {},
     "output_type": "execute_result"
    }
   ],
   "source": [
    "hbsc_2018['nervous'].describe()"
   ]
  },
  {
   "cell_type": "code",
   "execution_count": 84,
   "metadata": {},
   "outputs": [],
   "source": [
    "hbsc_2018['nervous'] = hbsc_2018['nervous'].apply(pd.to_numeric, errors='coerce')"
   ]
  },
  {
   "cell_type": "code",
   "execution_count": 85,
   "metadata": {},
   "outputs": [],
   "source": [
    "#hbsc_2018['nervous']= pd.Categorical(hbsc_2018['nervous'])"
   ]
  },
  {
   "cell_type": "code",
   "execution_count": 86,
   "metadata": {},
   "outputs": [
    {
     "data": {
      "text/plain": [
       "nervous\n",
       "5.0    82323\n",
       "4.0    54109\n",
       "3.0    40064\n",
       "2.0    32770\n",
       "1.0    28306\n",
       "Name: count, dtype: int64"
      ]
     },
     "execution_count": 86,
     "metadata": {},
     "output_type": "execute_result"
    }
   ],
   "source": [
    "hbsc_2018['nervous'].value_counts()"
   ]
  },
  {
   "cell_type": "code",
   "execution_count": 87,
   "metadata": {},
   "outputs": [
    {
     "data": {
      "text/plain": [
       "6525"
      ]
     },
     "execution_count": 87,
     "metadata": {},
     "output_type": "execute_result"
    }
   ],
   "source": [
    "hbsc_2018['nervous'].isna().sum()"
   ]
  },
  {
   "cell_type": "code",
   "execution_count": 183,
   "metadata": {},
   "outputs": [
    {
     "data": {
      "text/plain": [
       "<Axes: xlabel='nervous'>"
      ]
     },
     "execution_count": 183,
     "metadata": {},
     "output_type": "execute_result"
    },
    {
     "data": {
      "image/png": "[encoded data removed]",
      "text/plain": [
       "<Figure size 640x480 with 1 Axes>"
      ]
     },
     "metadata": {},
     "output_type": "display_data"
    }
   ],
   "source": [
    "hbsc_2018['nervous'].value_counts().plot(kind='bar')"
   ]
  },
  {
   "cell_type": "markdown",
   "metadata": {},
   "source": [
    "## 'sleepdificulty' - Difficulties in sleeping: In the last 6 months: how often have you had the following....?"
   ]
  },
  {
   "cell_type": "markdown",
   "metadata": {},
   "source": [
    "1 = about every day, 2 = more once/week, 3 = about every week, 4 = about every month, 5 = rarely or never"
   ]
  },
  {
   "cell_type": "code",
   "execution_count": 88,
   "metadata": {},
   "outputs": [
    {
     "data": {
      "text/plain": [
       "count     244097\n",
       "unique         6\n",
       "top            5\n",
       "freq      114616\n",
       "Name: sleepdificulty, dtype: object"
      ]
     },
     "execution_count": 88,
     "metadata": {},
     "output_type": "execute_result"
    }
   ],
   "source": [
    "hbsc_2018['sleepdificulty'].describe()"
   ]
  },
  {
   "cell_type": "code",
   "execution_count": 89,
   "metadata": {},
   "outputs": [],
   "source": [
    "hbsc_2018['sleepdificulty'] = hbsc_2018['sleepdificulty'].apply(pd.to_numeric, errors='coerce')"
   ]
  },
  {
   "cell_type": "code",
   "execution_count": 90,
   "metadata": {},
   "outputs": [],
   "source": [
    "#hbsc_2018['sleepdificulty']= pd.Categorical(hbsc_2018['sleepdificulty'])"
   ]
  },
  {
   "cell_type": "code",
   "execution_count": 91,
   "metadata": {},
   "outputs": [
    {
     "data": {
      "text/plain": [
       "sleepdificulty\n",
       "5.0    114616\n",
       "4.0     36570\n",
       "1.0     30501\n",
       "3.0     26053\n",
       "2.0     25543\n",
       "Name: count, dtype: int64"
      ]
     },
     "execution_count": 91,
     "metadata": {},
     "output_type": "execute_result"
    }
   ],
   "source": [
    "hbsc_2018['sleepdificulty'].value_counts()"
   ]
  },
  {
   "cell_type": "code",
   "execution_count": 92,
   "metadata": {},
   "outputs": [
    {
     "data": {
      "text/plain": [
       "10814"
      ]
     },
     "execution_count": 92,
     "metadata": {},
     "output_type": "execute_result"
    }
   ],
   "source": [
    "hbsc_2018['sleepdificulty'].isna().sum()"
   ]
  },
  {
   "cell_type": "code",
   "execution_count": 184,
   "metadata": {},
   "outputs": [
    {
     "data": {
      "text/plain": [
       "<Axes: xlabel='sleepdificulty'>"
      ]
     },
     "execution_count": 184,
     "metadata": {},
     "output_type": "execute_result"
    },
    {
     "data": {
      "image/png": "[encoded data removed]",
      "text/plain": [
       "<Figure size 640x480 with 1 Axes>"
      ]
     },
     "metadata": {},
     "output_type": "display_data"
    }
   ],
   "source": [
    "hbsc_2018['sleepdificulty'].value_counts().plot(kind='bar')"
   ]
  },
  {
   "cell_type": "markdown",
   "metadata": {},
   "source": [
    "## 'dizzy' - Feeling dizzy: In the last 6 months: how often have you had the following....?"
   ]
  },
  {
   "cell_type": "markdown",
   "metadata": {},
   "source": [
    "1 = about every day, 2 = more once/week, 3 = about every week, 4 = about every month, 5 = rarely or never"
   ]
  },
  {
   "cell_type": "code",
   "execution_count": 93,
   "metadata": {},
   "outputs": [
    {
     "data": {
      "text/plain": [
       "count     244097\n",
       "unique         6\n",
       "top            5\n",
       "freq      158348\n",
       "Name: dizzy, dtype: object"
      ]
     },
     "execution_count": 93,
     "metadata": {},
     "output_type": "execute_result"
    }
   ],
   "source": [
    "hbsc_2018['dizzy'].describe()"
   ]
  },
  {
   "cell_type": "code",
   "execution_count": 94,
   "metadata": {},
   "outputs": [],
   "source": [
    "hbsc_2018['dizzy'] = hbsc_2018['dizzy'].apply(pd.to_numeric, errors='coerce')"
   ]
  },
  {
   "cell_type": "code",
   "execution_count": 95,
   "metadata": {},
   "outputs": [],
   "source": [
    "#hbsc_2018['dizzy']= pd.Categorical(hbsc_2018['dizzy'])"
   ]
  },
  {
   "cell_type": "code",
   "execution_count": 96,
   "metadata": {},
   "outputs": [
    {
     "data": {
      "text/plain": [
       "8566"
      ]
     },
     "execution_count": 96,
     "metadata": {},
     "output_type": "execute_result"
    }
   ],
   "source": [
    "hbsc_2018['dizzy'].isna().sum()"
   ]
  },
  {
   "cell_type": "code",
   "execution_count": 185,
   "metadata": {},
   "outputs": [
    {
     "data": {
      "text/plain": [
       "<Axes: xlabel='dizzy'>"
      ]
     },
     "execution_count": 185,
     "metadata": {},
     "output_type": "execute_result"
    },
    {
     "data": {
      "image/png": "[encoded data removed]",
      "text/plain": [
       "<Figure size 640x480 with 1 Axes>"
      ]
     },
     "metadata": {},
     "output_type": "display_data"
    }
   ],
   "source": [
    "hbsc_2018['dizzy'].value_counts().plot(kind='bar')"
   ]
  },
  {
   "cell_type": "markdown",
   "metadata": {},
   "source": [
    "## 'thinkbody' - Thinking about body: In the last 6 months?"
   ]
  },
  {
   "cell_type": "markdown",
   "metadata": {},
   "source": [
    "1 = much too thin, 2 = bit to thin, 3 = about right, 4 = a bit too fat, 5 = much too fat"
   ]
  },
  {
   "cell_type": "code",
   "execution_count": 97,
   "metadata": {},
   "outputs": [
    {
     "data": {
      "text/plain": [
       "count     244097\n",
       "unique         6\n",
       "top            3\n",
       "freq      130387\n",
       "Name: thinkbody, dtype: object"
      ]
     },
     "execution_count": 97,
     "metadata": {},
     "output_type": "execute_result"
    }
   ],
   "source": [
    "hbsc_2018['thinkbody'].describe()"
   ]
  },
  {
   "cell_type": "code",
   "execution_count": 98,
   "metadata": {},
   "outputs": [],
   "source": [
    "hbsc_2018['thinkbody'] = hbsc_2018['thinkbody'].apply(pd.to_numeric, errors='coerce')"
   ]
  },
  {
   "cell_type": "code",
   "execution_count": 99,
   "metadata": {},
   "outputs": [],
   "source": [
    "#hbsc_2018['thinkbody']= pd.Categorical(hbsc_2018['thinkbody'])"
   ]
  },
  {
   "cell_type": "code",
   "execution_count": 100,
   "metadata": {},
   "outputs": [
    {
     "data": {
      "text/plain": [
       "11657"
      ]
     },
     "execution_count": 100,
     "metadata": {},
     "output_type": "execute_result"
    }
   ],
   "source": [
    "hbsc_2018['thinkbody'].isna().sum()"
   ]
  },
  {
   "cell_type": "code",
   "execution_count": 186,
   "metadata": {},
   "outputs": [
    {
     "data": {
      "text/plain": [
       "<Axes: xlabel='thinkbody'>"
      ]
     },
     "execution_count": 186,
     "metadata": {},
     "output_type": "execute_result"
    },
    {
     "data": {
      "image/png": "[encoded data removed]",
      "text/plain": [
       "<Figure size 640x480 with 1 Axes>"
      ]
     },
     "metadata": {},
     "output_type": "display_data"
    }
   ],
   "source": [
    "hbsc_2018['thinkbody'].value_counts().plot(kind='bar')"
   ]
  },
  {
   "cell_type": "markdown",
   "metadata": {},
   "source": [
    "### Health-behavior related variables ###"
   ]
  },
  {
   "cell_type": "markdown",
   "metadata": {},
   "source": [
    "## 'physact60' -  Physical activity past 7 days: Over the past 7 days , on how many days were you physically active for a total of at least 60 minutes per day?"
   ]
  },
  {
   "cell_type": "code",
   "execution_count": 101,
   "metadata": {},
   "outputs": [
    {
     "data": {
      "text/plain": [
       "count     244097\n",
       "unique         9\n",
       "top            7\n",
       "freq       44984\n",
       "Name: physact60, dtype: object"
      ]
     },
     "execution_count": 101,
     "metadata": {},
     "output_type": "execute_result"
    }
   ],
   "source": [
    "hbsc_2018['physact60'].describe()"
   ]
  },
  {
   "cell_type": "code",
   "execution_count": 102,
   "metadata": {},
   "outputs": [],
   "source": [
    "hbsc_2018['physact60'] = hbsc_2018['physact60'].apply(pd.to_numeric, errors='coerce')"
   ]
  },
  {
   "cell_type": "code",
   "execution_count": 103,
   "metadata": {},
   "outputs": [],
   "source": [
    "#hbsc_2018['physact60']= pd.Categorical(hbsc_2018['physact60'])"
   ]
  },
  {
   "cell_type": "code",
   "execution_count": 104,
   "metadata": {},
   "outputs": [
    {
     "data": {
      "text/plain": [
       "physact60\n",
       "7.0    44984\n",
       "3.0    38770\n",
       "4.0    36597\n",
       "5.0    35568\n",
       "2.0    29409\n",
       "6.0    22840\n",
       "1.0    17377\n",
       "0.0    12337\n",
       "Name: count, dtype: int64"
      ]
     },
     "execution_count": 104,
     "metadata": {},
     "output_type": "execute_result"
    }
   ],
   "source": [
    "hbsc_2018['physact60'].value_counts()"
   ]
  },
  {
   "cell_type": "code",
   "execution_count": 105,
   "metadata": {},
   "outputs": [
    {
     "data": {
      "text/plain": [
       "6215"
      ]
     },
     "execution_count": 105,
     "metadata": {},
     "output_type": "execute_result"
    }
   ],
   "source": [
    "hbsc_2018['physact60'].isna().sum()"
   ]
  },
  {
   "cell_type": "code",
   "execution_count": 187,
   "metadata": {},
   "outputs": [
    {
     "data": {
      "text/plain": [
       "<Axes: xlabel='physact60'>"
      ]
     },
     "execution_count": 187,
     "metadata": {},
     "output_type": "execute_result"
    },
    {
     "data": {
      "image/png": "[encoded data removed]",
      "text/plain": [
       "<Figure size 640x480 with 1 Axes>"
      ]
     },
     "metadata": {},
     "output_type": "display_data"
    }
   ],
   "source": [
    "hbsc_2018['physact60'].value_counts().plot(kind='bar')"
   ]
  },
  {
   "cell_type": "markdown",
   "metadata": {},
   "source": [
    "## 'timeexe' -  Vigorous physical activity frequency: Outside school hours: how often do you usually exercise in your free time so much that you get out of breath or sweat?"
   ]
  },
  {
   "cell_type": "markdown",
   "metadata": {},
   "source": [
    "1=every day, 2=4-6 times a week, 3= 2-3-times a week, 4= once a week, 5= once a month, 6= less than one a month, 7 = never"
   ]
  },
  {
   "cell_type": "code",
   "execution_count": 106,
   "metadata": {},
   "outputs": [
    {
     "data": {
      "text/plain": [
       "count     244097\n",
       "unique         8\n",
       "top            3\n",
       "freq       71661\n",
       "Name: timeexe, dtype: object"
      ]
     },
     "execution_count": 106,
     "metadata": {},
     "output_type": "execute_result"
    }
   ],
   "source": [
    "hbsc_2018['timeexe'].describe()"
   ]
  },
  {
   "cell_type": "code",
   "execution_count": 107,
   "metadata": {},
   "outputs": [],
   "source": [
    "hbsc_2018['timeexe'] = hbsc_2018['timeexe'].apply(pd.to_numeric, errors='coerce')"
   ]
  },
  {
   "cell_type": "code",
   "execution_count": 108,
   "metadata": {},
   "outputs": [],
   "source": [
    "#hbsc_2018['timeexe']= pd.Categorical(hbsc_2018['timeexe'])"
   ]
  },
  {
   "cell_type": "code",
   "execution_count": 109,
   "metadata": {},
   "outputs": [
    {
     "data": {
      "text/plain": [
       "4799"
      ]
     },
     "execution_count": 109,
     "metadata": {},
     "output_type": "execute_result"
    }
   ],
   "source": [
    "hbsc_2018['timeexe'].isna().sum()"
   ]
  },
  {
   "cell_type": "code",
   "execution_count": 188,
   "metadata": {},
   "outputs": [
    {
     "data": {
      "text/plain": [
       "<Axes: xlabel='timeexe'>"
      ]
     },
     "execution_count": 188,
     "metadata": {},
     "output_type": "execute_result"
    },
    {
     "data": {
      "image/png": "[encoded data removed]",
      "text/plain": [
       "<Figure size 640x480 with 1 Axes>"
      ]
     },
     "metadata": {},
     "output_type": "display_data"
    }
   ],
   "source": [
    "hbsc_2018['timeexe'].value_counts().plot(kind='bar')"
   ]
  },
  {
   "cell_type": "markdown",
   "metadata": {},
   "source": [
    "## 'smokltm' - Days smoked in lifetime: On how many days (if any) have you smoked cigarettes?"
   ]
  },
  {
   "cell_type": "markdown",
   "metadata": {},
   "source": [
    "1=never, 2= 1-2 days, 3= 3-5 days, 4= 6-9 days, 5= 10-19 days, 6= 20-29 days, 7 = 30 days or more"
   ]
  },
  {
   "cell_type": "code",
   "execution_count": 110,
   "metadata": {},
   "outputs": [
    {
     "data": {
      "text/plain": [
       "count     244097\n",
       "unique         9\n",
       "top            1\n",
       "freq      191776\n",
       "Name: smokltm, dtype: object"
      ]
     },
     "execution_count": 110,
     "metadata": {},
     "output_type": "execute_result"
    }
   ],
   "source": [
    "hbsc_2018['smokltm'].describe()"
   ]
  },
  {
   "cell_type": "code",
   "execution_count": 111,
   "metadata": {},
   "outputs": [],
   "source": [
    "import numpy as np"
   ]
  },
  {
   "cell_type": "code",
   "execution_count": 112,
   "metadata": {},
   "outputs": [],
   "source": [
    "hbsc_2018['smokltm'] = hbsc_2018['smokltm'].apply(pd.to_numeric, errors='coerce')"
   ]
  },
  {
   "cell_type": "code",
   "execution_count": 113,
   "metadata": {},
   "outputs": [],
   "source": [
    "hbsc_2018['smokltm'] = hbsc_2018['smokltm'].replace(-99.0, np.NaN)"
   ]
  },
  {
   "cell_type": "code",
   "execution_count": 114,
   "metadata": {},
   "outputs": [
    {
     "data": {
      "text/plain": [
       "smokltm\n",
       "1.0    191776\n",
       "2.0     12812\n",
       "7.0      8797\n",
       "3.0      3773\n",
       "4.0      2326\n",
       "5.0      2094\n",
       "6.0      1341\n",
       "Name: count, dtype: int64"
      ]
     },
     "execution_count": 114,
     "metadata": {},
     "output_type": "execute_result"
    }
   ],
   "source": [
    "hbsc_2018['smokltm'].value_counts()"
   ]
  },
  {
   "cell_type": "code",
   "execution_count": 115,
   "metadata": {},
   "outputs": [],
   "source": [
    "#hbsc_2018['smokltm']= pd.Categorical(hbsc_2018['smokltm'])"
   ]
  },
  {
   "cell_type": "code",
   "execution_count": 116,
   "metadata": {},
   "outputs": [
    {
     "data": {
      "text/plain": [
       "21178"
      ]
     },
     "execution_count": 116,
     "metadata": {},
     "output_type": "execute_result"
    }
   ],
   "source": [
    "hbsc_2018['smokltm'].isna().sum()"
   ]
  },
  {
   "cell_type": "code",
   "execution_count": 117,
   "metadata": {},
   "outputs": [
    {
     "data": {
      "text/plain": [
       "count   222919.0\n",
       "mean         1.4\n",
       "std          1.3\n",
       "min          1.0\n",
       "25%          1.0\n",
       "50%          1.0\n",
       "75%          1.0\n",
       "max          7.0\n",
       "Name: smokltm, dtype: float64"
      ]
     },
     "execution_count": 117,
     "metadata": {},
     "output_type": "execute_result"
    }
   ],
   "source": [
    "hbsc_2018['smokltm'].describe()"
   ]
  },
  {
   "cell_type": "code",
   "execution_count": 118,
   "metadata": {},
   "outputs": [
    {
     "data": {
      "text/plain": [
       "dtype('float64')"
      ]
     },
     "execution_count": 118,
     "metadata": {},
     "output_type": "execute_result"
    }
   ],
   "source": [
    "hbsc_2018['smokltm'].dtype"
   ]
  },
  {
   "cell_type": "code",
   "execution_count": 190,
   "metadata": {},
   "outputs": [
    {
     "data": {
      "text/plain": [
       "<Axes: xlabel='smokltm'>"
      ]
     },
     "execution_count": 190,
     "metadata": {},
     "output_type": "execute_result"
    },
    {
     "data": {
      "image/png": "[encoded data removed]",
      "text/plain": [
       "<Figure size 640x480 with 1 Axes>"
      ]
     },
     "metadata": {},
     "output_type": "display_data"
    }
   ],
   "source": [
    "hbsc_2018['smokltm'].value_counts().plot(kind='bar')"
   ]
  },
  {
   "cell_type": "markdown",
   "metadata": {},
   "source": [
    "## 'smok30d_2' - Days smoked last 30 days"
   ]
  },
  {
   "cell_type": "markdown",
   "metadata": {},
   "source": [
    "1=never, 2= 1-2 days, 3= 3-5 days, 4= 6-9 days, 5= 10-19 days, 6= 20-29 days, 7 = 30 days or more"
   ]
  },
  {
   "cell_type": "code",
   "execution_count": 120,
   "metadata": {},
   "outputs": [
    {
     "data": {
      "text/plain": [
       "count     244097\n",
       "unique         8\n",
       "top            1\n",
       "freq      207877\n",
       "Name: smok30d_2, dtype: object"
      ]
     },
     "execution_count": 120,
     "metadata": {},
     "output_type": "execute_result"
    }
   ],
   "source": [
    "hbsc_2018['smok30d_2'].describe()"
   ]
  },
  {
   "cell_type": "code",
   "execution_count": 121,
   "metadata": {},
   "outputs": [],
   "source": [
    "hbsc_2018['smok30d_2'] = hbsc_2018['smok30d_2'].apply(pd.to_numeric, errors='coerce')"
   ]
  },
  {
   "cell_type": "code",
   "execution_count": 122,
   "metadata": {},
   "outputs": [
    {
     "data": {
      "text/plain": [
       "smok30d_2\n",
       "1.0    207877\n",
       "2.0      5270\n",
       "7.0      3995\n",
       "3.0      2109\n",
       "4.0      1451\n",
       "5.0      1445\n",
       "6.0      1263\n",
       "Name: count, dtype: int64"
      ]
     },
     "execution_count": 122,
     "metadata": {},
     "output_type": "execute_result"
    }
   ],
   "source": [
    "hbsc_2018['smok30d_2'].value_counts()"
   ]
  },
  {
   "cell_type": "code",
   "execution_count": 123,
   "metadata": {},
   "outputs": [],
   "source": [
    "#hbsc_2018['smok30d_2']= pd.Categorical(hbsc_2018['smok30d_2'])"
   ]
  },
  {
   "cell_type": "code",
   "execution_count": 124,
   "metadata": {},
   "outputs": [
    {
     "data": {
      "text/plain": [
       "20687"
      ]
     },
     "execution_count": 124,
     "metadata": {},
     "output_type": "execute_result"
    }
   ],
   "source": [
    "hbsc_2018['smok30d_2'].isna().sum()"
   ]
  },
  {
   "cell_type": "code",
   "execution_count": 191,
   "metadata": {},
   "outputs": [
    {
     "data": {
      "text/plain": [
       "<Axes: xlabel='smok30d_2'>"
      ]
     },
     "execution_count": 191,
     "metadata": {},
     "output_type": "execute_result"
    },
    {
     "data": {
      "image/png": "[encoded data removed]",
      "text/plain": [
       "<Figure size 640x480 with 1 Axes>"
      ]
     },
     "metadata": {},
     "output_type": "display_data"
    }
   ],
   "source": [
    "hbsc_2018['smok30d_2'].value_counts().plot(kind='bar')"
   ]
  },
  {
   "cell_type": "markdown",
   "metadata": {},
   "source": [
    "## 'alcltm' - Alcohol use in lifetime"
   ]
  },
  {
   "cell_type": "markdown",
   "metadata": {},
   "source": [
    "1=never, 2= 1-2 days, 3= 3-5 days, 4= 6-9 days, 5= 10-19 days, 6= 20-29 days, 7 = 30 days or more"
   ]
  },
  {
   "cell_type": "code",
   "execution_count": 125,
   "metadata": {},
   "outputs": [
    {
     "data": {
      "text/plain": [
       "count     244097\n",
       "unique         9\n",
       "top            1\n",
       "freq      143636\n",
       "Name: alcltm, dtype: object"
      ]
     },
     "execution_count": 125,
     "metadata": {},
     "output_type": "execute_result"
    }
   ],
   "source": [
    "hbsc_2018['alcltm'].describe()"
   ]
  },
  {
   "cell_type": "code",
   "execution_count": 126,
   "metadata": {},
   "outputs": [],
   "source": [
    "hbsc_2018['alcltm'] = hbsc_2018['alcltm'].apply(pd.to_numeric, errors='coerce')"
   ]
  },
  {
   "cell_type": "code",
   "execution_count": 127,
   "metadata": {},
   "outputs": [],
   "source": [
    "hbsc_2018['alcltm'] = hbsc_2018['alcltm'].replace(-99.0, np.NaN)"
   ]
  },
  {
   "cell_type": "code",
   "execution_count": 128,
   "metadata": {},
   "outputs": [
    {
     "data": {
      "text/plain": [
       "alcltm\n",
       "1.0    143636\n",
       "2.0     32820\n",
       "3.0     13535\n",
       "7.0     12428\n",
       "4.0      9299\n",
       "5.0      8567\n",
       "6.0      4061\n",
       "Name: count, dtype: int64"
      ]
     },
     "execution_count": 128,
     "metadata": {},
     "output_type": "execute_result"
    }
   ],
   "source": [
    "hbsc_2018['alcltm'].value_counts()"
   ]
  },
  {
   "cell_type": "code",
   "execution_count": 129,
   "metadata": {},
   "outputs": [],
   "source": [
    "#hbsc_2018['alcltm']= pd.Categorical(hbsc_2018['alcltm'])"
   ]
  },
  {
   "cell_type": "code",
   "execution_count": 130,
   "metadata": {},
   "outputs": [
    {
     "data": {
      "text/plain": [
       "19751"
      ]
     },
     "execution_count": 130,
     "metadata": {},
     "output_type": "execute_result"
    }
   ],
   "source": [
    "hbsc_2018['alcltm'].isna().sum()"
   ]
  },
  {
   "cell_type": "code",
   "execution_count": 192,
   "metadata": {},
   "outputs": [
    {
     "data": {
      "text/plain": [
       "<Axes: xlabel='alcltm'>"
      ]
     },
     "execution_count": 192,
     "metadata": {},
     "output_type": "execute_result"
    },
    {
     "data": {
      "image/png": "[encoded data removed]",
      "text/plain": [
       "<Figure size 640x480 with 1 Axes>"
      ]
     },
     "metadata": {},
     "output_type": "display_data"
    }
   ],
   "source": [
    "hbsc_2018['alcltm'].value_counts().plot(kind='bar')"
   ]
  },
  {
   "cell_type": "markdown",
   "metadata": {},
   "source": [
    "## 'alc30d_2' -  Alcohol use last 30 days"
   ]
  },
  {
   "cell_type": "markdown",
   "metadata": {},
   "source": [
    "1=never, 2= 1-2 days, 3= 3-5 days, 4= 6-9 days, 5= 10-19 days, 6= 20-29 days, 7 = 30 days or more"
   ]
  },
  {
   "cell_type": "code",
   "execution_count": 131,
   "metadata": {},
   "outputs": [
    {
     "data": {
      "text/plain": [
       "count     244097\n",
       "unique         8\n",
       "top            1\n",
       "freq      181984\n",
       "Name: alc30d_2, dtype: object"
      ]
     },
     "execution_count": 131,
     "metadata": {},
     "output_type": "execute_result"
    }
   ],
   "source": [
    "hbsc_2018['alc30d_2'].describe()"
   ]
  },
  {
   "cell_type": "code",
   "execution_count": 132,
   "metadata": {},
   "outputs": [
    {
     "name": "stdout",
     "output_type": "stream",
     "text": [
      "<class 'pandas.core.series.Series'>\n",
      "RangeIndex: 244097 entries, 0 to 244096\n",
      "Series name: alc30d_2\n",
      "Non-Null Count   Dtype \n",
      "--------------   ----- \n",
      "244097 non-null  object\n",
      "dtypes: object(1)\n",
      "memory usage: 1.9+ MB\n"
     ]
    }
   ],
   "source": [
    "hbsc_2018['alc30d_2'].info()"
   ]
  },
  {
   "cell_type": "code",
   "execution_count": 133,
   "metadata": {},
   "outputs": [],
   "source": [
    "hbsc_2018['alc30d_2'] = hbsc_2018['alc30d_2'].apply(pd.to_numeric, errors='coerce')"
   ]
  },
  {
   "cell_type": "code",
   "execution_count": 134,
   "metadata": {},
   "outputs": [
    {
     "data": {
      "text/plain": [
       "array([ 1.,  2., nan,  4.,  3.,  7.,  5.,  6.])"
      ]
     },
     "execution_count": 134,
     "metadata": {},
     "output_type": "execute_result"
    }
   ],
   "source": [
    "hbsc_2018['alc30d_2'].unique()"
   ]
  },
  {
   "cell_type": "code",
   "execution_count": 135,
   "metadata": {},
   "outputs": [],
   "source": [
    "#hbsc_2018['alc30d_2']= pd.Categorical(hbsc_2018['alc30d_2'])"
   ]
  },
  {
   "cell_type": "code",
   "execution_count": 136,
   "metadata": {},
   "outputs": [
    {
     "data": {
      "text/plain": [
       "alc30d_2\n",
       "1.0    181984\n",
       "2.0     26230\n",
       "3.0      8277\n",
       "4.0      3805\n",
       "7.0      1937\n",
       "5.0      1892\n",
       "6.0       646\n",
       "Name: count, dtype: int64"
      ]
     },
     "execution_count": 136,
     "metadata": {},
     "output_type": "execute_result"
    }
   ],
   "source": [
    "hbsc_2018['alc30d_2'].value_counts()"
   ]
  },
  {
   "cell_type": "code",
   "execution_count": 137,
   "metadata": {},
   "outputs": [
    {
     "data": {
      "text/plain": [
       "19326"
      ]
     },
     "execution_count": 137,
     "metadata": {},
     "output_type": "execute_result"
    }
   ],
   "source": [
    "hbsc_2018['alc30d_2'].isna().sum()"
   ]
  },
  {
   "cell_type": "code",
   "execution_count": 193,
   "metadata": {},
   "outputs": [
    {
     "data": {
      "text/plain": [
       "<Axes: xlabel='alc30d_2'>"
      ]
     },
     "execution_count": 193,
     "metadata": {},
     "output_type": "execute_result"
    },
    {
     "data": {
      "image/png": "[encoded data removed]",
      "text/plain": [
       "<Figure size 640x480 with 1 Axes>"
      ]
     },
     "metadata": {},
     "output_type": "display_data"
    }
   ],
   "source": [
    "hbsc_2018['alc30d_2'].value_counts().plot(kind='bar')"
   ]
  },
  {
   "cell_type": "markdown",
   "metadata": {},
   "source": [
    "## 'bodyweight' - Body Weight & Body Height: How much do you weigh without clothes (kg)? How tall are you without shoes? (cm)"
   ]
  },
  {
   "cell_type": "code",
   "execution_count": 138,
   "metadata": {},
   "outputs": [
    {
     "name": "stdout",
     "output_type": "stream",
     "text": [
      "<class 'pandas.core.series.Series'>\n",
      "RangeIndex: 244097 entries, 0 to 244096\n",
      "Series name: bodyweight\n",
      "Non-Null Count   Dtype  \n",
      "--------------   -----  \n",
      "202969 non-null  float64\n",
      "dtypes: float64(1)\n",
      "memory usage: 1.9 MB\n"
     ]
    }
   ],
   "source": [
    "hbsc_2018['bodyweight'].info()"
   ]
  },
  {
   "cell_type": "code",
   "execution_count": 139,
   "metadata": {},
   "outputs": [
    {
     "data": {
      "text/plain": [
       "41128"
      ]
     },
     "execution_count": 139,
     "metadata": {},
     "output_type": "execute_result"
    }
   ],
   "source": [
    "hbsc_2018['bodyweight'].isna().sum()"
   ]
  },
  {
   "cell_type": "code",
   "execution_count": 140,
   "metadata": {},
   "outputs": [
    {
     "data": {
      "text/plain": [
       "count   204061.0\n",
       "mean       161.1\n",
       "std         12.1\n",
       "min        120.0\n",
       "25%        153.0\n",
       "50%        161.0\n",
       "75%        170.0\n",
       "max        200.0\n",
       "Name: bodyheight, dtype: float64"
      ]
     },
     "execution_count": 140,
     "metadata": {},
     "output_type": "execute_result"
    }
   ],
   "source": [
    "hbsc_2018['bodyheight'].describe()"
   ]
  },
  {
   "cell_type": "code",
   "execution_count": 141,
   "metadata": {},
   "outputs": [
    {
     "data": {
      "text/plain": [
       "40036"
      ]
     },
     "execution_count": 141,
     "metadata": {},
     "output_type": "execute_result"
    }
   ],
   "source": [
    "hbsc_2018['bodyheight'].isna().sum()"
   ]
  },
  {
   "cell_type": "code",
   "execution_count": 194,
   "metadata": {},
   "outputs": [
    {
     "data": {
      "image/png": "[encoded data removed]",
      "text/plain": [
       "<Figure size 640x480 with 1 Axes>"
      ]
     },
     "metadata": {},
     "output_type": "display_data"
    }
   ],
   "source": [
    "# Scatter-Plot erstellen\n",
    "plt.scatter(hbsc_2018['bodyweight'], hbsc_2018['bodyheight'])\n",
    "plt.xlabel('Body Weight (kg)')\n",
    "plt.ylabel('Body Height (cm)')\n",
    "plt.title('Body Weight vs. Body Height')\n",
    "\n",
    "# Plot anzeigen\n",
    "plt.show()"
   ]
  },
  {
   "cell_type": "markdown",
   "metadata": {},
   "source": [
    "---\n",
    "---"
   ]
  },
  {
   "cell_type": "markdown",
   "metadata": {},
   "source": [
    "# school variables"
   ]
  },
  {
   "cell_type": "markdown",
   "metadata": {},
   "source": [
    "function to transfor all school variables into categories"
   ]
  },
  {
   "cell_type": "code",
   "execution_count": 142,
   "metadata": {},
   "outputs": [],
   "source": [
    "#variables_to_transform = ['likeschool', 'schoolpressure', 'studaccept', 'teacheraccept', 'bulliedothers', 'beenbullied']\n",
    "\n",
    "#for var in variables_to_transform:\n",
    "    #hbsc_2018[var] = pd.Categorical(hbsc_2018[var])"
   ]
  },
  {
   "cell_type": "markdown",
   "metadata": {},
   "source": [
    "## 'likeschool' - Liking school: how do you feel about school at present?"
   ]
  },
  {
   "cell_type": "markdown",
   "metadata": {},
   "source": [
    "1=Like alot, 2=Like a bit, 3= not very much, 4= not at all"
   ]
  },
  {
   "cell_type": "code",
   "execution_count": 143,
   "metadata": {},
   "outputs": [
    {
     "data": {
      "text/plain": [
       "5109"
      ]
     },
     "execution_count": 143,
     "metadata": {},
     "output_type": "execute_result"
    }
   ],
   "source": [
    "hbsc_2018['likeschool'].isna().sum()"
   ]
  },
  {
   "cell_type": "code",
   "execution_count": 195,
   "metadata": {},
   "outputs": [
    {
     "data": {
      "text/plain": [
       "<Axes: xlabel='likeschool'>"
      ]
     },
     "execution_count": 195,
     "metadata": {},
     "output_type": "execute_result"
    },
    {
     "data": {
      "image/png": "[encoded data removed]",
      "text/plain": [
       "<Figure size 640x480 with 1 Axes>"
      ]
     },
     "metadata": {},
     "output_type": "display_data"
    }
   ],
   "source": [
    "hbsc_2018['likeschool'].value_counts().plot(kind='bar')"
   ]
  },
  {
   "cell_type": "markdown",
   "metadata": {},
   "source": [
    "## 'schoolpressure' - School pressure: how pressured do you feel by the schoolwork you have??\n",
    "1=not at all, 4= a lot"
   ]
  },
  {
   "cell_type": "code",
   "execution_count": 144,
   "metadata": {},
   "outputs": [
    {
     "data": {
      "text/plain": [
       "5486"
      ]
     },
     "execution_count": 144,
     "metadata": {},
     "output_type": "execute_result"
    }
   ],
   "source": [
    "hbsc_2018['schoolpressure'].isna().sum()"
   ]
  },
  {
   "cell_type": "code",
   "execution_count": 196,
   "metadata": {},
   "outputs": [
    {
     "data": {
      "text/plain": [
       "<Axes: xlabel='schoolpressure'>"
      ]
     },
     "execution_count": 196,
     "metadata": {},
     "output_type": "execute_result"
    },
    {
     "data": {
      "image/png": "[encoded data removed]",
      "text/plain": [
       "<Figure size 640x480 with 1 Axes>"
      ]
     },
     "metadata": {},
     "output_type": "display_data"
    }
   ],
   "source": [
    "hbsc_2018['schoolpressure'].value_counts().plot(kind='bar')"
   ]
  },
  {
   "cell_type": "markdown",
   "metadata": {},
   "source": [
    "## 'emsocmed%' Social media use\n",
    "99 = missing due to ski pattern"
   ]
  },
  {
   "cell_type": "code",
   "execution_count": 145,
   "metadata": {},
   "outputs": [],
   "source": [
    "transform = ['emcsocmed1', 'emcsocmed2', 'emcsocmed3', 'emcsocmed4', 'emcsocmed5', 'emcsocmed6', 'emcsocmed7', 'emcsocmed8', 'emcsocmed9']"
   ]
  },
  {
   "cell_type": "code",
   "execution_count": 146,
   "metadata": {},
   "outputs": [],
   "source": [
    "for var in transform:\n",
    "\n",
    "    hbsc_2018[var].replace(99.0, np.NaN, inplace = True)"
   ]
  },
  {
   "cell_type": "code",
   "execution_count": 147,
   "metadata": {},
   "outputs": [
    {
     "data": {
      "text/plain": [
       "emcsocmed6\n",
       "1.0    162482\n",
       "2.0     37812\n",
       "Name: count, dtype: int64"
      ]
     },
     "execution_count": 147,
     "metadata": {},
     "output_type": "execute_result"
    }
   ],
   "source": [
    "hbsc_2018['emcsocmed6'].value_counts()"
   ]
  },
  {
   "cell_type": "code",
   "execution_count": 148,
   "metadata": {},
   "outputs": [
    {
     "name": "stdout",
     "output_type": "stream",
     "text": [
      "<class 'pandas.core.frame.DataFrame'>\n",
      "RangeIndex: 244097 entries, 0 to 244096\n",
      "Data columns (total 45 columns):\n",
      " #   Column          Non-Null Count   Dtype  \n",
      "---  ------          --------------   -----  \n",
      " 0   id4             244097 non-null  int64  \n",
      " 1   age             242581 non-null  float64\n",
      " 2   agecat          242581 non-null  float64\n",
      " 3   sex             244097 non-null  int64  \n",
      " 4   health          241520 non-null  float64\n",
      " 5   lifesat         239585 non-null  float64\n",
      " 6   headache        239592 non-null  float64\n",
      " 7   stomachache     238418 non-null  float64\n",
      " 8   backache        237554 non-null  float64\n",
      " 9   feellow         237401 non-null  float64\n",
      " 10  irritable       237558 non-null  float64\n",
      " 11  nervous         237572 non-null  float64\n",
      " 12  sleepdificulty  233283 non-null  float64\n",
      " 13  dizzy           235531 non-null  float64\n",
      " 14  thinkbody       232440 non-null  float64\n",
      " 15  physact60       237882 non-null  float64\n",
      " 16  timeexe         239298 non-null  float64\n",
      " 17  smokltm         222919 non-null  float64\n",
      " 18  smok30d_2       223410 non-null  float64\n",
      " 19  alcltm          224346 non-null  float64\n",
      " 20  alc30d_2        224771 non-null  float64\n",
      " 21  bodyweight      202969 non-null  float64\n",
      " 22  bodyheight      204061 non-null  float64\n",
      " 23  likeschool      238988 non-null  float64\n",
      " 24  schoolpressure  238611 non-null  float64\n",
      " 25  studaccept      226653 non-null  float64\n",
      " 26  teacheraccept   227333 non-null  float64\n",
      " 27  bulliedothers   222518 non-null  float64\n",
      " 28  beenbullied     227135 non-null  float64\n",
      " 29  emcsocmed1      200865 non-null  float64\n",
      " 30  emcsocmed2      201179 non-null  float64\n",
      " 31  emcsocmed3      200829 non-null  float64\n",
      " 32  emcsocmed4      200410 non-null  float64\n",
      " 33  emcsocmed5      200395 non-null  float64\n",
      " 34  emcsocmed6      200294 non-null  float64\n",
      " 35  emcsocmed7      200241 non-null  float64\n",
      " 36  emcsocmed8      199960 non-null  float64\n",
      " 37  emcsocmed9      199983 non-null  float64\n",
      " 38  employmo        219962 non-null  float64\n",
      " 39  employfa        220098 non-null  float64\n",
      " 40  employnotfa     19573 non-null   float64\n",
      " 41  employnotmo     44207 non-null   float64\n",
      " 42  MBMI            190786 non-null  float64\n",
      " 43  IRRELFAS_LMH    231498 non-null  float64\n",
      " 44  country_name    244097 non-null  object \n",
      "dtypes: float64(42), int64(2), object(1)\n",
      "memory usage: 83.8+ MB\n"
     ]
    }
   ],
   "source": [
    "hbsc_2018.info()"
   ]
  },
  {
   "cell_type": "markdown",
   "metadata": {},
   "source": [
    "# family and social media"
   ]
  },
  {
   "cell_type": "markdown",
   "metadata": {},
   "source": [
    "Function to convert family and social media variables into categories"
   ]
  },
  {
   "cell_type": "code",
   "execution_count": 149,
   "metadata": {},
   "outputs": [],
   "source": [
    "#variables_to_transform = [ 'emcsocmed1', 'emcsocmed2', 'emcsocmed3', 'emcsocmed4', 'emcsocmed5', 'emcsocmed6', 'emcsocmed7', 'emcsocmed8', 'emcsocmed9','employmo', 'employfa', 'employnotfa', 'employnotmo', 'MBMI', 'IRRELFAS_LMH']\n",
    "\n",
    "#for var in variables_to_transform:\n",
    "    #hbsc_2018[var] = pd.Categorical(hbsc_2018[var])"
   ]
  },
  {
   "cell_type": "code",
   "execution_count": 150,
   "metadata": {},
   "outputs": [
    {
     "name": "stdout",
     "output_type": "stream",
     "text": [
      "<class 'pandas.core.frame.DataFrame'>\n",
      "RangeIndex: 244097 entries, 0 to 244096\n",
      "Data columns (total 45 columns):\n",
      " #   Column          Non-Null Count   Dtype  \n",
      "---  ------          --------------   -----  \n",
      " 0   id4             244097 non-null  int64  \n",
      " 1   age             242581 non-null  float64\n",
      " 2   agecat          242581 non-null  float64\n",
      " 3   sex             244097 non-null  int64  \n",
      " 4   health          241520 non-null  float64\n",
      " 5   lifesat         239585 non-null  float64\n",
      " 6   headache        239592 non-null  float64\n",
      " 7   stomachache     238418 non-null  float64\n",
      " 8   backache        237554 non-null  float64\n",
      " 9   feellow         237401 non-null  float64\n",
      " 10  irritable       237558 non-null  float64\n",
      " 11  nervous         237572 non-null  float64\n",
      " 12  sleepdificulty  233283 non-null  float64\n",
      " 13  dizzy           235531 non-null  float64\n",
      " 14  thinkbody       232440 non-null  float64\n",
      " 15  physact60       237882 non-null  float64\n",
      " 16  timeexe         239298 non-null  float64\n",
      " 17  smokltm         222919 non-null  float64\n",
      " 18  smok30d_2       223410 non-null  float64\n",
      " 19  alcltm          224346 non-null  float64\n",
      " 20  alc30d_2        224771 non-null  float64\n",
      " 21  bodyweight      202969 non-null  float64\n",
      " 22  bodyheight      204061 non-null  float64\n",
      " 23  likeschool      238988 non-null  float64\n",
      " 24  schoolpressure  238611 non-null  float64\n",
      " 25  studaccept      226653 non-null  float64\n",
      " 26  teacheraccept   227333 non-null  float64\n",
      " 27  bulliedothers   222518 non-null  float64\n",
      " 28  beenbullied     227135 non-null  float64\n",
      " 29  emcsocmed1      200865 non-null  float64\n",
      " 30  emcsocmed2      201179 non-null  float64\n",
      " 31  emcsocmed3      200829 non-null  float64\n",
      " 32  emcsocmed4      200410 non-null  float64\n",
      " 33  emcsocmed5      200395 non-null  float64\n",
      " 34  emcsocmed6      200294 non-null  float64\n",
      " 35  emcsocmed7      200241 non-null  float64\n",
      " 36  emcsocmed8      199960 non-null  float64\n",
      " 37  emcsocmed9      199983 non-null  float64\n",
      " 38  employmo        219962 non-null  float64\n",
      " 39  employfa        220098 non-null  float64\n",
      " 40  employnotfa     19573 non-null   float64\n",
      " 41  employnotmo     44207 non-null   float64\n",
      " 42  MBMI            190786 non-null  float64\n",
      " 43  IRRELFAS_LMH    231498 non-null  float64\n",
      " 44  country_name    244097 non-null  object \n",
      "dtypes: float64(42), int64(2), object(1)\n",
      "memory usage: 83.8+ MB\n"
     ]
    }
   ],
   "source": [
    "hbsc_2018.info()"
   ]
  },
  {
   "cell_type": "markdown",
   "metadata": {},
   "source": [
    "---\n",
    "---"
   ]
  },
  {
   "cell_type": "markdown",
   "metadata": {},
   "source": [
    "# EDA"
   ]
  },
  {
   "cell_type": "markdown",
   "metadata": {},
   "source": [
    "## Dropping NANs"
   ]
  },
  {
   "cell_type": "code",
   "execution_count": 151,
   "metadata": {},
   "outputs": [],
   "source": [
    "#hbsc_2018_clean = hbsc_2018.dropna()"
   ]
  },
  {
   "cell_type": "code",
   "execution_count": 152,
   "metadata": {},
   "outputs": [],
   "source": [
    "#hbsc_2018_clean.shape"
   ]
  },
  {
   "cell_type": "code",
   "execution_count": 153,
   "metadata": {},
   "outputs": [
    {
     "data": {
      "text/plain": [
       "0        NaN\n",
       "1        2.0\n",
       "2        1.0\n",
       "3        1.0\n",
       "4        1.0\n",
       "          ..\n",
       "244092   2.0\n",
       "244093   2.0\n",
       "244094   1.0\n",
       "244095   5.0\n",
       "244096   NaN\n",
       "Name: alcltm, Length: 244097, dtype: float64"
      ]
     },
     "execution_count": 153,
     "metadata": {},
     "output_type": "execute_result"
    }
   ],
   "source": [
    "hbsc_2018['alcltm']"
   ]
  },
  {
   "cell_type": "markdown",
   "metadata": {},
   "source": [
    "## transforming float variables to integers"
   ]
  },
  {
   "cell_type": "code",
   "execution_count": 154,
   "metadata": {},
   "outputs": [],
   "source": [
    "\n",
    "\n",
    "variables_to_transform = ['agecat', 'sex', 'health', 'lifesat', 'headache', 'stomachache', 'backache', 'feellow', 'irritable', 'nervous', 'sleepdificulty', 'dizzy', 'thinkbody', 'physact60', 'timeexe', 'smokltm', 'smok30d_2', 'alcltm', 'alc30d_2','likeschool', 'schoolpressure', 'studaccept', 'teacheraccept', 'bulliedothers', 'beenbullied', 'emcsocmed1', 'emcsocmed2', 'emcsocmed3', 'emcsocmed4', 'emcsocmed5', 'emcsocmed6', 'emcsocmed7', 'emcsocmed8', 'emcsocmed9', 'employmo', 'employfa', 'employnotfa', 'employnotmo']\n",
    "\n",
    "for var in variables_to_transform:\n",
    "    hbsc_2018[var] = hbsc_2018[var].astype('Int64')"
   ]
  },
  {
   "cell_type": "markdown",
   "metadata": {},
   "source": [
    "##  data subsets"
   ]
  },
  {
   "cell_type": "code",
   "execution_count": 155,
   "metadata": {},
   "outputs": [],
   "source": [
    "hbsc_2018_health_clean_1 = hbsc_2018[['id4', 'age', 'agecat', 'sex', 'country_name' ]]"
   ]
  },
  {
   "cell_type": "code",
   "execution_count": 156,
   "metadata": {},
   "outputs": [
    {
     "name": "stdout",
     "output_type": "stream",
     "text": [
      "<class 'pandas.core.frame.DataFrame'>\n",
      "RangeIndex: 244097 entries, 0 to 244096\n",
      "Data columns (total 5 columns):\n",
      " #   Column        Non-Null Count   Dtype  \n",
      "---  ------        --------------   -----  \n",
      " 0   id4           244097 non-null  int64  \n",
      " 1   age           242581 non-null  float64\n",
      " 2   agecat        242581 non-null  Int64  \n",
      " 3   sex           244097 non-null  Int64  \n",
      " 4   country_name  244097 non-null  object \n",
      "dtypes: Int64(2), float64(1), int64(1), object(1)\n",
      "memory usage: 9.8+ MB\n"
     ]
    }
   ],
   "source": [
    "hbsc_2018_health_clean_1.info()"
   ]
  },
  {
   "cell_type": "code",
   "execution_count": 157,
   "metadata": {},
   "outputs": [],
   "source": [
    "hbsc_2018_health_clean_2 = hbsc_2018[['id4', 'country_name', 'health', 'lifesat', 'headache', 'stomachache', 'backache']]"
   ]
  },
  {
   "cell_type": "code",
   "execution_count": 158,
   "metadata": {},
   "outputs": [
    {
     "name": "stdout",
     "output_type": "stream",
     "text": [
      "<class 'pandas.core.frame.DataFrame'>\n",
      "RangeIndex: 244097 entries, 0 to 244096\n",
      "Data columns (total 7 columns):\n",
      " #   Column        Non-Null Count   Dtype \n",
      "---  ------        --------------   ----- \n",
      " 0   id4           244097 non-null  int64 \n",
      " 1   country_name  244097 non-null  object\n",
      " 2   health        241520 non-null  Int64 \n",
      " 3   lifesat       239585 non-null  Int64 \n",
      " 4   headache      239592 non-null  Int64 \n",
      " 5   stomachache   238418 non-null  Int64 \n",
      " 6   backache      237554 non-null  Int64 \n",
      "dtypes: Int64(5), int64(1), object(1)\n",
      "memory usage: 14.2+ MB\n"
     ]
    }
   ],
   "source": [
    "hbsc_2018_health_clean_2.info()"
   ]
  },
  {
   "cell_type": "code",
   "execution_count": 159,
   "metadata": {},
   "outputs": [],
   "source": [
    "hbsc_2018_health_clean_3 = hbsc_2018[['id4', 'country_name', 'feellow', 'irritable', 'nervous', 'sleepdificulty', 'dizzy', 'thinkbody']] #'gender' "
   ]
  },
  {
   "cell_type": "code",
   "execution_count": 160,
   "metadata": {},
   "outputs": [
    {
     "name": "stdout",
     "output_type": "stream",
     "text": [
      "<class 'pandas.core.frame.DataFrame'>\n",
      "RangeIndex: 244097 entries, 0 to 244096\n",
      "Data columns (total 8 columns):\n",
      " #   Column          Non-Null Count   Dtype \n",
      "---  ------          --------------   ----- \n",
      " 0   id4             244097 non-null  int64 \n",
      " 1   country_name    244097 non-null  object\n",
      " 2   feellow         237401 non-null  Int64 \n",
      " 3   irritable       237558 non-null  Int64 \n",
      " 4   nervous         237572 non-null  Int64 \n",
      " 5   sleepdificulty  233283 non-null  Int64 \n",
      " 6   dizzy           235531 non-null  Int64 \n",
      " 7   thinkbody       232440 non-null  Int64 \n",
      "dtypes: Int64(6), int64(1), object(1)\n",
      "memory usage: 16.3+ MB\n"
     ]
    }
   ],
   "source": [
    "hbsc_2018_health_clean_3.info()"
   ]
  },
  {
   "cell_type": "code",
   "execution_count": 161,
   "metadata": {},
   "outputs": [],
   "source": [
    "#filtered dataset 2\n",
    "\n",
    "hbsc_2018_behavior_clean = hbsc_2018[['id4','country_name','physact60', 'timeexe', 'smokltm', 'smok30d_2', 'alcltm', 'alc30d_2', 'bodyweight', 'bodyheight']]"
   ]
  },
  {
   "cell_type": "code",
   "execution_count": 162,
   "metadata": {},
   "outputs": [
    {
     "name": "stdout",
     "output_type": "stream",
     "text": [
      "<class 'pandas.core.frame.DataFrame'>\n",
      "RangeIndex: 244097 entries, 0 to 244096\n",
      "Data columns (total 10 columns):\n",
      " #   Column        Non-Null Count   Dtype  \n",
      "---  ------        --------------   -----  \n",
      " 0   id4           244097 non-null  int64  \n",
      " 1   country_name  244097 non-null  object \n",
      " 2   physact60     237882 non-null  Int64  \n",
      " 3   timeexe       239298 non-null  Int64  \n",
      " 4   smokltm       222919 non-null  Int64  \n",
      " 5   smok30d_2     223410 non-null  Int64  \n",
      " 6   alcltm        224346 non-null  Int64  \n",
      " 7   alc30d_2      224771 non-null  Int64  \n",
      " 8   bodyweight    202969 non-null  float64\n",
      " 9   bodyheight    204061 non-null  float64\n",
      "dtypes: Int64(6), float64(2), int64(1), object(1)\n",
      "memory usage: 20.0+ MB\n"
     ]
    }
   ],
   "source": [
    "hbsc_2018_behavior_clean.info()"
   ]
  },
  {
   "cell_type": "code",
   "execution_count": 163,
   "metadata": {},
   "outputs": [],
   "source": [
    "#filtered dataset 3\n",
    "\n",
    "hbsc_2018_school_clean= hbsc_2018[['id4','country_name', 'likeschool', 'schoolpressure', 'studaccept', 'teacheraccept', 'bulliedothers', 'beenbullied']]"
   ]
  },
  {
   "cell_type": "code",
   "execution_count": 164,
   "metadata": {},
   "outputs": [
    {
     "name": "stdout",
     "output_type": "stream",
     "text": [
      "<class 'pandas.core.frame.DataFrame'>\n",
      "RangeIndex: 244097 entries, 0 to 244096\n",
      "Data columns (total 8 columns):\n",
      " #   Column          Non-Null Count   Dtype \n",
      "---  ------          --------------   ----- \n",
      " 0   id4             244097 non-null  int64 \n",
      " 1   country_name    244097 non-null  object\n",
      " 2   likeschool      238988 non-null  Int64 \n",
      " 3   schoolpressure  238611 non-null  Int64 \n",
      " 4   studaccept      226653 non-null  Int64 \n",
      " 5   teacheraccept   227333 non-null  Int64 \n",
      " 6   bulliedothers   222518 non-null  Int64 \n",
      " 7   beenbullied     227135 non-null  Int64 \n",
      "dtypes: Int64(6), int64(1), object(1)\n",
      "memory usage: 16.3+ MB\n"
     ]
    }
   ],
   "source": [
    "hbsc_2018_school_clean.info()"
   ]
  },
  {
   "cell_type": "code",
   "execution_count": 165,
   "metadata": {},
   "outputs": [],
   "source": [
    "#filtered dataset 4\n",
    "\n",
    "hbsc_2018_social_media_clean= hbsc_2018[['id4','country_name', 'emcsocmed1', 'emcsocmed2', 'emcsocmed3', 'emcsocmed4', 'emcsocmed5', 'emcsocmed6', 'emcsocmed7', 'emcsocmed8', 'emcsocmed9']]"
   ]
  },
  {
   "cell_type": "code",
   "execution_count": 166,
   "metadata": {},
   "outputs": [
    {
     "name": "stdout",
     "output_type": "stream",
     "text": [
      "<class 'pandas.core.frame.DataFrame'>\n",
      "RangeIndex: 244097 entries, 0 to 244096\n",
      "Data columns (total 11 columns):\n",
      " #   Column        Non-Null Count   Dtype \n",
      "---  ------        --------------   ----- \n",
      " 0   id4           244097 non-null  int64 \n",
      " 1   country_name  244097 non-null  object\n",
      " 2   emcsocmed1    200865 non-null  Int64 \n",
      " 3   emcsocmed2    201179 non-null  Int64 \n",
      " 4   emcsocmed3    200829 non-null  Int64 \n",
      " 5   emcsocmed4    200410 non-null  Int64 \n",
      " 6   emcsocmed5    200395 non-null  Int64 \n",
      " 7   emcsocmed6    200294 non-null  Int64 \n",
      " 8   emcsocmed7    200241 non-null  Int64 \n",
      " 9   emcsocmed8    199960 non-null  Int64 \n",
      " 10  emcsocmed9    199983 non-null  Int64 \n",
      "dtypes: Int64(9), int64(1), object(1)\n",
      "memory usage: 22.6+ MB\n"
     ]
    }
   ],
   "source": [
    "hbsc_2018_social_media_clean.info()"
   ]
  },
  {
   "cell_type": "code",
   "execution_count": 167,
   "metadata": {},
   "outputs": [],
   "source": [
    "#filtered dataset 5\n",
    "\n",
    "hbsc_2018_par_employ_clean= hbsc_2018[['id4','country_name', 'employmo', 'employfa', 'employnotfa', 'employnotmo', 'MBMI', 'IRRELFAS_LMH' ]]"
   ]
  },
  {
   "cell_type": "code",
   "execution_count": 168,
   "metadata": {},
   "outputs": [
    {
     "name": "stdout",
     "output_type": "stream",
     "text": [
      "<class 'pandas.core.frame.DataFrame'>\n",
      "RangeIndex: 244097 entries, 0 to 244096\n",
      "Data columns (total 8 columns):\n",
      " #   Column        Non-Null Count   Dtype  \n",
      "---  ------        --------------   -----  \n",
      " 0   id4           244097 non-null  int64  \n",
      " 1   country_name  244097 non-null  object \n",
      " 2   employmo      219962 non-null  Int64  \n",
      " 3   employfa      220098 non-null  Int64  \n",
      " 4   employnotfa   19573 non-null   Int64  \n",
      " 5   employnotmo   44207 non-null   Int64  \n",
      " 6   MBMI          190786 non-null  float64\n",
      " 7   IRRELFAS_LMH  231498 non-null  float64\n",
      "dtypes: Int64(4), float64(2), int64(1), object(1)\n",
      "memory usage: 15.8+ MB\n"
     ]
    }
   ],
   "source": [
    "hbsc_2018_par_employ_clean.info()"
   ]
  },
  {
   "cell_type": "markdown",
   "metadata": {},
   "source": [
    "# Pushing the data to Postgres"
   ]
  },
  {
   "cell_type": "code",
   "execution_count": 169,
   "metadata": {},
   "outputs": [],
   "source": [
    "import sql_functions as sf"
   ]
  },
  {
   "cell_type": "code",
   "execution_count": 170,
   "metadata": {},
   "outputs": [],
   "source": [
    "# Import get_engine from sql_functions.py. You will need to restart your kernel and rerun at this point since we changed the module since we first imported it.\n",
    "\n",
    "# create a variable called engine using the get_engine function\n",
    "\n",
    "from sql_functions import get_engine\n",
    "engine = get_engine()"
   ]
  },
  {
   "cell_type": "code",
   "execution_count": 171,
   "metadata": {},
   "outputs": [],
   "source": [
    "# Set the schema to your course name and the table_name variable to 'carriers_' + your initials/group number\n",
    "\n",
    "schema = 'capstone_health_education' # your course schema name\n",
    "#table_name = 'hbsc_2018_behavior_clean' # "
   ]
  },
  {
   "cell_type": "code",
   "execution_count": 172,
   "metadata": {},
   "outputs": [],
   "source": [
    "# dataframes = [hbsc_2018_health_clean_1, hbsc_2018_health_clean_2, hbsc_2018_health_clean_3, hbsc_2018_behavior_clean, hbsc_2018_par_employ_clean, hbsc_2018_social_media_clean, hbsc_2018_school_clean]\n",
    "\n",
    "# table_names = ['hbsc_2018_health_clean_1', 'hbsc_2018_health_clean_2', 'hbsc_2018_health_clean_3', 'hbsc_2018_behavior_clean', 'hbsc_2018_par_employ_clean', 'hbsc_2018_social_media_clean', 'hbsc_2018_school_clean']\n",
    "\n",
    "# for df, table_name in zip(dataframes, table_names):\n",
    "#     sf.push_to_cloud(df, table_name)"
   ]
  },
  {
   "cell_type": "code",
   "execution_count": 173,
   "metadata": {},
   "outputs": [],
   "source": [
    "from sql_functions import get_engine\n",
    "from sql_functions import get_dataframe\n",
    "engine = get_engine"
   ]
  },
  {
   "cell_type": "code",
   "execution_count": 174,
   "metadata": {},
   "outputs": [],
   "source": [
    "# # Write records stored in a dataframe to SQL database\n",
    "# if engine!=None:\n",
    "#     try:\n",
    "#         hbsc_2018_par_employ.to_sql(name = 'hbsc_2018_par_employ', # Name of SQL table\n",
    "#                         con=engine, # Engine or connection\n",
    "#                         if_exists='replace', # Drop the table before inserting new values \n",
    "#                         schema='capstone_health_education', # your class schema\n",
    "#                         index=False, # Write DataFrame index as a column\n",
    "#                         chunksize=5000, # Specify the number of rows in each batch to be written at a time\n",
    "#                         method='multi') # Pass multiple values in a single INSERT clause\n",
    "#         print(f\"The {table_name} table was imported successfully.\")\n",
    "#     # Error handling\n",
    "#     except (Exception, psycopg2.DatabaseError) as error:\n",
    "#         print(error)\n",
    "#         engine = None"
   ]
  },
  {
   "cell_type": "code",
   "execution_count": 177,
   "metadata": {},
   "outputs": [
    {
     "data": {
      "text/plain": [
       "Index(['id4', 'age', 'agecat', 'sex', 'health', 'lifesat', 'headache',\n",
       "       'stomachache', 'backache', 'feellow', 'irritable', 'nervous',\n",
       "       'sleepdificulty', 'dizzy', 'thinkbody', 'physact60', 'timeexe',\n",
       "       'smokltm', 'smok30d_2', 'alcltm', 'alc30d_2', 'bodyweight',\n",
       "       'bodyheight', 'likeschool', 'schoolpressure', 'studaccept',\n",
       "       'teacheraccept', 'bulliedothers', 'beenbullied', 'emcsocmed1',\n",
       "       'emcsocmed2', 'emcsocmed3', 'emcsocmed4', 'emcsocmed5', 'emcsocmed6',\n",
       "       'emcsocmed7', 'emcsocmed8', 'emcsocmed9', 'employmo', 'employfa',\n",
       "       'employnotfa', 'employnotmo', 'MBMI', 'IRRELFAS_LMH', 'country_name'],\n",
       "      dtype='object')"
      ]
     },
     "execution_count": 177,
     "metadata": {},
     "output_type": "execute_result"
    }
   ],
   "source": [
    "hbsc_2018.columns"
   ]
  },
  {
   "cell_type": "code",
   "execution_count": 178,
   "metadata": {},
   "outputs": [],
   "source": [
    "#filtered dataset 1\n",
    "\n",
    "hbsc_2018_health = hbsc_2018[['id4','country_name', 'age', 'agecat', 'sex', 'health', 'lifesat', 'headache', 'stomachache', 'backache', 'feellow', 'irritable', 'nervous', 'sleepdificulty', 'dizzy', 'thinkbody']]"
   ]
  },
  {
   "cell_type": "markdown",
   "metadata": {},
   "source": [
    "# Store DataFrames"
   ]
  },
  {
   "cell_type": "code",
   "execution_count": 179,
   "metadata": {},
   "outputs": [
    {
     "name": "stdout",
     "output_type": "stream",
     "text": [
      "Stored 'hbsc_2018_health_clean_1' (DataFrame)\n",
      "Stored 'hbsc_2018_health_clean_2' (DataFrame)\n",
      "Stored 'hbsc_2018_health_clean_3' (DataFrame)\n",
      "Stored 'hbsc_2018_behavior_clean' (DataFrame)\n",
      "Stored 'hbsc_2018_par_employ_clean' (DataFrame)\n",
      "Stored 'hbsc_2018_social_media_clean' (DataFrame)\n",
      "Stored 'hbsc_2018_school_clean' (DataFrame)\n",
      "Stored 'hbsc_2018_health' (DataFrame)\n"
     ]
    }
   ],
   "source": [
    "%store hbsc_2018_health_clean_1\n",
    "%store hbsc_2018_health_clean_2\n",
    "%store hbsc_2018_health_clean_3\n",
    "%store hbsc_2018_behavior_clean\n",
    "%store hbsc_2018_par_employ_clean\n",
    "%store hbsc_2018_social_media_clean\n",
    "%store hbsc_2018_school_clean\n",
    "%store hbsc_2018_health"
   ]
  }
 ],
 "metadata": {
  "kernelspec": {
   "display_name": "nf_sql",
   "language": "python",
   "name": "python3"
  },
  "language_info": {
   "codemirror_mode": {
    "name": "ipython",
    "version": 3
   },
   "file_extension": ".py",
   "mimetype": "text/x-python",
   "name": "python",
   "nbconvert_exporter": "python",
   "pygments_lexer": "ipython3",
   "version": "3.9.7"
  }
 },
 "nbformat": 4,
 "nbformat_minor": 2
}
