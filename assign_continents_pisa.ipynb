{
 "cells": [
  {
   "cell_type": "code",
   "execution_count": null,
   "metadata": {},
   "outputs": [],
   "source": [
    "import pandas as pd\n",
    "import numpy as np\n",
    "import python_functions_sp as pfsp\n",
    "import warnings\n",
    "warnings.filterwarnings(\"ignore\")\n",
    "import sqlalchemy\n",
    "import psycopg2\n",
    "import sql_functions_sp as sfsp"
   ]
  },
  {
   "cell_type": "code",
   "execution_count": null,
   "metadata": {},
   "outputs": [],
   "source": [
    "schema = 'capstone_health_education'\n",
    "\n",
    "PISA_m = sfsp.get_dataframe(f'SELECT * FROM {schema}.pisa_m')\n",
    "PISA_r = sfsp.get_dataframe(f'SELECT * FROM {schema}.pisa_r')\n",
    "PISA_sc = sfsp.get_dataframe(f'SELECT * FROM {schema}.pisa_sc')"
   ]
  },
  {
   "cell_type": "markdown",
   "metadata": {},
   "source": [
    "## Splitting the countries into the continents\n",
    "- northern america\n",
    "- southern america\n",
    "- europe (4 parts for further analysis)\n",
    "- africa\n",
    "- asia\n",
    "- pacific\n",
    "- middle-east"
   ]
  },
  {
   "cell_type": "markdown",
   "metadata": {},
   "source": [
    "Creating a copy with a meaningful name:"
   ]
  },
  {
   "cell_type": "code",
   "execution_count": null,
   "metadata": {},
   "outputs": [],
   "source": [
    "PISA_m_continents = PISA_m.copy()\n",
    "PISA_r_continents = PISA_r.copy()\n",
    "PISA_sc_continents = PISA_sc.copy()"
   ]
  },
  {
   "cell_type": "code",
   "execution_count": null,
   "metadata": {},
   "outputs": [],
   "source": [
    "PISA_m_continents.rename(columns={'jurisdiction': 'country'}, inplace=True)\n",
    "PISA_r_continents.rename(columns={'jurisdiction': 'country'}, inplace=True)\n",
    "PISA_sc_continents.rename(columns={'jurisdiction': 'country'}, inplace=True)"
   ]
  },
  {
   "cell_type": "markdown",
   "metadata": {},
   "source": [
    "Check if it worked:"
   ]
  },
  {
   "cell_type": "code",
   "execution_count": null,
   "metadata": {},
   "outputs": [],
   "source": [
    "PISA_m_continents.head()"
   ]
  },
  {
   "cell_type": "code",
   "execution_count": null,
   "metadata": {},
   "outputs": [],
   "source": [
    "PISA_r_continents.head()"
   ]
  },
  {
   "cell_type": "code",
   "execution_count": null,
   "metadata": {},
   "outputs": [],
   "source": [
    "PISA_sc_continents.head()"
   ]
  },
  {
   "cell_type": "markdown",
   "metadata": {},
   "source": [
    "---"
   ]
  },
  {
   "cell_type": "markdown",
   "metadata": {},
   "source": [
    "Assigning the continent to the countries in a new created column:"
   ]
  },
  {
   "cell_type": "code",
   "execution_count": null,
   "metadata": {},
   "outputs": [],
   "source": [
    "PISA_m_continents['continent'] = PISA_m_continents['country'].apply(pfsp.assign_continent)\n",
    "PISA_r_continents['continent'] = PISA_r_continents['country'].apply(pfsp.assign_continent)\n",
    "PISA_sc_continents['continent'] = PISA_sc_continents['country'].apply(pfsp.assign_continent)"
   ]
  },
  {
   "cell_type": "markdown",
   "metadata": {},
   "source": [
    "Assigning the four parts of europe to the countries in another new created column:"
   ]
  },
  {
   "cell_type": "code",
   "execution_count": null,
   "metadata": {},
   "outputs": [],
   "source": [
    "PISA_m_continents['continent_region'] = PISA_m_continents['country'].apply(pfsp.assign_europe_region)\n",
    "PISA_r_continents['continent_region'] = PISA_r_continents['country'].apply(pfsp.assign_europe_region)\n",
    "PISA_sc_continents['continent_region'] = PISA_sc_continents['country'].apply(pfsp.assign_europe_region)"
   ]
  },
  {
   "cell_type": "markdown",
   "metadata": {},
   "source": [
    "Changing the order of the columns:"
   ]
  },
  {
   "cell_type": "code",
   "execution_count": null,
   "metadata": {},
   "outputs": [],
   "source": [
    "columns = ['country', 'continent', 'continent_region', 'year', 'average', 'standard_error']\n",
    "\n",
    "PISA_m_continents = PISA_m_continents[columns]\n",
    "PISA_r_continents = PISA_r_continents[columns]\n",
    "PISA_sc_continents = PISA_sc_continents[columns]"
   ]
  },
  {
   "cell_type": "markdown",
   "metadata": {},
   "source": [
    "Checking the result:"
   ]
  },
  {
   "cell_type": "code",
   "execution_count": null,
   "metadata": {},
   "outputs": [],
   "source": [
    "PISA_m_continents.sample(10)"
   ]
  },
  {
   "cell_type": "code",
   "execution_count": null,
   "metadata": {},
   "outputs": [],
   "source": [
    "PISA_r_continents.sample(10)"
   ]
  },
  {
   "cell_type": "code",
   "execution_count": null,
   "metadata": {},
   "outputs": [],
   "source": [
    "PISA_sc_continents.sample(10)"
   ]
  },
  {
   "cell_type": "markdown",
   "metadata": {},
   "source": [
    "Check if some countries couldn't be assigned to a continent:"
   ]
  },
  {
   "cell_type": "code",
   "execution_count": null,
   "metadata": {},
   "outputs": [],
   "source": [
    "PISA_m_continents[PISA_m_continents['continent'] == 'Other']['country'].unique()"
   ]
  },
  {
   "cell_type": "code",
   "execution_count": null,
   "metadata": {},
   "outputs": [],
   "source": [
    "PISA_m_continents[PISA_m_continents['continent_region'] == 'Other']['country'].unique()"
   ]
  },
  {
   "cell_type": "code",
   "execution_count": null,
   "metadata": {},
   "outputs": [],
   "source": [
    "PISA_r_continents[PISA_r_continents['continent'] == 'Other']['country'].unique()"
   ]
  },
  {
   "cell_type": "code",
   "execution_count": null,
   "metadata": {},
   "outputs": [],
   "source": [
    "PISA_r_continents[PISA_r_continents['continent_region'] == 'Other']['country'].unique()"
   ]
  },
  {
   "cell_type": "code",
   "execution_count": null,
   "metadata": {},
   "outputs": [],
   "source": [
    "PISA_sc_continents[PISA_sc_continents['continent'] == 'Other']['country'].unique()"
   ]
  },
  {
   "cell_type": "code",
   "execution_count": null,
   "metadata": {},
   "outputs": [],
   "source": [
    "PISA_sc_continents[PISA_sc_continents['continent_region'] == 'Other']['country'].unique()"
   ]
  },
  {
   "cell_type": "markdown",
   "metadata": {},
   "source": [
    "---"
   ]
  },
  {
   "cell_type": "markdown",
   "metadata": {},
   "source": [
    "Check if the new created columns match:"
   ]
  },
  {
   "cell_type": "code",
   "execution_count": null,
   "metadata": {},
   "outputs": [],
   "source": [
    "pfsp.check_values(PISA_m_continents)\n",
    "pfsp.check_values(PISA_r_continents)\n",
    "pfsp.check_values(PISA_sc_continents)"
   ]
  },
  {
   "cell_type": "markdown",
   "metadata": {},
   "source": [
    "---"
   ]
  },
  {
   "cell_type": "markdown",
   "metadata": {},
   "source": [
    "Writing the table into the database:"
   ]
  },
  {
   "cell_type": "code",
   "execution_count": null,
   "metadata": {},
   "outputs": [],
   "source": [
    "# sfsp.push_to_cloud(PISA_m_continents, 'pisa_m_continents')\n",
    "# sfsp.push_to_cloud(PISA_r_continents, 'pisa_r_continents')\n",
    "# sfsp.push_to_cloud(PISA_sc_continents, 'pisa_sc_continents')"
   ]
  },
  {
   "cell_type": "markdown",
   "metadata": {},
   "source": [
    "---\n",
    "---"
   ]
  },
  {
   "cell_type": "code",
   "execution_count": null,
   "metadata": {},
   "outputs": [],
   "source": [
    "PISA_m_continents.sample(10)"
   ]
  },
  {
   "cell_type": "code",
   "execution_count": null,
   "metadata": {},
   "outputs": [],
   "source": [
    "PISA_r_continents.sample(10)"
   ]
  },
  {
   "cell_type": "code",
   "execution_count": null,
   "metadata": {},
   "outputs": [],
   "source": [
    "PISA_sc_continents.sample(10)"
   ]
  }
 ],
 "metadata": {
  "kernelspec": {
   "display_name": "nf_sql",
   "language": "python",
   "name": "python3"
  },
  "language_info": {
   "codemirror_mode": {
    "name": "ipython",
    "version": 3
   },
   "file_extension": ".py",
   "mimetype": "text/x-python",
   "name": "python",
   "nbconvert_exporter": "python",
   "pygments_lexer": "ipython3",
   "version": "3.9.7"
  }
 },
 "nbformat": 4,
 "nbformat_minor": 2
}
