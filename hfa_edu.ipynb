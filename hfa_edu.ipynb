{
 "cells": [
  {
   "cell_type": "code",
   "execution_count": null,
   "metadata": {},
   "outputs": [],
   "source": [
    "import pandas as pd\n",
    "import sqlalchemy\n",
    "import psycopg2\n",
    "import matplotlib.pyplot as plt\n",
    "import numpy as np\n",
    "import seaborn as sns\n",
    "import sql_functions_sp as sfsp\n",
    "import python_functions_sp as pf\n",
    "\n",
    "import warnings\n",
    "warnings.simplefilter(action='ignore', category=FutureWarning)\n",
    "warnings.filterwarnings(\"ignore\")"
   ]
  },
  {
   "cell_type": "markdown",
   "metadata": {},
   "source": [
    "### Import data from Postgres ###"
   ]
  },
  {
   "cell_type": "code",
   "execution_count": null,
   "metadata": {},
   "outputs": [],
   "source": [
    "schema = 'capstone_health_education'\n",
    "table = 'HFA_data_p1'\n",
    "\n",
    "sql_query = f'SELECT * FROM {schema}.\"{table}\";'\n",
    "HFA_data_p1 = sf.get_dataframe(sql_query)"
   ]
  },
  {
   "cell_type": "code",
   "execution_count": null,
   "metadata": {},
   "outputs": [],
   "source": [
    "schema = 'capstone_health_education'\n",
    "table = 'HFA_data_p2'\n",
    "\n",
    "sql_query2 = f'SELECT * FROM {schema}.\"{table}\";'\n",
    "HFA_data_p2 = sf.get_dataframe(sql_query2)"
   ]
  },
  {
   "cell_type": "code",
   "execution_count": null,
   "metadata": {},
   "outputs": [],
   "source": [
    "schema = 'capstone_health_education'\n",
    "table = 'HFA_data_p3'\n",
    "\n",
    "sql_query3 = f'SELECT * FROM {schema}.\"{table}\";'\n",
    "HFA_data_p3 = sf.get_dataframe(sql_query3)"
   ]
  },
  {
   "cell_type": "code",
   "execution_count": null,
   "metadata": {},
   "outputs": [],
   "source": [
    "dataframes = [HFA_data_p1, HFA_data_p2, HFA_data_p3]\n",
    "\n",
    "pf.columns_lower_snake_case_2(dataframes)"
   ]
  },
  {
   "cell_type": "code",
   "execution_count": null,
   "metadata": {},
   "outputs": [],
   "source": []
  },
  {
   "cell_type": "code",
   "execution_count": null,
   "metadata": {},
   "outputs": [],
   "source": [
    "HFA_data_p1.columns"
   ]
  },
  {
   "cell_type": "code",
   "execution_count": null,
   "metadata": {},
   "outputs": [],
   "source": [
    "HFA_data_p2.columns"
   ]
  },
  {
   "cell_type": "code",
   "execution_count": null,
   "metadata": {},
   "outputs": [],
   "source": [
    "HFA_data_p3.shape"
   ]
  },
  {
   "cell_type": "code",
   "execution_count": null,
   "metadata": {},
   "outputs": [],
   "source": [
    "frames = [HFA_data_p1, HFA_data_p2, HFA_data_p3]\n",
    "HFA_df = pd.concat(frames)"
   ]
  },
  {
   "cell_type": "code",
   "execution_count": null,
   "metadata": {},
   "outputs": [],
   "source": [
    "HFA_df.shape"
   ]
  },
  {
   "cell_type": "code",
   "execution_count": null,
   "metadata": {},
   "outputs": [],
   "source": [
    "HFA_df.head()"
   ]
  },
  {
   "cell_type": "code",
   "execution_count": null,
   "metadata": {},
   "outputs": [],
   "source": [
    "HFA_df['place_residence'].info()"
   ]
  },
  {
   "cell_type": "markdown",
   "metadata": {},
   "source": [
    "#### Reducing the dataset #####"
   ]
  },
  {
   "cell_type": "code",
   "execution_count": null,
   "metadata": {},
   "outputs": [],
   "source": [
    "columns_to_keep = ['measure_code', 'sex', 'country_region', '2000', '2001','2002',\t'2003',\t'2004',\t'2005',\t'2006',\t'2007',\t'2008',\t'2009',\t'2010', '2011', '2012',\t'2013',\t'2014',\t'2015',\t'2016',\t'2017',\t'2018',\t'2019',\t'2020',\t'2021',\t'2022']\n",
    "\n",
    "hfa_df = HFA_df[columns_to_keep]"
   ]
  },
  {
   "cell_type": "code",
   "execution_count": null,
   "metadata": {},
   "outputs": [],
   "source": [
    "hfa_df"
   ]
  },
  {
   "cell_type": "code",
   "execution_count": null,
   "metadata": {},
   "outputs": [],
   "source": [
    "list_of_objects = [ 'HFA_1',\n",
    "'HFA_2',\n",
    "'HFA_3',\n",
    "'HFA_10',\n",
    "'HFA_11',\n",
    "'HFA_12',\n",
    "'HFA_13',\n",
    "'HFA_14',\n",
    "'HFA_15',\n",
    "'HFA_26',\n",
    "'HFA_27',\n",
    "'HFA_28',\n",
    "'HFA_29',\n",
    "'HFA_30',\n",
    "'HFA_32',\n",
    "'HFA_33',\n",
    "'HFA_35',\n",
    "'HFA_36',\n",
    "'HFA_37',\n",
    "'HFA_38',\n",
    "'HFA_39',\n",
    "'HFA_40',\n",
    "'HFA_41',\n",
    "'HFA_43',\n",
    "'HFA_44',\n",
    "'HFA_45',\n",
    "'HFA_357',\n",
    "'HFA_391',\n",
    "'HFA_617',\n",
    "'HFA_618',\n",
    "'HFA_636',\n",
    "'HFA_634',\n",
    "'HFA_635' ]\n",
    "\n",
    "hfa_eduHealth[list_of_objects] = hfa_eduHealth[list_of_objects].apply(pd.to_numeric, errors='coerce')"
   ]
  },
  {
   "cell_type": "markdown",
   "metadata": {},
   "source": [
    "#### Reducing measure codes ####"
   ]
  },
  {
   "cell_type": "code",
   "execution_count": null,
   "metadata": {},
   "outputs": [],
   "source": [
    "measure_codes_to_keep = ['HFA_1',\n",
    "'HFA_2',\n",
    "'HFA_3',\n",
    "'HFA_10',\n",
    "'HFA_11',\n",
    "'HFA_12',\n",
    "'HFA_13',\n",
    "'HFA_14',\n",
    "'HFA_15',\n",
    "'HFA_26',\n",
    "'HFA_27',\n",
    "'HFA_28',\n",
    "'HFA_29',\n",
    "'HFA_30',\n",
    "'HFA_32',\n",
    "'HFA_33',\n",
    "'HFA_35',\n",
    "'HFA_36',\n",
    "'HFA_37',\n",
    "'HFA_38',\n",
    "'HFA_39',\n",
    "'HFA_40',\n",
    "'HFA_41',\n",
    "'HFA_43',\n",
    "'HFA_44',\n",
    "'HFA_45',\n",
    "'HFA_357',\n",
    "'HFA_391',\n",
    "'HFA_617',\n",
    "'HFA_618',\n",
    "'HFA_636',\n",
    "'HFA_634',\n",
    "'HFA_635'\n",
    "]\n",
    "\n",
    "\n",
    "hfa_filtered = hfa_df[hfa_df['measure_code'].isin(measure_codes_to_keep)]"
   ]
  },
  {
   "cell_type": "code",
   "execution_count": null,
   "metadata": {},
   "outputs": [],
   "source": [
    "hfa_filtered.shape"
   ]
  },
  {
   "cell_type": "code",
   "execution_count": null,
   "metadata": {},
   "outputs": [],
   "source": [
    "hfa_filtered.sample(15)"
   ]
  },
  {
   "cell_type": "code",
   "execution_count": null,
   "metadata": {},
   "outputs": [],
   "source": [
    "hfa_filtered.info()"
   ]
  },
  {
   "cell_type": "code",
   "execution_count": null,
   "metadata": {},
   "outputs": [],
   "source": []
  },
  {
   "cell_type": "markdown",
   "metadata": {},
   "source": [
    "### Naming the measure codes ###"
   ]
  },
  {
   "cell_type": "code",
   "execution_count": null,
   "metadata": {},
   "outputs": [],
   "source": [
    "schema = 'capstone_health_education'\n",
    "table = 'HFA_metadata_sh4'\n",
    "\n",
    "# sql_query = f'SELECT * FROM {schema}.\"{table}\";'\n",
    "sql_query = f'SELECT \"Measure labels\", \"Unnamed: 1\" FROM {schema}.\"{table}\" WHERE \"Measure labels\" LIKE \\'HFA%%\\';'\n",
    "measure_names = sf.get_dataframe(sql_query)"
   ]
  },
  {
   "cell_type": "code",
   "execution_count": null,
   "metadata": {},
   "outputs": [],
   "source": [
    "measure_names"
   ]
  },
  {
   "cell_type": "code",
   "execution_count": null,
   "metadata": {},
   "outputs": [],
   "source": [
    "measure_names.rename(columns={'Measure labels': 'measure_code', 'Unnamed: 1': 'measure_label'}, inplace=True)"
   ]
  },
  {
   "cell_type": "code",
   "execution_count": null,
   "metadata": {},
   "outputs": [],
   "source": [
    "hfa_filtered = pd.merge(hfa_filtered, measure_names, on='measure_code', how='left')"
   ]
  },
  {
   "cell_type": "code",
   "execution_count": null,
   "metadata": {},
   "outputs": [],
   "source": [
    "hfa_filtered"
   ]
  },
  {
   "cell_type": "markdown",
   "metadata": {},
   "source": [
    "#### Giving full names to countries and regions ####"
   ]
  },
  {
   "cell_type": "code",
   "execution_count": null,
   "metadata": {},
   "outputs": [],
   "source": [
    "schema = 'capstone_health_education'\n",
    "table = 'HFA_metadata_sh5'\n",
    "\n",
    "sql_query = f'SELECT * FROM {schema}.\"{table}\";'\n",
    "country_names = sf.get_dataframe(sql_query)"
   ]
  },
  {
   "cell_type": "code",
   "execution_count": null,
   "metadata": {},
   "outputs": [],
   "source": [
    "country_names.drop(['ISO 2', 'ISO 3', 'WHO code', 'Short name'], axis=1, inplace=True)"
   ]
  },
  {
   "cell_type": "code",
   "execution_count": null,
   "metadata": {},
   "outputs": [],
   "source": [
    "country_names.rename(columns={'Code': 'country_region', 'Full name': 'name'}, inplace=True)"
   ]
  },
  {
   "cell_type": "code",
   "execution_count": null,
   "metadata": {},
   "outputs": [],
   "source": [
    "schema = 'capstone_health_education'\n",
    "table = 'HFA_metadata_sh6'\n",
    "\n",
    "sql_query = f'SELECT * FROM {schema}.\"{table}\";'\n",
    "region_names = sf.get_dataframe(sql_query)"
   ]
  },
  {
   "cell_type": "code",
   "execution_count": null,
   "metadata": {},
   "outputs": [],
   "source": [
    "region_names.drop(['Full name'], axis=1, inplace=True)"
   ]
  },
  {
   "cell_type": "code",
   "execution_count": null,
   "metadata": {},
   "outputs": [],
   "source": [
    "region_names.rename(columns={'Code': 'country_region', 'Short name': 'name'}, inplace=True)"
   ]
  },
  {
   "cell_type": "code",
   "execution_count": null,
   "metadata": {},
   "outputs": [],
   "source": [
    "cat = pd.concat([country_names, region_names], ignore_index=True)"
   ]
  },
  {
   "cell_type": "code",
   "execution_count": null,
   "metadata": {},
   "outputs": [],
   "source": [
    "hfa_filtered = pd.merge(hfa_filtered, cat, on='country_region', how='left').copy()"
   ]
  },
  {
   "cell_type": "code",
   "execution_count": null,
   "metadata": {},
   "outputs": [],
   "source": [
    "hfa_filtered"
   ]
  },
  {
   "cell_type": "markdown",
   "metadata": {},
   "source": [
    "### Melt and pivot the data frame ###"
   ]
  },
  {
   "cell_type": "code",
   "execution_count": null,
   "metadata": {},
   "outputs": [],
   "source": [
    "hfa_melted = pd.melt(hfa_filtered,\n",
    "                      id_vars=['sex', 'country_region', 'name', 'measure_code', 'measure_label'],\n",
    "                      value_vars=['2000','2001', '2002', '2003', '2004', '2005', '2006', '2007', '2008', '2009', '2010', '2011', '2012', '2013', '2014', '2015', '2016', '2017', '2018', '2019', '2020', '2021', '2022'],\n",
    "                      var_name='years',\n",
    "                      value_name='value'\n",
    "                      )"
   ]
  },
  {
   "cell_type": "code",
   "execution_count": null,
   "metadata": {},
   "outputs": [],
   "source": [
    "hfa_melted"
   ]
  },
  {
   "cell_type": "code",
   "execution_count": null,
   "metadata": {},
   "outputs": [],
   "source": [
    "hfa_melted_pivoted = pd.pivot(hfa_melted,\n",
    "                       columns='measure_code',\n",
    "                       index=['name', 'years', 'sex'],\n",
    "                       values='value'\n",
    "                       )"
   ]
  },
  {
   "cell_type": "code",
   "execution_count": null,
   "metadata": {},
   "outputs": [],
   "source": [
    "hfa_eduHealth = hfa_melted_pivoted"
   ]
  },
  {
   "cell_type": "code",
   "execution_count": null,
   "metadata": {},
   "outputs": [],
   "source": [
    "hfa_eduHealth"
   ]
  },
  {
   "cell_type": "code",
   "execution_count": null,
   "metadata": {},
   "outputs": [],
   "source": [
    "hfa_eduHealth.reset_index(inplace=True)"
   ]
  },
  {
   "cell_type": "code",
   "execution_count": null,
   "metadata": {},
   "outputs": [],
   "source": [
    "hfa_eduHealth"
   ]
  },
  {
   "cell_type": "code",
   "execution_count": null,
   "metadata": {},
   "outputs": [],
   "source": [
    "hfa_eduHealth.columns.name=None"
   ]
  },
  {
   "cell_type": "code",
   "execution_count": null,
   "metadata": {},
   "outputs": [],
   "source": [
    "hfa_eduHealth"
   ]
  },
  {
   "cell_type": "code",
   "execution_count": null,
   "metadata": {},
   "outputs": [],
   "source": [
    "hfa_eduHealth['sex']"
   ]
  },
  {
   "cell_type": "code",
   "execution_count": null,
   "metadata": {},
   "outputs": [],
   "source": [
    "hfa_eduHealth.info()"
   ]
  },
  {
   "cell_type": "markdown",
   "metadata": {},
   "source": [
    "#### categorizing continents and regions ####"
   ]
  },
  {
   "cell_type": "code",
   "execution_count": null,
   "metadata": {},
   "outputs": [],
   "source": [
    "hfa_eduHealth.rename(columns={'name': 'country'}, inplace=True)\n",
    "hfa_eduHealth"
   ]
  },
  {
   "cell_type": "code",
   "execution_count": null,
   "metadata": {},
   "outputs": [],
   "source": [
    "import pandas as pd\n",
    "import numpy as np\n",
    "import python_functions_sp as pfsp\n",
    "import warnings\n",
    "warnings.filterwarnings(\"ignore\")\n",
    "import sqlalchemy\n",
    "import psycopg2\n",
    "import sql_functions_sp as sfsp"
   ]
  },
  {
   "cell_type": "code",
   "execution_count": null,
   "metadata": {},
   "outputs": [],
   "source": [
    "hfa_eduHealth['continent'] = hfa_eduHealth['country'].apply(pfsp.assign_continent)"
   ]
  },
  {
   "cell_type": "code",
   "execution_count": null,
   "metadata": {},
   "outputs": [],
   "source": [
    "hfa_eduHealth['continent_region'] = hfa_eduHealth['country'].apply(pfsp.assign_europe_region)"
   ]
  },
  {
   "cell_type": "code",
   "execution_count": null,
   "metadata": {},
   "outputs": [],
   "source": [
    "hfa_eduHealth[hfa_eduHealth['continent'] == 'Other']['country'].unique()"
   ]
  },
  {
   "cell_type": "code",
   "execution_count": null,
   "metadata": {},
   "outputs": [],
   "source": [
    "hfa_eduHealth[hfa_eduHealth['continent_region'] == 'Other']['country'].unique()"
   ]
  },
  {
   "cell_type": "code",
   "execution_count": null,
   "metadata": {},
   "outputs": [],
   "source": [
    "pfsp.check_values(hfa_eduHealth)"
   ]
  },
  {
   "cell_type": "code",
   "execution_count": null,
   "metadata": {},
   "outputs": [],
   "source": [
    "sfsp.push_to_cloud(hfa_eduHealth, 'hfa_eduHealth')"
   ]
  },
  {
   "cell_type": "code",
   "execution_count": null,
   "metadata": {},
   "outputs": [],
   "source": [
    "hfa_eduHealth['HFA_36']"
   ]
  },
  {
   "cell_type": "code",
   "execution_count": null,
   "metadata": {},
   "outputs": [],
   "source": [
    "schema = 'capstone_health_education'\n",
    "table = 'hfa_eduHealth'\n",
    "\n",
    "sql_query = f'SELECT * FROM {schema}.\"{table}\";'\n",
    "hfa_eduHealth= sfsp.get_dataframe(sql_query)"
   ]
  },
  {
   "cell_type": "code",
   "execution_count": null,
   "metadata": {},
   "outputs": [],
   "source": [
    "hfa_eduHealth.info()"
   ]
  },
  {
   "cell_type": "code",
   "execution_count": null,
   "metadata": {},
   "outputs": [],
   "source": [
    "hfa_eduHealth.rename(columns={'years': 'year'}, inplace=True)"
   ]
  },
  {
   "cell_type": "code",
   "execution_count": null,
   "metadata": {},
   "outputs": [],
   "source": [
    "#hfa_eduHealth['year'] = hfa_eduHealth['year'].apply(pd.to_numeric, errors='coerce')"
   ]
  },
  {
   "cell_type": "code",
   "execution_count": null,
   "metadata": {},
   "outputs": [],
   "source": [
    "hfa_eduHealth.info()"
   ]
  },
  {
   "cell_type": "code",
   "execution_count": null,
   "metadata": {},
   "outputs": [],
   "source": [
    "sfsp.push_to_cloud(hfa_eduHealth, 'hfa_eduHealth')"
   ]
  },
  {
   "cell_type": "code",
   "execution_count": null,
   "metadata": {},
   "outputs": [],
   "source": [
    "# schema = 'capstone_health_education'\n",
    "# table = 'hfa_eduHealth'\n",
    "\n",
    "# sql_query = f'SELECT * FROM {schema}.\"{table}\";'\n",
    "# hfa_eduHealth= sfsp.get_dataframe(sql_query)"
   ]
  },
  {
   "cell_type": "code",
   "execution_count": null,
   "metadata": {},
   "outputs": [],
   "source": [
    "Gini = hfa_eduHealth['HFA_617']"
   ]
  },
  {
   "cell_type": "code",
   "execution_count": null,
   "metadata": {},
   "outputs": [],
   "source": [
    "Gini_t = Gini[Gini['country']=='Turkmenistan']"
   ]
  }
 ],
 "metadata": {
  "kernelspec": {
   "display_name": "nf_sql",
   "language": "python",
   "name": "python3"
  },
  "language_info": {
   "codemirror_mode": {
    "name": "ipython",
    "version": 3
   },
   "file_extension": ".py",
   "mimetype": "text/x-python",
   "name": "python",
   "nbconvert_exporter": "python",
   "pygments_lexer": "ipython3",
   "version": "3.9.12"
  }
 },
 "nbformat": 4,
 "nbformat_minor": 2
}
