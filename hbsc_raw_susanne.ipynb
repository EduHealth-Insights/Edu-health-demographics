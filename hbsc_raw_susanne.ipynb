{
 "cells": [
  {
   "cell_type": "code",
   "execution_count": null,
   "metadata": {},
   "outputs": [],
   "source": [
    "import pandas as pd"
   ]
  },
  {
   "cell_type": "code",
   "execution_count": null,
   "metadata": {},
   "outputs": [],
   "source": [
    "import warnings\n",
    "warnings.simplefilter(action='ignore', category=FutureWarning)\n",
    "warnings.filterwarnings(\"ignore\")"
   ]
  },
  {
   "cell_type": "code",
   "execution_count": null,
   "metadata": {},
   "outputs": [],
   "source": [
    "hbsc_2018 = pd.read_csv('data/HBSC2018OAed1.csv', low_memory=False)"
   ]
  },
  {
   "cell_type": "code",
   "execution_count": null,
   "metadata": {},
   "outputs": [],
   "source": [
    "hbsc_2018.iloc[:, : 20]"
   ]
  },
  {
   "cell_type": "code",
   "execution_count": null,
   "metadata": {},
   "outputs": [],
   "source": [
    "hbsc_2018.head()"
   ]
  },
  {
   "cell_type": "code",
   "execution_count": null,
   "metadata": {},
   "outputs": [],
   "source": [
    "dict(hbsc_2018.dtypes)"
   ]
  },
  {
   "cell_type": "code",
   "execution_count": null,
   "metadata": {},
   "outputs": [],
   "source": [
    "#keeping interesting variables#\n",
    "#columns_to_drop = ['HBSC', 'seqno_int', 'cluster', 'fruits_2', 'vegetables_2', 'sweets_2', 'softdrinks_2', 'toothbr',  'monthbirth', 'grade', 'yearbirth', 'region', 'id1', 'id2', 'id3', 'id4', 'adm', 'month', 'fasfamcar', 'fasbedroom', 'fascomputers', 'fasbathroom', 'fasdishwash', 'fasholidays', 'bulliedothers', 'beenbullied', 'cbulliedothers', 'cbeenbullied', 'friendhelp', 'friendcounton', 'friendshare', 'friendtalk', 'emconlfreq1', 'emconlfreq2', 'emconlfreq3', 'emconlfreq4', 'emconlpref1', 'emconlpref2', 'emconlpref3', 'grade', 'hadsex', 'agesex', 'contraceptcondom', 'contraceptpill', 'countryborn', 'countrybornmo', 'countrybornfa',  'motherhome1', 'fatherhome1', 'stepmohome1', 'stepfahome1', 'fosterhome1', 'elsehome1_2', 'talkfather', 'talkstepfa', 'talkmother', 'talkstepmo', 'famhelp', 'famsup', 'famtalk', 'famdec', 'MBMI', 'IRFAS', 'oweight_who' ]\n",
    "#hbsc_2018_short = hbsc_2018.drop(columns=columns_to_drop)"
   ]
  },
  {
   "cell_type": "code",
   "execution_count": null,
   "metadata": {},
   "outputs": [],
   "source": [
    "hbsc_2018 = hbsc_2018[['id4', 'countryno', 'age', 'agecat', 'sex', 'health', 'lifesat', 'headache', 'stomachache', 'backache', 'feellow', 'irritable', 'nervous', 'sleepdificulty', 'dizzy', 'thinkbody', 'physact60', 'timeexe', 'smokltm', 'smok30d_2', 'alcltm', 'alc30d_2', 'bodyweight', 'bodyheight', 'likeschool', 'schoolpressure', 'studaccept', 'teacheraccept', 'bulliedothers', 'beenbullied', 'emcsocmed1', 'emcsocmed2', 'emcsocmed3', 'emcsocmed4', 'emcsocmed5', 'emcsocmed6', 'emcsocmed7', 'emcsocmed8', 'emcsocmed9', 'employmo', 'employfa', 'employnotfa', 'employnotmo', 'MBMI', 'IRRELFAS_LMH'  ]]"
   ]
  },
  {
   "cell_type": "code",
   "execution_count": null,
   "metadata": {},
   "outputs": [],
   "source": [
    "# Format to display without exponential notation and round it\n",
    "pd.options.display.float_format = '{:.1f}'.format"
   ]
  },
  {
   "cell_type": "code",
   "execution_count": null,
   "metadata": {},
   "outputs": [],
   "source": [
    "hbsc_2018.info()"
   ]
  },
  {
   "cell_type": "code",
   "execution_count": null,
   "metadata": {},
   "outputs": [],
   "source": [
    "# no duplicates\n",
    "hbsc_2018.duplicated().value_counts()"
   ]
  },
  {
   "cell_type": "markdown",
   "metadata": {},
   "source": [
    "#### Bringing NaNs into format ####"
   ]
  },
  {
   "cell_type": "code",
   "execution_count": null,
   "metadata": {},
   "outputs": [],
   "source": [
    "list_of_objects = ['countryno', 'bodyweight', 'bodyheight', 'likeschool', 'schoolpressure', 'studaccept', 'teacheraccept', 'bulliedothers', 'beenbullied', 'emcsocmed1', 'emcsocmed2', 'emcsocmed3', 'emcsocmed4', 'emcsocmed5', 'emcsocmed6', 'emcsocmed7', 'emcsocmed8', 'emcsocmed9', 'employmo', 'employfa', 'employnotfa', 'employnotmo', 'MBMI', 'IRRELFAS_LMH' ]\n",
    "\n",
    "hbsc_2018[list_of_objects] = hbsc_2018[list_of_objects].apply(pd.to_numeric, errors='coerce')"
   ]
  },
  {
   "cell_type": "markdown",
   "metadata": {},
   "source": [
    "### DEMOGRAPHICS ###"
   ]
  },
  {
   "cell_type": "code",
   "execution_count": null,
   "metadata": {},
   "outputs": [],
   "source": [
    "hbsc_2018['id4'].isna().sum()"
   ]
  },
  {
   "cell_type": "code",
   "execution_count": null,
   "metadata": {},
   "outputs": [],
   "source": [
    "hbsc_2018['countryno'].unique()"
   ]
  },
  {
   "cell_type": "code",
   "execution_count": null,
   "metadata": {},
   "outputs": [],
   "source": [
    "#Creating a new column containing country names#\n",
    "country_names = {\n",
    "    8000: 'Albania',\n",
    "    31000:'Azerbaijan',\n",
    "    40000: 'Austria',\n",
    "    51000: 'Armenia',\n",
    "    56001: 'Belgium (Flemish)',\n",
    "    56002: 'Belgium (French)',\n",
    "    100000: 'Bulgaria',\n",
    "    124000: 'Canada',\n",
    "    191000: 'Croatia',\n",
    "    203000: 'Czech Republic',\n",
    "    208000: 'Denmark',\n",
    "    233000: 'Estonia',\n",
    "    246000: 'Finland',\n",
    "    250000: 'France',\n",
    "    268000: 'Georgia',\n",
    "    276000: 'Germany',\n",
    "    300000: 'Greece',\n",
    "    304000: 'Greenland',\n",
    "    348000: 'Hungary',\n",
    "    352000: 'Iceland',\n",
    "    372000: 'Ireland',\n",
    "    376000: 'Israel',\n",
    "    380000: 'Italy',\n",
    "    398000: 'Kazakhstan',\n",
    "    440000: 'Lithuania',\n",
    "    428000: 'Latvia',\n",
    "    442000: 'Luxembourg',\n",
    "    470000: 'Malta',\n",
    "    498000: 'Republic of Moldova',\n",
    "    528000: 'Netherlands',\n",
    "    578000: 'Norway',\n",
    "    616000: 'Poland',\n",
    "    620000: 'Portugal',\n",
    "    642000: 'Romania',\n",
    "    643000: 'Russia',\n",
    "    688000: 'Serbia',\n",
    "    703000: 'Slovakia',\n",
    "    705000: 'Slovenia',\n",
    "    724000: 'Spain',\n",
    "    752000: 'Sweden',\n",
    "    756000: 'Switzerland',\n",
    "    792000: 'Turkey',\n",
    "    804000: 'Ukraine',\n",
    "    807000: 'Macedonia',\n",
    "    826001: 'England',\n",
    "    826002: 'Scotland',\n",
    "    826003: 'Wales',\n",
    "    826004: 'Northern Ireland',\n",
    "    840000: 'USA'\n",
    "    \n",
    "    }"
   ]
  },
  {
   "cell_type": "code",
   "execution_count": null,
   "metadata": {},
   "outputs": [],
   "source": [
    "hbsc_2018['country_name'] = hbsc_2018['countryno'].map(country_names)"
   ]
  },
  {
   "cell_type": "code",
   "execution_count": null,
   "metadata": {},
   "outputs": [],
   "source": [
    "hbsc_2018['country_name'].value_counts()"
   ]
  },
  {
   "cell_type": "code",
   "execution_count": null,
   "metadata": {},
   "outputs": [],
   "source": [
    "#hbsc_2018['country_name']= pd.Categorical(hbsc_2018['country_name'])"
   ]
  },
  {
   "cell_type": "code",
   "execution_count": null,
   "metadata": {},
   "outputs": [],
   "source": [
    "hbsc_2018['country_name'].value_counts()"
   ]
  },
  {
   "cell_type": "code",
   "execution_count": null,
   "metadata": {},
   "outputs": [],
   "source": [
    "hbsc_2018['country_name'].isna().sum()"
   ]
  },
  {
   "cell_type": "code",
   "execution_count": null,
   "metadata": {},
   "outputs": [],
   "source": [
    "hbsc_2018 = hbsc_2018.drop(['countryno'], axis=1)\n"
   ]
  },
  {
   "cell_type": "code",
   "execution_count": null,
   "metadata": {},
   "outputs": [],
   "source": [
    "hbsc_2018.head()"
   ]
  },
  {
   "cell_type": "code",
   "execution_count": null,
   "metadata": {},
   "outputs": [],
   "source": [
    "hbsc_2018['age'] = hbsc_2018['age'].apply(pd.to_numeric, errors='coerce')"
   ]
  },
  {
   "cell_type": "code",
   "execution_count": null,
   "metadata": {},
   "outputs": [],
   "source": [
    "hbsc_2018['age'].dtype"
   ]
  },
  {
   "cell_type": "code",
   "execution_count": null,
   "metadata": {},
   "outputs": [],
   "source": [
    "hbsc_2018['age'].describe()"
   ]
  },
  {
   "cell_type": "code",
   "execution_count": null,
   "metadata": {},
   "outputs": [],
   "source": [
    "hbsc_2018['age']"
   ]
  },
  {
   "cell_type": "code",
   "execution_count": null,
   "metadata": {},
   "outputs": [],
   "source": [
    "hbsc_2018['age'].isna().sum()"
   ]
  },
  {
   "cell_type": "code",
   "execution_count": null,
   "metadata": {},
   "outputs": [],
   "source": [
    "hbsc_2018['agecat'].dtype"
   ]
  },
  {
   "cell_type": "code",
   "execution_count": null,
   "metadata": {},
   "outputs": [],
   "source": [
    "hbsc_2018['agecat'] = hbsc_2018['agecat'].apply(pd.to_numeric, errors='coerce')"
   ]
  },
  {
   "cell_type": "code",
   "execution_count": null,
   "metadata": {},
   "outputs": [],
   "source": [
    "hbsc_2018['agecat'].describe()"
   ]
  },
  {
   "cell_type": "code",
   "execution_count": null,
   "metadata": {},
   "outputs": [],
   "source": [
    "hbsc_2018['agecat'].isna().sum()"
   ]
  },
  {
   "cell_type": "code",
   "execution_count": null,
   "metadata": {},
   "outputs": [],
   "source": [
    "hbsc_2018['agecat'].value_counts()"
   ]
  },
  {
   "cell_type": "code",
   "execution_count": null,
   "metadata": {},
   "outputs": [],
   "source": [
    "#hbsc_2018['agecat']= pd.Categorical(hbsc_2018['agecat'])"
   ]
  },
  {
   "cell_type": "code",
   "execution_count": null,
   "metadata": {},
   "outputs": [],
   "source": [
    "hbsc_2018['agecat'].value_counts().plot(kind='bar')"
   ]
  },
  {
   "cell_type": "code",
   "execution_count": null,
   "metadata": {},
   "outputs": [],
   "source": [
    "hbsc_2018['sex']"
   ]
  },
  {
   "cell_type": "code",
   "execution_count": null,
   "metadata": {},
   "outputs": [],
   "source": [
    "hbsc_2018['sex'].dtype"
   ]
  },
  {
   "cell_type": "code",
   "execution_count": null,
   "metadata": {},
   "outputs": [],
   "source": [
    "#1=male, 2=female\n",
    "hbsc_2018['sex'].describe()"
   ]
  },
  {
   "cell_type": "code",
   "execution_count": null,
   "metadata": {},
   "outputs": [],
   "source": [
    "hbsc_2018['sex'].isna().sum()"
   ]
  },
  {
   "cell_type": "code",
   "execution_count": null,
   "metadata": {},
   "outputs": [],
   "source": [
    "#hbsc_2018['gender'] = pd.Categorical(hbsc_2018['sex'])"
   ]
  },
  {
   "cell_type": "code",
   "execution_count": null,
   "metadata": {},
   "outputs": [],
   "source": [
    "#hbsc_2018['gender'] = hbsc_2018['gender'].map({1:'M',2:'F'})"
   ]
  },
  {
   "cell_type": "code",
   "execution_count": null,
   "metadata": {},
   "outputs": [],
   "source": [
    "#hbsc_2018['gender'].value_counts().plot(kind='bar')"
   ]
  },
  {
   "cell_type": "markdown",
   "metadata": {},
   "source": [
    "### HEALTH-RELATED DATA ###\n",
    "\n"
   ]
  },
  {
   "cell_type": "markdown",
   "metadata": {},
   "source": [
    "#### Would you say your health is...? 1= excellent, 2= good, 3= fair, 4= poor ####"
   ]
  },
  {
   "cell_type": "code",
   "execution_count": null,
   "metadata": {},
   "outputs": [],
   "source": [
    "hbsc_2018['health'].unique"
   ]
  },
  {
   "cell_type": "code",
   "execution_count": null,
   "metadata": {},
   "outputs": [],
   "source": [
    "hbsc_2018['health'] = hbsc_2018['health'].apply(pd.to_numeric, errors='coerce')"
   ]
  },
  {
   "cell_type": "code",
   "execution_count": null,
   "metadata": {},
   "outputs": [],
   "source": [
    "hbsc_2018['health'].value_counts()"
   ]
  },
  {
   "cell_type": "code",
   "execution_count": null,
   "metadata": {},
   "outputs": [],
   "source": [
    "#hbsc_2018['health']= pd.Categorical(hbsc_2018['health'])"
   ]
  },
  {
   "cell_type": "code",
   "execution_count": null,
   "metadata": {},
   "outputs": [],
   "source": [
    "hbsc_2018['health'].isna().sum()"
   ]
  },
  {
   "cell_type": "markdown",
   "metadata": {},
   "source": [
    "#### Life satisfaction: Here is a picture of a ladder. The top of the ladder “10” is the best possible life for you and the bottom “0” is the worst possible life for you. In general, where on the ladder do you feel you stand at the moment? ####"
   ]
  },
  {
   "cell_type": "code",
   "execution_count": null,
   "metadata": {},
   "outputs": [],
   "source": [
    "hbsc_2018['lifesat']"
   ]
  },
  {
   "cell_type": "code",
   "execution_count": null,
   "metadata": {},
   "outputs": [],
   "source": [
    "hbsc_2018['lifesat'] = hbsc_2018['lifesat'].apply(pd.to_numeric, errors='coerce')"
   ]
  },
  {
   "cell_type": "code",
   "execution_count": null,
   "metadata": {},
   "outputs": [],
   "source": [
    "hbsc_2018['lifesat'].describe()"
   ]
  },
  {
   "cell_type": "code",
   "execution_count": null,
   "metadata": {},
   "outputs": [],
   "source": [
    "hbsc_2018['lifesat'].isna().sum()"
   ]
  },
  {
   "cell_type": "code",
   "execution_count": null,
   "metadata": {},
   "outputs": [],
   "source": [
    "hbsc_2018.hist(column='lifesat')"
   ]
  },
  {
   "cell_type": "markdown",
   "metadata": {},
   "source": [
    "#### Headache: In the last 6 months: how often have you had the following....? ####\n"
   ]
  },
  {
   "cell_type": "markdown",
   "metadata": {},
   "source": [
    "#### 1 = about every day, 2 = more once/week, 3 = about every week, 4 = about every month, 5 = rarely or never ####"
   ]
  },
  {
   "cell_type": "code",
   "execution_count": null,
   "metadata": {},
   "outputs": [],
   "source": [
    "hbsc_2018.headache"
   ]
  },
  {
   "cell_type": "code",
   "execution_count": null,
   "metadata": {},
   "outputs": [],
   "source": [
    "hbsc_2018['headache'] = hbsc_2018['headache'].apply(pd.to_numeric, errors='coerce')"
   ]
  },
  {
   "cell_type": "code",
   "execution_count": null,
   "metadata": {},
   "outputs": [],
   "source": [
    "#hbsc_2018['headache']"
   ]
  },
  {
   "cell_type": "code",
   "execution_count": null,
   "metadata": {},
   "outputs": [],
   "source": [
    "#hbsc_2018['headache']= pd.Categorical(hbsc_2018['headache'])"
   ]
  },
  {
   "cell_type": "code",
   "execution_count": null,
   "metadata": {},
   "outputs": [],
   "source": [
    "hbsc_2018['headache'].value_counts()"
   ]
  },
  {
   "cell_type": "code",
   "execution_count": null,
   "metadata": {},
   "outputs": [],
   "source": [
    "hbsc_2018['headache'].isna().sum()"
   ]
  },
  {
   "cell_type": "code",
   "execution_count": null,
   "metadata": {},
   "outputs": [],
   "source": [
    "hbsc_2018['headache'].value_counts().plot(kind='bar')"
   ]
  },
  {
   "cell_type": "markdown",
   "metadata": {},
   "source": [
    "#### Stomachache: In the last 6 months: how often have you had the following....? ####"
   ]
  },
  {
   "cell_type": "markdown",
   "metadata": {},
   "source": [
    "#### 1 = about every day, 2 = more once/week, 3 = about every week, 4 = about every month, 5 = rarely or never ####"
   ]
  },
  {
   "cell_type": "code",
   "execution_count": null,
   "metadata": {},
   "outputs": [],
   "source": [
    "hbsc_2018['stomachache']"
   ]
  },
  {
   "cell_type": "code",
   "execution_count": null,
   "metadata": {},
   "outputs": [],
   "source": [
    "hbsc_2018['stomachache'].shape"
   ]
  },
  {
   "cell_type": "code",
   "execution_count": null,
   "metadata": {},
   "outputs": [],
   "source": [
    "hbsc_2018['stomachache'] = hbsc_2018['stomachache'].apply(pd.to_numeric, errors='coerce')"
   ]
  },
  {
   "cell_type": "code",
   "execution_count": null,
   "metadata": {},
   "outputs": [],
   "source": [
    "#hbsc_2018['stomachache']= pd.Categorical(hbsc_2018['stomachache'])"
   ]
  },
  {
   "cell_type": "code",
   "execution_count": null,
   "metadata": {},
   "outputs": [],
   "source": [
    "hbsc_2018['stomachache'].value_counts()"
   ]
  },
  {
   "cell_type": "code",
   "execution_count": null,
   "metadata": {},
   "outputs": [],
   "source": [
    "hbsc_2018['stomachache'].isna().sum()"
   ]
  },
  {
   "cell_type": "code",
   "execution_count": null,
   "metadata": {},
   "outputs": [],
   "source": [
    "hbsc_2018['stomachache'].value_counts().plot(kind='bar')"
   ]
  },
  {
   "cell_type": "markdown",
   "metadata": {},
   "source": [
    "#### Back ache: In the last 6 months: how often have you had the following....? ####"
   ]
  },
  {
   "cell_type": "markdown",
   "metadata": {},
   "source": [
    "#### 1 = about every day, 2 = more once/week, 3 = about every week, 4 = about every month, 5 = rarely or never ####"
   ]
  },
  {
   "cell_type": "code",
   "execution_count": null,
   "metadata": {},
   "outputs": [],
   "source": [
    "hbsc_2018['backache'].describe()"
   ]
  },
  {
   "cell_type": "code",
   "execution_count": null,
   "metadata": {},
   "outputs": [],
   "source": [
    "hbsc_2018['backache'] = hbsc_2018['backache'].apply(pd.to_numeric, errors='coerce')"
   ]
  },
  {
   "cell_type": "code",
   "execution_count": null,
   "metadata": {},
   "outputs": [],
   "source": [
    "#hbsc_2018['backache']= pd.Categorical(hbsc_2018['backache'])"
   ]
  },
  {
   "cell_type": "code",
   "execution_count": null,
   "metadata": {},
   "outputs": [],
   "source": [
    "hbsc_2018['backache'].value_counts()"
   ]
  },
  {
   "cell_type": "code",
   "execution_count": null,
   "metadata": {},
   "outputs": [],
   "source": [
    "hbsc_2018['backache'].isna().sum()"
   ]
  },
  {
   "cell_type": "code",
   "execution_count": null,
   "metadata": {},
   "outputs": [],
   "source": [
    "hbsc_2018['backache'].value_counts().plot(kind='bar')"
   ]
  },
  {
   "cell_type": "markdown",
   "metadata": {},
   "source": [
    "#### Feeling low: In the last 6 months: how often have you had the following....? ####"
   ]
  },
  {
   "cell_type": "markdown",
   "metadata": {},
   "source": [
    "#### 1 = about every day, 2 = more once/week, 3 = about every week, 4 = about every month, 5 = rarely or never ####"
   ]
  },
  {
   "cell_type": "code",
   "execution_count": null,
   "metadata": {},
   "outputs": [],
   "source": [
    "hbsc_2018['feellow'].describe()"
   ]
  },
  {
   "cell_type": "code",
   "execution_count": null,
   "metadata": {},
   "outputs": [],
   "source": [
    "hbsc_2018['feellow'] = hbsc_2018['feellow'].apply(pd.to_numeric, errors='coerce')"
   ]
  },
  {
   "cell_type": "code",
   "execution_count": null,
   "metadata": {},
   "outputs": [],
   "source": [
    "#hbsc_2018['feellow']= pd.Categorical(hbsc_2018['feellow'])"
   ]
  },
  {
   "cell_type": "code",
   "execution_count": null,
   "metadata": {},
   "outputs": [],
   "source": [
    "hbsc_2018['feellow'].value_counts()"
   ]
  },
  {
   "cell_type": "code",
   "execution_count": null,
   "metadata": {},
   "outputs": [],
   "source": [
    "hbsc_2018['feellow'].isna().sum()"
   ]
  },
  {
   "cell_type": "code",
   "execution_count": null,
   "metadata": {},
   "outputs": [],
   "source": [
    "hbsc_2018['feellow'].value_counts().plot(kind='bar')"
   ]
  },
  {
   "cell_type": "markdown",
   "metadata": {},
   "source": [
    "#### Irritability or bad temper: In the last 6 months: how often have you had the following....? ####"
   ]
  },
  {
   "cell_type": "markdown",
   "metadata": {},
   "source": [
    "#### 1 = about every day, 2 = more once/week, 3 = about every week, 4 = about every month, 5 = rarely or never ####"
   ]
  },
  {
   "cell_type": "code",
   "execution_count": null,
   "metadata": {},
   "outputs": [],
   "source": [
    "hbsc_2018['irritable'].describe()"
   ]
  },
  {
   "cell_type": "code",
   "execution_count": null,
   "metadata": {},
   "outputs": [],
   "source": [
    "hbsc_2018['irritable'] = hbsc_2018['irritable'].apply(pd.to_numeric, errors='coerce')"
   ]
  },
  {
   "cell_type": "code",
   "execution_count": null,
   "metadata": {},
   "outputs": [],
   "source": [
    "#hbsc_2018['irritable']= pd.Categorical(hbsc_2018['irritable'])"
   ]
  },
  {
   "cell_type": "code",
   "execution_count": null,
   "metadata": {},
   "outputs": [],
   "source": [
    "hbsc_2018['irritable'].value_counts()"
   ]
  },
  {
   "cell_type": "code",
   "execution_count": null,
   "metadata": {},
   "outputs": [],
   "source": [
    "hbsc_2018['irritable'].isna().sum()"
   ]
  },
  {
   "cell_type": "markdown",
   "metadata": {},
   "source": [
    "#### Feeling nervous: In the last 6 months: how often have you had the following....? ####"
   ]
  },
  {
   "cell_type": "markdown",
   "metadata": {},
   "source": [
    "#### 1 = about every day, 2 = more once/week, 3 = about every week, 4 = about every month, 5 = rarely or never ####"
   ]
  },
  {
   "cell_type": "code",
   "execution_count": null,
   "metadata": {},
   "outputs": [],
   "source": [
    "hbsc_2018['nervous'].describe()"
   ]
  },
  {
   "cell_type": "code",
   "execution_count": null,
   "metadata": {},
   "outputs": [],
   "source": [
    "hbsc_2018['nervous'] = hbsc_2018['nervous'].apply(pd.to_numeric, errors='coerce')"
   ]
  },
  {
   "cell_type": "code",
   "execution_count": null,
   "metadata": {},
   "outputs": [],
   "source": [
    "#hbsc_2018['nervous']= pd.Categorical(hbsc_2018['nervous'])"
   ]
  },
  {
   "cell_type": "code",
   "execution_count": null,
   "metadata": {},
   "outputs": [],
   "source": [
    "hbsc_2018['nervous'].value_counts()"
   ]
  },
  {
   "cell_type": "code",
   "execution_count": null,
   "metadata": {},
   "outputs": [],
   "source": [
    "hbsc_2018['nervous'].isna().sum()"
   ]
  },
  {
   "cell_type": "markdown",
   "metadata": {},
   "source": [
    "#### Difficulties in sleeping: In the last 6 months: how often have you had the following....? ####"
   ]
  },
  {
   "cell_type": "markdown",
   "metadata": {},
   "source": [
    "#### 1 = about every day, 2 = more once/week, 3 = about every week, 4 = about every month, 5 = rarely or never ####"
   ]
  },
  {
   "cell_type": "code",
   "execution_count": null,
   "metadata": {},
   "outputs": [],
   "source": [
    "hbsc_2018['sleepdificulty'].describe()"
   ]
  },
  {
   "cell_type": "code",
   "execution_count": null,
   "metadata": {},
   "outputs": [],
   "source": [
    "hbsc_2018['sleepdificulty'] = hbsc_2018['sleepdificulty'].apply(pd.to_numeric, errors='coerce')"
   ]
  },
  {
   "cell_type": "code",
   "execution_count": null,
   "metadata": {},
   "outputs": [],
   "source": [
    "#hbsc_2018['sleepdificulty']= pd.Categorical(hbsc_2018['sleepdificulty'])"
   ]
  },
  {
   "cell_type": "code",
   "execution_count": null,
   "metadata": {},
   "outputs": [],
   "source": [
    "hbsc_2018['sleepdificulty'].value_counts()"
   ]
  },
  {
   "cell_type": "code",
   "execution_count": null,
   "metadata": {},
   "outputs": [],
   "source": [
    "hbsc_2018['sleepdificulty'].isna().sum()"
   ]
  },
  {
   "cell_type": "markdown",
   "metadata": {},
   "source": [
    "#### Feeling dizzy: In the last 6 months: how often have you had the following....? ####"
   ]
  },
  {
   "cell_type": "markdown",
   "metadata": {},
   "source": [
    "#### 1 = about every day, 2 = more once/week, 3 = about every week, 4 = about every month, 5 = rarely or never ####"
   ]
  },
  {
   "cell_type": "code",
   "execution_count": null,
   "metadata": {},
   "outputs": [],
   "source": [
    "hbsc_2018['dizzy'].describe()"
   ]
  },
  {
   "cell_type": "code",
   "execution_count": null,
   "metadata": {},
   "outputs": [],
   "source": [
    "hbsc_2018['dizzy'] = hbsc_2018['dizzy'].apply(pd.to_numeric, errors='coerce')"
   ]
  },
  {
   "cell_type": "code",
   "execution_count": null,
   "metadata": {},
   "outputs": [],
   "source": [
    "#hbsc_2018['dizzy']= pd.Categorical(hbsc_2018['dizzy'])"
   ]
  },
  {
   "cell_type": "code",
   "execution_count": null,
   "metadata": {},
   "outputs": [],
   "source": [
    "hbsc_2018['dizzy'].isna().sum()"
   ]
  },
  {
   "cell_type": "markdown",
   "metadata": {},
   "source": [
    "#### Thinking about body: In the last 6 months? ####"
   ]
  },
  {
   "cell_type": "markdown",
   "metadata": {},
   "source": [
    "#### 1 = much too thin, 2 = bit to thin, 3 = about right, 4 = a bit too fat, 5 = much too fat ####"
   ]
  },
  {
   "cell_type": "code",
   "execution_count": null,
   "metadata": {},
   "outputs": [],
   "source": [
    "hbsc_2018['thinkbody'].describe()"
   ]
  },
  {
   "cell_type": "code",
   "execution_count": null,
   "metadata": {},
   "outputs": [],
   "source": [
    "hbsc_2018['thinkbody'] = hbsc_2018['thinkbody'].apply(pd.to_numeric, errors='coerce')"
   ]
  },
  {
   "cell_type": "code",
   "execution_count": null,
   "metadata": {},
   "outputs": [],
   "source": [
    "#hbsc_2018['thinkbody']= pd.Categorical(hbsc_2018['thinkbody'])"
   ]
  },
  {
   "cell_type": "code",
   "execution_count": null,
   "metadata": {},
   "outputs": [],
   "source": [
    "hbsc_2018['thinkbody'].isna().sum()"
   ]
  },
  {
   "cell_type": "markdown",
   "metadata": {},
   "source": [
    "### Health-behavior related variables ###"
   ]
  },
  {
   "cell_type": "markdown",
   "metadata": {},
   "source": [
    "####  Physical activity past 7 days: Over the past 7 days , on how many days were you physically active for a total of at least 60 minutes per day? ####"
   ]
  },
  {
   "cell_type": "code",
   "execution_count": null,
   "metadata": {},
   "outputs": [],
   "source": [
    "hbsc_2018['physact60'].describe()"
   ]
  },
  {
   "cell_type": "code",
   "execution_count": null,
   "metadata": {},
   "outputs": [],
   "source": [
    "hbsc_2018['physact60'] = hbsc_2018['physact60'].apply(pd.to_numeric, errors='coerce')"
   ]
  },
  {
   "cell_type": "code",
   "execution_count": null,
   "metadata": {},
   "outputs": [],
   "source": [
    "#hbsc_2018['physact60']= pd.Categorical(hbsc_2018['physact60'])"
   ]
  },
  {
   "cell_type": "code",
   "execution_count": null,
   "metadata": {},
   "outputs": [],
   "source": [
    "hbsc_2018['physact60'].value_counts()"
   ]
  },
  {
   "cell_type": "code",
   "execution_count": null,
   "metadata": {},
   "outputs": [],
   "source": [
    "hbsc_2018['physact60'].isna().sum()"
   ]
  },
  {
   "cell_type": "markdown",
   "metadata": {},
   "source": [
    "####  Vigorous physical activity frequency: Outside school hours: how often do you usually exercise in your free time so much that you get out of breath or sweat? ####"
   ]
  },
  {
   "cell_type": "markdown",
   "metadata": {},
   "source": [
    "#### 1=every day, 2=4-6 times a week, 3= 2-3-times a week, 4= once a week, 5= once a month, 6= less than one a month, 7 = never ####"
   ]
  },
  {
   "cell_type": "code",
   "execution_count": null,
   "metadata": {},
   "outputs": [],
   "source": [
    "hbsc_2018['timeexe'].describe()"
   ]
  },
  {
   "cell_type": "code",
   "execution_count": null,
   "metadata": {},
   "outputs": [],
   "source": [
    "hbsc_2018['timeexe'] = hbsc_2018['timeexe'].apply(pd.to_numeric, errors='coerce')"
   ]
  },
  {
   "cell_type": "code",
   "execution_count": null,
   "metadata": {},
   "outputs": [],
   "source": [
    "#hbsc_2018['timeexe']= pd.Categorical(hbsc_2018['timeexe'])"
   ]
  },
  {
   "cell_type": "code",
   "execution_count": null,
   "metadata": {},
   "outputs": [],
   "source": [
    "hbsc_2018['timeexe'].isna().sum()"
   ]
  },
  {
   "cell_type": "markdown",
   "metadata": {},
   "source": [
    "#### Days smoked in lifetime: On how many days (if any) have you smoked cigarettes? ####"
   ]
  },
  {
   "cell_type": "markdown",
   "metadata": {},
   "source": [
    "#### 1=never, 2= 1-2 days, 3= 3-5 days, 4= 6-9 days, 5= 10-19 days, 6= 20-29 days, 7 = 30 days or more ####"
   ]
  },
  {
   "cell_type": "code",
   "execution_count": null,
   "metadata": {},
   "outputs": [],
   "source": [
    "hbsc_2018['smokltm'].describe()"
   ]
  },
  {
   "cell_type": "code",
   "execution_count": null,
   "metadata": {},
   "outputs": [],
   "source": [
    "import numpy as np"
   ]
  },
  {
   "cell_type": "code",
   "execution_count": null,
   "metadata": {},
   "outputs": [],
   "source": [
    "hbsc_2018['smokltm'] = hbsc_2018['smokltm'].apply(pd.to_numeric, errors='coerce')"
   ]
  },
  {
   "cell_type": "code",
   "execution_count": null,
   "metadata": {},
   "outputs": [],
   "source": [
    "hbsc_2018['smokltm'] = hbsc_2018['smokltm'].replace(-99.0, np.NaN)"
   ]
  },
  {
   "cell_type": "code",
   "execution_count": null,
   "metadata": {},
   "outputs": [],
   "source": [
    "hbsc_2018['smokltm'].value_counts()"
   ]
  },
  {
   "cell_type": "code",
   "execution_count": null,
   "metadata": {},
   "outputs": [],
   "source": [
    "#hbsc_2018['smokltm']= pd.Categorical(hbsc_2018['smokltm'])"
   ]
  },
  {
   "cell_type": "code",
   "execution_count": null,
   "metadata": {},
   "outputs": [],
   "source": [
    "hbsc_2018['smokltm'].isna().sum()"
   ]
  },
  {
   "cell_type": "code",
   "execution_count": null,
   "metadata": {},
   "outputs": [],
   "source": [
    "hbsc_2018['smokltm'].describe()"
   ]
  },
  {
   "cell_type": "code",
   "execution_count": null,
   "metadata": {},
   "outputs": [],
   "source": [
    "hbsc_2018['smokltm'].dtype"
   ]
  },
  {
   "cell_type": "code",
   "execution_count": null,
   "metadata": {},
   "outputs": [],
   "source": [
    "hbsc_2018.info()"
   ]
  },
  {
   "cell_type": "markdown",
   "metadata": {},
   "source": [
    "#### Days smoked last 30 days ####"
   ]
  },
  {
   "cell_type": "markdown",
   "metadata": {},
   "source": [
    "#### 1=never, 2= 1-2 days, 3= 3-5 days, 4= 6-9 days, 5= 10-19 days, 6= 20-29 days, 7 = 30 days or more ####"
   ]
  },
  {
   "cell_type": "code",
   "execution_count": null,
   "metadata": {},
   "outputs": [],
   "source": [
    "hbsc_2018['smok30d_2'].describe()"
   ]
  },
  {
   "cell_type": "code",
   "execution_count": null,
   "metadata": {},
   "outputs": [],
   "source": [
    "hbsc_2018['smok30d_2'] = hbsc_2018['smok30d_2'].apply(pd.to_numeric, errors='coerce')"
   ]
  },
  {
   "cell_type": "code",
   "execution_count": null,
   "metadata": {},
   "outputs": [],
   "source": [
    "hbsc_2018['smok30d_2'].value_counts()"
   ]
  },
  {
   "cell_type": "code",
   "execution_count": null,
   "metadata": {},
   "outputs": [],
   "source": [
    "#hbsc_2018['smok30d_2']= pd.Categorical(hbsc_2018['smok30d_2'])"
   ]
  },
  {
   "cell_type": "code",
   "execution_count": null,
   "metadata": {},
   "outputs": [],
   "source": [
    "hbsc_2018['smok30d_2'].isna().sum()"
   ]
  },
  {
   "cell_type": "markdown",
   "metadata": {},
   "source": [
    "#### Alcohol use in lifetime ####"
   ]
  },
  {
   "cell_type": "markdown",
   "metadata": {},
   "source": [
    "#### 1=never, 2= 1-2 days, 3= 3-5 days, 4= 6-9 days, 5= 10-19 days, 6= 20-29 days, 7 = 30 days or more ####"
   ]
  },
  {
   "cell_type": "code",
   "execution_count": null,
   "metadata": {},
   "outputs": [],
   "source": [
    "hbsc_2018['alcltm'].describe()"
   ]
  },
  {
   "cell_type": "code",
   "execution_count": null,
   "metadata": {},
   "outputs": [],
   "source": [
    "hbsc_2018['alcltm'] = hbsc_2018['alcltm'].apply(pd.to_numeric, errors='coerce')"
   ]
  },
  {
   "cell_type": "code",
   "execution_count": null,
   "metadata": {},
   "outputs": [],
   "source": [
    "hbsc_2018['alcltm'] = hbsc_2018['alcltm'].replace(-99.0, np.NaN)"
   ]
  },
  {
   "cell_type": "code",
   "execution_count": null,
   "metadata": {},
   "outputs": [],
   "source": [
    "hbsc_2018['alcltm'].value_counts()"
   ]
  },
  {
   "cell_type": "code",
   "execution_count": null,
   "metadata": {},
   "outputs": [],
   "source": [
    "#hbsc_2018['alcltm']= pd.Categorical(hbsc_2018['alcltm'])"
   ]
  },
  {
   "cell_type": "code",
   "execution_count": null,
   "metadata": {},
   "outputs": [],
   "source": [
    "hbsc_2018['alcltm'].isna().sum()"
   ]
  },
  {
   "cell_type": "markdown",
   "metadata": {},
   "source": [
    "####  Alcohol use last 30 days ####"
   ]
  },
  {
   "cell_type": "markdown",
   "metadata": {},
   "source": [
    "#### 1=never, 2= 1-2 days, 3= 3-5 days, 4= 6-9 days, 5= 10-19 days, 6= 20-29 days, 7 = 30 days or more ####"
   ]
  },
  {
   "cell_type": "code",
   "execution_count": null,
   "metadata": {},
   "outputs": [],
   "source": [
    "hbsc_2018['alc30d_2'].describe()"
   ]
  },
  {
   "cell_type": "code",
   "execution_count": null,
   "metadata": {},
   "outputs": [],
   "source": [
    "hbsc_2018['alc30d_2'].info()"
   ]
  },
  {
   "cell_type": "code",
   "execution_count": null,
   "metadata": {},
   "outputs": [],
   "source": [
    "hbsc_2018['alc30d_2'] = hbsc_2018['alc30d_2'].apply(pd.to_numeric, errors='coerce')"
   ]
  },
  {
   "cell_type": "code",
   "execution_count": null,
   "metadata": {},
   "outputs": [],
   "source": [
    "hbsc_2018['alc30d_2'].unique()"
   ]
  },
  {
   "cell_type": "code",
   "execution_count": null,
   "metadata": {},
   "outputs": [],
   "source": [
    "#hbsc_2018['alc30d_2']= pd.Categorical(hbsc_2018['alc30d_2'])"
   ]
  },
  {
   "cell_type": "code",
   "execution_count": null,
   "metadata": {},
   "outputs": [],
   "source": [
    "hbsc_2018['alc30d_2'].value_counts()"
   ]
  },
  {
   "cell_type": "code",
   "execution_count": null,
   "metadata": {},
   "outputs": [],
   "source": [
    "hbsc_2018['alc30d_2'].isna().sum()"
   ]
  },
  {
   "cell_type": "markdown",
   "metadata": {},
   "source": [
    "#### Body Weight & Body Height: How much do you weigh without clothes (kg)? How tall are you without shoes? (cm) ####"
   ]
  },
  {
   "cell_type": "code",
   "execution_count": null,
   "metadata": {},
   "outputs": [],
   "source": [
    "hbsc_2018['bodyweight'].info()"
   ]
  },
  {
   "cell_type": "code",
   "execution_count": null,
   "metadata": {},
   "outputs": [],
   "source": []
  },
  {
   "cell_type": "code",
   "execution_count": null,
   "metadata": {},
   "outputs": [],
   "source": [
    "hbsc_2018['bodyweight'].isna().sum()"
   ]
  },
  {
   "cell_type": "code",
   "execution_count": null,
   "metadata": {},
   "outputs": [],
   "source": [
    "hbsc_2018['bodyheight'].describe()"
   ]
  },
  {
   "cell_type": "code",
   "execution_count": null,
   "metadata": {},
   "outputs": [],
   "source": [
    "hbsc_2018['bodyheight'].isna().sum()"
   ]
  },
  {
   "cell_type": "markdown",
   "metadata": {},
   "source": [
    "#### function to transfor all school variables into categories ####"
   ]
  },
  {
   "cell_type": "code",
   "execution_count": null,
   "metadata": {},
   "outputs": [],
   "source": [
    "#variables_to_transform = ['likeschool', 'schoolpressure', 'studaccept', 'teacheraccept', 'bulliedothers', 'beenbullied']\n",
    "\n",
    "#for var in variables_to_transform:\n",
    "    #hbsc_2018[var] = pd.Categorical(hbsc_2018[var])"
   ]
  },
  {
   "cell_type": "markdown",
   "metadata": {},
   "source": [
    "#### Liking school: how do you feel about school at present? 1=Like alot, 2=Like a bit, 3= not very much, 4= not at all ####"
   ]
  },
  {
   "cell_type": "code",
   "execution_count": null,
   "metadata": {},
   "outputs": [],
   "source": [
    "hbsc_2018['likeschool'].isna().sum()"
   ]
  },
  {
   "cell_type": "markdown",
   "metadata": {},
   "source": [
    "#### School pressure: how pressured do you feel by the schoolwork you have?? 1=not at all, 4= a lot ####"
   ]
  },
  {
   "cell_type": "code",
   "execution_count": null,
   "metadata": {},
   "outputs": [],
   "source": [
    "hbsc_2018['schoolpressure'].isna().sum()"
   ]
  },
  {
   "cell_type": "markdown",
   "metadata": {},
   "source": [
    "#### Social media use, 99 = missing due to ski pattern ####"
   ]
  },
  {
   "cell_type": "code",
   "execution_count": null,
   "metadata": {},
   "outputs": [],
   "source": [
    "transform = ['emcsocmed1', 'emcsocmed2', 'emcsocmed3', 'emcsocmed4', 'emcsocmed5', 'emcsocmed6', 'emcsocmed7', 'emcsocmed8', 'emcsocmed9']"
   ]
  },
  {
   "cell_type": "code",
   "execution_count": null,
   "metadata": {},
   "outputs": [],
   "source": [
    "for var in transform:\n",
    "\n",
    "    hbsc_2018[var].replace(99.0, np.NaN, inplace = True)"
   ]
  },
  {
   "cell_type": "code",
   "execution_count": null,
   "metadata": {},
   "outputs": [],
   "source": [
    "hbsc_2018['emcsocmed6'].value_counts()"
   ]
  },
  {
   "cell_type": "code",
   "execution_count": null,
   "metadata": {},
   "outputs": [],
   "source": [
    "hbsc_2018.info()"
   ]
  },
  {
   "cell_type": "markdown",
   "metadata": {},
   "source": [
    "#### Function to convert family and social media variables into categories ####"
   ]
  },
  {
   "cell_type": "code",
   "execution_count": null,
   "metadata": {},
   "outputs": [],
   "source": [
    "#variables_to_transform = [ 'emcsocmed1', 'emcsocmed2', 'emcsocmed3', 'emcsocmed4', 'emcsocmed5', 'emcsocmed6', 'emcsocmed7', 'emcsocmed8', 'emcsocmed9','employmo', 'employfa', 'employnotfa', 'employnotmo', 'MBMI', 'IRRELFAS_LMH']\n",
    "\n",
    "#for var in variables_to_transform:\n",
    "    #hbsc_2018[var] = pd.Categorical(hbsc_2018[var])"
   ]
  },
  {
   "cell_type": "code",
   "execution_count": null,
   "metadata": {},
   "outputs": [],
   "source": [
    "hbsc_2018.info()"
   ]
  },
  {
   "cell_type": "markdown",
   "metadata": {},
   "source": [
    "#### Dropping NANs ####"
   ]
  },
  {
   "cell_type": "code",
   "execution_count": null,
   "metadata": {},
   "outputs": [],
   "source": [
    "#hbsc_2018_clean = hbsc_2018.dropna()"
   ]
  },
  {
   "cell_type": "code",
   "execution_count": null,
   "metadata": {},
   "outputs": [],
   "source": [
    "#hbsc_2018_clean.shape"
   ]
  },
  {
   "cell_type": "code",
   "execution_count": null,
   "metadata": {},
   "outputs": [],
   "source": [
    "hbsc_2018['alcltm']"
   ]
  },
  {
   "cell_type": "markdown",
   "metadata": {},
   "source": [
    "### transforming float variables to integers ###"
   ]
  },
  {
   "cell_type": "code",
   "execution_count": null,
   "metadata": {},
   "outputs": [],
   "source": [
    "\n",
    "\n",
    "variables_to_transform = ['agecat', 'sex', 'health', 'lifesat', 'headache', 'stomachache', 'backache', 'feellow', 'irritable', 'nervous', 'sleepdificulty', 'dizzy', 'thinkbody', 'physact60', 'timeexe', 'smokltm', 'smok30d_2', 'alcltm', 'alc30d_2','likeschool', 'schoolpressure', 'studaccept', 'teacheraccept', 'bulliedothers', 'beenbullied', 'emcsocmed1', 'emcsocmed2', 'emcsocmed3', 'emcsocmed4', 'emcsocmed5', 'emcsocmed6', 'emcsocmed7', 'emcsocmed8', 'emcsocmed9', 'employmo', 'employfa', 'employnotfa', 'employnotmo']\n",
    "\n",
    "for var in variables_to_transform:\n",
    "    hbsc_2018[var] = hbsc_2018[var].astype('Int64')"
   ]
  },
  {
   "cell_type": "markdown",
   "metadata": {},
   "source": [
    "###  data subsets ###"
   ]
  },
  {
   "cell_type": "code",
   "execution_count": null,
   "metadata": {},
   "outputs": [],
   "source": [
    "hbsc_2018_health_clean_1 = hbsc_2018[['id4', 'age', 'agecat', 'sex', 'country_name' ]]"
   ]
  },
  {
   "cell_type": "code",
   "execution_count": null,
   "metadata": {},
   "outputs": [],
   "source": [
    "hbsc_2018_health_clean_1.info()"
   ]
  },
  {
   "cell_type": "code",
   "execution_count": null,
   "metadata": {},
   "outputs": [],
   "source": [
    "hbsc_2018_health_clean_2 = hbsc_2018[['id4', 'country_name', 'health', 'lifesat', 'headache', 'stomachache', 'backache']]"
   ]
  },
  {
   "cell_type": "code",
   "execution_count": null,
   "metadata": {},
   "outputs": [],
   "source": [
    "hbsc_2018_health_clean_2.info()"
   ]
  },
  {
   "cell_type": "code",
   "execution_count": null,
   "metadata": {},
   "outputs": [],
   "source": [
    "hbsc_2018_health_clean_3 = hbsc_2018[['id4', 'country_name', 'feellow', 'irritable', 'nervous', 'sleepdificulty', 'dizzy', 'thinkbody']] #'gender' "
   ]
  },
  {
   "cell_type": "code",
   "execution_count": null,
   "metadata": {},
   "outputs": [],
   "source": [
    "hbsc_2018_health_clean_3.info()"
   ]
  },
  {
   "cell_type": "code",
   "execution_count": null,
   "metadata": {},
   "outputs": [],
   "source": [
    "#filtered dataset 2\n",
    "\n",
    "hbsc_2018_behavior_clean = hbsc_2018[['id4','country_name','physact60', 'timeexe', 'smokltm', 'smok30d_2', 'alcltm', 'alc30d_2', 'bodyweight', 'bodyheight']]"
   ]
  },
  {
   "cell_type": "code",
   "execution_count": null,
   "metadata": {},
   "outputs": [],
   "source": [
    "hbsc_2018_behavior_clean.info()"
   ]
  },
  {
   "cell_type": "code",
   "execution_count": null,
   "metadata": {},
   "outputs": [],
   "source": [
    "#filtered dataset 3\n",
    "\n",
    "hbsc_2018_school_clean= hbsc_2018[['id4','country_name', 'likeschool', 'schoolpressure', 'studaccept', 'teacheraccept', 'bulliedothers', 'beenbullied']]"
   ]
  },
  {
   "cell_type": "code",
   "execution_count": null,
   "metadata": {},
   "outputs": [],
   "source": [
    "hbsc_2018_school_clean.info()"
   ]
  },
  {
   "cell_type": "code",
   "execution_count": null,
   "metadata": {},
   "outputs": [],
   "source": [
    "#filtered dataset 4\n",
    "\n",
    "hbsc_2018_social_media_clean= hbsc_2018[['id4','country_name', 'emcsocmed1', 'emcsocmed2', 'emcsocmed3', 'emcsocmed4', 'emcsocmed5', 'emcsocmed6', 'emcsocmed7', 'emcsocmed8', 'emcsocmed9']]"
   ]
  },
  {
   "cell_type": "code",
   "execution_count": null,
   "metadata": {},
   "outputs": [],
   "source": [
    "hbsc_2018_social_media_clean.info()"
   ]
  },
  {
   "cell_type": "code",
   "execution_count": null,
   "metadata": {},
   "outputs": [],
   "source": [
    "#filtered dataset 5\n",
    "\n",
    "hbsc_2018_par_employ_clean= hbsc_2018[['id4','country_name', 'employmo', 'employfa', 'employnotfa', 'employnotmo', 'MBMI', 'IRRELFAS_LMH' ]]"
   ]
  },
  {
   "cell_type": "code",
   "execution_count": null,
   "metadata": {},
   "outputs": [],
   "source": [
    "hbsc_2018_par_employ_clean.info()"
   ]
  },
  {
   "cell_type": "markdown",
   "metadata": {},
   "source": [
    "### Pushing the data to Postgres ###"
   ]
  },
  {
   "cell_type": "code",
   "execution_count": null,
   "metadata": {},
   "outputs": [],
   "source": [
    "import sql_functions as sf"
   ]
  },
  {
   "cell_type": "code",
   "execution_count": null,
   "metadata": {},
   "outputs": [],
   "source": [
    "# Import get_engine from sql_functions.py. You will need to restart your kernel and rerun at this point since we changed the module since we first imported it.\n",
    "\n",
    "# create a variable called engine using the get_engine function\n",
    "\n",
    "from sql_functions import get_engine\n",
    "engine = get_engine()"
   ]
  },
  {
   "cell_type": "code",
   "execution_count": null,
   "metadata": {},
   "outputs": [],
   "source": [
    "# Set the schema to your course name and the table_name variable to 'carriers_' + your initials/group number\n",
    "\n",
    "schema = 'capstone_health_education' # your course schema name\n",
    "#table_name = 'hbsc_2018_behavior_clean' # "
   ]
  },
  {
   "cell_type": "code",
   "execution_count": null,
   "metadata": {},
   "outputs": [],
   "source": [
    "# dataframes = [hbsc_2018_health_clean_1, hbsc_2018_health_clean_2, hbsc_2018_health_clean_3, hbsc_2018_behavior_clean, hbsc_2018_par_employ_clean, hbsc_2018_social_media_clean, hbsc_2018_school_clean]\n",
    "\n",
    "# table_names = ['hbsc_2018_health_clean_1', 'hbsc_2018_health_clean_2', 'hbsc_2018_health_clean_3', 'hbsc_2018_behavior_clean', 'hbsc_2018_par_employ_clean', 'hbsc_2018_social_media_clean', 'hbsc_2018_school_clean']\n",
    "\n",
    "for df, table_name in zip(dataframes, table_names):\n",
    "    sf.push_to_cloud(df, table_name)"
   ]
  },
  {
   "cell_type": "code",
   "execution_count": null,
   "metadata": {},
   "outputs": [],
   "source": [
    "from sql_functions import get_engine\n",
    "from sql_functions import get_dataframe\n",
    "engine = get_engine"
   ]
  },
  {
   "cell_type": "code",
   "execution_count": null,
   "metadata": {},
   "outputs": [],
   "source": [
    "# Write records stored in a dataframe to SQL database\n",
    "if engine!=None:\n",
    "    try:\n",
    "        hbsc_2018_par_employ.to_sql(name = 'hbsc_2018_par_employ', # Name of SQL table\n",
    "                        con=engine, # Engine or connection\n",
    "                        if_exists='replace', # Drop the table before inserting new values \n",
    "                        schema='capstone_health_education', # your class schema\n",
    "                        index=False, # Write DataFrame index as a column\n",
    "                        chunksize=5000, # Specify the number of rows in each batch to be written at a time\n",
    "                        method='multi') # Pass multiple values in a single INSERT clause\n",
    "        print(f\"The {table_name} table was imported successfully.\")\n",
    "    # Error handling\n",
    "    except (Exception, psycopg2.DatabaseError) as error:\n",
    "        print(error)\n",
    "        engine = None"
   ]
  },
  {
   "cell_type": "code",
   "execution_count": null,
   "metadata": {},
   "outputs": [],
   "source": [
    "#filtered dataset 1\n",
    "\n",
    "hbsc_2018_health = hbsc_2018[['id4','countryno', 'age', 'agecat', 'sex', 'health', 'lifesat', 'headache', 'stomachache', 'backache', 'feellow', 'irritable', 'nervous', 'sleepdificulty', 'dizzy', 'thinkbody']]"
   ]
  }
 ],
 "metadata": {
  "kernelspec": {
   "display_name": "nf_sql",
   "language": "python",
   "name": "python3"
  },
  "language_info": {
   "codemirror_mode": {
    "name": "ipython",
    "version": 3
   },
   "file_extension": ".py",
   "mimetype": "text/x-python",
   "name": "python",
   "nbconvert_exporter": "python",
   "pygments_lexer": "ipython3",
   "version": "3.9.7"
  }
 },
 "nbformat": 4,
 "nbformat_minor": 2
}
