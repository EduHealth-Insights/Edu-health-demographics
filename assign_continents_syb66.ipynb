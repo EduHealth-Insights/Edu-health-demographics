{
 "cells": [
  {
   "cell_type": "code",
   "execution_count": null,
   "metadata": {},
   "outputs": [],
   "source": [
    "import pandas as pd\n",
    "import numpy as np\n",
    "import python_functions_sp as pfsp\n",
    "import warnings\n",
    "warnings.filterwarnings(\"ignore\")\n",
    "import sqlalchemy\n",
    "import psycopg2\n",
    "import sql_functions_sp as sfsp"
   ]
  },
  {
   "cell_type": "markdown",
   "metadata": {},
   "source": [
    "# Import"
   ]
  },
  {
   "cell_type": "code",
   "execution_count": null,
   "metadata": {},
   "outputs": [],
   "source": [
    "# schema = 'capstone_health_education'\n",
    "\n",
    "# syb_education_continents_cleaned = sfsp.get_dataframe(f'SELECT * FROM {schema}.syb_education_cleaned')\n",
    "# syb_expenditure_on_health_continents_cleaned = sfsp.get_dataframe(f'SELECT * FROM {schema}.syb_expenditure_on_health_cleaned')\n",
    "# syb_labor_unemployment_continents_cleaned = sfsp.get_dataframe(f'SELECT * FROM {schema}.syb_labor_unemployment_cleaned')\n",
    "# syb_population_surface_area_density_continents_cleaned = sfsp.get_dataframe(f'SELECT * FROM {schema}.syb_population_surface_area_density_cleaned')\n",
    "# syb_public_expenditure_on_education_continents_cleaned = sfsp.get_dataframe(f'SELECT * FROM {schema}.syb_public_expenditure_on_education_cleaned')"
   ]
  },
  {
   "cell_type": "code",
   "execution_count": null,
   "metadata": {},
   "outputs": [],
   "source": [
    "%store -r syb_education_cleaned\n",
    "%store -r syb_expenditure_on_health_cleaned\n",
    "%store -r syb_labor_unemployment_cleaned\n",
    "%store -r syb_population_surface_area_density_cleaned\n",
    "%store -r syb_public_expenditure_on_education_cleaned"
   ]
  },
  {
   "cell_type": "code",
   "execution_count": null,
   "metadata": {},
   "outputs": [],
   "source": [
    "syb_education_continents_cleaned = syb_education_cleaned\n",
    "syb_expenditure_on_health_continents_cleaned = syb_expenditure_on_health_cleaned\n",
    "syb_labor_unemployment_continents_cleaned = syb_labor_unemployment_cleaned\n",
    "syb_population_surface_area_density_continents_cleaned = syb_population_surface_area_density_cleaned\n",
    "syb_public_expenditure_on_education_continents_cleaned = syb_public_expenditure_on_education_cleaned"
   ]
  },
  {
   "cell_type": "code",
   "execution_count": null,
   "metadata": {},
   "outputs": [],
   "source": [
    "syb_education_continents_cleaned.sample(10)"
   ]
  },
  {
   "cell_type": "code",
   "execution_count": null,
   "metadata": {},
   "outputs": [],
   "source": [
    "syb_expenditure_on_health_continents_cleaned.sample(10)"
   ]
  },
  {
   "cell_type": "code",
   "execution_count": null,
   "metadata": {},
   "outputs": [],
   "source": [
    "syb_labor_unemployment_continents_cleaned.sample(10)"
   ]
  },
  {
   "cell_type": "code",
   "execution_count": null,
   "metadata": {},
   "outputs": [],
   "source": [
    "syb_population_surface_area_density_continents_cleaned.sample(10)"
   ]
  },
  {
   "cell_type": "code",
   "execution_count": null,
   "metadata": {},
   "outputs": [],
   "source": [
    "syb_public_expenditure_on_education_continents_cleaned.sample(10)"
   ]
  },
  {
   "cell_type": "markdown",
   "metadata": {},
   "source": [
    "---"
   ]
  },
  {
   "cell_type": "markdown",
   "metadata": {},
   "source": [
    "# Flipping aka pivoting"
   ]
  },
  {
   "cell_type": "code",
   "execution_count": null,
   "metadata": {},
   "outputs": [],
   "source": [
    "dataframes = {\n",
    "    'syb_education_continents': syb_education_continents_cleaned,\n",
    "    'syb_expenditure_on_health_continents': syb_expenditure_on_health_continents_cleaned,\n",
    "    'syb_labor_unemployment_continents': syb_labor_unemployment_continents_cleaned,\n",
    "    'syb_population_surface_area_density_continents': syb_population_surface_area_density_continents_cleaned,\n",
    "    'syb_public_expenditure_on_education_continents': syb_public_expenditure_on_education_continents_cleaned\n",
    "}\n",
    "\n",
    "pivoted_dataframes = {}\n",
    "\n",
    "for key, df in dataframes.items():\n",
    "    pivoted_df = pfsp.pivot_df(df,\n",
    "        index=['country', 'year'],\n",
    "        columns='indicator',\n",
    "        values='value'\n",
    "    )\n",
    "    pivoted_dataframes[f'{key}_pivot'] = pivoted_df"
   ]
  },
  {
   "cell_type": "code",
   "execution_count": null,
   "metadata": {},
   "outputs": [],
   "source": [
    "syb_education_continents_pivot = pivoted_dataframes['syb_education_continents_pivot']\n",
    "syb_expenditure_on_health_continents_pivot = pivoted_dataframes['syb_expenditure_on_health_continents_pivot']\n",
    "syb_labor_unemployment_continents_pivot = pivoted_dataframes['syb_labor_unemployment_continents_pivot']\n",
    "syb_population_surface_area_density_continents_pivot = pivoted_dataframes['syb_population_surface_area_density_continents_pivot']\n",
    "syb_public_expenditure_on_education_continents_pivot = pivoted_dataframes['syb_public_expenditure_on_education_continents_pivot']"
   ]
  },
  {
   "cell_type": "code",
   "execution_count": null,
   "metadata": {},
   "outputs": [],
   "source": [
    "syb_education_continents_pivot.sample(10)"
   ]
  },
  {
   "cell_type": "code",
   "execution_count": null,
   "metadata": {},
   "outputs": [],
   "source": [
    "syb_expenditure_on_health_continents_pivot.sample(10)"
   ]
  },
  {
   "cell_type": "code",
   "execution_count": null,
   "metadata": {},
   "outputs": [],
   "source": [
    "syb_labor_unemployment_continents_pivot.sample(10)"
   ]
  },
  {
   "cell_type": "code",
   "execution_count": null,
   "metadata": {},
   "outputs": [],
   "source": [
    "syb_population_surface_area_density_continents_pivot.sample(10)"
   ]
  },
  {
   "cell_type": "code",
   "execution_count": null,
   "metadata": {},
   "outputs": [],
   "source": [
    "syb_public_expenditure_on_education_continents_pivot.sample(10)"
   ]
  },
  {
   "cell_type": "markdown",
   "metadata": {},
   "source": [
    "---"
   ]
  },
  {
   "cell_type": "markdown",
   "metadata": {},
   "source": [
    "# Column names into lower case and snake case\n",
    "and replace some other stuff"
   ]
  },
  {
   "cell_type": "code",
   "execution_count": null,
   "metadata": {},
   "outputs": [],
   "source": [
    "dataframes = [syb_education_continents_pivot, \n",
    "              syb_expenditure_on_health_continents_pivot, \n",
    "              syb_labor_unemployment_continents_pivot, \n",
    "              syb_population_surface_area_density_continents_pivot, \n",
    "              syb_public_expenditure_on_education_continents_pivot]\n",
    "\n",
    "pfsp.columns_lower_snake_case_3(dataframes)"
   ]
  },
  {
   "cell_type": "markdown",
   "metadata": {},
   "source": [
    "---"
   ]
  },
  {
   "cell_type": "markdown",
   "metadata": {},
   "source": [
    "## Creating a copy with a meaningful name"
   ]
  },
  {
   "cell_type": "code",
   "execution_count": null,
   "metadata": {},
   "outputs": [],
   "source": [
    "syb_education_continents = syb_education_continents_pivot.copy()\n",
    "syb_expenditure_on_health_continents = syb_expenditure_on_health_continents_pivot.copy()\n",
    "syb_labor_unemployment_continents = syb_labor_unemployment_continents_pivot.copy()\n",
    "syb_population_surface_area_density_continents = syb_population_surface_area_density_continents_pivot.copy()\n",
    "syb_public_expenditure_on_education_continents = syb_public_expenditure_on_education_continents_pivot.copy()"
   ]
  },
  {
   "cell_type": "code",
   "execution_count": null,
   "metadata": {},
   "outputs": [],
   "source": [
    "print(syb_education_continents.columns)\n",
    "print(syb_expenditure_on_health_continents.columns)\n",
    "print(syb_labor_unemployment_continents.columns)\n",
    "print(syb_population_surface_area_density_continents.columns)\n",
    "print(syb_public_expenditure_on_education_continents.columns)"
   ]
  },
  {
   "cell_type": "markdown",
   "metadata": {},
   "source": [
    "---"
   ]
  },
  {
   "cell_type": "markdown",
   "metadata": {},
   "source": [
    "# Splitting the countries into the continents\n",
    "- northern america\n",
    "- southern america\n",
    "- europe (4 parts for further analysis)\n",
    "- africa\n",
    "- asia\n",
    "- pacific\n",
    "- middle-east"
   ]
  },
  {
   "cell_type": "markdown",
   "metadata": {},
   "source": [
    "Assigning the continent to the countries in a new created column and the four parts of europe in another new created column:"
   ]
  },
  {
   "cell_type": "code",
   "execution_count": null,
   "metadata": {},
   "outputs": [],
   "source": [
    "dataframes = [syb_education_continents, \n",
    "              syb_expenditure_on_health_continents, \n",
    "              syb_labor_unemployment_continents, \n",
    "              syb_population_surface_area_density_continents, \n",
    "              syb_public_expenditure_on_education_continents]\n",
    "\n",
    "for df in dataframes:\n",
    "    df['continent'] = df['country'].apply(pfsp.assign_continent)\n",
    "    df['continent_region'] = df['country'].apply(pfsp.assign_europe_region)"
   ]
  },
  {
   "cell_type": "code",
   "execution_count": null,
   "metadata": {},
   "outputs": [],
   "source": [
    "print(syb_education_continents.columns)\n",
    "print(syb_expenditure_on_health_continents.columns)\n",
    "print(syb_labor_unemployment_continents.columns)\n",
    "print(syb_population_surface_area_density_continents.columns)\n",
    "print(syb_public_expenditure_on_education_continents.columns)"
   ]
  },
  {
   "cell_type": "markdown",
   "metadata": {},
   "source": [
    "## Changing the order of the columns"
   ]
  },
  {
   "cell_type": "code",
   "execution_count": null,
   "metadata": {},
   "outputs": [],
   "source": [
    "columns = ['country', 'continent', 'continent_region', 'year', \n",
    "           'students_enrolled_in_lower_secondary_education_thousands', \n",
    "           'students_enrolled_in_primary_education_thousands', \n",
    "           'students_enrolled_in_upper_secondary_education_thousands']\n",
    "\n",
    "syb_education_continents = syb_education_continents[columns]"
   ]
  },
  {
   "cell_type": "code",
   "execution_count": null,
   "metadata": {},
   "outputs": [],
   "source": [
    "columns = ['country', 'continent', 'continent_region', 'year', \n",
    "           'current_health_expenditure_perc_of_gdp', \n",
    "           'domestic_general_government_health_expenditure_perc_of_total_government_expenditure']\n",
    "\n",
    "syb_expenditure_on_health_continents = syb_expenditure_on_health_continents[columns]"
   ]
  },
  {
   "cell_type": "code",
   "execution_count": null,
   "metadata": {},
   "outputs": [],
   "source": [
    "columns = ['country', 'continent', 'continent_region', 'year', \n",
    "           'labour_force_participation_-_total', \n",
    "           'unemployment_rate_-_total']\n",
    "\n",
    "syb_labor_unemployment_continents = syb_labor_unemployment_continents[columns]"
   ]
  },
  {
   "cell_type": "code",
   "execution_count": null,
   "metadata": {},
   "outputs": [],
   "source": [
    "columns = ['country', 'continent', 'continent_region', 'year', \n",
    "           'population_aged_0_to_14_years_old_percentage', \n",
    "           'population_aged_60+_years_old_percentage', \n",
    "           'population_density', \n",
    "           'population_mid-year_estimates_millions', \n",
    "           'surface_area_thousand_km2']\n",
    "\n",
    "syb_population_surface_area_density_continents = syb_population_surface_area_density_continents[columns]"
   ]
  },
  {
   "cell_type": "code",
   "execution_count": null,
   "metadata": {},
   "outputs": [],
   "source": [
    "columns = ['country', 'continent', 'continent_region', 'year', \n",
    "           'all_staff_compensation_as_perc_of_total_expenditure_in_public_institutions_perc', \n",
    "           'basic_access_to_computers_by_level_of_education_lower_secondary', \n",
    "           'basic_access_to_computers_by_level_of_education_primary', \n",
    "           'basic_access_to_computers_by_level_of_education_upper_secondary', \n",
    "           'capital_expenditure_as_perc_of_total_expenditure_in_public_institutions_perc', \n",
    "           'current_expenditure_other_than_staff_compensation_as_perc_of_total_expenditure_in_public_institutions_perc', \n",
    "           'public_expenditure_on_education_perc_of_gdp']\n",
    "\n",
    "syb_public_expenditure_on_education_continents = syb_public_expenditure_on_education_continents[columns]"
   ]
  },
  {
   "cell_type": "code",
   "execution_count": null,
   "metadata": {},
   "outputs": [],
   "source": [
    "display(syb_education_continents.head())\n",
    "display(syb_expenditure_on_health_continents.head())\n",
    "display(syb_labor_unemployment_continents.head())\n",
    "display(syb_population_surface_area_density_continents.head())\n",
    "display(syb_public_expenditure_on_education_continents.head())"
   ]
  },
  {
   "cell_type": "code",
   "execution_count": null,
   "metadata": {},
   "outputs": [],
   "source": [
    "print(syb_education_continents.columns)\n",
    "print(syb_expenditure_on_health_continents.columns)\n",
    "print(syb_labor_unemployment_continents.columns)\n",
    "print(syb_population_surface_area_density_continents.columns)\n",
    "print(syb_public_expenditure_on_education_continents.columns)"
   ]
  },
  {
   "cell_type": "markdown",
   "metadata": {},
   "source": [
    "---"
   ]
  },
  {
   "cell_type": "markdown",
   "metadata": {},
   "source": [
    "## Check if some countries couldn't be assigned to a continent"
   ]
  },
  {
   "cell_type": "code",
   "execution_count": null,
   "metadata": {},
   "outputs": [],
   "source": [
    "dataframes = [syb_education_continents, \n",
    "              syb_expenditure_on_health_continents, \n",
    "              syb_labor_unemployment_continents, \n",
    "              syb_population_surface_area_density_continents, \n",
    "              syb_public_expenditure_on_education_continents]\n",
    "\n",
    "for df in dataframes:\n",
    "    print(df[df['continent'] == 'Other']['country'].unique())\n",
    "    print(df[df['continent_region'] == 'Other']['country'].unique())"
   ]
  },
  {
   "cell_type": "markdown",
   "metadata": {},
   "source": [
    "---"
   ]
  },
  {
   "cell_type": "markdown",
   "metadata": {},
   "source": [
    "## Check if the new created columns match"
   ]
  },
  {
   "cell_type": "code",
   "execution_count": null,
   "metadata": {},
   "outputs": [],
   "source": [
    "dataframes = [syb_education_continents, \n",
    "              syb_expenditure_on_health_continents, \n",
    "              syb_labor_unemployment_continents, \n",
    "              syb_population_surface_area_density_continents, \n",
    "              syb_public_expenditure_on_education_continents]\n",
    "\n",
    "for df in dataframes:\n",
    "    pfsp.check_values(df)"
   ]
  },
  {
   "cell_type": "markdown",
   "metadata": {},
   "source": [
    "---"
   ]
  },
  {
   "cell_type": "markdown",
   "metadata": {},
   "source": [
    "## Changing the type of some columns"
   ]
  },
  {
   "cell_type": "code",
   "execution_count": null,
   "metadata": {},
   "outputs": [],
   "source": [
    "list_of_objects = ['students_enrolled_in_lower_secondary_education_thousands', \n",
    "                   'students_enrolled_in_primary_education_thousands', \n",
    "                   'students_enrolled_in_upper_secondary_education_thousands']\n",
    "\n",
    "syb_education_continents[list_of_objects] = syb_education_continents[list_of_objects].apply(pd.to_numeric, errors='coerce')"
   ]
  },
  {
   "cell_type": "code",
   "execution_count": null,
   "metadata": {},
   "outputs": [],
   "source": [
    "syb_education_continents.info()"
   ]
  },
  {
   "cell_type": "markdown",
   "metadata": {},
   "source": [
    "---"
   ]
  },
  {
   "cell_type": "markdown",
   "metadata": {},
   "source": [
    "# Writing the tables into the database"
   ]
  },
  {
   "cell_type": "code",
   "execution_count": null,
   "metadata": {},
   "outputs": [],
   "source": [
    "dataframes = {'syb_education_continents': syb_education_continents, \n",
    "              'syb_expenditure_on_health_continents': syb_expenditure_on_health_continents, \n",
    "              'syb_labor_unemployment_continents': syb_labor_unemployment_continents, \n",
    "              'syb_population_surface_area_density_continents': syb_population_surface_area_density_continents, \n",
    "              'syb_public_expenditure_on_education_continents': syb_public_expenditure_on_education_continents}\n",
    "\n",
    "for table_name, df in dataframes.items():\n",
    "    sfsp.push_to_cloud(df, table_name)"
   ]
  },
  {
   "cell_type": "code",
   "execution_count": null,
   "metadata": {},
   "outputs": [],
   "source": [
    "%store syb_education_continents\n",
    "%store syb_expenditure_on_health_continents\n",
    "%store syb_labor_unemployment_continents\n",
    "%store syb_population_surface_area_density_continents\n",
    "%store syb_public_expenditure_on_education_continents"
   ]
  }
 ],
 "metadata": {
  "kernelspec": {
   "display_name": "nf_sql",
   "language": "python",
   "name": "python3"
  },
  "language_info": {
   "codemirror_mode": {
    "name": "ipython",
    "version": 3
   },
   "file_extension": ".py",
   "mimetype": "text/x-python",
   "name": "python",
   "nbconvert_exporter": "python",
   "pygments_lexer": "ipython3",
   "version": "3.9.7"
  }
 },
 "nbformat": 4,
 "nbformat_minor": 2
}
