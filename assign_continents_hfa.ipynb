{
 "cells": [
  {
   "cell_type": "code",
   "execution_count": null,
   "metadata": {},
   "outputs": [],
   "source": [
    "import pandas as pd\n",
    "import numpy as np\n",
    "import python_functions_sp as pfsp\n",
    "import warnings\n",
    "warnings.filterwarnings(\"ignore\")\n",
    "import sqlalchemy\n",
    "import psycopg2\n",
    "import sql_functions_sp as sfsp"
   ]
  },
  {
   "cell_type": "code",
   "execution_count": null,
   "metadata": {},
   "outputs": [],
   "source": [
    "schema = 'capstone_health_education'\n",
    "\n",
    "hfa_continents = sfsp.get_dataframe(f'SELECT * FROM {schema}.hfa_melted_pivoted')"
   ]
  },
  {
   "cell_type": "markdown",
   "metadata": {},
   "source": [
    "Changing the column name:"
   ]
  },
  {
   "cell_type": "code",
   "execution_count": null,
   "metadata": {},
   "outputs": [],
   "source": [
    "hfa_continents.rename(columns={'name': 'country'}, inplace=True)\n",
    "hfa_continents"
   ]
  },
  {
   "cell_type": "markdown",
   "metadata": {},
   "source": [
    "---"
   ]
  },
  {
   "cell_type": "markdown",
   "metadata": {},
   "source": [
    "## Splitting the countries into the continents\n",
    "- northern america\n",
    "- southern america\n",
    "- europe (4 parts for further analysis)\n",
    "- africa\n",
    "- asia\n",
    "- pacific\n",
    "- middle-east"
   ]
  },
  {
   "cell_type": "markdown",
   "metadata": {},
   "source": [
    "Assigning the continent to the countries in a new created column:"
   ]
  },
  {
   "cell_type": "code",
   "execution_count": null,
   "metadata": {},
   "outputs": [],
   "source": [
    "hfa_continents['continent'] = hfa_continents['country'].apply(pfsp.assign_continent)"
   ]
  },
  {
   "cell_type": "markdown",
   "metadata": {},
   "source": [
    "Assigning the four parts of europe to the countries in another new created column:"
   ]
  },
  {
   "cell_type": "code",
   "execution_count": null,
   "metadata": {},
   "outputs": [],
   "source": [
    "hfa_continents['continent_region'] = hfa_continents['country'].apply(pfsp.assign_europe_region)"
   ]
  },
  {
   "cell_type": "code",
   "execution_count": null,
   "metadata": {},
   "outputs": [],
   "source": [
    "hfa_continents.columns"
   ]
  },
  {
   "cell_type": "markdown",
   "metadata": {},
   "source": [
    "Changing the order of the columns:"
   ]
  },
  {
   "cell_type": "code",
   "execution_count": null,
   "metadata": {},
   "outputs": [],
   "source": [
    "columns = ['country', 'continent', 'continent_region', 'years', \n",
    "           'HFA_1', 'HFA_10', 'HFA_101', 'HFA_13', 'HFA_16',\n",
    "           'HFA_167', 'HFA_19', 'HFA_194', 'HFA_260', 'HFA_275', \n",
    "           'HFA_293', 'HFA_357', 'HFA_411', 'HFA_417', 'HFA_43', \n",
    "           'HFA_436', 'HFA_440', 'HFA_441', 'HFA_442', 'HFA_443', \n",
    "           'HFA_444', 'HFA_445', 'HFA_446', 'HFA_454', 'HFA_546', \n",
    "           'HFA_566', 'HFA_617', 'HFA_618', 'HFA_627', 'HFA_636', 'HFA_637']\n",
    "\n",
    "hfa_continents = hfa_continents[columns]"
   ]
  },
  {
   "cell_type": "markdown",
   "metadata": {},
   "source": [
    "Checking the result:"
   ]
  },
  {
   "cell_type": "code",
   "execution_count": null,
   "metadata": {},
   "outputs": [],
   "source": [
    "hfa_continents.sample(10)"
   ]
  },
  {
   "cell_type": "markdown",
   "metadata": {},
   "source": [
    "---"
   ]
  },
  {
   "cell_type": "markdown",
   "metadata": {},
   "source": [
    "Check if some countries couldn't be assigned to a continent:"
   ]
  },
  {
   "cell_type": "code",
   "execution_count": null,
   "metadata": {},
   "outputs": [],
   "source": [
    "hfa_continents[hfa_continents['continent'] == 'Other']['country'].unique()"
   ]
  },
  {
   "cell_type": "code",
   "execution_count": null,
   "metadata": {},
   "outputs": [],
   "source": [
    "hfa_continents[hfa_continents['continent_region'] == 'Other']['country'].unique()"
   ]
  },
  {
   "cell_type": "markdown",
   "metadata": {},
   "source": [
    "---"
   ]
  },
  {
   "cell_type": "markdown",
   "metadata": {},
   "source": [
    "Check if the new created columns match:"
   ]
  },
  {
   "cell_type": "code",
   "execution_count": null,
   "metadata": {},
   "outputs": [],
   "source": [
    "pfsp.check_values(hfa_continents)"
   ]
  },
  {
   "cell_type": "markdown",
   "metadata": {},
   "source": [
    "---"
   ]
  },
  {
   "cell_type": "markdown",
   "metadata": {},
   "source": [
    "Writing the table into the database:"
   ]
  },
  {
   "cell_type": "code",
   "execution_count": null,
   "metadata": {},
   "outputs": [],
   "source": [
    "# sfsp.push_to_cloud(hfa_continents, 'hfa_continents')"
   ]
  }
 ],
 "metadata": {
  "kernelspec": {
   "display_name": "nf_sql",
   "language": "python",
   "name": "python3"
  },
  "language_info": {
   "codemirror_mode": {
    "name": "ipython",
    "version": 3
   },
   "file_extension": ".py",
   "mimetype": "text/x-python",
   "name": "python",
   "nbconvert_exporter": "python",
   "pygments_lexer": "ipython3",
   "version": "3.9.7"
  }
 },
 "nbformat": 4,
 "nbformat_minor": 2
}
